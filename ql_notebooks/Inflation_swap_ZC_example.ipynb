{
  "cells": [
    {
      "cell_type": "markdown",
      "metadata": {
        "id": "view-in-github",
        "colab_type": "text"
      },
      "source": [
        "<a href=\"https://colab.research.google.com/github/aderdouri/ql_web_app/blob/master/ql_notebooks/Inflation_swap_ZC_example.ipynb\" target=\"_parent\"><img src=\"https://colab.research.google.com/assets/colab-badge.svg\" alt=\"Open In Colab\"/></a>"
      ]
    },
    {
      "cell_type": "markdown",
      "metadata": {
        "id": "d80P_2DbkHh7"
      },
      "source": [
        "# Modeling Inflation swaps using QuantLib"
      ]
    },
    {
      "cell_type": "markdown",
      "metadata": {
        "id": "RzmaBVNckHh8"
      },
      "source": [
        "<a href=\"https://colab.research.google.com/github/aderdouri/ql_web_app/blob/master/ql_notebooks/Inflation_swap_ZC_example.ipynb\" target=\"_parent\"><img src=\"https://colab.research.google.com/assets/colab-badge.svg\" alt=\"Open In Colab\"/></a>"
      ]
    },
    {
      "cell_type": "code",
      "execution_count": null,
      "metadata": {
        "id": "aHHHkmKSkHh9",
        "outputId": "9169278b-0b90-4d5c-d97e-ecb325c46de9",
        "colab": {
          "base_uri": "https://localhost:8080/"
        }
      },
      "outputs": [
        {
          "output_type": "stream",
          "name": "stdout",
          "text": [
            "Requirement already satisfied: QuantLib-Python in /usr/local/lib/python3.11/dist-packages (1.18)\n",
            "Requirement already satisfied: QuantLib in /usr/local/lib/python3.11/dist-packages (from QuantLib-Python) (1.38)\n"
          ]
        }
      ],
      "source": [
        "!pip install QuantLib-Python"
      ]
    },
    {
      "cell_type": "code",
      "execution_count": null,
      "metadata": {
        "id": "oodZ20OvkHh-"
      },
      "outputs": [],
      "source": [
        "import QuantLib as ql\n",
        "calculation_date = ql.Date(20, 10, 2015)\n",
        "ql.Settings.instance().evaluationDate = calculation_date"
      ]
    },
    {
      "cell_type": "markdown",
      "source": [
        "Okay, here is a Python Jupyter Notebook example demonstrating how to price both a Zero-Coupon Inflation Swap (ZCIS) and a Year-on-Year Inflation Swap (YoYIS) using the QuantLib library.\n",
        "\n",
        "**Assumptions:**\n",
        "\n",
        "*   You have QuantLib-Python installed (`pip install QuantLib-Python`).\n",
        "*   The market data (rates, fixings) used here is purely **illustrative** and not real market data.\n",
        "*   We will bootstrap a simple inflation curve from ZCIS quotes."
      ],
      "metadata": {
        "id": "zT77-Xrxk0wJ"
      }
    },
    {
      "cell_type": "code",
      "source": [
        "# Pricing Inflation Swaps with QuantLib\n",
        "\n",
        "# This notebook demonstrates how to set up the necessary components and price:\n",
        "# 1. A Zero-Coupon Inflation Swap (ZCIS)\n",
        "# 2. A Year-on-Year Inflation Swap (YoYIS)\n",
        "# using the QuantLib library in Python.\n",
        "\n",
        "# ## 1. Imports and Setup\n",
        "\n",
        "import QuantLib as ql\n",
        "import datetime\n",
        "\n",
        "# ## 2. Evaluation Date and Market Data Setup\n",
        "\n",
        "# Set the evaluation date\n",
        "eval_date = ql.Date(15, ql.May, 2023)\n",
        "ql.Settings.instance().evaluationDate = eval_date\n",
        "\n",
        "# Define calendar and conventions\n",
        "calendar = ql.UnitedKingdom() # Example calendar\n",
        "business_convention = ql.ModifiedFollowing\n",
        "day_counter_fixed = ql.Actual365Fixed() # Day counter often used for ZCIS/Inflation Legs\n",
        "day_counter_discount = ql.Actual365Fixed()\n",
        "\n",
        "# ---\n",
        "# ### 2.1 Discount Curve (Nominal Yield Curve)\n",
        "# For simplicity, we'll use a flat forward curve. In practice, you'd bootstrap this from market instruments (deposits, futures, swaps).\n",
        "\n",
        "discount_rate = ql.SimpleQuote(0.05) # 5% flat rate\n",
        "discount_curve = ql.FlatForward(eval_date, ql.QuoteHandle(discount_rate), day_counter_discount)\n",
        "discount_curve_handle = ql.YieldTermStructureHandle(discount_curve)\n",
        "\n",
        "print(\"Discount Curve Setup Complete.\")"
      ],
      "metadata": {
        "id": "pgIbQHQDkeDR",
        "outputId": "daeb6f90-ea65-45ec-9177-b4b982372d85",
        "colab": {
          "base_uri": "https://localhost:8080/"
        }
      },
      "execution_count": null,
      "outputs": [
        {
          "output_type": "stream",
          "name": "stdout",
          "text": [
            "Discount Curve Setup Complete.\n"
          ]
        }
      ]
    },
    {
      "cell_type": "code",
      "source": [
        "# ---\n",
        "# ### 2.2 Inflation Index Definition\n",
        "# We need to define the specific inflation index (e.g., UK RPI, US CPI).\n",
        "\n",
        "region = ql.UnitedKingdomRegion()\n",
        "frequency = ql.Monthly # Frequency of index publication\n",
        "index_interpolated = True # Is the index level interpolated between fixing dates? (Commonly True for swaps)\n",
        "observation_lag = ql.Period(2, ql.Months) # Lag between reference period and publication (e.g., 2-3 months)\n",
        "\n",
        "# Create the Zero Coupon Inflation Index object\n",
        "# False = historical fixings are NOT available adjusted. True = available adjusted\n",
        "uk_rpi_zero = ql.UKRPI(index_interpolated)\n",
        "\n",
        "# Add some *illustrative* historical fixings\n",
        "# Fixings are needed for projecting inflation near the evaluation date, especially with interpolation\n",
        "# Format: index.addFixing(Date, value)\n",
        "# These dates MUST correspond to the index publication schedule (e.g., mid-month for UKRPI)\n",
        "# Using realistic dates relative to eval_date and observation_lag\n",
        "# Need fixings for March and April to interpolate May value based on 2M lag\n",
        "uk_rpi_zero.addFixing(ql.Date(15, ql.March, 2023), 300.0) # Hypothetical value\n",
        "uk_rpi_zero.addFixing(ql.Date(15, ql.April, 2023), 301.5) # Hypothetical value\n",
        "uk_rpi_zero.addFixing(ql.Date(15, ql.May, 2023), 302.8) # Hypothetical value (needed if lag=0/1M)\n",
        "\n",
        "print(f\"Inflation Index ({uk_rpi_zero.name()}) Setup Complete.\")\n",
        "print(f\"Observation Lag: {observation_lag}\")"
      ],
      "metadata": {
        "id": "EAak0bhYlMbZ"
      },
      "execution_count": null,
      "outputs": []
    },
    {
      "cell_type": "code",
      "source": [
        "# ---\n",
        "# ### 2.3 Inflation Term Structure (Bootstrapping from ZCIS Quotes)\n",
        "# We bootstrap the inflation curve from market quotes for Zero-Coupon Inflation Swaps.\n",
        "\n",
        "# Illustrative Market Data for ZCIS (Rate = Zero Coupon Inflation Rate)\n",
        "zc_swap_maturities = [ql.Period(y, ql.Years) for y in [1, 2, 3, 5, 7, 10]]\n",
        "# These rates are the *inflation* rates, not nominal rates\n",
        "zc_swap_rates = [0.035, 0.036, 0.037, 0.038, 0.039, 0.040] # Example % inflation per year\n",
        "\n",
        "# Create Rate Helpers\n",
        "zc_helpers = []\n",
        "for i, mat in enumerate(zc_swap_maturities):\n",
        "    rate = ql.QuoteHandle(ql.SimpleQuote(zc_swap_rates[i]))\n",
        "    maturity_date = calendar.advance(eval_date, mat)\n",
        "    helper = ql.ZeroCouponInflationSwapHelper(\n",
        "        rate,\n",
        "        observation_lag,\n",
        "        maturity_date,\n",
        "        calendar,\n",
        "        business_convention,\n",
        "        day_counter_fixed,\n",
        "        uk_rpi_zero, # The zero coupon index\n",
        "        discount_curve_handle # Nominal curve for discounting ZCIS cashflows during bootstrap\n",
        "    )\n",
        "    zc_helpers.append(helper)\n",
        "\n",
        "# Bootstrap the Inflation Curve (Piecewise Zero-Coupon Inflation Curve)\n",
        "# Note: Need to specify interpolation method on the *zero inflation rates*\n",
        "# Common methods: LogLinear, Linear\n",
        "base_zero_rate = zc_swap_rates[0] # Base rate for bootstrapping start\n",
        "inflation_curve = ql.PiecewiseZeroInflationCurve_LogLinear( # Or PiecewiseZeroInflationCurve_Linear\n",
        "    eval_date,\n",
        "    calendar,\n",
        "    day_counter_fixed,\n",
        "    observation_lag,\n",
        "    frequency,\n",
        "    index_interpolated,\n",
        "    discount_curve_handle, # Pass nominal curve handle again\n",
        "    zc_helpers\n",
        ")\n",
        "inflation_curve.enableExtrapolation()\n",
        "inflation_curve_handle = ql.ZeroInflationTermStructureHandle(inflation_curve)\n",
        "\n",
        "print(\"Inflation Curve Bootstrapping Complete.\")"
      ],
      "metadata": {
        "id": "sEmPCEhplVwp"
      },
      "execution_count": null,
      "outputs": []
    },
    {
      "cell_type": "code",
      "source": [
        "# Check a bootstrapped zero inflation rate\n",
        "test_date = calendar.advance(eval_date, ql.Period(5, ql.Years))\n",
        "print(f\"Bootstrapped Zero Inflation Rate at {test_date}: {inflation_curve.zeroRate(test_date, observation_lag, True):.4%}\")\n",
        "\n",
        "\n",
        "# ## 3. Defining the Inflation Swaps\n",
        "\n",
        "# Swap General Parameters\n",
        "notional = 1000000.0\n",
        "swap_start_date = eval_date # Or a future settlement date\n",
        "swap_maturity_years = 5\n",
        "swap_maturity_date = calendar.advance(swap_start_date, ql.Period(swap_maturity_years, ql.Years))\n",
        "\n",
        "print(f\"\\n--- Swap Parameters ---\")\n",
        "print(f\"Notional: {notional:,.0f}\")\n",
        "print(f\"Start Date: {swap_start_date}\")\n",
        "print(f\"Maturity Date: {swap_maturity_date}\")"
      ],
      "metadata": {
        "id": "74QnwRTdlbsC"
      },
      "execution_count": null,
      "outputs": []
    },
    {
      "cell_type": "code",
      "source": [
        "# ---\n",
        "# ### 3.1 Zero-Coupon Inflation Swap (ZCIS) Definition\n",
        "\n",
        "# ZCIS pays: Notional * [(Index_End / Index_Start) - 1] on the inflation leg\n",
        "# ZCIS pays: Notional * [(1 + FixedRate)^Years - 1] on the fixed leg (or equivalent single payment)\n",
        "# QuantLib handles the exact calculation based on day count.\n",
        "\n",
        "# We define the swap assuming *we* pay the fixed rate (Payer swap)\n",
        "fixed_rate_zcis = 0.038 # The fixed rate agreed in the contract\n",
        "swap_type_zcis = ql.ZeroCouponInflationSwap.Payer # Payer = Pay Fixed, Receive Inflation\n",
        "\n",
        "zcis = ql.ZeroCouponInflationSwap(\n",
        "    swap_type_zcis,\n",
        "    notional,\n",
        "    swap_start_date,\n",
        "    swap_maturity_date,\n",
        "    calendar,\n",
        "    business_convention,\n",
        "    day_counter_fixed,\n",
        "    fixed_rate_zcis,       # The fixed rate of the swap contract\n",
        "    uk_rpi_zero,           # The ZC Inflation Index\n",
        "    observation_lag,\n",
        "    # Optional: Specify interpolation on index observation explicitly (default is index setting)\n",
        "    # ql.CPI.AsIndex\n",
        ")\n",
        "\n",
        "print(\"\\nZero-Coupon Inflation Swap (ZCIS) Defined.\")\n",
        "print(f\"Fixed Rate: {fixed_rate_zcis:.4%}\")\n",
        "print(f\"Type: {'Payer (Pay Fixed)' if swap_type_zcis == ql.ZeroCouponInflationSwap.Payer else 'Receiver (Receive Fixed)'}\")"
      ],
      "metadata": {
        "id": "dUxdYRPzloYY"
      },
      "execution_count": null,
      "outputs": []
    },
    {
      "cell_type": "code",
      "source": [
        "# ---\n",
        "# ### 3.2 Year-on-Year Inflation Swap (YoYIS) Definition\n",
        "\n",
        "# YoYIS pays periodic coupons based on the Year-on-Year inflation rate vs a fixed rate.\n",
        "\n",
        "# Need a YoY Inflation Index linked to the bootstrapped curve\n",
        "# This index forecasts future YoY rates using the inflation curve\n",
        "yoy_inflation_index = ql.YoYInflationIndex(\n",
        "    frequency,             # Match the frequency of the underlying index ? No, this is YoY index freq\n",
        "    region,                # Match region\n",
        "    False,                 # Availability of revised fixings (usually False)\n",
        "    index_interpolated,    # Match interpolation\n",
        "    False,                 # Use ratio of indices or difference? Usually False (use ratio)\n",
        "    inflation_curve_handle # Link to the bootstrapped inflation curve for forecasting\n",
        "    # Frequency argument here is confusing, often Monthly for underlying, but YoY swap can be Annual/SemiAnnual\n",
        "    # Let's try ql.Annual frequency for the YoY index itself\n",
        "    # ql.Monthly # Try matching underlying frequency first\n",
        ")\n",
        "# Correction: The YoYInflationIndex needs the *ZeroInflationIndex* as input, not the curve directly in older QL versions\n",
        "# Let's redefine using the more standard constructor pattern\n",
        "yoy_inflation_index = ql.YoYInflationIndex(\n",
        "    uk_rpi_zero.name(), # Pass underlying index name or family name\n",
        "    region,\n",
        "    False, # revised fixings\n",
        "    index_interpolated, # interpolated?\n",
        "    True, # Use Ratio? (I[t]/I[t-1Y] - 1) -> Usually True for YoY Swaps\n",
        "    frequency, # Underlying Index Freq\n",
        "    observation_lag,\n",
        "    inflation_curve_handle # Inflation curve handle for forecasting\n",
        ")"
      ],
      "metadata": {
        "id": "RWEitTDzlsN6"
      },
      "execution_count": null,
      "outputs": []
    },
    {
      "cell_type": "code",
      "source": [
        "# Swap Parameters for YoYIS\n",
        "fixed_rate_yoy = 0.0375 # The fixed rate agreed in the contract\n",
        "fixed_leg_day_counter = ql.Actual360() # Common day count for fixed legs\n",
        "yoy_leg_day_counter = ql.Actual360() # Common day count for inflation legs\n",
        "payment_frequency = ql.Period(1, ql.Years) # Annual payments\n",
        "\n",
        "swap_type_yoy = ql.YearOnYearInflationSwap.Payer # Payer = Pay Fixed, Receive YoY Inflation\n",
        "\n",
        "# Define Schedules for fixed and inflation legs\n",
        "fixed_schedule = ql.MakeSchedule(\n",
        "    swap_start_date,\n",
        "    swap_maturity_date,\n",
        "    payment_frequency,\n",
        "    calendar=calendar,\n",
        "    convention=business_convention,\n",
        "    # Optional: rule=ql.DateGeneration.Forward (Default)\n",
        ")\n",
        "\n",
        "yoy_schedule = ql.MakeSchedule(\n",
        "    swap_start_date,\n",
        "    swap_maturity_date,\n",
        "    payment_frequency,\n",
        "    calendar=calendar,\n",
        "    convention=business_convention,\n",
        "    # Optional: rule=ql.DateGeneration.Forward (Default)\n",
        ")\n",
        "\n",
        "\n",
        "yoyis = ql.YearOnYearInflationSwap(\n",
        "    swap_type_yoy,\n",
        "    notional,\n",
        "    fixed_schedule,         # Schedule for fixed leg payments\n",
        "    fixed_rate_yoy,         # Agreed fixed rate\n",
        "    fixed_leg_day_counter,  # Day counter for fixed leg accrual\n",
        "    yoy_schedule,           # Schedule for YoY inflation leg payments\n",
        "    yoy_inflation_index,    # The YoY Inflation Index object\n",
        "    observation_lag,        # Observation lag for YoY readings\n",
        "    yoy_leg_day_counter     # Day counter for YoY leg accrual\n",
        "    # Optional: payment_lag, final_payment_lag etc.\n",
        ")\n",
        "\n",
        "\n",
        "print(\"\\nYear-on-Year Inflation Swap (YoYIS) Defined.\")\n",
        "print(f\"Fixed Rate: {fixed_rate_yoy:.4%}\")\n",
        "print(f\"Payment Frequency: {payment_frequency}\")\n",
        "print(f\"Type: {'Payer (Pay Fixed)' if swap_type_yoy == ql.YearOnYearInflationSwap.Payer else 'Receiver (Receive Fixed)'}\")"
      ],
      "metadata": {
        "id": "uJmO6HYBlwOa"
      },
      "execution_count": null,
      "outputs": []
    },
    {
      "cell_type": "code",
      "source": [
        "# ## 4. Pricing the Swaps\n",
        "\n",
        "# Create the Pricing Engine\n",
        "# For inflation swaps, we use the DiscountingSwapEngine, providing the nominal discount curve.\n",
        "# The inflation curve is implicitly used via the Inflation Index linked to it.\n",
        "pricing_engine = ql.DiscountingSwapEngine(discount_curve_handle)\n",
        "\n",
        "# Set the engine for both swaps\n",
        "zcis.setPricingEngine(pricing_engine)\n",
        "yoyis.setPricingEngine(pricing_engine)\n",
        "\n",
        "# ---\n",
        "# ### 4.1 Calculate Net Present Value (NPV)\n",
        "\n",
        "npv_zcis = zcis.NPV()\n",
        "npv_yoy = yoyis.NPV()\n",
        "\n",
        "print(f\"\\n--- Pricing Results ---\")\n",
        "print(f\"ZCIS NPV: {npv_zcis:,.2f}\")\n",
        "print(f\"YoYIS NPV: {npv_yoy:,.2f}\")"
      ],
      "metadata": {
        "id": "RAzMVi9el19p"
      },
      "execution_count": null,
      "outputs": []
    },
    {
      "cell_type": "code",
      "source": [
        "# Interpretation:\n",
        "# Positive NPV for Payer means the fixed rate being paid is too low compared to market expectations (swap is valuable to payer).\n",
        "# Negative NPV for Payer means the fixed rate being paid is too high compared to market expectations (swap has negative value to payer).\n",
        "\n",
        "# ---\n",
        "# ### 4.2 Calculate Fair Rate\n",
        "\n",
        "# The fair rate is the fixed rate that makes the NPV of the swap equal to zero at inception.\n",
        "\n",
        "fair_rate_zcis = zcis.fairRate()\n",
        "fair_rate_yoy = yoyis.fairRate()\n",
        "\n",
        "print(f\"\\nZCIS Fair Fixed Rate: {fair_rate_zcis:.4%}\")\n",
        "print(f\"YoYIS Fair Fixed Rate: {fair_rate_yoy:.4%}\")\n",
        "\n",
        "# Comparison:\n",
        "# If ZCIS Fixed Rate (0.0380) > Fair Rate -> Negative NPV for Payer\n",
        "# If ZCIS Fixed Rate (0.0380) < Fair Rate -> Positive NPV for Payer\n",
        "# (Matches our results if bootstrap was consistent with 5Y ZCIS rate)\n",
        "\n",
        "# If YoYIS Fixed Rate (0.0375) > Fair Rate -> Negative NPV for Payer\n",
        "# If YoYIS Fixed Rate (0.0375) < Fair Rate -> Positive NPV for Payer\n",
        "# (Check if this matches the NPV result)"
      ],
      "metadata": {
        "id": "5DvAL-1il6WR"
      },
      "execution_count": null,
      "outputs": []
    },
    {
      "cell_type": "code",
      "source": [
        "# ## 5. Inspecting Cash Flows (Optional)\n",
        "\n",
        "print(\"\\n--- ZCIS Cash Flows (Illustrative) ---\")\n",
        "# ZCIS typically has one fixed and one inflation cashflow at maturity\n",
        "# Accessing legs: leg(0) is usually fixed, leg(1) is usually inflation for Payer swap\n",
        "try:\n",
        "    fixed_leg_zcis = zcis.leg(0)\n",
        "    inflation_leg_zcis = zcis.leg(1)\n",
        "\n",
        "    # Note: ZCIS cashflows might be represented differently internally.\n",
        "    # The structure is simple: one payment vs one payment at maturity.\n",
        "    # A more detailed inspection might require looking at internal swap structure or specific methods.\n",
        "    # Let's just print the expected payment dates from the structure\n",
        "    print(f\"Expected Fixed Payment Date (ZCIS): {fixed_leg_zcis[0].date()}\") # Only one coupon\n",
        "    print(f\"Expected Inflation Payment Date (ZCIS): {inflation_leg_zcis[0].date()}\") # Only one coupon\n",
        "    # Actual amounts require deeper digging or running valuation logic manually\n",
        "except Exception as e:\n",
        "    print(f\"Could not retrieve ZCIS leg details directly: {e}\")\n",
        "\n",
        "\n",
        "print(\"\\n--- YoYIS Cash Flows ---\")\n",
        "fixed_leg_yoy = yoyis.leg(0) # Fixed Leg\n",
        "yoy_leg_yoy = yoyis.leg(1)   # YoY Inflation Leg\n",
        "\n",
        "print(\"Fixed Leg Coupons (YoYIS):\")\n",
        "for i, cf in enumerate(fixed_leg_yoy):\n",
        "    coupon = ql.as_fixed_rate_coupon(cf)\n",
        "    print(f\"  Coupon {i+1}: Date={coupon.date()}, Accrual Start={coupon.accrualStartDate()}, Accrual End={coupon.accrualEndDate()}, Amount={coupon.amount():,.2f}, Rate={coupon.rate():.4%}\")\n",
        "\n",
        "print(\"\\nYoY Inflation Leg Coupons (YoYIS):\")\n",
        "for i, cf in enumerate(yoy_leg_yoy):\n",
        "    # These are InflationCoupons, specifically YoYInflationCoupons\n",
        "    coupon = ql.as_yoy_inflation_coupon(cf)\n",
        "    # The amount is calculated based on forecast YoY rate at valuation date\n",
        "    print(f\"  Coupon {i+1}: Date={coupon.date()}, Accrual Start={coupon.accrualStartDate()}, Accrual End={coupon.accrualEndDate()}, Amount={coupon.amount():,.2f}, Fixing Date={coupon.fixingDate()}, Index Rate={coupon.indexFixing():.4f} (Forecasted)\")\n",
        "    # Note: indexFixing() gives the *forecasted* YoY rate used for this coupon's calculation as of eval_date\n",
        "\n",
        "print(\"\\n\\nNotebook Execution Finished.\")"
      ],
      "metadata": {
        "id": "qezGulU-l9eK"
      },
      "execution_count": null,
      "outputs": []
    },
    {
      "cell_type": "markdown",
      "source": [
        "**Explanation:**\n",
        "\n",
        "1.  **Imports and Setup:** Import `QuantLib` and `datetime`.\n",
        "2.  **Evaluation Date & Market Setup:** Define the date for which the pricing is performed (`eval_date`). Set up basic calendar and conventions.\n",
        "3.  **Discount Curve:** A nominal yield curve is needed to discount all cash flows to the present value. Here, a simple `FlatForward` curve is used for demonstration. In reality, this would be bootstrapped from market instruments (like OIS swaps for collateralized pricing).\n",
        "4.  **Inflation Index:** Define the specific index (e.g., `UKRPI`). Key parameters are `observation_lag` (how long before the reference period end the fixing is published) and `interpolated` (whether index values are linearly interpolated between official fixing dates, common for swaps). Historical fixings around the evaluation date are crucial, especially for interpolation and handling the observation lag correctly.\n",
        "5.  **Inflation Term Structure:** This curve represents the market's expectation of future inflation. It's bootstrapped here using `ZeroCouponInflationSwapHelper` objects created from market ZCIS quotes. The `PiecewiseZeroInflationCurve_LogLinear` class constructs the curve. This curve is essential for forecasting future inflation index levels or rates.\n",
        "6.  **ZCIS Definition:** Create the `ZeroCouponInflationSwap` object, specifying whether you pay or receive the fixed rate (`Payer`/`Receiver`), notional, dates, the fixed rate, the inflation index, and the observation lag.\n",
        "7.  **YoYIS Definition:**\n",
        "    *   First, create a `YoYInflationIndex`. This special index uses the bootstrapped *inflation term structure* (`inflation_curve_handle`) to forecast future *year-on-year* inflation rates.\n",
        "    *   Define payment schedules (`MakeSchedule`) for both the fixed and inflation legs.\n",
        "    *   Create the `YearOnYearInflationSwap` object, specifying type, notional, schedules, fixed rate, day counters, the YoY index, and the observation lag.\n",
        "8.  **Pricing Engine:** The `DiscountingSwapEngine` is used. It takes the *nominal discount curve* handle. The engine automatically picks up the correct inflation curve forecasting mechanism via the inflation index object attached to the swap.\n",
        "9.  **Pricing:**\n",
        "    *   `.setPricingEngine()` assigns the engine to the swap instruments.\n",
        "    *   `.NPV()` calculates the Net Present Value.\n",
        "    *   `.fairRate()` calculates the fixed rate that would make the swap's NPV zero.\n",
        "10. **Cash Flows (Optional):** Demonstrates how to access the individual legs (`.leg(0)`, `.leg(1)`) and iterate through the cash flows (`ql.Coupon`, `ql.FixedRateCoupon`, `ql.YoYInflationCoupon`) to inspect payment dates, accrual periods, and calculated/forecasted amounts and rates.\n",
        "\n",
        "This notebook provides a solid foundation for pricing inflation swaps in QuantLib. Remember to replace the illustrative market data with actual market quotes and build more robust curves for real-world applications."
      ],
      "metadata": {
        "id": "faAr3vrPlfdw"
      }
    },
    {
      "cell_type": "code",
      "source": [],
      "metadata": {
        "id": "OFpjcIZ5lgR6"
      },
      "execution_count": null,
      "outputs": []
    }
  ],
  "metadata": {
    "kernelspec": {
      "display_name": "Python 3 (ipykernel)",
      "language": "python",
      "name": "python3"
    },
    "language_info": {
      "codemirror_mode": {
        "name": "ipython",
        "version": 3
      },
      "file_extension": ".py",
      "mimetype": "text/x-python",
      "name": "python",
      "nbconvert_exporter": "python",
      "pygments_lexer": "ipython3",
      "version": "3.10.8"
    },
    "colab": {
      "provenance": [],
      "include_colab_link": true
    }
  },
  "nbformat": 4,
  "nbformat_minor": 0
}