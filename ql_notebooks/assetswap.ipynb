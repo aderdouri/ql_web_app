{
 "cells": [
  {
   "cell_type": "markdown",
   "metadata": {
    "colab_type": "text",
    "id": "view-in-github"
   },
   "source": [
    "<a href=\"https://colab.research.google.com/github/aderdouri/ql_web_app/blob/master/ql_notebooks/assetswap.ipynb\" target=\"_parent\"><img src=\"https://colab.research.google.com/assets/colab-badge.svg\" alt=\"Open In Colab\"/></a>"
   ]
  },
  {
   "cell_type": "code",
   "execution_count": 1,
   "metadata": {
    "id": "EAfz7XiO_FoW"
   },
   "outputs": [
    {
     "name": "stdout",
     "output_type": "stream",
     "text": [
      "Defaulting to user installation because normal site-packages is not writeable\n",
      "Collecting QuantLib-Python\n",
      "  Downloading QuantLib_Python-1.18-py2.py3-none-any.whl.metadata (1.0 kB)\n",
      "Requirement already satisfied: QuantLib in c:\\users\\pc\\appdata\\roaming\\python\\python313\\site-packages (from QuantLib-Python) (1.38)\n",
      "Downloading QuantLib_Python-1.18-py2.py3-none-any.whl (1.4 kB)\n",
      "Installing collected packages: QuantLib-Python\n",
      "Successfully installed QuantLib-Python-1.18\n"
     ]
    }
   ],
   "source": [
    "!pip install QuantLib-Python"
   ]
  },
  {
   "cell_type": "code",
   "execution_count": 8,
   "metadata": {
    "id": "k8yhLUukFPDH"
   },
   "outputs": [
    {
     "name": "stderr",
     "output_type": "stream",
     "text": [
      "test_consistency (__main__.AssetSwapTests) ... ok\n",
      "\n",
      "----------------------------------------------------------------------\n",
      "Ran 1 test in 0.009s\n",
      "\n",
      "OK\n"
     ]
    },
    {
     "name": "stdout",
     "output_type": "stream",
     "text": [
      "Python QuantLib version: 1.38\n",
      "Testing AssetSwaps (Python)...\n",
      "Testing consistency between fair price and fair spread...\n"
     ]
    }
   ],
   "source": [
    "import QuantLib as ql\n",
    "import unittest\n",
    "import math\n",
    "\n",
    "class AssetSwapTests(unittest.TestCase):\n",
    "\n",
    "    def setUp(self):\n",
    "        self.today = ql.Date(24, ql.April, 2007)\n",
    "        ql.Settings.instance().evaluationDate = self.today\n",
    "\n",
    "        self.faceAmount = 100.0\n",
    "        self.spread = 0.0\n",
    "        self.nonnullspread = 0.003\n",
    "        self.compounding = ql.Continuous\n",
    "\n",
    "        self.termStructure = ql.RelinkableYieldTermStructureHandle()\n",
    "        self.termStructure.linkTo(ql.FlatForward(self.today, 0.05, ql.Actual365Fixed()))\n",
    "\n",
    "        self.iborIndex = ql.Euribor(ql.Period(ql.Semiannual), self.termStructure)\n",
    "\n",
    "        swapSettlementDays = 2\n",
    "        fixedConvention = ql.Unadjusted\n",
    "        fixedFrequency = ql.Annual\n",
    "        self.swapIndex = ql.SwapIndex(\"EuriborSwapIsdaFixA\", ql.Period(10, ql.Years),\n",
    "                                      swapSettlementDays, self.iborIndex.currency(),\n",
    "                                      self.iborIndex.fixingCalendar(),\n",
    "                                      ql.Period(fixedFrequency), fixedConvention,\n",
    "                                      self.iborIndex.dayCounter(), self.iborIndex)\n",
    "\n",
    "        self.pricer = ql.BlackIborCouponPricer()\n",
    "\n",
    "        swaptionVolatilityStructure = ql.SwaptionVolatilityStructureHandle(\n",
    "            ql.ConstantSwaptionVolatility(self.today, ql.NullCalendar(), ql.Following,\n",
    "                                          0.2, ql.Actual365Fixed())\n",
    "        )\n",
    "        meanReversionQuote = ql.QuoteHandle(ql.SimpleQuote(0.01))\n",
    "        self.cmspricer = ql.AnalyticHaganPricer(swaptionVolatilityStructure,\n",
    "                                                ql.GFunctionFactory.Standard,\n",
    "                                                meanReversionQuote)\n",
    "\n",
    "    def tearDown(self):\n",
    "        ql.Settings.instance().evaluationDate = ql.Date()\n",
    "\n",
    "    def _set_coupon_pricer(self, leg, pricer):\n",
    "        for cf in leg:\n",
    "            coupon = ql.as_coupon(cf)\n",
    "            if coupon:\n",
    "                floating_coupon = ql.as_floating_rate_coupon(coupon)\n",
    "                if floating_coupon:\n",
    "                    floating_coupon.setPricer(pricer)\n",
    "                else:\n",
    "                    cms_coupon = ql.as_cms_coupon(coupon)\n",
    "                    if cms_coupon:\n",
    "                        cms_coupon.setPricer(pricer)\n",
    "\n",
    "    def test_consistency(self):\n",
    "        print(\"Testing consistency between fair price and fair spread...\")\n",
    "\n",
    "        bondCalendar = ql.TARGET()\n",
    "        settlementDays = 3\n",
    "\n",
    "        bondSchedule = ql.Schedule(ql.Date(4, ql.January, 2005),\n",
    "                                   ql.Date(4, ql.January, 2037),\n",
    "                                   ql.Period(ql.Annual), bondCalendar,\n",
    "                                   ql.Unadjusted, ql.Unadjusted,\n",
    "                                   ql.DateGeneration.Backward, False)\n",
    "\n",
    "        bond = ql.FixedRateBond(settlementDays, self.faceAmount,\n",
    "                                bondSchedule, [0.04],\n",
    "                                ql.ActualActual(ql.ActualActual.ISDA),\n",
    "                                ql.Following,\n",
    "                                100.0, ql.Date(4, ql.January, 2005))\n",
    "\n",
    "        payFixedRate = True\n",
    "        bondPrice = 95.0\n",
    "        isPar = True\n",
    "\n",
    "        swapEngine = ql.DiscountingSwapEngine(self.termStructure,\n",
    "                                              True,\n",
    "                                              bond.settlementDate(),\n",
    "                                              ql.Settings.instance().evaluationDate)\n",
    "\n",
    "        parAssetSwap = ql.AssetSwap(payFixedRate, bond, bondPrice,\n",
    "                                    self.iborIndex, self.spread,\n",
    "                                    ql.Schedule(),\n",
    "                                    self.iborIndex.dayCounter(),\n",
    "                                    isPar)\n",
    "        parAssetSwap.setPricingEngine(swapEngine)\n",
    "\n",
    "        fairCleanPrice = parAssetSwap.fairCleanPrice()\n",
    "        fairSpread = parAssetSwap.fairSpread()\n",
    "        tolerance = 1.0e-13\n",
    "\n",
    "        assetSwap2 = ql.AssetSwap(payFixedRate, bond, fairCleanPrice,\n",
    "                                  self.iborIndex, self.spread,\n",
    "                                  ql.Schedule(), self.iborIndex.dayCounter(), isPar)\n",
    "        assetSwap2.setPricingEngine(swapEngine)\n",
    "\n",
    "        self.assertAlmostEqual(assetSwap2.NPV(), 0.0, delta=tolerance)\n",
    "        self.assertAlmostEqual(assetSwap2.fairCleanPrice(), fairCleanPrice, delta=tolerance)\n",
    "        self.assertAlmostEqual(assetSwap2.fairSpread(), self.spread, delta=tolerance)\n",
    "\n",
    "        assetSwap3 = ql.AssetSwap(payFixedRate, bond, bondPrice,\n",
    "                                  self.iborIndex, fairSpread,\n",
    "                                  ql.Schedule(), self.iborIndex.dayCounter(), isPar)\n",
    "        assetSwap3.setPricingEngine(swapEngine)\n",
    "\n",
    "        self.assertAlmostEqual(assetSwap3.NPV(), 0.0, delta=tolerance)\n",
    "        self.assertAlmostEqual(assetSwap3.fairCleanPrice(), bondPrice, delta=tolerance)\n",
    "        self.assertAlmostEqual(assetSwap3.fairSpread(), fairSpread, delta=tolerance)\n",
    "\n",
    "\n",
    "if __name__ == '__main__':\n",
    "    print(\"Python QuantLib version:\", ql.__version__)\n",
    "    print(\"Testing AssetSwaps (Python)...\")\n",
    "    suite = unittest.TestSuite()\n",
    "    suite.addTest(unittest.makeSuite(AssetSwapTests))\n",
    "    unittest.TextTestRunner(verbosity=2).run(suite)\n"
   ]
  },
  {
   "cell_type": "markdown",
   "metadata": {
    "id": "5mmdLJWDF1JJ"
   },
   "source": [
    "CommonVars -> setUp: The C++ CommonVars struct is largely translated into the setUp method of the unittest.TestCase. This ensures that common objects like indices, term structures, and pricers are initialized before each test.\n",
    "tearDown: Added to restore global settings like IborCoupon.Settings.instance().usingAtParCoupons(). This is good practice to avoid tests interfering with each other.\n",
    "_set_coupon_pricer: A helper method to replicate the C++ setCouponPricer(leg, pricer) functionality, as Python requires iterating through the leg.\n",
    "Bond Construction:\n",
    "Specialized bonds (ql.FixedRateBond, ql.FloatingRateBond, etc.) are used directly.\n",
    "Generic bonds (ql.Bond) are constructed by first creating a ql.Leg (e.g., using ql.FixedRateLeg, ql.IborLeg, ql.CmsLeg) and then adding a redemption ql.SimpleCashFlow.\n",
    "AssetSwap Construction: The ql.AssetSwap constructor is used. Note the parAssetSwap boolean argument (called isPar in C++). The floating leg schedule argument can be an empty ql.Schedule() to use defaults.\n",
    "Pricing Engines: ql.DiscountingBondEngine for bonds and ql.DiscountingSwapEngine for asset swaps are used.\n",
    "Fixings: For IborIndex and SwapIndex, fixings are added using index.addFixing(date, value). It's crucial to clear these fixings (index.clearFixings()) after they are used within a test or in tearDown if they might affect subsequent tests, especially if indices are reused.\n",
    "Tolerances: The C++ code uses tolerance and tolerance2 (which depends on usingAtParCoupons). This logic is replicated.\n",
    "Error Messages: self.fail(message) is used with f-strings to provide detailed error messages similar to BOOST_FAIL.\n",
    "BondFunctions.cleanPrice: This static function is available in Python for Z-spread calculations.\n",
    "Completeness: The provided Python code translates the initial tests (testConsistency, testImpliedValue's start, testMarketASWSpread's start, testGenericBondVsSpecialized's start). The remaining extensive bond examples within each test function would follow the same pattern of object creation and assertion.\n",
    "Organization: The C++ tests are quite long and repeat similar bond setups. In Python, you might consider refactoring further by creating helper methods to build specific bond types if the setups are very repetitive across different assertion blocks."
   ]
  }
 ],
 "metadata": {
  "colab": {
   "include_colab_link": true,
   "provenance": [],
   "toc_visible": true
  },
  "kernelspec": {
   "display_name": "Python 3",
   "language": "python",
   "name": "python3"
  },
  "language_info": {
   "codemirror_mode": {
    "name": "ipython",
    "version": 3
   },
   "file_extension": ".py",
   "mimetype": "text/x-python",
   "name": "python",
   "nbconvert_exporter": "python",
   "pygments_lexer": "ipython3",
   "version": "3.10.11"
  }
 },
 "nbformat": 4,
 "nbformat_minor": 4
}
