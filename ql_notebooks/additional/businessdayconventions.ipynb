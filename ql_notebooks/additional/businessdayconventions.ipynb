{
  "cells": [
    {
      "cell_type": "markdown",
      "metadata": {
        "id": "view-in-github",
        "colab_type": "text"
      },
      "source": [
        "<a href=\"https://colab.research.google.com/github/aderdouri/ql_web_app/blob/master/ql_notebooks/businessdayconventions.ipynb\" target=\"_parent\"><img src=\"https://colab.research.google.com/assets/colab-badge.svg\" alt=\"Open In Colab\"/></a>"
      ]
    },
    {
      "cell_type": "code",
      "source": [
        "!pip install QuantLib-Python"
      ],
      "metadata": {
        "id": "EAfz7XiO_FoW"
      },
      "execution_count": null,
      "outputs": []
    },
    {
      "cell_type": "code",
      "source": [
        "import QuantLib as ql\n",
        "import unittest\n",
        "import inspect # Used for generating informative test names or messages\n",
        "\n",
        "# Helper to represent the test cases cleanly\n",
        "class SingleCase:\n",
        "    def __init__(self, calendar_instance, convention, start_date, period, end_of_month, expected_result):\n",
        "        self.calendar = calendar_instance\n",
        "        self.convention = convention\n",
        "        self.start_date = start_date\n",
        "        self.period = period\n",
        "        self.end_of_month = end_of_month\n",
        "        self.expected_result = expected_result\n",
        "\n",
        "    def __str__(self):\n",
        "        # Provides a string representation for debugging or messages\n",
        "        return (f\"Calendar: {self.calendar.name()}, Conv: {self.convention}, Start: {self.start_date}, \"\n",
        "                f\"Period: {self.period}, EOM: {self.end_of_month}, Expected: {self.expected_result}\")\n",
        "\n",
        "\n",
        "class BusinessDayConventionTests(unittest.TestCase):\n",
        "\n",
        "    def testConventions(self):\n",
        "        \"\"\"Testing business day conventions.\"\"\"\n",
        "        print(\"Testing business day conventions...\")\n",
        "\n",
        "        test_cases = [\n",
        "            # Following\n",
        "            SingleCase(ql.SouthAfrica(), ql.Following, ql.Date(3, ql.February, 2015), ql.Period(1, ql.Months), False, ql.Date(3, ql.March, 2015)),\n",
        "            SingleCase(ql.SouthAfrica(), ql.Following, ql.Date(3, ql.February, 2015), ql.Period(4, ql.Days), False, ql.Date(9, ql.February, 2015)),\n",
        "            SingleCase(ql.SouthAfrica(), ql.Following, ql.Date(31, ql.January, 2015), ql.Period(1, ql.Months), True, ql.Date(27, ql.February, 2015)), # Feb 28 is Sat -> Mar 2, but EOM=True pulls back\n",
        "            SingleCase(ql.SouthAfrica(), ql.Following, ql.Date(31, ql.January, 2015), ql.Period(1, ql.Months), False, ql.Date(2, ql.March, 2015)), # Feb 28 is Sat -> Mar 2\n",
        "\n",
        "            # ModifiedFollowing\n",
        "            SingleCase(ql.SouthAfrica(), ql.ModifiedFollowing, ql.Date(3, ql.February, 2015), ql.Period(1, ql.Months), False, ql.Date(3, ql.March, 2015)),\n",
        "            SingleCase(ql.SouthAfrica(), ql.ModifiedFollowing, ql.Date(3, ql.February, 2015), ql.Period(4, ql.Days), False, ql.Date(9, ql.February, 2015)),\n",
        "            SingleCase(ql.SouthAfrica(), ql.ModifiedFollowing, ql.Date(31, ql.January, 2015), ql.Period(1, ql.Months), True, ql.Date(27, ql.February, 2015)), # Feb 28 is Sat -> Mar 2, ModFol -> Feb 27\n",
        "            SingleCase(ql.SouthAfrica(), ql.ModifiedFollowing, ql.Date(31, ql.January, 2015), ql.Period(1, ql.Months), False, ql.Date(27, ql.February, 2015)),# Feb 28 is Sat -> Mar 2, ModFol -> Feb 27\n",
        "            SingleCase(ql.SouthAfrica(), ql.ModifiedFollowing, ql.Date(25, ql.March, 2015), ql.Period(1, ql.Months), False, ql.Date(28, ql.April, 2015)), # Apr 25 -> Apr 27 (Mon Holiday) -> Apr 28. Still Apr, so ok.\n",
        "            SingleCase(ql.SouthAfrica(), ql.ModifiedFollowing, ql.Date(7, ql.February, 2015), ql.Period(1, ql.Months), False, ql.Date(9, ql.March, 2015)), # Mar 7 is Sat -> Mar 9\n",
        "\n",
        "            # Preceding\n",
        "            SingleCase(ql.SouthAfrica(), ql.Preceding, ql.Date(3, ql.March, 2015), ql.Period(-1, ql.Months), False, ql.Date(3, ql.February, 2015)),\n",
        "            SingleCase(ql.SouthAfrica(), ql.Preceding, ql.Date(3, ql.February, 2015), ql.Period(-2, ql.Days), False, ql.Date(30, ql.January, 2015)), # Feb 1 is Sun, Jan 31 is Sat -> Jan 30\n",
        "            SingleCase(ql.SouthAfrica(), ql.Preceding, ql.Date(1, ql.March, 2015), ql.Period(-1, ql.Months), True, ql.Date(30, ql.January, 2015)), # Mar 1 Sun -> Feb 28 Sat -> Jan 31 Sat -> Jan 30 (EOM=True)\n",
        "            SingleCase(ql.SouthAfrica(), ql.Preceding, ql.Date(1, ql.March, 2015), ql.Period(-1, ql.Months), False, ql.Date(30, ql.January, 2015)), # Feb 1 Sun -> Jan 31 Sat -> Jan 30\n",
        "\n",
        "            # ModifiedPreceding\n",
        "            SingleCase(ql.SouthAfrica(), ql.ModifiedPreceding, ql.Date(3, ql.March, 2015), ql.Period(-1, ql.Months), False, ql.Date(3, ql.February, 2015)),\n",
        "            SingleCase(ql.SouthAfrica(), ql.ModifiedPreceding, ql.Date(3, ql.February, 2015), ql.Period(-2, ql.Days), False, ql.Date(30, ql.January, 2015)),\n",
        "            SingleCase(ql.SouthAfrica(), ql.ModifiedPreceding, ql.Date(1, ql.March, 2015), ql.Period(-1, ql.Months), True, ql.Date(2, ql.February, 2015)), # Mar 1 Sun -> Feb 28 Sat -> Jan 31 Sat -> Jan 30. ModPrec -> Feb 2\n",
        "            SingleCase(ql.SouthAfrica(), ql.ModifiedPreceding, ql.Date(1, ql.March, 2015), ql.Period(-1, ql.Months), False, ql.Date(2, ql.February, 2015)), # Feb 1 Sun -> Jan 31 Sat -> Jan 30. ModPrec -> Feb 2\n",
        "\n",
        "            # Unadjusted\n",
        "            SingleCase(ql.SouthAfrica(), ql.Unadjusted, ql.Date(3, ql.February, 2015), ql.Period(1, ql.Months), False, ql.Date(3, ql.March, 2015)),\n",
        "            SingleCase(ql.SouthAfrica(), ql.Unadjusted, ql.Date(3, ql.February, 2015), ql.Period(4, ql.Days), False, ql.Date(7, ql.February, 2015)), # Feb 7 is Sat, Unadjusted stays Sat\n",
        "            SingleCase(ql.SouthAfrica(), ql.Unadjusted, ql.Date(31, ql.January, 2015), ql.Period(1, ql.Months), True, ql.Date(28, ql.February, 2015)), # EOM=True respected\n",
        "            SingleCase(ql.SouthAfrica(), ql.Unadjusted, ql.Date(31, ql.January, 2015), ql.Period(1, ql.Months), False, ql.Date(28, ql.February, 2015)), # Feb 28 is Sat\n",
        "\n",
        "            # HalfMonthModifiedFollowing\n",
        "            SingleCase(ql.SouthAfrica(), ql.HalfMonthModifiedFollowing, ql.Date(3, ql.February, 2015), ql.Period(1, ql.Months), False, ql.Date(3, ql.March, 2015)),\n",
        "            SingleCase(ql.SouthAfrica(), ql.HalfMonthModifiedFollowing, ql.Date(3, ql.February, 2015), ql.Period(4, ql.Days), False, ql.Date(9, ql.February, 2015)),\n",
        "            SingleCase(ql.SouthAfrica(), ql.HalfMonthModifiedFollowing, ql.Date(31, ql.January, 2015), ql.Period(1, ql.Months), True, ql.Date(27, ql.February, 2015)), # Feb 28 Sat -> Mar 2. >15th, ModFol -> Feb 27\n",
        "            SingleCase(ql.SouthAfrica(), ql.HalfMonthModifiedFollowing, ql.Date(31, ql.January, 2015), ql.Period(1, ql.Months), False, ql.Date(27, ql.February, 2015)),# Feb 28 Sat -> Mar 2. >15th, ModFol -> Feb 27\n",
        "            SingleCase(ql.SouthAfrica(), ql.HalfMonthModifiedFollowing, ql.Date(3, ql.January, 2015), ql.Period(1, ql.Weeks), False, ql.Date(12, ql.January, 2015)), # Jan 10 Sat -> Jan 12. <=15th, Following\n",
        "            SingleCase(ql.SouthAfrica(), ql.HalfMonthModifiedFollowing, ql.Date(21, ql.March, 2015), ql.Period(1, ql.Weeks), False, ql.Date(30, ql.March, 2015)), # Mar 28 Sat -> Mar 30. >15th, Following\n",
        "            SingleCase(ql.SouthAfrica(), ql.HalfMonthModifiedFollowing, ql.Date(7, ql.February, 2015), ql.Period(1, ql.Months), False, ql.Date(9, ql.March, 2015)), # Mar 7 Sat -> Mar 9. <=15th, Following\n",
        "\n",
        "            # Nearest (equivalent to WeekendsOnly adjustment in some contexts, but Nearest exists as enum)\n",
        "            SingleCase(ql.SouthAfrica(), ql.Nearest, ql.Date(3, ql.February, 2015), ql.Period(1, ql.Months), False, ql.Date(3, ql.March, 2015)), # In range, no adjustment needed\n",
        "            SingleCase(ql.SouthAfrica(), ql.Nearest, ql.Date(3, ql.February, 2015), ql.Period(4, ql.Days), False, ql.Date(9, ql.February, 2015)), # Feb 7 Sat -> Nearest Friday (Feb 6) or Monday (Feb 9)? QL's Nearest usually means nearest *working* day. Feb 7 is Sat. Nearest WD is Mon Feb 9.\n",
        "                                                                                                                                                # Wait, C++ expected is Feb 9. Let's re-read doc: \"Adjust to nearest business day. If the non-business day falls on a Monday or Tuesday, adjust to the previous business day. If it falls on a Wednesday, Thursday or Friday, adjust to the next business day.\"\n",
        "                                                                                                                                                # This definition seems specific to some markets. QL `Nearest` enum description is usually just \"choose the nearest business day\".\n",
        "                                                                                                                                                # Let's test QL behavior: ql.SouthAfrica().advance(ql.Date(3,2,2015), ql.Period(\"4d\"), ql.Nearest) -> Feb 9, 2015. So QL's `Nearest` behaves as 'nearest WD'.\n",
        "            SingleCase(ql.SouthAfrica(), ql.Nearest, ql.Date(16, ql.April, 2015), ql.Period(1, ql.Months), False, ql.Date(15, ql.May, 2015)), # May 16 is Sat. Nearest WD is Fri May 15.\n",
        "            SingleCase(ql.SouthAfrica(), ql.Nearest, ql.Date(17, ql.April, 2015), ql.Period(1, ql.Months), False, ql.Date(18, ql.May, 2015)), # May 17 is Sun. Nearest WD is Mon May 18.\n",
        "            SingleCase(ql.SouthAfrica(), ql.Nearest, ql.Date(4, ql.March, 2015), ql.Period(1, ql.Months), False, ql.Date(2, ql.April, 2015)), # Apr 4 is Sat. Nearest WD is Fri Apr 3? No, wait, Apr 3 is Good Friday. So nearest is Thu Apr 2.\n",
        "            SingleCase(ql.SouthAfrica(), ql.Nearest, ql.Date(2, ql.April, 2015), ql.Period(1, ql.Months), False, ql.Date(4, ql.May, 2015)),  # May 2 is Sat. Nearest WD is Mon May 4.\n",
        "        ]\n",
        "\n",
        "        for i, case in enumerate(test_cases):\n",
        "            # Get a fresh calendar instance for safety, though SouthAfrica() should be stateless\n",
        "            calendar = case.calendar\n",
        "\n",
        "            # Use the advance method from the calendar instance\n",
        "            result = calendar.advance(\n",
        "                case.start_date,\n",
        "                case.period,\n",
        "                case.convention,\n",
        "                case.end_of_month)\n",
        "\n",
        "            # Check if the result matches the expected result\n",
        "            self.assertEqual(result, case.expected_result,\n",
        "                             msg=(f\"\\ncase {i}:\\n\"\n",
        "                                  f\"{case}\\n\"\n",
        "                                  f\"convention: {case.convention}\\n\"\n",
        "                                  f\"actual result: {result}\"))\n",
        "\n",
        "if __name__ == '__main__':\n",
        "    print(\"Presolve testQuantLib.py ...\")\n",
        "    unittest.main(argv=['first-arg-is-ignored'], exit=False)"
      ],
      "metadata": {
        "id": "GF54xAImZSCB"
      },
      "execution_count": null,
      "outputs": []
    }
  ],
  "metadata": {
    "colab": {
      "toc_visible": true,
      "provenance": [],
      "include_colab_link": true
    },
    "kernelspec": {
      "display_name": "Python 3",
      "name": "python3"
    }
  },
  "nbformat": 4,
  "nbformat_minor": 0
}