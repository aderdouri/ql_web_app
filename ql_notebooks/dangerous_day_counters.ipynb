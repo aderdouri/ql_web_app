{
  "cells": [
    {
      "cell_type": "markdown",
      "metadata": {
        "id": "view-in-github",
        "colab_type": "text"
      },
      "source": [
        "<a href=\"https://colab.research.google.com/github/aderdouri/ql_web_app/blob/master/ql_notebooks/dangerous_day_counters.ipynb\" target=\"_parent\"><img src=\"https://colab.research.google.com/assets/colab-badge.svg\" alt=\"Open In Colab\"/></a>"
      ]
    },
    {
      "cell_type": "markdown",
      "metadata": {
        "id": "XzcLMJ-_QlfQ"
      },
      "source": [
        "# Dangerous day-count conventions"
      ]
    },
    {
      "cell_type": "markdown",
      "metadata": {
        "id": "gn-hwbLUQlfR"
      },
      "source": [
        "(Based on a question by Min Gao on the QuantLib mailing list. Thanks!)"
      ]
    },
    {
      "cell_type": "code",
      "source": [
        "!pip install QuantLib-Python"
      ],
      "metadata": {
        "id": "5n5qpNAhQmxZ"
      },
      "execution_count": null,
      "outputs": []
    },
    {
      "cell_type": "code",
      "source": [
        "# URL of the Python file\n",
        "url = 'https://raw.githubusercontent.com/aderdouri/ql_web_app/master/ql_notebooks/utils.py'\n",
        "\n",
        "# Download the file\n",
        "urllib.request.urlretrieve(url, 'utils.py')\n",
        "\n",
        "# Import the module\n",
        "spec = importlib.util.spec_from_file_location(\"utils\", \"utils.py\")\n",
        "utils = importlib.util.module_from_spec(spec)\n",
        "sys.modules[\"utils\"] = utils\n",
        "spec.loader.exec_module(utils)"
      ],
      "metadata": {
        "id": "yS5qvVwxQpmj"
      },
      "execution_count": null,
      "outputs": []
    },
    {
      "cell_type": "code",
      "execution_count": null,
      "metadata": {
        "id": "WXtnWdiWQlfS"
      },
      "outputs": [],
      "source": [
        "import QuantLib as ql"
      ]
    },
    {
      "cell_type": "code",
      "execution_count": null,
      "metadata": {
        "id": "3DDz81YhQlfS"
      },
      "outputs": [],
      "source": [
        "today = ql.Date(22,1,2018)\n",
        "ql.Settings.instance().evaluationDate = today"
      ]
    },
    {
      "cell_type": "code",
      "execution_count": null,
      "metadata": {
        "id": "-00LDLTnQlfS"
      },
      "outputs": [],
      "source": [
        "%matplotlib inline\n",
        "import utils"
      ]
    },
    {
      "cell_type": "markdown",
      "metadata": {
        "id": "TG5A12PqQlfS"
      },
      "source": [
        "#### The problem"
      ]
    },
    {
      "cell_type": "markdown",
      "metadata": {
        "id": "9eYgaj1xQlfS"
      },
      "source": [
        "Talking about term structures in [_Implementing QuantLib_](https://leanpub.com/implementingquantlib), I suggest to use simple day-count conventions such as Actual/360 or Actual/365 to initialize curves. That's because the convention is used internally to convert dates into times, and we want the conversion to be as regular as possible.  For instance, we'd like distances between dates to be additive: given three dates $d_1$, $d_2$ and $d_3$, we would expect that $T(d_1,d_2) + T(d_2,d_3) = T(d_1,d_3)$, where $T$ denotes the time between dates.\n",
        "\n",
        "Unfortunately, that's not always the case for some day counters. The property holds for most dates..."
      ]
    },
    {
      "cell_type": "code",
      "execution_count": null,
      "metadata": {
        "id": "JeKpF5WLQlfT"
      },
      "outputs": [],
      "source": [
        "dc = ql.Thirty360(ql.Thirty360.USA)"
      ]
    },
    {
      "cell_type": "code",
      "execution_count": null,
      "metadata": {
        "id": "GoFUkxlSQlfT"
      },
      "outputs": [],
      "source": [
        "d1 = ql.Date(1, ql.January, 2018)\n",
        "d2 = ql.Date(15, ql.January, 2018)\n",
        "d3 = ql.Date(31, ql.January, 2018)"
      ]
    },
    {
      "cell_type": "code",
      "execution_count": null,
      "metadata": {
        "id": "xBKUjJgeQlfT",
        "outputId": "5d5133eb-a99d-4872-9344-44f8c3969911"
      },
      "outputs": [
        {
          "name": "stdout",
          "output_type": "stream",
          "text": [
            "0.08333333333333334\n",
            "0.08333333333333333\n"
          ]
        }
      ],
      "source": [
        "print(dc.yearFraction(d1,d2) + dc.yearFraction(d2,d3))\n",
        "print(dc.yearFraction(d1,d3))"
      ]
    },
    {
      "cell_type": "markdown",
      "metadata": {
        "id": "tIc5gGEkQlfT"
      },
      "source": [
        "...but doesn't for some."
      ]
    },
    {
      "cell_type": "code",
      "execution_count": null,
      "metadata": {
        "id": "ywbIZ518QlfT"
      },
      "outputs": [],
      "source": [
        "d1 = ql.Date(1, ql.January, 2018)\n",
        "d2 = ql.Date(30, ql.January, 2018)\n",
        "d3 = ql.Date(31, ql.January, 2018)"
      ]
    },
    {
      "cell_type": "code",
      "execution_count": null,
      "metadata": {
        "id": "bLIeb496QlfT",
        "outputId": "308b45d6-4d33-4761-cae2-f9d8e6a490bd"
      },
      "outputs": [
        {
          "name": "stdout",
          "output_type": "stream",
          "text": [
            "0.08055555555555556\n",
            "0.08333333333333333\n"
          ]
        }
      ],
      "source": [
        "print(dc.yearFraction(d1,d2) + dc.yearFraction(d2,d3))\n",
        "print(dc.yearFraction(d1,d3))"
      ]
    },
    {
      "cell_type": "markdown",
      "metadata": {
        "id": "rEME7vnrQlfT"
      },
      "source": [
        "That's because some day-count conventions were designed to calculate the duration of a coupon, not the distance between any two given dates.  They have particular formulas and exceptions that make coupons more regular; but those exceptions also cause some pairs of dates to have strange properties.  For instance, there might be no distance at all between some particular distinct dates:"
      ]
    },
    {
      "cell_type": "code",
      "execution_count": null,
      "metadata": {
        "id": "LIG0pd5NQlfU",
        "outputId": "d95f5632-cbf7-48b3-c324-5d628c9522fd"
      },
      "outputs": [
        {
          "name": "stdout",
          "output_type": "stream",
          "text": [
            "0.0\n"
          ]
        }
      ],
      "source": [
        "d1 = ql.Date(30, ql.January, 2018)\n",
        "d2 = ql.Date(31, ql.January, 2018)\n",
        "\n",
        "print(dc.yearFraction(d1,d2))"
      ]
    },
    {
      "cell_type": "markdown",
      "metadata": {
        "id": "1C_e3RD1QlfU"
      },
      "source": [
        "The 30/360 convention is not the worst offender, either.  Min Gao's question came from using for the term structure the same convention used for the bond being priced, that is, ISMA actual/actual.  This day counter is supposed to be given a reference period, as well as the two dates whose distance one needs to measure; failing to do so will result in the wrong results..."
      ]
    },
    {
      "cell_type": "code",
      "execution_count": null,
      "metadata": {
        "id": "uTOba7TYQlfU"
      },
      "outputs": [],
      "source": [
        "d1 = ql.Date(1, ql.January, 2018)\n",
        "d2 = ql.Date(15, ql.January, 2018)\n",
        "\n",
        "reference_period = (ql.Date(1, ql.January, 2018), ql.Date(1, ql.July, 2018))"
      ]
    },
    {
      "cell_type": "code",
      "execution_count": null,
      "metadata": {
        "id": "UcnM5XX9QlfU",
        "outputId": "28f33cca-445d-411f-885a-9811ed9b18de"
      },
      "outputs": [
        {
          "name": "stdout",
          "output_type": "stream",
          "text": [
            "0.03867403314917127\n",
            "0.038356164383561646\n"
          ]
        }
      ],
      "source": [
        "dc = ql.ActualActual(ql.ActualActual.ISMA)\n",
        "\n",
        "print(dc.yearFraction(d1, d2, *reference_period))\n",
        "print(dc.yearFraction(d1, d2))"
      ]
    },
    {
      "cell_type": "markdown",
      "metadata": {
        "id": "IOuELGTzQlfU"
      },
      "source": [
        "...and sometimes, in spectacularly wrong results.  Here is what happens if we plot the year fraction since January 1st, 2018 as a function of the date over that same year."
      ]
    },
    {
      "cell_type": "code",
      "execution_count": null,
      "metadata": {
        "id": "3bhMkEbkQlfU"
      },
      "outputs": [],
      "source": [
        "d1 = ql.Date(1, ql.January, 2018)\n",
        "dates = [ (d1 + i) for i in range(366) ]\n",
        "times = [ dc.yearFraction(d1, d) for d in dates ]"
      ]
    },
    {
      "cell_type": "code",
      "execution_count": null,
      "metadata": {
        "id": "S08yww_IQlfU",
        "outputId": "c535d240-ca5f-42d9-fb8b-a25bd0a702d5"
      },
      "outputs": [
        {
          "data": {
            "image/png": "[encoded data removed]",
            "text/plain": [
              "<Figure size 1200x800 with 1 Axes>"
            ]
          },
          "metadata": {},
          "output_type": "display_data"
        }
      ],
      "source": [
        "fig, ax = utils.plot()\n",
        "ax.xaxis.set_major_formatter(utils.date_formatter())\n",
        "ax.plot_date([ utils.to_datetime(d) for d in dates ], times,'-');"
      ]
    },
    {
      "cell_type": "markdown",
      "metadata": {
        "id": "sfY1VwWfQlfU"
      },
      "source": [
        "Of course, that's no way to convert dates into times.  Using this day-count convention inside a coupon is ok, of course.  Using it inside a term structure, which doesn't have any concept of a reference period, leads to very strange behaviors."
      ]
    },
    {
      "cell_type": "code",
      "execution_count": null,
      "metadata": {
        "id": "0W3Nr6vUQlfU"
      },
      "outputs": [],
      "source": [
        "curve = ql.FlatForward(today, 0.01, ql.ActualActual(ql.ActualActual.ISMA))"
      ]
    },
    {
      "cell_type": "code",
      "execution_count": null,
      "metadata": {
        "id": "ddMiKq6UQlfU",
        "outputId": "4ac001d3-5d20-4e17-9c3d-c7d2fc94c1e7"
      },
      "outputs": [
        {
          "data": {
            "image/png": "[encoded data removed]",
            "text/plain": [
              "<Figure size 1200x800 with 1 Axes>"
            ]
          },
          "metadata": {},
          "output_type": "display_data"
        }
      ],
      "source": [
        "dates = [ (today + i) for i in range(366) ]\n",
        "discounts = [ curve.discount(d) for d in dates ]\n",
        "fig, ax = utils.plot()\n",
        "ax.xaxis.set_major_formatter(utils.date_formatter())\n",
        "ax.plot_date([ utils.to_datetime(d) for d in dates ], discounts,'-');"
      ]
    },
    {
      "cell_type": "markdown",
      "metadata": {
        "id": "h2oSn9K6QlfU"
      },
      "source": [
        "#### Any solutions?"
      ]
    },
    {
      "cell_type": "markdown",
      "metadata": {
        "id": "fKx-CW8NQlfV"
      },
      "source": [
        "Not really, at this time.  Work is underway to store a schedule inside an ISMA actual/actual day counter and use it to retrieve the correct reference period, but that's not fully working yet. In the meantime, what I can suggest is to use the specified day-count conventions for coupons; but, unless something prevents it, use a simple day-count convention such as actual/360 or actual/365 for term structures."
      ]
    }
  ],
  "metadata": {
    "kernelspec": {
      "display_name": "Python 3 (ipykernel)",
      "language": "python",
      "name": "python3"
    },
    "language_info": {
      "codemirror_mode": {
        "name": "ipython",
        "version": 3
      },
      "file_extension": ".py",
      "mimetype": "text/x-python",
      "name": "python",
      "nbconvert_exporter": "python",
      "pygments_lexer": "ipython3",
      "version": "3.10.8"
    },
    "colab": {
      "provenance": [],
      "include_colab_link": true
    }
  },
  "nbformat": 4,
  "nbformat_minor": 0
}