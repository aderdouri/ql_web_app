{
  "cells": [
    {
      "cell_type": "markdown",
      "metadata": {
        "id": "view-in-github",
        "colab_type": "text"
      },
      "source": [
        "<a href=\"https://colab.research.google.com/github/aderdouri/ql_web_app/blob/master/ql_notebooks/discount_margin_calculation.ipynb\" target=\"_parent\"><img src=\"https://colab.research.google.com/assets/colab-badge.svg\" alt=\"Open In Colab\"/></a>"
      ]
    },
    {
      "cell_type": "markdown",
      "metadata": {
        "id": "l8k_YUOQRJS7"
      },
      "source": [
        "# Discount margin calculation"
      ]
    },
    {
      "cell_type": "markdown",
      "metadata": {
        "id": "ja2et1ToRJS8"
      },
      "source": [
        "(Based on [two](http://quant.stackexchange.com/questions/8965/) [questions](https://quant.stackexchange.com/questions/37705/) by _Stack Exchange_ users HookahBoy and Kyle. Thanks!)"
      ]
    },
    {
      "cell_type": "code",
      "source": [
        "!pip install QuantLib-Python"
      ],
      "metadata": {
        "id": "H5yG2nENRLky"
      },
      "execution_count": null,
      "outputs": []
    },
    {
      "cell_type": "code",
      "execution_count": null,
      "metadata": {
        "id": "4NCVoRP6RJS9"
      },
      "outputs": [],
      "source": [
        "import QuantLib as ql"
      ]
    },
    {
      "cell_type": "code",
      "execution_count": null,
      "metadata": {
        "id": "WxI7x9m0RJS9"
      },
      "outputs": [],
      "source": [
        "today = ql.Date(8, ql.October, 2014)\n",
        "ql.Settings.instance().evaluationDate = today"
      ]
    },
    {
      "cell_type": "markdown",
      "metadata": {
        "id": "g11vqfDzRJS9"
      },
      "source": [
        "#### The question"
      ]
    },
    {
      "cell_type": "markdown",
      "metadata": {
        "id": "ffR__cNZRJS9"
      },
      "source": [
        "Given a floating-rate bond price, we want to find the corresponding discount margin.  This is one in a class of similar problems: we have a calculation which is not immediate to do directly, but is straightforward to do in the opposite direction; in this case, find the price of a bond when discounting its coupons at a spread over LIBOR."
      ]
    },
    {
      "cell_type": "markdown",
      "metadata": {
        "id": "oid0zry7RJS9"
      },
      "source": [
        "The general idea is to implement the inverse calculation (DM to price) and then to use a solver to determine the correct input given the result. First, we build the bond."
      ]
    },
    {
      "cell_type": "code",
      "execution_count": null,
      "metadata": {
        "id": "_2RdhHfiRJS-"
      },
      "outputs": [],
      "source": [
        "forecast_curve = ql.RelinkableYieldTermStructureHandle()\n",
        "discount_curve = ql.RelinkableYieldTermStructureHandle()"
      ]
    },
    {
      "cell_type": "code",
      "execution_count": null,
      "metadata": {
        "id": "q0dQstIHRJS-"
      },
      "outputs": [],
      "source": [
        "index = ql.Euribor6M(forecast_curve)"
      ]
    },
    {
      "cell_type": "code",
      "execution_count": null,
      "metadata": {
        "id": "bWYgyhP5RJS-"
      },
      "outputs": [],
      "source": [
        "issueDate = ql.Date(13,ql.October,2014)\n",
        "maturityDate = ql.Date(13,ql.October,2024)\n",
        "\n",
        "schedule = ql.Schedule(issueDate, maturityDate,\n",
        "                       ql.Period(ql.Semiannual), ql.TARGET(),\n",
        "                       ql.Following, ql.Following,\n",
        "                       ql.DateGeneration.Backward, False)"
      ]
    },
    {
      "cell_type": "code",
      "execution_count": null,
      "metadata": {
        "id": "bCsqrcxgRJS-"
      },
      "outputs": [],
      "source": [
        "bond = ql.FloatingRateBond(settlementDays = 3,\n",
        "                           faceAmount = 100,\n",
        "                           schedule = schedule,\n",
        "                           index = index,\n",
        "                           paymentDayCounter = ql.Actual360(),\n",
        "                           paymentConvention = ql.Following,\n",
        "                           fixingDays = index.fixingDays(),\n",
        "                           gearings = [],\n",
        "                           spreads = [],\n",
        "                           caps= [],\n",
        "                           floors = [],\n",
        "                           inArrears = False,\n",
        "                           redemption = 100.0,\n",
        "                           issueDate = issueDate)\n",
        "bond.setPricingEngine(ql.DiscountingBondEngine(discount_curve))"
      ]
    },
    {
      "cell_type": "markdown",
      "metadata": {
        "id": "PajbWApERJS-"
      },
      "source": [
        "Now we link the forecast curve to the current Euribor curve (whatever that is; I'm using a flat one as an example, but it could as well be a real one)..."
      ]
    },
    {
      "cell_type": "code",
      "execution_count": null,
      "metadata": {
        "id": "hKSfvZ0fRJS-"
      },
      "outputs": [],
      "source": [
        "forecast_curve.linkTo(ql.FlatForward(0, ql.TARGET(), 0.002, ql.Actual360()))"
      ]
    },
    {
      "cell_type": "markdown",
      "metadata": {
        "id": "XwT36sN-RJS-"
      },
      "source": [
        "...and the discount curve to the Euribor curve plus the discount margin."
      ]
    },
    {
      "cell_type": "code",
      "execution_count": null,
      "metadata": {
        "id": "gCLhHO--RJS-"
      },
      "outputs": [],
      "source": [
        "DM = ql.SimpleQuote(0.0)\n",
        "discount_curve.linkTo(ql.ZeroSpreadedTermStructure(forecast_curve,\n",
        "                                                   ql.QuoteHandle(DM)))"
      ]
    },
    {
      "cell_type": "markdown",
      "metadata": {
        "id": "370jUgsRRJS-"
      },
      "source": [
        "Setting a value to the DM quote will affect the bond price: this gives us the knob to manipulate in order to find the solution of our problem."
      ]
    },
    {
      "cell_type": "code",
      "execution_count": null,
      "metadata": {
        "id": "3xGc6xSSRJS_",
        "outputId": "83fc943a-bf19-4064-ee81-1a411d370f0c"
      },
      "outputs": [
        {
          "name": "stdout",
          "output_type": "stream",
          "text": [
            "100.00000000000001\n"
          ]
        }
      ],
      "source": [
        "print(bond.cleanPrice())"
      ]
    },
    {
      "cell_type": "code",
      "execution_count": null,
      "metadata": {
        "id": "W078JAhARJS_",
        "outputId": "ff2b1c7e-d0ff-40a8-ebf6-68dc4f3290ff"
      },
      "outputs": [
        {
          "name": "stdout",
          "output_type": "stream",
          "text": [
            "98.99979030764418\n"
          ]
        }
      ],
      "source": [
        "DM.setValue(0.001)\n",
        "print(bond.cleanPrice())"
      ]
    },
    {
      "cell_type": "markdown",
      "metadata": {
        "id": "k13651mPRJS_"
      },
      "source": [
        "To invert the calculation, we encapsulate the above into a function.  The Python language makes it easier to write it in a general way; the function below takes the target price, and returns another function that takes a value for the discount margin and returns the difference between the corresponding price and the target.  In C++, we would create a function object taking the target price in its constructor and returning the difference from its `operator()`."
      ]
    },
    {
      "cell_type": "code",
      "execution_count": null,
      "metadata": {
        "id": "PJfIMTARRJS_"
      },
      "outputs": [],
      "source": [
        "def F(price):\n",
        "    def _f(s):\n",
        "        DM.setValue(s)\n",
        "        return bond.cleanPrice() - price\n",
        "    return _f"
      ]
    },
    {
      "cell_type": "code",
      "execution_count": null,
      "metadata": {
        "id": "IiauWOW6RJS_",
        "outputId": "ee60d9ba-a6e0-4489-b0b7-998314a6de99"
      },
      "outputs": [
        {
          "name": "stdout",
          "output_type": "stream",
          "text": [
            "1.00020969240002\n",
            "-0.9901429992548856\n"
          ]
        }
      ],
      "source": [
        "f = F(98.9997903076)\n",
        "print(f(0.0))\n",
        "print(f(0.002))"
      ]
    },
    {
      "cell_type": "markdown",
      "metadata": {
        "id": "5VabVbcORJS_"
      },
      "source": [
        "We want to find the value of the discount margin that causes the calculated price to equal the target price, that is, that causes the error to be 0; and for that, we can use a solver."
      ]
    },
    {
      "cell_type": "code",
      "execution_count": null,
      "metadata": {
        "id": "IWnDmLR8RJS_",
        "outputId": "e16df769-6304-410d-c6ef-be1673f74925"
      },
      "outputs": [
        {
          "name": "stdout",
          "output_type": "stream",
          "text": [
            "0.00039870328652332745\n"
          ]
        }
      ],
      "source": [
        "margin = ql.Brent().solve(F(99.6), 1e-8, 0.0, 1e-4)\n",
        "print(margin)"
      ]
    },
    {
      "cell_type": "markdown",
      "metadata": {
        "id": "BMYESN-gRJTA"
      },
      "source": [
        "We can verify that this works by setting the margin to the returned value and checking that the bond price equals the input:"
      ]
    },
    {
      "cell_type": "code",
      "execution_count": null,
      "metadata": {
        "id": "8q5Mx_PTRJTA",
        "outputId": "2eaad4c8-6a83-4911-9735-bde40773c246"
      },
      "outputs": [
        {
          "name": "stdout",
          "output_type": "stream",
          "text": [
            "99.59999988275108\n"
          ]
        }
      ],
      "source": [
        "DM.setValue(margin)\n",
        "print(bond.cleanPrice())"
      ]
    },
    {
      "cell_type": "markdown",
      "metadata": {
        "id": "uewHaBCpRJTA"
      },
      "source": [
        "However, note that the spread above is continuously compounded. You might want to see the discount margin in the same units as the index fixings:"
      ]
    },
    {
      "cell_type": "code",
      "execution_count": null,
      "metadata": {
        "id": "xrlr4148RJTA",
        "outputId": "9b42bae7-e82d-42fd-80c9-4409b032f94e"
      },
      "outputs": [
        {
          "name": "stdout",
          "output_type": "stream",
          "text": [
            "0.039874 % Actual/360 simple compounding\n"
          ]
        }
      ],
      "source": [
        "value_date = index.valueDate(today)\n",
        "maturity_date = index.maturityDate(value_date)\n",
        "print(ql.InterestRate(margin, discount_curve.dayCounter(),\n",
        "                      ql.Continuous, ql.NoFrequency)\n",
        "      .equivalentRate(index.dayCounter(),\n",
        "                      ql.Simple, index.tenor().frequency(),\n",
        "                      value_date, maturity_date))"
      ]
    },
    {
      "cell_type": "markdown",
      "metadata": {
        "id": "lduA-V5tRJTA"
      },
      "source": [
        "#### Not just for bonds"
      ]
    },
    {
      "cell_type": "markdown",
      "metadata": {
        "id": "zTyDxMecRJTA"
      },
      "source": [
        "The approach I described can be generalized to any problem in this class. Here I'll use it to get the implied volatility of an Asian option: first I'll create the instrument..."
      ]
    },
    {
      "cell_type": "code",
      "execution_count": null,
      "metadata": {
        "id": "GTcCAdpTRJTA"
      },
      "outputs": [],
      "source": [
        "exerciseDate = today + ql.Period(1,ql.Years)\n",
        "fixingDates = [ today + ql.Period(n,ql.Months) for n in range(1,12) ]\n",
        "option = ql.DiscreteAveragingAsianOption(\n",
        "    ql.Average.Arithmetic,\n",
        "    0.0, 0,\n",
        "    fixingDates,\n",
        "    ql.PlainVanillaPayoff(ql.Option.Call, 100.0),\n",
        "    ql.EuropeanExercise(exerciseDate))"
      ]
    },
    {
      "cell_type": "markdown",
      "metadata": {
        "id": "6CfAS8crRJTA"
      },
      "source": [
        "...and an engine, taking care of writing the input volatility as a quote."
      ]
    },
    {
      "cell_type": "code",
      "execution_count": null,
      "metadata": {
        "id": "d4EBvkVBRJTA"
      },
      "outputs": [],
      "source": [
        "sigma = ql.SimpleQuote(0.20)\n",
        "\n",
        "riskFreeCurve = ql.FlatForward(0, ql.TARGET(), 0.01, ql.Actual360())\n",
        "volatility = ql.BlackConstantVol(0, ql.TARGET(),\n",
        "                                 ql.QuoteHandle(sigma), ql.Actual360())\n",
        "\n",
        "process = ql.BlackScholesProcess(ql.QuoteHandle(ql.SimpleQuote(100.0)),\n",
        "                                 ql.YieldTermStructureHandle(riskFreeCurve),\n",
        "                                 ql.BlackVolTermStructureHandle(volatility))"
      ]
    },
    {
      "cell_type": "code",
      "execution_count": null,
      "metadata": {
        "id": "0dxNratDRJTA"
      },
      "outputs": [],
      "source": [
        "option.setPricingEngine(\n",
        "    ql.MCDiscreteArithmeticAPEngine(process, \"pseudorandom\",\n",
        "                                    requiredSamples=1000,\n",
        "                                    seed=42))"
      ]
    },
    {
      "cell_type": "markdown",
      "metadata": {
        "id": "sFzfe_n3RJTA"
      },
      "source": [
        "Now we can use the same technique as above: the function below takes a target price and returns a function from the volatility to the pricing error:"
      ]
    },
    {
      "cell_type": "code",
      "execution_count": null,
      "metadata": {
        "id": "sHHjrGveRJTB"
      },
      "outputs": [],
      "source": [
        "def F(price):\n",
        "    def _f(v):\n",
        "        sigma.setValue(v)\n",
        "        return option.NPV() - price\n",
        "    return _f"
      ]
    },
    {
      "cell_type": "markdown",
      "metadata": {
        "id": "lNU9MlJ4RJTB"
      },
      "source": [
        "Using a solver, we can invert it to solve for any price:"
      ]
    },
    {
      "cell_type": "code",
      "execution_count": null,
      "metadata": {
        "id": "KOq7LJ79RJTB",
        "outputId": "c06ef4c8-10a8-4580-93cb-3c43833c68eb"
      },
      "outputs": [
        {
          "name": "stdout",
          "output_type": "stream",
          "text": [
            "0.20081193864526342\n"
          ]
        }
      ],
      "source": [
        "print(ql.Brent().solve(F(5.0), 1e-8, 0.20, 1e-4))"
      ]
    },
    {
      "cell_type": "code",
      "execution_count": null,
      "metadata": {
        "id": "XsVkfqPHRJTB",
        "outputId": "4714f5ad-c614-41c5-ddf8-73513c425817"
      },
      "outputs": [
        {
          "name": "stdout",
          "output_type": "stream",
          "text": [
            "0.24362397543255393\n"
          ]
        }
      ],
      "source": [
        "print(ql.Brent().solve(F(6.0), 1e-8, 0.20, 1e-4))"
      ]
    }
  ],
  "metadata": {
    "kernelspec": {
      "display_name": "Python 3 (ipykernel)",
      "language": "python",
      "name": "python3"
    },
    "language_info": {
      "codemirror_mode": {
        "name": "ipython",
        "version": 3
      },
      "file_extension": ".py",
      "mimetype": "text/x-python",
      "name": "python",
      "nbconvert_exporter": "python",
      "pygments_lexer": "ipython3",
      "version": "3.10.8"
    },
    "colab": {
      "provenance": [],
      "include_colab_link": true
    }
  },
  "nbformat": 4,
  "nbformat_minor": 0
}