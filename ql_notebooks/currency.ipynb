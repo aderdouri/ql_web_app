{
  "cells": [
    {
      "cell_type": "markdown",
      "metadata": {
        "id": "view-in-github",
        "colab_type": "text"
      },
      "source": [
        "<a href=\"https://colab.research.google.com/github/aderdouri/ql_web_app/blob/master/ql_notebooks/currency.ipynb\" target=\"_parent\"><img src=\"https://colab.research.google.com/assets/colab-badge.svg\" alt=\"Open In Colab\"/></a>"
      ]
    },
    {
      "cell_type": "code",
      "source": [
        "import QuantLib as ql\n",
        "import unittest\n",
        "\n",
        "class CurrencyTests(unittest.TestCase):\n",
        "\n",
        "    def test_bespoke_constructor(self):\n",
        "        print(\"Testing bespoke currency constructor...\")\n",
        "\n",
        "        name = \"Some Currency\"\n",
        "        code = \"CCY\"\n",
        "        numeric_code = 100 # As per C++ test\n",
        "        symbol = \"#\"\n",
        "        fraction_symbol = \"\" # As per C++ test\n",
        "        fractions_per_unit = 100 # As per C++ test\n",
        "        rounding = ql.Rounding() # Default rounding\n",
        "        # Triangulation currency is omitted in C++ test, implying default constructor for it\n",
        "        # which means an empty currency. Python constructor might require None or ql.Currency().\n",
        "\n",
        "        # The Python ql.Currency constructor with this signature is:\n",
        "        # Currency(name, code, numericCode, symbol, fractionSymbol, fractionsPerUnit, rounding, triangulationCurrency = Currency())\n",
        "        # If triangulationCurrency is not provided, it defaults.\n",
        "\n",
        "        custom_ccy = ql.Currency(name, code, numeric_code, symbol, fraction_symbol,\n",
        "                                 fractions_per_unit, rounding) # Triangulation currency defaults\n",
        "\n",
        "        self.assertFalse(custom_ccy.empty(), \"Failed to create bespoke currency (currency is empty).\")\n",
        "\n",
        "        self.assertEqual(custom_ccy.name(), name,\n",
        "                         f\"Incorrect currency name:\\n\"\n",
        "                         f\"    actual:    {custom_ccy.name()}\\n\"\n",
        "                         f\"    expected:  {name}\")\n",
        "\n",
        "        self.assertEqual(custom_ccy.code(), code,\n",
        "                         f\"Incorrect currency code:\\n\"\n",
        "                         f\"    actual:    {custom_ccy.code()}\\n\"\n",
        "                         f\"    expected:  {code}\")\n",
        "\n",
        "        self.assertEqual(custom_ccy.symbol(), symbol,\n",
        "                         f\"Incorrect currency symbol:\\n\"\n",
        "                         f\"    actual:    {custom_ccy.symbol()}\\n\"\n",
        "                         f\"    expected:  {symbol}\")\n",
        "\n",
        "        # Optional: Check other properties if they are set by this constructor\n",
        "        self.assertEqual(custom_ccy.numericCode(), numeric_code, \"Incorrect numeric code\")\n",
        "        self.assertEqual(custom_ccy.fractionSymbol(), fraction_symbol, \"Incorrect fraction symbol\")\n",
        "        self.assertEqual(custom_ccy.fractionsPerUnit(), fractions_per_unit, \"Incorrect fractions per unit\")\n",
        "        # Cannot directly compare rounding objects easily unless they have comparable properties.\n",
        "        # Default rounding is usually NoRounding or ClosestRounding depending on QL version/defaults.\n",
        "        # We can check if it's not None or if it's an instance of ql.Rounding\n",
        "        self.assertIsInstance(custom_ccy.rounding(), ql.Rounding, \"Rounding object not set correctly\")\n",
        "\n",
        "\n",
        "if __name__ == '__main__':\n",
        "    print(\"Testing QuantLib \" + ql.__version__)\n",
        "    # TopLevelFixture is not critical for this test.\n",
        "    unittest.main(argv=['first-arg-is-ignored'], exit=False)"
      ],
      "metadata": {
        "id": "DVTzZuvkBwUp"
      },
      "execution_count": null,
      "outputs": []
    },
    {
      "cell_type": "markdown",
      "source": [
        "The Python ql.Currency constructor is called with the same parameters as in the C++ test.\n",
        "custom_ccy.empty() checks if the currency object was successfully created (an empty currency usually means construction failed or it's a placeholder).\n",
        "self.assertEqual is used to verify the name, code, and symbol attributes.\n",
        "I've added optional checks for numericCode, fractionSymbol, fractionsPerUnit, and the type of the rounding object, as these are also set by the constructor and good to verify.\n",
        "The triangulationCurrency defaults to an empty ql.Currency() if not provided, which matches the C++ behavior where it's defaulted in the constructor signature."
      ],
      "metadata": {
        "id": "RHI3zmvHBxDx"
      }
    }
  ],
  "metadata": {
    "colab": {
      "name": "Overview of Colaboratory Features",
      "toc_visible": true,
      "provenance": [],
      "include_colab_link": true
    },
    "kernelspec": {
      "display_name": "Python 3",
      "name": "python3"
    }
  },
  "nbformat": 4,
  "nbformat_minor": 0
}