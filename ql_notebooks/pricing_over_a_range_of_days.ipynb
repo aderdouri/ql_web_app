{
 "cells": [
  {
   "cell_type": "markdown",
   "metadata": {},
   "source": [
    "# Pricing over a range of days"
   ]
  },
  {
   "cell_type": "markdown",
   "metadata": {},
   "source": [
    "Based on questions on _Stack Exchange_ from [Charles](https://stackoverflow.com/questions/32869325/), [bob.jonst](https://quant.stackexchange.com/questions/35961/),\n",
    "[MCM](https://quant.stackexchange.com/questions/38509) and [lcheng](https://quant.stackexchange.com/questions/36830/)."
   ]
  },
  {
   "cell_type": "code",
   "execution_count": 1,
   "metadata": {},
   "outputs": [],
   "source": [
    "import QuantLib as ql\n",
    "import numpy as np\n",
    "np.random.seed(42)"
   ]
  },
  {
   "cell_type": "markdown",
   "metadata": {},
   "source": [
    "Let's say we have an instrument (a fixed-rate bond, for instance) that we want to price on a number of dates.  I assume we also have the market quotes, or the curves, corresponding to each of the dates; in this case we only need interest rates, but the library works the same way for any quotes."
   ]
  },
  {
   "cell_type": "markdown",
   "metadata": {},
   "source": [
    "We'll store the resulting prices in a dictionary, with the date as the key."
   ]
  },
  {
   "cell_type": "code",
   "execution_count": 2,
   "metadata": {},
   "outputs": [],
   "source": [
    "prices = {}"
   ]
  },
  {
   "cell_type": "markdown",
   "metadata": {},
   "source": [
    "#### Producing a single price"
   ]
  },
  {
   "cell_type": "markdown",
   "metadata": {},
   "source": [
    "To price the bond on a single date, we create the instrument itself..."
   ]
  },
  {
   "cell_type": "code",
   "execution_count": 3,
   "metadata": {},
   "outputs": [],
   "source": [
    "start_date = ql.Date(8, ql.February, 2016)\n",
    "maturity_date = start_date + ql.Period(5, ql.Years)\n",
    "schedule = ql.Schedule(start_date, maturity_date,\n",
    "                       ql.Period(ql.Semiannual), ql.TARGET(),\n",
    "                       ql.Following, ql.Following,\n",
    "                       ql.DateGeneration.Backward, False)\n",
    "coupons = [0.01]*10\n",
    "bond = ql.FixedRateBond(3, 100, schedule, coupons,\n",
    "                        ql.Thirty360(ql.Thirty360.BondBasis))"
   ]
  },
  {
   "cell_type": "markdown",
   "metadata": {},
   "source": [
    "...and the required discount curve.  For brevity, here I'm interpolating precomputed rates; I might as well bootstrap the curve on a set of market rates."
   ]
  },
  {
   "cell_type": "code",
   "execution_count": 4,
   "metadata": {},
   "outputs": [],
   "source": [
    "today = ql.Date(9, ql.May, 2018)\n",
    "nodes = [ today + ql.Period(i, ql.Years) for i in range(11) ]\n",
    "rates = [ 0.007, 0.010, 0.012, 0.013, 0.014,\n",
    "          0.016, 0.017, 0.018, 0.020, 0.021, 0.022 ]\n",
    "discount_curve = ql.ZeroCurve(nodes, rates, ql.Actual360())"
   ]
  },
  {
   "cell_type": "markdown",
   "metadata": {},
   "source": [
    "Given the bond and the curve, we link them together through an engine, set the evaluation date and get the result."
   ]
  },
  {
   "cell_type": "code",
   "execution_count": 5,
   "metadata": {},
   "outputs": [],
   "source": [
    "discount_handle = ql.RelinkableYieldTermStructureHandle(discount_curve)\n",
    "bond.setPricingEngine(ql.DiscountingBondEngine(discount_handle))"
   ]
  },
  {
   "cell_type": "code",
   "execution_count": 6,
   "metadata": {},
   "outputs": [],
   "source": [
    "ql.Settings.instance().evaluationDate = today"
   ]
  },
  {
   "cell_type": "code",
   "execution_count": 7,
   "metadata": {},
   "outputs": [
    {
     "name": "stdout",
     "output_type": "stream",
     "text": [
      "99.18942082987543\n"
     ]
    }
   ],
   "source": [
    "prices[today] = bond.cleanPrice()\n",
    "print(prices[today])"
   ]
  },
  {
   "cell_type": "markdown",
   "metadata": {},
   "source": [
    "#### Pricing on multiple days"
   ]
  },
  {
   "cell_type": "markdown",
   "metadata": {},
   "source": [
    "We could repeat the above for all dates, but it goes against the grain of the library.  The architecture (see chapter 2 of [Implementing QuantLib](https://leanpub.com/implementingquantlib) for details) was designed so that the instrument can react to changing market conditions; therefore, we can avoid recreating the instrument. We'll only change the discount curve and the evaluation date."
   ]
  },
  {
   "cell_type": "markdown",
   "metadata": {},
   "source": [
    "For instance, here I'll calculate the price for the business day before today:"
   ]
  },
  {
   "cell_type": "code",
   "execution_count": 8,
   "metadata": {},
   "outputs": [],
   "source": [
    "calendar = ql.TARGET()\n",
    "yesterday = calendar.advance(today, -1, ql.Days)"
   ]
  },
  {
   "cell_type": "markdown",
   "metadata": {},
   "source": [
    "I'll generate random rates to avoid coming up with a new set; but the idea is to build the correct discount curve for the evaluation date."
   ]
  },
  {
   "cell_type": "code",
   "execution_count": 9,
   "metadata": {},
   "outputs": [],
   "source": [
    "nodes = [ yesterday + ql.Period(i, ql.Years) for i in range(11) ]\n",
    "base_rates = np.array(rates)\n",
    "rates = base_rates * np.random.normal(loc=1.0, scale=0.005,\n",
    "                                      size=base_rates.shape)\n",
    "discount_curve = ql.ZeroCurve(nodes, list(rates), ql.Actual360())"
   ]
  },
  {
   "cell_type": "markdown",
   "metadata": {},
   "source": [
    "As I mentioned, I need to set the new evaluation date and to link the handle in the engine to the new discount curve..."
   ]
  },
  {
   "cell_type": "code",
   "execution_count": 10,
   "metadata": {},
   "outputs": [],
   "source": [
    "ql.Settings.instance().evaluationDate = yesterday\n",
    "discount_handle.linkTo(discount_curve)"
   ]
  },
  {
   "cell_type": "markdown",
   "metadata": {},
   "source": [
    "...after which the bond returns the updated price."
   ]
  },
  {
   "cell_type": "code",
   "execution_count": 11,
   "metadata": {},
   "outputs": [
    {
     "name": "stdout",
     "output_type": "stream",
     "text": [
      "99.16663635835845\n"
     ]
    }
   ],
   "source": [
    "prices[yesterday] = bond.cleanPrice()\n",
    "print(prices[yesterday])"
   ]
  },
  {
   "cell_type": "markdown",
   "metadata": {},
   "source": [
    "By repeating the process, I can generate prices for, say, the whole of last year.  Again, I'm generating random rates to avoid tedious listings or external data files; you'll use the correct ones instead."
   ]
  },
  {
   "cell_type": "code",
   "execution_count": 12,
   "metadata": {},
   "outputs": [],
   "source": [
    "first_date = calendar.advance(today, -1, ql.Years)\n",
    "date = calendar.advance(yesterday, -1, ql.Days)\n",
    "\n",
    "while date >= first_date:\n",
    "    nodes = [ date + ql.Period(i, ql.Years) for i in range(11) ]\n",
    "    rates = base_rates * np.random.normal(loc=1.0, scale=0.005,\n",
    "                                          size=base_rates.shape)\n",
    "    discount_curve = ql.ZeroCurve(nodes, list(rates), ql.Actual360())\n",
    "\n",
    "    ql.Settings.instance().evaluationDate = date\n",
    "    discount_handle.linkTo(discount_curve)\n",
    "\n",
    "    prices[date] = bond.cleanPrice()\n",
    "    date = calendar.advance(date, -1, ql.Days)"
   ]
  },
  {
   "cell_type": "markdown",
   "metadata": {},
   "source": [
    "Here are the results.  Through the random noise, you can see how the price increases as the bond gets nearer to maturity."
   ]
  },
  {
   "cell_type": "code",
   "execution_count": 13,
   "metadata": {},
   "outputs": [],
   "source": [
    "%matplotlib inline\n",
    "import utils"
   ]
  },
  {
   "cell_type": "code",
   "execution_count": 14,
   "metadata": {},
   "outputs": [],
   "source": [
    "dates, values = zip(*sorted(prices.items()))"
   ]
  },
  {
   "cell_type": "code",
   "execution_count": 15,
   "metadata": {},
   "outputs": [
    {
     "data": {
      "image/png": "[encoded data removed]",
      "text/plain": [
       "<Figure size 1200x800 with 1 Axes>"
      ]
     },
     "metadata": {},
     "output_type": "display_data"
    }
   ],
   "source": [
    "fig, ax = utils.plot()\n",
    "ax.xaxis.set_major_formatter(utils.date_formatter())\n",
    "ax.plot_date([ utils.to_datetime(d) for d in dates ], values,'-');"
   ]
  },
  {
   "cell_type": "markdown",
   "metadata": {},
   "source": [
    "#### Using quotes"
   ]
  },
  {
   "cell_type": "markdown",
   "metadata": {},
   "source": [
    "If we work with quotes, we can also avoid rebuilding the curve.  Let's say our discount curve is defined as a risk-free curve with an additional credit spread.  The risk-free curve is bootstrapped from a number of market rates; for simplicity, here I'll use a set of overnight interest-rate swaps, but you'll use whatever makes sense in your case."
   ]
  },
  {
   "cell_type": "code",
   "execution_count": 16,
   "metadata": {},
   "outputs": [],
   "source": [
    "index = ql.Eonia()\n",
    "tenors = [ ql.Period(i, ql.Years) for i in range(1,11) ]\n",
    "rates = [ 0.010, 0.012, 0.013, 0.014, 0.016,\n",
    "          0.017, 0.018, 0.020, 0.021, 0.022 ]\n",
    "\n",
    "quotes = []\n",
    "helpers = []\n",
    "for tenor, rate in zip(tenors, rates):\n",
    "    q = ql.SimpleQuote(rate)\n",
    "    h = ql.OISRateHelper(2, tenor, ql.QuoteHandle(q), index)\n",
    "    quotes.append(q)\n",
    "    helpers.append(h)"
   ]
  },
  {
   "cell_type": "markdown",
   "metadata": {},
   "source": [
    "One thing to note: I'll setup the curve so that it moves with the evaluation date.  This means that I won't pass an explicit reference date, but a number of business days and a calendar.  Passing 0, as in this case, will cause the reference date of the curve to equal the evaluation date; passing 2, for instance, would cause it to equal the corresponding spot date."
   ]
  },
  {
   "cell_type": "code",
   "execution_count": 17,
   "metadata": {},
   "outputs": [],
   "source": [
    "risk_free_curve = ql.PiecewiseFlatForward(0, ql.TARGET(),\n",
    "                                          helpers, ql.Actual360())"
   ]
  },
  {
   "cell_type": "markdown",
   "metadata": {},
   "source": [
    "Finally, I'll manage credit as an additional spread over the curve:"
   ]
  },
  {
   "cell_type": "code",
   "execution_count": 18,
   "metadata": {},
   "outputs": [],
   "source": [
    "spread = ql.SimpleQuote(0.01)\n",
    "discount_curve = ql.ZeroSpreadedTermStructure(\n",
    "    ql.YieldTermStructureHandle(risk_free_curve),\n",
    "    ql.QuoteHandle(spread))"
   ]
  },
  {
   "cell_type": "markdown",
   "metadata": {},
   "source": [
    "Now we can recalculate today's price..."
   ]
  },
  {
   "cell_type": "code",
   "execution_count": 19,
   "metadata": {},
   "outputs": [
    {
     "name": "stdout",
     "output_type": "stream",
     "text": [
      "96.50362161659807\n"
     ]
    }
   ],
   "source": [
    "prices = {}\n",
    "\n",
    "ql.Settings.instance().evaluationDate = today\n",
    "discount_handle.linkTo(discount_curve)\n",
    "\n",
    "prices[today] = bond.cleanPrice()\n",
    "print(prices[today])"
   ]
  },
  {
   "cell_type": "markdown",
   "metadata": {},
   "source": [
    "...and as before, we go back; except this time we don't need to build a new curve.  Instead, we can set new values to the quotes and they will trigger the necessary recalculations."
   ]
  },
  {
   "cell_type": "code",
   "execution_count": 20,
   "metadata": {},
   "outputs": [],
   "source": [
    "date = calendar.advance(today, -1, ql.Days)\n",
    "\n",
    "base_rates = np.array(rates)\n",
    "\n",
    "while date >= first_date:\n",
    "    rates = base_rates * np.random.normal(loc=1.0, scale=0.005,\n",
    "                                          size=base_rates.shape)\n",
    "    for q, r in zip(quotes, rates):\n",
    "        q.setValue(r)\n",
    "    spread.setValue(spread.value()*np.random.normal(loc=1.0, scale=0.005))\n",
    "\n",
    "    ql.Settings.instance().evaluationDate = date\n",
    "\n",
    "    prices[date] = bond.cleanPrice()\n",
    "    date = calendar.advance(date, -1, ql.Days)"
   ]
  },
  {
   "cell_type": "markdown",
   "metadata": {},
   "source": [
    "Note that we didn't create any new object in the loop; we're only settings new values to the quotes."
   ]
  },
  {
   "cell_type": "markdown",
   "metadata": {},
   "source": [
    "Again, here are the results:"
   ]
  },
  {
   "cell_type": "code",
   "execution_count": 21,
   "metadata": {},
   "outputs": [
    {
     "data": {
      "image/png": "[encoded data removed]",
      "text/plain": [
       "<Figure size 1200x800 with 1 Axes>"
      ]
     },
     "metadata": {},
     "output_type": "display_data"
    }
   ],
   "source": [
    "dates, values = zip(*sorted(prices.items()))\n",
    "\n",
    "fig, ax = utils.plot()\n",
    "ax.xaxis.set_major_formatter(utils.date_formatter())\n",
    "ax.plot_date([ utils.to_datetime(d) for d in dates ], values,'-');"
   ]
  },
  {
   "cell_type": "markdown",
   "metadata": {},
   "source": [
    "#### A complication: past fixings"
   ]
  },
  {
   "cell_type": "markdown",
   "metadata": {},
   "source": [
    "For instruments that depend on the floating rate, we might need some past fixings.  This is not necessarily related to pricing on a range of dates: even on today's date, we need the fixing for the current coupon.  Let's set the instrument up..."
   ]
  },
  {
   "cell_type": "code",
   "execution_count": 22,
   "metadata": {},
   "outputs": [],
   "source": [
    "forecast_handle = ql.YieldTermStructureHandle(risk_free_curve)\n",
    "index = ql.Euribor6M(forecast_handle)\n",
    "\n",
    "bond = ql.FloatingRateBond(\n",
    "    3, 100, schedule, index,\n",
    "    ql.Thirty360(ql.Thirty360.BondBasis)\n",
    ")\n",
    "bond.setPricingEngine(ql.DiscountingBondEngine(discount_handle))"
   ]
  },
  {
   "cell_type": "code",
   "execution_count": 23,
   "metadata": {},
   "outputs": [],
   "source": [
    "ql.Settings.instance().evaluationDate = today\n",
    "for q, r in zip(quotes, base_rates):\n",
    "    q.setValue(r)\n",
    "spread.setValue(0.01)"
   ]
  },
  {
   "cell_type": "markdown",
   "metadata": {},
   "source": [
    "...and try to price it.  No joy."
   ]
  },
  {
   "cell_type": "code",
   "execution_count": 24,
   "metadata": {},
   "outputs": [
    {
     "ename": "RuntimeError",
     "evalue": "Missing Euribor6M Actual/360 fixing for February 6th, 2018",
     "output_type": "error",
     "traceback": [
      "---------------------------------------------------------------------------",
      "RuntimeError                              Traceback (most recent call last)",
      "Cell In [24], line 1\n----> 1 print(bond.cleanPrice())\n",
      "File /usr/local/lib/python3.10/site-packages/QuantLib/QuantLib.py:17938, in Bond.cleanPrice(self, *args)\n  17937 def cleanPrice(self, *args):\n> 17938     return _QuantLib.Bond_cleanPrice(self, *args)\n",
      "RuntimeError: Missing Euribor6M Actual/360 fixing for February 6th, 2018"
     ]
    }
   ],
   "source": [
    "print(bond.cleanPrice())"
   ]
  },
  {
   "cell_type": "markdown",
   "metadata": {},
   "source": [
    "Being in the past, the fixing can't be retrieved from the curve.  We have to store it into the index, after which the calculation works:"
   ]
  },
  {
   "cell_type": "code",
   "execution_count": 25,
   "metadata": {},
   "outputs": [
    {
     "name": "stdout",
     "output_type": "stream",
     "text": [
      "97.11939323923686\n"
     ]
    }
   ],
   "source": [
    "index.addFixing(ql.Date(6, ql.February,2018), 0.005)\n",
    "\n",
    "print(bond.cleanPrice())"
   ]
  },
  {
   "cell_type": "markdown",
   "metadata": {},
   "source": [
    "When pricing on a range of dates, though, we need to take into account the fact that the current coupon changes as we go back in time.  These two dates will work..."
   ]
  },
  {
   "cell_type": "code",
   "execution_count": 26,
   "metadata": {},
   "outputs": [
    {
     "name": "stdout",
     "output_type": "stream",
     "text": [
      "96.84331874622794\n",
      "96.79054303973298\n"
     ]
    }
   ],
   "source": [
    "ql.Settings.instance().evaluationDate = ql.Date(1, ql.March, 2018)\n",
    "print(bond.cleanPrice())\n",
    "\n",
    "ql.Settings.instance().evaluationDate = ql.Date(15, ql.February, 2018)\n",
    "print(bond.cleanPrice())"
   ]
  },
  {
   "cell_type": "markdown",
   "metadata": {},
   "source": [
    "...but this one causes the previous coupon to be evaluated, and that requires a new fixing:"
   ]
  },
  {
   "cell_type": "code",
   "execution_count": 27,
   "metadata": {},
   "outputs": [
    {
     "ename": "RuntimeError",
     "evalue": "Missing Euribor6M Actual/360 fixing for August 4th, 2017",
     "output_type": "error",
     "traceback": [
      "---------------------------------------------------------------------------",
      "RuntimeError                              Traceback (most recent call last)",
      "Cell In [27], line 2\n      1 ql.Settings.instance().evaluationDate = ql.Date(1, ql.February, 2018)\n----> 2 print(bond.cleanPrice())\n",
      "File /usr/local/lib/python3.10/site-packages/QuantLib/QuantLib.py:17938, in Bond.cleanPrice(self, *args)\n  17937 def cleanPrice(self, *args):\n> 17938     return _QuantLib.Bond_cleanPrice(self, *args)\n",
      "RuntimeError: Missing Euribor6M Actual/360 fixing for August 4th, 2017"
     ]
    }
   ],
   "source": [
    "ql.Settings.instance().evaluationDate = ql.Date(1, ql.February, 2018)\n",
    "print(bond.cleanPrice())"
   ]
  },
  {
   "cell_type": "markdown",
   "metadata": {},
   "source": [
    "Once we add it, the calculation works again."
   ]
  },
  {
   "cell_type": "code",
   "execution_count": 28,
   "metadata": {},
   "outputs": [
    {
     "name": "stdout",
     "output_type": "stream",
     "text": [
      "96.98060241422583\n"
     ]
    }
   ],
   "source": [
    "index.addFixing(ql.Date(4, ql.August, 2017), 0.004)\n",
    "print(bond.cleanPrice())"
   ]
  },
  {
   "cell_type": "markdown",
   "metadata": {},
   "source": [
    "(If you're wondering how the calculation worked before, since this coupon belonged to the bond: on the other evaluation dates, this coupon was expired and the engine could skip it without needing to calculate its amount.  Thus, its fixing didn't need to be retrieved.)"
   ]
  },
  {
   "cell_type": "markdown",
   "metadata": {},
   "source": [
    "#### More complications: future prices"
   ]
  },
  {
   "cell_type": "markdown",
   "metadata": {},
   "source": [
    "What if we go forward in time, instead of pricing on past dates?\n",
    "\n",
    "For one thing, we'll need to forecast curves in some way.  One way is to imply them from today's curves: I talk about implied curves in another notebook, so I won't repeat myself here.  Let's assume we have implied rates and we can set them.  Once we do, we can price in the future just as easily as we do in the past.  As I write this, it's May 19th 2018, and June 1st is in the future:"
   ]
  },
  {
   "cell_type": "code",
   "execution_count": 29,
   "metadata": {},
   "outputs": [
    {
     "name": "stdout",
     "output_type": "stream",
     "text": [
      "97.2126812565699\n"
     ]
    }
   ],
   "source": [
    "ql.Settings.instance().evaluationDate = ql.Date(1, ql.June, 2018)\n",
    "\n",
    "print(bond.cleanPrice())"
   ]
  },
  {
   "cell_type": "markdown",
   "metadata": {},
   "source": [
    "However, there's another problem, as pointed out by [Mariano Zeron](https://sourceforge.net/p/quantlib/mailman/message/35270917/) in a post to the QuantLib mailing list.  If we go further in the future,  the bond will require&mdash;so to speak&mdash;future past fixings."
   ]
  },
  {
   "cell_type": "code",
   "execution_count": 30,
   "metadata": {},
   "outputs": [
    {
     "ename": "RuntimeError",
     "evalue": "Missing Euribor6M Actual/360 fixing for February 6th, 2019",
     "output_type": "error",
     "traceback": [
      "---------------------------------------------------------------------------",
      "RuntimeError                              Traceback (most recent call last)",
      "Cell In [30], line 3\n      1 ql.Settings.instance().evaluationDate = ql.Date(1, ql.June, 2019)\n----> 3 print(bond.cleanPrice())\n",
      "File /usr/local/lib/python3.10/site-packages/QuantLib/QuantLib.py:17938, in Bond.cleanPrice(self, *args)\n  17937 def cleanPrice(self, *args):\n> 17938     return _QuantLib.Bond_cleanPrice(self, *args)\n",
      "RuntimeError: Missing Euribor6M Actual/360 fixing for February 6th, 2019"
     ]
    }
   ],
   "source": [
    "ql.Settings.instance().evaluationDate = ql.Date(1, ql.June, 2019)\n",
    "\n",
    "print(bond.cleanPrice())"
   ]
  },
  {
   "cell_type": "markdown",
   "metadata": {},
   "source": [
    "Here the curve starts on June 1st 2019, and cannot retrieve the fixing at the start of the corresponding coupon."
   ]
  },
  {
   "cell_type": "markdown",
   "metadata": {},
   "source": [
    "One way out of this might be to forecast fixings off the current curve and store them:"
   ]
  },
  {
   "cell_type": "code",
   "execution_count": 31,
   "metadata": {},
   "outputs": [
    {
     "name": "stdout",
     "output_type": "stream",
     "text": [
      "0.011387399107860378\n"
     ]
    }
   ],
   "source": [
    "ql.Settings.instance().evaluationDate = ql.Date(1, ql.June, 2018)\n",
    "\n",
    "future_fixing = index.fixing(ql.Date(6,ql.February,2019))\n",
    "print(future_fixing)\n",
    "index.addFixing(ql.Date(6,ql.February,2019), future_fixing)"
   ]
  },
  {
   "cell_type": "markdown",
   "metadata": {},
   "source": [
    "This way, they will be retrieved in the same way as real past fixings."
   ]
  },
  {
   "cell_type": "code",
   "execution_count": 32,
   "metadata": {},
   "outputs": [
    {
     "name": "stdout",
     "output_type": "stream",
     "text": [
      "98.30830224923507\n"
     ]
    }
   ],
   "source": [
    "ql.Settings.instance().evaluationDate = ql.Date(1, ql.June, 2019)\n",
    "\n",
    "print(bond.cleanPrice())"
   ]
  },
  {
   "cell_type": "markdown",
   "metadata": {},
   "source": [
    "Of course, you might forecast them in a better way: that's up to you.  And if you're worried that this might interfere with pricing on today's date, don't: stored fixings are only used if they're in the past with respect to the evaluation date.  The fixing I'm storing below for February 3rd 2021 will be retrieved if the evaluation date is later..."
   ]
  },
  {
   "cell_type": "code",
   "execution_count": 33,
   "metadata": {},
   "outputs": [
    {
     "name": "stdout",
     "output_type": "stream",
     "text": [
      "0.02\n"
     ]
    }
   ],
   "source": [
    "index.addFixing(ql.Date(3,ql.February,2021), 0.02)\n",
    "\n",
    "ql.Settings.instance().evaluationDate = ql.Date(1, ql.June, 2021)\n",
    "print(index.fixing(ql.Date(3,ql.February,2021)))"
   ]
  },
  {
   "cell_type": "markdown",
   "metadata": {},
   "source": [
    "...but it will be forecast from the curve when it's after the evaluation date:"
   ]
  },
  {
   "cell_type": "code",
   "execution_count": 34,
   "metadata": {},
   "outputs": [
    {
     "name": "stdout",
     "output_type": "stream",
     "text": [
      "0.011367299732914539\n"
     ]
    }
   ],
   "source": [
    "ql.Settings.instance().evaluationDate = ql.Date(1, ql.June, 2020)\n",
    "print(index.fixing(ql.Date(3,ql.February,2021)))"
   ]
  }
 ],
 "metadata": {
  "kernelspec": {
   "display_name": "Python 3 (ipykernel)",
   "language": "python",
   "name": "python3"
  },
  "language_info": {
   "codemirror_mode": {
    "name": "ipython",
    "version": 3
   },
   "file_extension": ".py",
   "mimetype": "text/x-python",
   "name": "python",
   "nbconvert_exporter": "python",
   "pygments_lexer": "ipython3",
   "version": "3.10.8"
  }
 },
 "nbformat": 4,
 "nbformat_minor": 1
}
