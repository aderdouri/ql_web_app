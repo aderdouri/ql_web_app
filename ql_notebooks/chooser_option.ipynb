{
  "cells": [
    {
      "cell_type": "markdown",
      "metadata": {
        "id": "view-in-github",
        "colab_type": "text"
      },
      "source": [
        "<a href=\"https://colab.research.google.com/github/aderdouri/ql_web_app/blob/master/ql_notebooks/chooser_option.ipynb\" target=\"_parent\"><img src=\"https://colab.research.google.com/assets/colab-badge.svg\" alt=\"Open In Colab\"/></a>"
      ]
    },
    {
      "cell_type": "code",
      "source": [
        "!pip install QuantLib-Python"
      ],
      "metadata": {
        "id": "BNgqtv34MPDR",
        "outputId": "bd0f6a09-7382-4e31-e223-a70e909fe5f5",
        "colab": {
          "base_uri": "https://localhost:8080/"
        }
      },
      "execution_count": 2,
      "outputs": [
        {
          "output_type": "stream",
          "name": "stdout",
          "text": [
            "Collecting QuantLib-Python\n",
            "  Downloading QuantLib_Python-1.18-py2.py3-none-any.whl.metadata (1.0 kB)\n",
            "Collecting QuantLib (from QuantLib-Python)\n",
            "  Downloading quantlib-1.38-cp38-abi3-manylinux_2_17_x86_64.manylinux2014_x86_64.whl.metadata (1.1 kB)\n",
            "Downloading QuantLib_Python-1.18-py2.py3-none-any.whl (1.4 kB)\n",
            "Downloading quantlib-1.38-cp38-abi3-manylinux_2_17_x86_64.manylinux2014_x86_64.whl (20.0 MB)\n",
            "\u001b[2K   \u001b[90m━━━━━━━━━━━━━━━━━━━━━━━━━━━━━━━━━━━━━━━━\u001b[0m \u001b[32m20.0/20.0 MB\u001b[0m \u001b[31m86.6 MB/s\u001b[0m eta \u001b[36m0:00:00\u001b[0m\n",
            "\u001b[?25hInstalling collected packages: QuantLib, QuantLib-Python\n",
            "Successfully installed QuantLib-1.38 QuantLib-Python-1.18\n"
          ]
        }
      ]
    },
    {
      "cell_type": "code",
      "source": [
        "import QuantLib as ql\n",
        "import math\n",
        "\n",
        "print(f\"QuantLib Version: {ql.__version__}\")\n",
        "\n",
        "# Helper function for reporting errors (similar to C++ REPORT_FAILURE)\n",
        "def report_failure(test_name, value_name, params, expected, calculated, tolerance):\n",
        "    print(f\"--- FAILURE IN {test_name} ---\")\n",
        "    print(f\"Calculating: {value_name}\")\n",
        "    print(\"Parameters:\")\n",
        "    for key, value in params.items():\n",
        "        print(f\"  {key}: {value}\")\n",
        "    print(f\"  Expected:   {expected:.5f}\")\n",
        "    print(f\"  Calculated: {calculated:.5f}\")\n",
        "    print(f\"  Difference: {abs(calculated - expected):.5f}\")\n",
        "    print(f\"  Tolerance:  {tolerance:.5f}\")\n",
        "    print(\"-\" * 30)\n",
        "    return False # Indicate failure\n",
        "\n",
        "def check_result(test_name, value_name, params, expected, calculated, tolerance):\n",
        "    if abs(calculated - expected) > tolerance:\n",
        "        return report_failure(test_name, value_name, params, expected, calculated, tolerance)\n",
        "    else:\n",
        "        print(f\"{test_name}: {value_name} check PASSED\")\n",
        "        print(f\"  Expected: {expected:.5f}, Calculated: {calculated:.5f}, Diff: {abs(calculated-expected):.5f} <= Tol: {tolerance:.5f}\")\n",
        "        return True # Indicate success"
      ],
      "metadata": {
        "id": "kC5YtT3zMKYx",
        "outputId": "e362728c-04dc-473e-a4c1-03344c190d85",
        "colab": {
          "base_uri": "https://localhost:8080/"
        }
      },
      "execution_count": 3,
      "outputs": [
        {
          "output_type": "stream",
          "name": "stdout",
          "text": [
            "QuantLib Version: 1.38\n"
          ]
        }
      ]
    },
    {
      "cell_type": "code",
      "source": [
        "print(\"\\nTesting analytic simple chooser option...\")\n",
        "\n",
        "# --- Setup ---\n",
        "day_count = ql.Actual360()\n",
        "# Use a fixed date for reproducibility, mirroring test environment\n",
        "eval_date = ql.Date(15, 5, 2023) # Example date\n",
        "ql.Settings.instance().evaluationDate = eval_date\n",
        "calendar = ql.TARGET() # Needed for vol surface\n",
        "\n",
        "# --- Market Data (matching C++ example) ---\n",
        "spot_value = 50.0\n",
        "q_rate_value = 0.0\n",
        "r_rate_value = 0.08\n",
        "vol_value = 0.25\n",
        "\n",
        "spot_handle = ql.QuoteHandle(ql.SimpleQuote(spot_value))\n",
        "q_ts_handle = ql.YieldTermStructureHandle(ql.FlatForward(eval_date, q_rate_value, day_count))\n",
        "r_ts_handle = ql.YieldTermStructureHandle(ql.FlatForward(eval_date, r_rate_value, day_count))\n",
        "vol_ts_handle = ql.BlackVolTermStructureHandle(ql.BlackConstantVol(eval_date, calendar, vol_value, day_count))\n",
        "\n",
        "# --- Stochastic Process ---\n",
        "process = ql.BlackScholesMertonProcess(spot_handle, q_ts_handle, r_ts_handle, vol_ts_handle)\n",
        "\n",
        "# --- Pricing Engine ---\n",
        "engine = ql.AnalyticSimpleChooserEngine(process)\n",
        "\n",
        "# --- Option Definition ---\n",
        "strike = 50.0\n",
        "exercise_days = 180\n",
        "choosing_days = 90\n",
        "\n",
        "exercise_date = eval_date + ql.Period(exercise_days, ql.Days)\n",
        "choosing_date = eval_date + ql.Period(choosing_days, ql.Days)\n",
        "\n",
        "exercise = ql.EuropeanExercise(exercise_date)\n",
        "option = ql.SimpleChooserOption(choosing_date, strike, exercise)\n",
        "option.setPricingEngine(engine)\n",
        "\n",
        "# --- Calculation and Check ---\n",
        "calculated_npv = option.NPV()\n",
        "expected_npv = 6.1071\n",
        "tolerance = 3e-5\n",
        "\n",
        "# Prepare parameters for reporting\n",
        "params = {\n",
        "    \"Spot\": spot_value,\n",
        "    \"Dividend Rate\": q_rate_value,\n",
        "    \"Risk-Free Rate\": r_rate_value,\n",
        "    \"Volatility\": vol_value,\n",
        "    \"Strike\": strike,\n",
        "    \"Choosing Date\": choosing_date,\n",
        "    \"Exercise Date\": exercise_date,\n",
        "    \"Evaluation Date\": eval_date\n",
        "}\n",
        "\n",
        "simple_test_passed = check_result(\n",
        "    \"AnalyticSimpleChooser\", \"NPV\", params,\n",
        "    expected_npv, calculated_npv, tolerance\n",
        ")\n",
        "\n",
        "if not simple_test_passed:\n",
        "    # Optional: raise an error to mimic BOOST_ERROR behavior\n",
        "    # raise AssertionError(\"Simple chooser test failed!\")\n",
        "    pass"
      ],
      "metadata": {
        "id": "hzdkua1bMUNu",
        "outputId": "86153fae-58d6-4f79-9437-89e4b91d48a5",
        "colab": {
          "base_uri": "https://localhost:8080/"
        }
      },
      "execution_count": 4,
      "outputs": [
        {
          "output_type": "stream",
          "name": "stdout",
          "text": [
            "\n",
            "Testing analytic simple chooser option...\n",
            "AnalyticSimpleChooser: NPV check PASSED\n",
            "  Expected: 6.10710, Calculated: 6.10708, Diff: 0.00002 <= Tol: 0.00003\n"
          ]
        }
      ]
    },
    {
      "cell_type": "code",
      "source": [
        "print(\"\\nTesting analytic complex chooser option...\")\n",
        "\n",
        "# --- Setup ---\n",
        "day_count = ql.Actual360()\n",
        "# Use a fixed date, can be different from previous test if needed\n",
        "eval_date = ql.Date(16, 5, 2023) # Example date\n",
        "ql.Settings.instance().evaluationDate = eval_date\n",
        "calendar = ql.TARGET()\n",
        "\n",
        "# --- Market Data (matching C++ example) ---\n",
        "spot_value = 50.0\n",
        "q_rate_value = 0.05\n",
        "r_rate_value = 0.10\n",
        "vol_value = 0.35\n",
        "\n",
        "spot_handle = ql.QuoteHandle(ql.SimpleQuote(spot_value))\n",
        "q_ts_handle = ql.YieldTermStructureHandle(ql.FlatForward(eval_date, q_rate_value, day_count))\n",
        "r_ts_handle = ql.YieldTermStructureHandle(ql.FlatForward(eval_date, r_rate_value, day_count))\n",
        "vol_ts_handle = ql.BlackVolTermStructureHandle(ql.BlackConstantVol(eval_date, calendar, vol_value, day_count))\n",
        "\n",
        "# --- Stochastic Process ---\n",
        "process = ql.BlackScholesMertonProcess(spot_handle, q_ts_handle, r_ts_handle, vol_ts_handle)\n",
        "\n",
        "# --- Pricing Engine ---\n",
        "engine = ql.AnalyticComplexChooserEngine(process)\n",
        "\n",
        "# --- Option Definition ---\n",
        "call_strike = 55.0\n",
        "put_strike = 48.0\n",
        "choosing_days = 90\n",
        "call_exercise_offset_days = 180 # Days *after* choosing date\n",
        "put_exercise_offset_days = 210 # Days *after* choosing date\n",
        "\n",
        "choosing_date = eval_date + ql.Period(choosing_days, ql.Days)\n",
        "call_exercise_date = choosing_date + ql.Period(call_exercise_offset_days, ql.Days)\n",
        "put_exercise_date = choosing_date + ql.Period(put_exercise_offset_days, ql.Days)\n",
        "\n",
        "call_exercise = ql.EuropeanExercise(call_exercise_date)\n",
        "put_exercise = ql.EuropeanExercise(put_exercise_date)\n",
        "\n",
        "option = ql.ComplexChooserOption(\n",
        "    choosing_date,\n",
        "    call_strike,\n",
        "    put_strike,\n",
        "    call_exercise,\n",
        "    put_exercise\n",
        ")\n",
        "option.setPricingEngine(engine)\n",
        "\n",
        "# --- Calculation and Check ---\n",
        "calculated_npv = option.NPV()\n",
        "expected_npv = 6.0508\n",
        "tolerance = 1e-4\n",
        "\n",
        "# Prepare parameters for reporting\n",
        "params = {\n",
        "    \"Spot\": spot_value,\n",
        "    \"Dividend Rate\": q_rate_value,\n",
        "    \"Risk-Free Rate\": r_rate_value,\n",
        "    \"Volatility\": vol_value,\n",
        "    \"Call Strike\": call_strike,\n",
        "    \"Put Strike\": put_strike,\n",
        "    \"Choosing Date\": choosing_date,\n",
        "    \"Call Exercise Date\": call_exercise_date,\n",
        "    \"Put Exercise Date\": put_exercise_date,\n",
        "    \"Evaluation Date\": eval_date\n",
        "}\n",
        "\n",
        "complex_test_passed = check_result(\n",
        "    \"AnalyticComplexChooser\", \"NPV\", params,\n",
        "    expected_npv, calculated_npv, tolerance\n",
        ")\n",
        "\n",
        "if not complex_test_passed:\n",
        "    # Optional: raise an error\n",
        "    # raise AssertionError(\"Complex chooser test failed!\")\n",
        "    pass\n",
        "\n",
        "print(\"\\nChooser option tests finished.\")"
      ],
      "metadata": {
        "id": "qUYay7EMMb2a",
        "outputId": "1680e5ee-f8e1-42bc-c2b7-7679302da3c2",
        "colab": {
          "base_uri": "https://localhost:8080/"
        }
      },
      "execution_count": 5,
      "outputs": [
        {
          "output_type": "stream",
          "name": "stdout",
          "text": [
            "\n",
            "Testing analytic complex chooser option...\n",
            "AnalyticComplexChooser: NPV check PASSED\n",
            "  Expected: 6.05080, Calculated: 6.05079, Diff: 0.00001 <= Tol: 0.00010\n",
            "\n",
            "Chooser option tests finished.\n"
          ]
        }
      ]
    },
    {
      "cell_type": "code",
      "source": [],
      "metadata": {
        "id": "R1drOzj9MfRJ"
      },
      "execution_count": null,
      "outputs": []
    }
  ],
  "metadata": {
    "colab": {
      "name": "Bienvenue dans Colab",
      "toc_visible": true,
      "provenance": [],
      "include_colab_link": true
    },
    "kernelspec": {
      "display_name": "Python 3",
      "name": "python3"
    }
  },
  "nbformat": 4,
  "nbformat_minor": 0
}