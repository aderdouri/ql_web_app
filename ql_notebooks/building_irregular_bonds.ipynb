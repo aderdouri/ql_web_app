{
  "cells": [
    {
      "cell_type": "markdown",
      "metadata": {
        "id": "view-in-github",
        "colab_type": "text"
      },
      "source": [
        "<a href=\"https://colab.research.google.com/github/aderdouri/ql_web_app/blob/master/ql_notebooks/building_irregular_bonds.ipynb\" target=\"_parent\"><img src=\"https://colab.research.google.com/assets/colab-badge.svg\" alt=\"Open In Colab\"/></a>"
      ]
    },
    {
      "cell_type": "markdown",
      "metadata": {
        "id": "JYP4izR3PyFB"
      },
      "source": [
        "# Building irregular bonds"
      ]
    },
    {
      "cell_type": "code",
      "source": [
        "!pip install QuantLib-Python"
      ],
      "metadata": {
        "id": "YELYIj4sPzeJ",
        "outputId": "4ea033cf-7581-4bc1-b82d-74119b48eec3",
        "colab": {
          "base_uri": "https://localhost:8080/"
        }
      },
      "execution_count": 5,
      "outputs": [
        {
          "output_type": "stream",
          "name": "stdout",
          "text": [
            "Collecting QuantLib-Python\n",
            "  Downloading QuantLib_Python-1.18-py2.py3-none-any.whl.metadata (1.0 kB)\n",
            "Collecting QuantLib (from QuantLib-Python)\n",
            "  Downloading QuantLib-1.36-cp38-abi3-manylinux_2_17_x86_64.manylinux2014_x86_64.whl.metadata (1.1 kB)\n",
            "Downloading QuantLib_Python-1.18-py2.py3-none-any.whl (1.4 kB)\n",
            "Downloading QuantLib-1.36-cp38-abi3-manylinux_2_17_x86_64.manylinux2014_x86_64.whl (19.6 MB)\n",
            "\u001b[2K   \u001b[90m━━━━━━━━━━━━━━━━━━━━━━━━━━━━━━━━━━━━━━━━\u001b[0m \u001b[32m19.6/19.6 MB\u001b[0m \u001b[31m49.8 MB/s\u001b[0m eta \u001b[36m0:00:00\u001b[0m\n",
            "\u001b[?25hInstalling collected packages: QuantLib, QuantLib-Python\n",
            "Successfully installed QuantLib-1.36 QuantLib-Python-1.18\n"
          ]
        }
      ]
    },
    {
      "cell_type": "code",
      "source": [
        "import urllib.request\n",
        "import importlib.util\n",
        "import sys\n",
        "\n",
        "# URL of the Python file\n",
        "url = 'https://raw.githubusercontent.com/aderdouri/ql_web_app/master/ql_notebooks/utils.py'\n",
        "\n",
        "# Download the file\n",
        "urllib.request.urlretrieve(url, 'utils.py')\n",
        "\n",
        "# Import the module\n",
        "spec = importlib.util.spec_from_file_location(\"utils\", \"utils.py\")\n",
        "utils = importlib.util.module_from_spec(spec)\n",
        "sys.modules[\"utils\"] = utils\n",
        "spec.loader.exec_module(utils)"
      ],
      "metadata": {
        "id": "Q48lVD0AP0-x"
      },
      "execution_count": 6,
      "outputs": []
    },
    {
      "cell_type": "markdown",
      "metadata": {
        "id": "zLRf6Z29PyFC"
      },
      "source": [
        "(Based on [a question](http://quant.stackexchange.com/questions/11090/) by _Stack Exchange_ user user7922, [another](http://quant.stackexchange.com/questions/9080/) by user Lisa Ann, and [yet another](https://sourceforge.net/p/quantlib/mailman/message/36170786/) asked by Anthony Calleja on the QuantLib mailing list.  Thanks!)"
      ]
    },
    {
      "cell_type": "code",
      "execution_count": 4,
      "metadata": {
        "id": "8M4PqRWhPyFC",
        "outputId": "a9cdce75-b1d9-4794-896b-2c7ed18d8121",
        "colab": {
          "base_uri": "https://localhost:8080/",
          "height": 367
        }
      },
      "outputs": [
        {
          "output_type": "error",
          "ename": "ModuleNotFoundError",
          "evalue": "No module named 'QuantLib'",
          "traceback": [
            "\u001b[0;31m---------------------------------------------------------------------------\u001b[0m",
            "\u001b[0;31mModuleNotFoundError\u001b[0m                       Traceback (most recent call last)",
            "\u001b[0;32m<ipython-input-4-dc0406c854ec>\u001b[0m in \u001b[0;36m<cell line: 1>\u001b[0;34m()\u001b[0m\n\u001b[0;32m----> 1\u001b[0;31m \u001b[0;32mimport\u001b[0m \u001b[0mQuantLib\u001b[0m \u001b[0;32mas\u001b[0m \u001b[0mql\u001b[0m\u001b[0;34m\u001b[0m\u001b[0;34m\u001b[0m\u001b[0m\n\u001b[0m\u001b[1;32m      2\u001b[0m \u001b[0;32mfrom\u001b[0m \u001b[0mdatetime\u001b[0m \u001b[0;32mimport\u001b[0m \u001b[0mdate\u001b[0m\u001b[0;34m\u001b[0m\u001b[0;34m\u001b[0m\u001b[0m\n\u001b[1;32m      3\u001b[0m \u001b[0;32mfrom\u001b[0m \u001b[0mpandas\u001b[0m \u001b[0;32mimport\u001b[0m \u001b[0mDataFrame\u001b[0m\u001b[0;34m\u001b[0m\u001b[0;34m\u001b[0m\u001b[0m\n\u001b[1;32m      4\u001b[0m \u001b[0;32mimport\u001b[0m \u001b[0mutils\u001b[0m\u001b[0;34m\u001b[0m\u001b[0;34m\u001b[0m\u001b[0m\n",
            "\u001b[0;31mModuleNotFoundError\u001b[0m: No module named 'QuantLib'",
            "",
            "\u001b[0;31m---------------------------------------------------------------------------\u001b[0;32m\nNOTE: If your import is failing due to a missing package, you can\nmanually install dependencies using either !pip or !apt.\n\nTo view examples of installing some common dependencies, click the\n\"Open Examples\" button below.\n\u001b[0;31m---------------------------------------------------------------------------\u001b[0m\n"
          ],
          "errorDetails": {
            "actions": [
              {
                "action": "open_url",
                "actionText": "Open Examples",
                "url": "/notebooks/snippets/importing_libraries.ipynb"
              }
            ]
          }
        }
      ],
      "source": [
        "import QuantLib as ql\n",
        "from datetime import date\n",
        "from pandas import DataFrame\n",
        "import utils"
      ]
    },
    {
      "cell_type": "markdown",
      "metadata": {
        "id": "qhQJqQ_gPyFC"
      },
      "source": [
        "Let me just define a small helper function before starting.  It's just for visualization, nothing to write about."
      ]
    },
    {
      "cell_type": "code",
      "execution_count": null,
      "metadata": {
        "id": "nMs8e9aiPyFD"
      },
      "outputs": [],
      "source": [
        "def rate_if_available(c):\n",
        "    c = ql.as_coupon(c)\n",
        "    return utils.format_rate(c.rate()) if c else ''"
      ]
    },
    {
      "cell_type": "markdown",
      "metadata": {
        "id": "6EvxQEl2PyFD"
      },
      "source": [
        "#### The first question"
      ]
    },
    {
      "cell_type": "markdown",
      "metadata": {
        "id": "3m0X12BsPyFD"
      },
      "source": [
        "user7922 had to price a bond that, curiously, had a last coupon date before the maturity date; e.g., the last coupon date is April 20th, 2020 and maturity date is April 20th, 2021. Yes, it's strange, but who are we to judge?"
      ]
    },
    {
      "cell_type": "markdown",
      "metadata": {
        "id": "7p5zsD3yPyFD"
      },
      "source": [
        "There's no way to express this directly in QuantLib, but we can get it with some work. In case of a fixed-rate bond, and if we want to do the simplest thing that can possibly work, we can cancel the last coupon by giving it a rate of 0%."
      ]
    },
    {
      "cell_type": "code",
      "execution_count": null,
      "metadata": {
        "id": "z3zXx0BBPyFD"
      },
      "outputs": [],
      "source": [
        "today = ql.Date(8, ql.October, 2014)\n",
        "ql.Settings.instance().evaluationDate = today"
      ]
    },
    {
      "cell_type": "code",
      "execution_count": null,
      "metadata": {
        "id": "rJXfd_EdPyFD"
      },
      "outputs": [],
      "source": [
        "issueDate = today+7\n",
        "maturityDate = issueDate + ql.Period(10,ql.Years)\n",
        "\n",
        "schedule = ql.Schedule(issueDate, maturityDate,\n",
        "                       ql.Period(ql.Annual), ql.TARGET(),\n",
        "                       ql.Following, ql.Following,\n",
        "                       ql.DateGeneration.Backward, False)"
      ]
    },
    {
      "cell_type": "markdown",
      "metadata": {
        "id": "POUtyI7hPyFE"
      },
      "source": [
        "The schedule we just built gives us the correct maturity date, as well as the date where we want the last real coupon.\n",
        "Now for the bond:"
      ]
    },
    {
      "cell_type": "code",
      "execution_count": null,
      "metadata": {
        "id": "ZE_jD-XVPyFE"
      },
      "outputs": [],
      "source": [
        "settlementDays = 3\n",
        "faceAmount = 100\n",
        "paymentDayCounter = ql.Thirty360(ql.Thirty360.BondBasis)\n",
        "\n",
        "coupon_rate = 0.02\n",
        "N = len(schedule)-1   # number of coupons\n",
        "coupons = [coupon_rate]*(N-1) + [0.0]\n",
        "\n",
        "bond = ql.FixedRateBond(settlementDays,\n",
        "                        faceAmount,\n",
        "                        schedule,\n",
        "                        coupons,\n",
        "                        paymentDayCounter)"
      ]
    },
    {
      "cell_type": "code",
      "execution_count": null,
      "metadata": {
        "id": "jVMbImpiPyFE",
        "outputId": "768b3172-33f3-4e6a-80f7-f108ff1d3b31"
      },
      "outputs": [
        {
          "data": {
            "text/html": [
              "<div>\n",
              "<style scoped>\n",
              "    .dataframe tbody tr th:only-of-type {\n",
              "        vertical-align: middle;\n",
              "    }\n",
              "\n",
              "    .dataframe tbody tr th {\n",
              "        vertical-align: top;\n",
              "    }\n",
              "\n",
              "    .dataframe thead th {\n",
              "        text-align: right;\n",
              "    }\n",
              "</style>\n",
              "<table border=\"1\" class=\"dataframe\">\n",
              "  <thead>\n",
              "    <tr style=\"text-align: right;\">\n",
              "      <th></th>\n",
              "      <th>date</th>\n",
              "      <th>rate</th>\n",
              "      <th>amount</th>\n",
              "    </tr>\n",
              "  </thead>\n",
              "  <tbody>\n",
              "    <tr>\n",
              "      <th></th>\n",
              "      <td>October 15th, 2015</td>\n",
              "      <td>2.00 %</td>\n",
              "      <td>2.000000</td>\n",
              "    </tr>\n",
              "    <tr>\n",
              "      <th></th>\n",
              "      <td>October 17th, 2016</td>\n",
              "      <td>2.00 %</td>\n",
              "      <td>2.011111</td>\n",
              "    </tr>\n",
              "    <tr>\n",
              "      <th></th>\n",
              "      <td>October 16th, 2017</td>\n",
              "      <td>2.00 %</td>\n",
              "      <td>1.994444</td>\n",
              "    </tr>\n",
              "    <tr>\n",
              "      <th></th>\n",
              "      <td>October 15th, 2018</td>\n",
              "      <td>2.00 %</td>\n",
              "      <td>1.994444</td>\n",
              "    </tr>\n",
              "    <tr>\n",
              "      <th></th>\n",
              "      <td>October 15th, 2019</td>\n",
              "      <td>2.00 %</td>\n",
              "      <td>2.000000</td>\n",
              "    </tr>\n",
              "    <tr>\n",
              "      <th></th>\n",
              "      <td>October 15th, 2020</td>\n",
              "      <td>2.00 %</td>\n",
              "      <td>2.000000</td>\n",
              "    </tr>\n",
              "    <tr>\n",
              "      <th></th>\n",
              "      <td>October 15th, 2021</td>\n",
              "      <td>2.00 %</td>\n",
              "      <td>2.000000</td>\n",
              "    </tr>\n",
              "    <tr>\n",
              "      <th></th>\n",
              "      <td>October 17th, 2022</td>\n",
              "      <td>2.00 %</td>\n",
              "      <td>2.011111</td>\n",
              "    </tr>\n",
              "    <tr>\n",
              "      <th></th>\n",
              "      <td>October 16th, 2023</td>\n",
              "      <td>2.00 %</td>\n",
              "      <td>1.994444</td>\n",
              "    </tr>\n",
              "    <tr>\n",
              "      <th></th>\n",
              "      <td>October 15th, 2024</td>\n",
              "      <td>0.00 %</td>\n",
              "      <td>0.000000</td>\n",
              "    </tr>\n",
              "    <tr>\n",
              "      <th></th>\n",
              "      <td>October 15th, 2024</td>\n",
              "      <td></td>\n",
              "      <td>100.000000</td>\n",
              "    </tr>\n",
              "  </tbody>\n",
              "</table>\n",
              "</div>"
            ],
            "text/plain": [
              "                date    rate      amount\n",
              "  October 15th, 2015  2.00 %    2.000000\n",
              "  October 17th, 2016  2.00 %    2.011111\n",
              "  October 16th, 2017  2.00 %    1.994444\n",
              "  October 15th, 2018  2.00 %    1.994444\n",
              "  October 15th, 2019  2.00 %    2.000000\n",
              "  October 15th, 2020  2.00 %    2.000000\n",
              "  October 15th, 2021  2.00 %    2.000000\n",
              "  October 17th, 2022  2.00 %    2.011111\n",
              "  October 16th, 2023  2.00 %    1.994444\n",
              "  October 15th, 2024  0.00 %    0.000000\n",
              "  October 15th, 2024          100.000000"
            ]
          },
          "execution_count": 6,
          "metadata": {},
          "output_type": "execute_result"
        }
      ],
      "source": [
        "DataFrame([ (c.date(), rate_if_available(c), c.amount())\n",
        "            for c in bond.cashflows() ],\n",
        "          columns = ('date', 'rate', 'amount'),\n",
        "          index=['']*len(bond.cashflows()))"
      ]
    },
    {
      "cell_type": "markdown",
      "metadata": {
        "id": "Ymu9CFm0PyFE"
      },
      "source": [
        "The same trick also works for floating-rate coupons, if we use a null gearing for the last coupon:"
      ]
    },
    {
      "cell_type": "code",
      "execution_count": null,
      "metadata": {
        "id": "2iCaehr5PyFE"
      },
      "outputs": [],
      "source": [
        "euribor_curve = ql.FlatForward(0, ql.TARGET(), 0.002, ql.Actual360())\n",
        "index = ql.Euribor1Y(ql.YieldTermStructureHandle(euribor_curve))\n",
        "N = len(schedule)-1   # number of coupons\n",
        "gearings = [1.0]*(N-1) + [0.0]\n",
        "bond = ql.FloatingRateBond(\n",
        "    settlementDays = 3,\n",
        "    faceAmount = 100,\n",
        "    schedule = schedule,\n",
        "    index = index,\n",
        "    paymentDayCounter = ql.Thirty360(ql.Thirty360.BondBasis),\n",
        "    paymentConvention = ql.Following,\n",
        "    fixingDays = index.fixingDays(),\n",
        "    gearings = gearings,\n",
        "    spreads = [],\n",
        "    caps= [],\n",
        "    floors = [],\n",
        "    inArrears = False,\n",
        "    redemption = 100.0,\n",
        "    issueDate = issueDate\n",
        ")"
      ]
    },
    {
      "cell_type": "code",
      "execution_count": null,
      "metadata": {
        "id": "qGLVqVBgPyFF",
        "outputId": "2fd29c32-1903-4fbc-98f4-c6fe48469243"
      },
      "outputs": [
        {
          "data": {
            "text/html": [
              "<div>\n",
              "<style scoped>\n",
              "    .dataframe tbody tr th:only-of-type {\n",
              "        vertical-align: middle;\n",
              "    }\n",
              "\n",
              "    .dataframe tbody tr th {\n",
              "        vertical-align: top;\n",
              "    }\n",
              "\n",
              "    .dataframe thead th {\n",
              "        text-align: right;\n",
              "    }\n",
              "</style>\n",
              "<table border=\"1\" class=\"dataframe\">\n",
              "  <thead>\n",
              "    <tr style=\"text-align: right;\">\n",
              "      <th></th>\n",
              "      <th>date</th>\n",
              "      <th>rate</th>\n",
              "      <th>amount</th>\n",
              "    </tr>\n",
              "  </thead>\n",
              "  <tbody>\n",
              "    <tr>\n",
              "      <th></th>\n",
              "      <td>October 15th, 2015</td>\n",
              "      <td>0.20 %</td>\n",
              "      <td>0.200203</td>\n",
              "    </tr>\n",
              "    <tr>\n",
              "      <th></th>\n",
              "      <td>October 17th, 2016</td>\n",
              "      <td>0.20 %</td>\n",
              "      <td>0.201317</td>\n",
              "    </tr>\n",
              "    <tr>\n",
              "      <th></th>\n",
              "      <td>October 16th, 2017</td>\n",
              "      <td>0.20 %</td>\n",
              "      <td>0.199646</td>\n",
              "    </tr>\n",
              "    <tr>\n",
              "      <th></th>\n",
              "      <td>October 15th, 2018</td>\n",
              "      <td>0.20 %</td>\n",
              "      <td>0.199646</td>\n",
              "    </tr>\n",
              "    <tr>\n",
              "      <th></th>\n",
              "      <td>October 15th, 2019</td>\n",
              "      <td>0.20 %</td>\n",
              "      <td>0.200203</td>\n",
              "    </tr>\n",
              "    <tr>\n",
              "      <th></th>\n",
              "      <td>October 15th, 2020</td>\n",
              "      <td>0.20 %</td>\n",
              "      <td>0.200203</td>\n",
              "    </tr>\n",
              "    <tr>\n",
              "      <th></th>\n",
              "      <td>October 15th, 2021</td>\n",
              "      <td>0.20 %</td>\n",
              "      <td>0.200203</td>\n",
              "    </tr>\n",
              "    <tr>\n",
              "      <th></th>\n",
              "      <td>October 17th, 2022</td>\n",
              "      <td>0.20 %</td>\n",
              "      <td>0.201316</td>\n",
              "    </tr>\n",
              "    <tr>\n",
              "      <th></th>\n",
              "      <td>October 16th, 2023</td>\n",
              "      <td>0.20 %</td>\n",
              "      <td>0.199646</td>\n",
              "    </tr>\n",
              "    <tr>\n",
              "      <th></th>\n",
              "      <td>October 15th, 2024</td>\n",
              "      <td>0.00 %</td>\n",
              "      <td>0.000000</td>\n",
              "    </tr>\n",
              "    <tr>\n",
              "      <th></th>\n",
              "      <td>October 15th, 2024</td>\n",
              "      <td></td>\n",
              "      <td>100.000000</td>\n",
              "    </tr>\n",
              "  </tbody>\n",
              "</table>\n",
              "</div>"
            ],
            "text/plain": [
              "                date    rate      amount\n",
              "  October 15th, 2015  0.20 %    0.200203\n",
              "  October 17th, 2016  0.20 %    0.201317\n",
              "  October 16th, 2017  0.20 %    0.199646\n",
              "  October 15th, 2018  0.20 %    0.199646\n",
              "  October 15th, 2019  0.20 %    0.200203\n",
              "  October 15th, 2020  0.20 %    0.200203\n",
              "  October 15th, 2021  0.20 %    0.200203\n",
              "  October 17th, 2022  0.20 %    0.201316\n",
              "  October 16th, 2023  0.20 %    0.199646\n",
              "  October 15th, 2024  0.00 %    0.000000\n",
              "  October 15th, 2024          100.000000"
            ]
          },
          "execution_count": 8,
          "metadata": {},
          "output_type": "execute_result"
        }
      ],
      "source": [
        "DataFrame([ (c.date(), rate_if_available(c), c.amount())\n",
        "           for c in bond.cashflows() ],\n",
        "          columns = ('date', 'rate', 'amount'),\n",
        "          index=['']*len(bond.cashflows()))"
      ]
    },
    {
      "cell_type": "markdown",
      "metadata": {
        "id": "BzIKP0e5PyFF"
      },
      "source": [
        "However, that's a bit sloppy.  The coupon paying a null rate looks strange, and might confuse cash-flow analysis.  It's better, even if it takes a bit more work, to remove the coupon altogether.  We can get the cash flows from the bond we created..."
      ]
    },
    {
      "cell_type": "code",
      "execution_count": null,
      "metadata": {
        "id": "aCL7ds57PyFF"
      },
      "outputs": [],
      "source": [
        "cashflows = list(bond.cashflows())"
      ]
    },
    {
      "cell_type": "markdown",
      "metadata": {
        "id": "YLa2fP6JPyFF"
      },
      "source": [
        "...delete the ones we don't want to keep, that is, the one before the last (the last being the redemption)..."
      ]
    },
    {
      "cell_type": "code",
      "execution_count": null,
      "metadata": {
        "id": "mZ6toTXEPyFF"
      },
      "outputs": [],
      "source": [
        "del cashflows[-2]"
      ]
    },
    {
      "cell_type": "markdown",
      "metadata": {
        "id": "rPk8h8TxPyFF"
      },
      "source": [
        "...and use the cleaned-up cash flows to create a new bond:"
      ]
    },
    {
      "cell_type": "code",
      "execution_count": null,
      "metadata": {
        "id": "AkmZ5gzuPyFF"
      },
      "outputs": [],
      "source": [
        "bond = ql.Bond(3, ql.TARGET(), 100.0,\n",
        "               maturityDate, issueDate,\n",
        "               cashflows)"
      ]
    },
    {
      "cell_type": "markdown",
      "metadata": {
        "id": "C9R4c_e-PyFG"
      },
      "source": [
        "This gives us the coupons we wanted:"
      ]
    },
    {
      "cell_type": "code",
      "execution_count": null,
      "metadata": {
        "id": "z4SYp-SOPyFG",
        "outputId": "87de8a22-f2a9-419f-fc36-c761676e066c"
      },
      "outputs": [
        {
          "data": {
            "text/html": [
              "<div>\n",
              "<style scoped>\n",
              "    .dataframe tbody tr th:only-of-type {\n",
              "        vertical-align: middle;\n",
              "    }\n",
              "\n",
              "    .dataframe tbody tr th {\n",
              "        vertical-align: top;\n",
              "    }\n",
              "\n",
              "    .dataframe thead th {\n",
              "        text-align: right;\n",
              "    }\n",
              "</style>\n",
              "<table border=\"1\" class=\"dataframe\">\n",
              "  <thead>\n",
              "    <tr style=\"text-align: right;\">\n",
              "      <th></th>\n",
              "      <th>date</th>\n",
              "      <th>rate</th>\n",
              "      <th>amount</th>\n",
              "    </tr>\n",
              "  </thead>\n",
              "  <tbody>\n",
              "    <tr>\n",
              "      <th></th>\n",
              "      <td>October 15th, 2015</td>\n",
              "      <td>0.20 %</td>\n",
              "      <td>0.200203</td>\n",
              "    </tr>\n",
              "    <tr>\n",
              "      <th></th>\n",
              "      <td>October 17th, 2016</td>\n",
              "      <td>0.20 %</td>\n",
              "      <td>0.201317</td>\n",
              "    </tr>\n",
              "    <tr>\n",
              "      <th></th>\n",
              "      <td>October 16th, 2017</td>\n",
              "      <td>0.20 %</td>\n",
              "      <td>0.199646</td>\n",
              "    </tr>\n",
              "    <tr>\n",
              "      <th></th>\n",
              "      <td>October 15th, 2018</td>\n",
              "      <td>0.20 %</td>\n",
              "      <td>0.199646</td>\n",
              "    </tr>\n",
              "    <tr>\n",
              "      <th></th>\n",
              "      <td>October 15th, 2019</td>\n",
              "      <td>0.20 %</td>\n",
              "      <td>0.200203</td>\n",
              "    </tr>\n",
              "    <tr>\n",
              "      <th></th>\n",
              "      <td>October 15th, 2020</td>\n",
              "      <td>0.20 %</td>\n",
              "      <td>0.200203</td>\n",
              "    </tr>\n",
              "    <tr>\n",
              "      <th></th>\n",
              "      <td>October 15th, 2021</td>\n",
              "      <td>0.20 %</td>\n",
              "      <td>0.200203</td>\n",
              "    </tr>\n",
              "    <tr>\n",
              "      <th></th>\n",
              "      <td>October 17th, 2022</td>\n",
              "      <td>0.20 %</td>\n",
              "      <td>0.201316</td>\n",
              "    </tr>\n",
              "    <tr>\n",
              "      <th></th>\n",
              "      <td>October 16th, 2023</td>\n",
              "      <td>0.20 %</td>\n",
              "      <td>0.199646</td>\n",
              "    </tr>\n",
              "    <tr>\n",
              "      <th></th>\n",
              "      <td>October 15th, 2024</td>\n",
              "      <td></td>\n",
              "      <td>100.000000</td>\n",
              "    </tr>\n",
              "  </tbody>\n",
              "</table>\n",
              "</div>"
            ],
            "text/plain": [
              "                date    rate      amount\n",
              "  October 15th, 2015  0.20 %    0.200203\n",
              "  October 17th, 2016  0.20 %    0.201317\n",
              "  October 16th, 2017  0.20 %    0.199646\n",
              "  October 15th, 2018  0.20 %    0.199646\n",
              "  October 15th, 2019  0.20 %    0.200203\n",
              "  October 15th, 2020  0.20 %    0.200203\n",
              "  October 15th, 2021  0.20 %    0.200203\n",
              "  October 17th, 2022  0.20 %    0.201316\n",
              "  October 16th, 2023  0.20 %    0.199646\n",
              "  October 15th, 2024          100.000000"
            ]
          },
          "execution_count": 12,
          "metadata": {},
          "output_type": "execute_result"
        }
      ],
      "source": [
        "DataFrame([ (c.date(), rate_if_available(c), c.amount())\n",
        "            for c in bond.cashflows() ],\n",
        "          columns = ('date', 'rate', 'amount'),\n",
        "          index=['']*len(bond.cashflows()))"
      ]
    },
    {
      "cell_type": "markdown",
      "metadata": {
        "id": "K0Pjy_LJPyFG"
      },
      "source": [
        "#### The second question"
      ]
    },
    {
      "cell_type": "markdown",
      "metadata": {
        "id": "vIBf5I8yPyFG"
      },
      "source": [
        "Lisa Ann had to price a more common instrument (namely, a fixed-to-floater) for which, however, there's no specific class in the library. In this case, too, we can create the required bond by manipulating coupons; and in this case, too, we can choose how much work to do."
      ]
    },
    {
      "cell_type": "markdown",
      "metadata": {
        "id": "lQnLr-vsPyFG"
      },
      "source": [
        "Let's say the bond pays three fixed-rate coupon first and then seven floating-rate coupons. We might create the fixed-rate coupons..."
      ]
    },
    {
      "cell_type": "code",
      "execution_count": null,
      "metadata": {
        "id": "_VtHuuqLPyFG"
      },
      "outputs": [],
      "source": [
        "schedule = ql.Schedule(issueDate, issueDate+ql.Period(3,ql.Years),\n",
        "                       ql.Period(ql.Annual), ql.TARGET(),\n",
        "                       ql.Following, ql.Following,\n",
        "                       ql.DateGeneration.Backward, False)\n",
        "\n",
        "fixed = ql.FixedRateLeg(schedule = schedule,\n",
        "                        dayCount = ql.Actual360(),\n",
        "                        nominals = [100.0],\n",
        "                        couponRates = [0.02])"
      ]
    },
    {
      "cell_type": "markdown",
      "metadata": {
        "id": "h0wfKfuXPyFG"
      },
      "source": [
        "...then the floating-rate coupons..."
      ]
    },
    {
      "cell_type": "code",
      "execution_count": null,
      "metadata": {
        "id": "_QolJaUBPyFG"
      },
      "outputs": [],
      "source": [
        "schedule = ql.Schedule(issueDate+ql.Period(3,ql.Years), maturityDate,\n",
        "                       ql.Period(ql.Annual), ql.TARGET(),\n",
        "                       ql.Following, ql.Following,\n",
        "                       ql.DateGeneration.Backward, False)\n",
        "\n",
        "floating = ql.IborLeg(nominals = [100.0],\n",
        "                      schedule = schedule,\n",
        "                      index = index,\n",
        "                      spreads = [0.001])"
      ]
    },
    {
      "cell_type": "markdown",
      "metadata": {
        "id": "Ua-yjFi0PyFG"
      },
      "source": [
        "...and finally put them together, add the redemption, and build a custom bond:"
      ]
    },
    {
      "cell_type": "code",
      "execution_count": null,
      "metadata": {
        "id": "RLM9Jm2zPyFG"
      },
      "outputs": [],
      "source": [
        "bond = ql.Bond(3, ql.TARGET(), 100.0,\n",
        "               maturityDate, issueDate,\n",
        "               fixed + floating + (ql.Redemption(100.0, maturityDate),))"
      ]
    },
    {
      "cell_type": "code",
      "execution_count": null,
      "metadata": {
        "id": "-U5c14ipPyFG",
        "outputId": "3647ece1-3140-4b8b-d866-f7c89edea8f1"
      },
      "outputs": [
        {
          "data": {
            "text/html": [
              "<div>\n",
              "<style scoped>\n",
              "    .dataframe tbody tr th:only-of-type {\n",
              "        vertical-align: middle;\n",
              "    }\n",
              "\n",
              "    .dataframe tbody tr th {\n",
              "        vertical-align: top;\n",
              "    }\n",
              "\n",
              "    .dataframe thead th {\n",
              "        text-align: right;\n",
              "    }\n",
              "</style>\n",
              "<table border=\"1\" class=\"dataframe\">\n",
              "  <thead>\n",
              "    <tr style=\"text-align: right;\">\n",
              "      <th></th>\n",
              "      <th>date</th>\n",
              "      <th>rate</th>\n",
              "      <th>amount</th>\n",
              "    </tr>\n",
              "  </thead>\n",
              "  <tbody>\n",
              "    <tr>\n",
              "      <th></th>\n",
              "      <td>October 15th, 2015</td>\n",
              "      <td>2.00 %</td>\n",
              "      <td>2.027778</td>\n",
              "    </tr>\n",
              "    <tr>\n",
              "      <th></th>\n",
              "      <td>October 17th, 2016</td>\n",
              "      <td>2.00 %</td>\n",
              "      <td>2.044444</td>\n",
              "    </tr>\n",
              "    <tr>\n",
              "      <th></th>\n",
              "      <td>October 16th, 2017</td>\n",
              "      <td>2.00 %</td>\n",
              "      <td>2.022222</td>\n",
              "    </tr>\n",
              "    <tr>\n",
              "      <th></th>\n",
              "      <td>October 15th, 2018</td>\n",
              "      <td>0.30 %</td>\n",
              "      <td>0.303538</td>\n",
              "    </tr>\n",
              "    <tr>\n",
              "      <th></th>\n",
              "      <td>October 15th, 2019</td>\n",
              "      <td>0.30 %</td>\n",
              "      <td>0.304372</td>\n",
              "    </tr>\n",
              "    <tr>\n",
              "      <th></th>\n",
              "      <td>October 15th, 2020</td>\n",
              "      <td>0.30 %</td>\n",
              "      <td>0.305207</td>\n",
              "    </tr>\n",
              "    <tr>\n",
              "      <th></th>\n",
              "      <td>October 15th, 2021</td>\n",
              "      <td>0.30 %</td>\n",
              "      <td>0.304372</td>\n",
              "    </tr>\n",
              "    <tr>\n",
              "      <th></th>\n",
              "      <td>October 17th, 2022</td>\n",
              "      <td>0.30 %</td>\n",
              "      <td>0.306041</td>\n",
              "    </tr>\n",
              "    <tr>\n",
              "      <th></th>\n",
              "      <td>October 16th, 2023</td>\n",
              "      <td>0.30 %</td>\n",
              "      <td>0.303538</td>\n",
              "    </tr>\n",
              "    <tr>\n",
              "      <th></th>\n",
              "      <td>October 15th, 2024</td>\n",
              "      <td>0.30 %</td>\n",
              "      <td>0.304372</td>\n",
              "    </tr>\n",
              "    <tr>\n",
              "      <th></th>\n",
              "      <td>October 15th, 2024</td>\n",
              "      <td></td>\n",
              "      <td>100.000000</td>\n",
              "    </tr>\n",
              "  </tbody>\n",
              "</table>\n",
              "</div>"
            ],
            "text/plain": [
              "                date    rate      amount\n",
              "  October 15th, 2015  2.00 %    2.027778\n",
              "  October 17th, 2016  2.00 %    2.044444\n",
              "  October 16th, 2017  2.00 %    2.022222\n",
              "  October 15th, 2018  0.30 %    0.303538\n",
              "  October 15th, 2019  0.30 %    0.304372\n",
              "  October 15th, 2020  0.30 %    0.305207\n",
              "  October 15th, 2021  0.30 %    0.304372\n",
              "  October 17th, 2022  0.30 %    0.306041\n",
              "  October 16th, 2023  0.30 %    0.303538\n",
              "  October 15th, 2024  0.30 %    0.304372\n",
              "  October 15th, 2024          100.000000"
            ]
          },
          "execution_count": 16,
          "metadata": {},
          "output_type": "execute_result"
        }
      ],
      "source": [
        "DataFrame([ (c.date(), rate_if_available(c), c.amount())\n",
        "            for c in bond.cashflows() ],\n",
        "          columns = ('date', 'rate', 'amount'),\n",
        "          index=['']*len(bond.cashflows()))"
      ]
    },
    {
      "cell_type": "markdown",
      "metadata": {
        "id": "3cZRKkZlPyFH"
      },
      "source": [
        "However, I'm not very comfortable with building the coupons with two half-schedules; I haven't looked very hard for a counter-example, but I suspect that some combination of holidays and business-day conventions might cause the coupon dates to be off.\n",
        "\n",
        "A safer alternative would be to build both fixed and floating coupons over the full bond schedule, and just keep those we need:"
      ]
    },
    {
      "cell_type": "code",
      "execution_count": null,
      "metadata": {
        "id": "nhQ_xdmFPyFH"
      },
      "outputs": [],
      "source": [
        "schedule = ql.Schedule(issueDate, maturityDate,\n",
        "                       ql.Period(ql.Annual), ql.TARGET(),\n",
        "                       ql.Following, ql.Following,\n",
        "                       ql.DateGeneration.Backward, False)\n",
        "\n",
        "fixed = ql.FixedRateLeg(schedule = schedule,\n",
        "                        dayCount = ql.Actual360(),\n",
        "                        nominals = [100.0],\n",
        "                        couponRates = [0.02])\n",
        "\n",
        "floating = ql.IborLeg(nominals = [100.0],\n",
        "                      schedule = schedule,\n",
        "                      index = index,\n",
        "                      spreads = [0.001])\n",
        "\n",
        "cashflows = fixed[:3] + floating[3:] + (ql.Redemption(100.0, maturityDate),)"
      ]
    },
    {
      "cell_type": "code",
      "execution_count": null,
      "metadata": {
        "id": "v9Wy15KWPyFH"
      },
      "outputs": [],
      "source": [
        "bond = ql.Bond(3, ql.TARGET(), 100.0,\n",
        "               maturityDate, issueDate, cashflows)"
      ]
    },
    {
      "cell_type": "code",
      "execution_count": null,
      "metadata": {
        "id": "ImiaIFIZPyFH",
        "outputId": "08d8ee6a-7d8c-4f25-dca3-eaf26a0f5709"
      },
      "outputs": [
        {
          "data": {
            "text/html": [
              "<div>\n",
              "<style scoped>\n",
              "    .dataframe tbody tr th:only-of-type {\n",
              "        vertical-align: middle;\n",
              "    }\n",
              "\n",
              "    .dataframe tbody tr th {\n",
              "        vertical-align: top;\n",
              "    }\n",
              "\n",
              "    .dataframe thead th {\n",
              "        text-align: right;\n",
              "    }\n",
              "</style>\n",
              "<table border=\"1\" class=\"dataframe\">\n",
              "  <thead>\n",
              "    <tr style=\"text-align: right;\">\n",
              "      <th></th>\n",
              "      <th>date</th>\n",
              "      <th>rate</th>\n",
              "      <th>amount</th>\n",
              "    </tr>\n",
              "  </thead>\n",
              "  <tbody>\n",
              "    <tr>\n",
              "      <th></th>\n",
              "      <td>October 15th, 2015</td>\n",
              "      <td>2.00 %</td>\n",
              "      <td>2.027778</td>\n",
              "    </tr>\n",
              "    <tr>\n",
              "      <th></th>\n",
              "      <td>October 17th, 2016</td>\n",
              "      <td>2.00 %</td>\n",
              "      <td>2.044444</td>\n",
              "    </tr>\n",
              "    <tr>\n",
              "      <th></th>\n",
              "      <td>October 16th, 2017</td>\n",
              "      <td>2.00 %</td>\n",
              "      <td>2.022222</td>\n",
              "    </tr>\n",
              "    <tr>\n",
              "      <th></th>\n",
              "      <td>October 15th, 2018</td>\n",
              "      <td>0.30 %</td>\n",
              "      <td>0.303538</td>\n",
              "    </tr>\n",
              "    <tr>\n",
              "      <th></th>\n",
              "      <td>October 15th, 2019</td>\n",
              "      <td>0.30 %</td>\n",
              "      <td>0.304372</td>\n",
              "    </tr>\n",
              "    <tr>\n",
              "      <th></th>\n",
              "      <td>October 15th, 2020</td>\n",
              "      <td>0.30 %</td>\n",
              "      <td>0.305207</td>\n",
              "    </tr>\n",
              "    <tr>\n",
              "      <th></th>\n",
              "      <td>October 15th, 2021</td>\n",
              "      <td>0.30 %</td>\n",
              "      <td>0.304372</td>\n",
              "    </tr>\n",
              "    <tr>\n",
              "      <th></th>\n",
              "      <td>October 17th, 2022</td>\n",
              "      <td>0.30 %</td>\n",
              "      <td>0.306041</td>\n",
              "    </tr>\n",
              "    <tr>\n",
              "      <th></th>\n",
              "      <td>October 16th, 2023</td>\n",
              "      <td>0.30 %</td>\n",
              "      <td>0.303538</td>\n",
              "    </tr>\n",
              "    <tr>\n",
              "      <th></th>\n",
              "      <td>October 15th, 2024</td>\n",
              "      <td>0.30 %</td>\n",
              "      <td>0.304372</td>\n",
              "    </tr>\n",
              "    <tr>\n",
              "      <th></th>\n",
              "      <td>October 15th, 2024</td>\n",
              "      <td></td>\n",
              "      <td>100.000000</td>\n",
              "    </tr>\n",
              "  </tbody>\n",
              "</table>\n",
              "</div>"
            ],
            "text/plain": [
              "                date    rate      amount\n",
              "  October 15th, 2015  2.00 %    2.027778\n",
              "  October 17th, 2016  2.00 %    2.044444\n",
              "  October 16th, 2017  2.00 %    2.022222\n",
              "  October 15th, 2018  0.30 %    0.303538\n",
              "  October 15th, 2019  0.30 %    0.304372\n",
              "  October 15th, 2020  0.30 %    0.305207\n",
              "  October 15th, 2021  0.30 %    0.304372\n",
              "  October 17th, 2022  0.30 %    0.306041\n",
              "  October 16th, 2023  0.30 %    0.303538\n",
              "  October 15th, 2024  0.30 %    0.304372\n",
              "  October 15th, 2024          100.000000"
            ]
          },
          "execution_count": 19,
          "metadata": {},
          "output_type": "execute_result"
        }
      ],
      "source": [
        "DataFrame([ (c.date(), rate_if_available(c), c.amount())\n",
        "            for c in bond.cashflows() ],\n",
        "          columns = ('date', 'rate', 'amount'),\n",
        "          index=['']*len(bond.cashflows()))"
      ]
    },
    {
      "cell_type": "markdown",
      "metadata": {
        "id": "V7MRdW3jPyFH"
      },
      "source": [
        "Also, in a pinch (for instance, if you're using the QuantLib Excel module and can't create custom bonds easily) a fixed-rate coupon can be approximated by a floating-rate coupon with a null gearing and a spread equal to the desired rate, so you might get the same result this way:"
      ]
    },
    {
      "cell_type": "code",
      "execution_count": null,
      "metadata": {
        "id": "Hs9pBzhFPyFH"
      },
      "outputs": [],
      "source": [
        "schedule = ql.Schedule(issueDate, maturityDate,\n",
        "                       ql.Period(ql.Annual), ql.TARGET(),\n",
        "                       ql.Following, ql.Following,\n",
        "                       ql.DateGeneration.Backward, False)\n",
        "\n",
        "gearings = [0.0]*3 + [1.0]*7\n",
        "spreads = [0.02]*3 + [0.001]*7\n",
        "\n",
        "bond = ql.FloatingRateBond(\n",
        "    settlementDays = 3,\n",
        "    faceAmount = 100,\n",
        "    schedule = schedule,\n",
        "    index = index,\n",
        "    paymentDayCounter = ql.Actual360(),\n",
        "    paymentConvention = ql.Following,\n",
        "    fixingDays = index.fixingDays(),\n",
        "    gearings = gearings,\n",
        "    spreads = spreads,\n",
        "    caps= [],\n",
        "    floors = [],\n",
        "    inArrears = False,\n",
        "    redemption = 100.0,\n",
        "    issueDate = issueDate\n",
        ")"
      ]
    },
    {
      "cell_type": "code",
      "execution_count": null,
      "metadata": {
        "id": "GfB7NZiWPyFN",
        "outputId": "2b238908-77ae-40a9-b2dd-6150e14f5c2f"
      },
      "outputs": [
        {
          "data": {
            "text/html": [
              "<div>\n",
              "<style scoped>\n",
              "    .dataframe tbody tr th:only-of-type {\n",
              "        vertical-align: middle;\n",
              "    }\n",
              "\n",
              "    .dataframe tbody tr th {\n",
              "        vertical-align: top;\n",
              "    }\n",
              "\n",
              "    .dataframe thead th {\n",
              "        text-align: right;\n",
              "    }\n",
              "</style>\n",
              "<table border=\"1\" class=\"dataframe\">\n",
              "  <thead>\n",
              "    <tr style=\"text-align: right;\">\n",
              "      <th></th>\n",
              "      <th>date</th>\n",
              "      <th>rate</th>\n",
              "      <th>amount</th>\n",
              "    </tr>\n",
              "  </thead>\n",
              "  <tbody>\n",
              "    <tr>\n",
              "      <th></th>\n",
              "      <td>October 15th, 2015</td>\n",
              "      <td>2.00 %</td>\n",
              "      <td>2.027778</td>\n",
              "    </tr>\n",
              "    <tr>\n",
              "      <th></th>\n",
              "      <td>October 17th, 2016</td>\n",
              "      <td>2.00 %</td>\n",
              "      <td>2.044444</td>\n",
              "    </tr>\n",
              "    <tr>\n",
              "      <th></th>\n",
              "      <td>October 16th, 2017</td>\n",
              "      <td>2.00 %</td>\n",
              "      <td>2.022222</td>\n",
              "    </tr>\n",
              "    <tr>\n",
              "      <th></th>\n",
              "      <td>October 15th, 2018</td>\n",
              "      <td>0.30 %</td>\n",
              "      <td>0.303538</td>\n",
              "    </tr>\n",
              "    <tr>\n",
              "      <th></th>\n",
              "      <td>October 15th, 2019</td>\n",
              "      <td>0.30 %</td>\n",
              "      <td>0.304372</td>\n",
              "    </tr>\n",
              "    <tr>\n",
              "      <th></th>\n",
              "      <td>October 15th, 2020</td>\n",
              "      <td>0.30 %</td>\n",
              "      <td>0.305207</td>\n",
              "    </tr>\n",
              "    <tr>\n",
              "      <th></th>\n",
              "      <td>October 15th, 2021</td>\n",
              "      <td>0.30 %</td>\n",
              "      <td>0.304372</td>\n",
              "    </tr>\n",
              "    <tr>\n",
              "      <th></th>\n",
              "      <td>October 17th, 2022</td>\n",
              "      <td>0.30 %</td>\n",
              "      <td>0.306041</td>\n",
              "    </tr>\n",
              "    <tr>\n",
              "      <th></th>\n",
              "      <td>October 16th, 2023</td>\n",
              "      <td>0.30 %</td>\n",
              "      <td>0.303538</td>\n",
              "    </tr>\n",
              "    <tr>\n",
              "      <th></th>\n",
              "      <td>October 15th, 2024</td>\n",
              "      <td>0.30 %</td>\n",
              "      <td>0.304372</td>\n",
              "    </tr>\n",
              "    <tr>\n",
              "      <th></th>\n",
              "      <td>October 15th, 2024</td>\n",
              "      <td></td>\n",
              "      <td>100.000000</td>\n",
              "    </tr>\n",
              "  </tbody>\n",
              "</table>\n",
              "</div>"
            ],
            "text/plain": [
              "                date    rate      amount\n",
              "  October 15th, 2015  2.00 %    2.027778\n",
              "  October 17th, 2016  2.00 %    2.044444\n",
              "  October 16th, 2017  2.00 %    2.022222\n",
              "  October 15th, 2018  0.30 %    0.303538\n",
              "  October 15th, 2019  0.30 %    0.304372\n",
              "  October 15th, 2020  0.30 %    0.305207\n",
              "  October 15th, 2021  0.30 %    0.304372\n",
              "  October 17th, 2022  0.30 %    0.306041\n",
              "  October 16th, 2023  0.30 %    0.303538\n",
              "  October 15th, 2024  0.30 %    0.304372\n",
              "  October 15th, 2024          100.000000"
            ]
          },
          "execution_count": 21,
          "metadata": {},
          "output_type": "execute_result"
        }
      ],
      "source": [
        "DataFrame([ (c.date(), rate_if_available(c), c.amount())\n",
        "           for c in bond.cashflows() ],\n",
        "          columns = ('date', 'rate', 'amount'),\n",
        "          index=['']*len(bond.cashflows()))"
      ]
    },
    {
      "cell_type": "markdown",
      "metadata": {
        "id": "0c_wpcmmPyFO"
      },
      "source": [
        "However, I don't suggest doing this if you can get actual fixed- and floating-rate coupons."
      ]
    },
    {
      "cell_type": "markdown",
      "metadata": {
        "id": "vbkIXJQPPyFO"
      },
      "source": [
        "#### The third question"
      ]
    },
    {
      "cell_type": "markdown",
      "metadata": {
        "id": "qb-iExDBPyFO"
      },
      "source": [
        "This one requires a bit more work (and involved a swap, instead of a bond, but it doesn't matter; you can build custom swaps with the `Swap` class).  Anthony needed a floating leg paying 6-months Euribor, but with a short initial stub paying the fixing of 3-months Euribor instead.  In a vanilla leg, even with the correct schedule, the first coupon would pay the 6-months fixing instead:"
      ]
    },
    {
      "cell_type": "code",
      "execution_count": null,
      "metadata": {
        "id": "seSm09DwPyFO"
      },
      "outputs": [],
      "source": [
        "euribor_curve_3m = ql.FlatForward(0, ql.TARGET(), 0.0015, ql.Actual360())\n",
        "index_3m = ql.Euribor3M(ql.YieldTermStructureHandle(euribor_curve_3m))\n",
        "\n",
        "euribor_curve_6m = ql.FlatForward(0, ql.TARGET(), 0.0020, ql.Actual360())\n",
        "index_6m = ql.Euribor6M(ql.YieldTermStructureHandle(euribor_curve_6m))"
      ]
    },
    {
      "cell_type": "code",
      "execution_count": null,
      "metadata": {
        "id": "BY3dTo71PyFO"
      },
      "outputs": [],
      "source": [
        "startDate = today + 7\n",
        "endDate = startDate + ql.Period(3,ql.Months) + ql.Period(5,ql.Years)\n",
        "schedule = ql.Schedule(startDate, endDate,\n",
        "                       ql.Period(ql.Semiannual), ql.TARGET(),\n",
        "                       ql.Following, ql.Following,\n",
        "                       ql.DateGeneration.Backward, False)\n",
        "\n",
        "cashflows = ql.IborLeg(nominals = [100.0],\n",
        "                       schedule = schedule,\n",
        "                       index = index_6m)"
      ]
    },
    {
      "cell_type": "code",
      "execution_count": null,
      "metadata": {
        "id": "54y5oWd8PyFO",
        "outputId": "8c16ce8e-c2ac-454b-9e4a-fa4796be458e"
      },
      "outputs": [
        {
          "data": {
            "text/html": [
              "<div>\n",
              "<style scoped>\n",
              "    .dataframe tbody tr th:only-of-type {\n",
              "        vertical-align: middle;\n",
              "    }\n",
              "\n",
              "    .dataframe tbody tr th {\n",
              "        vertical-align: top;\n",
              "    }\n",
              "\n",
              "    .dataframe thead th {\n",
              "        text-align: right;\n",
              "    }\n",
              "</style>\n",
              "<table border=\"1\" class=\"dataframe\">\n",
              "  <thead>\n",
              "    <tr style=\"text-align: right;\">\n",
              "      <th></th>\n",
              "      <th>payment date</th>\n",
              "      <th>start date</th>\n",
              "      <th>end date</th>\n",
              "      <th>rate</th>\n",
              "      <th>amount</th>\n",
              "    </tr>\n",
              "  </thead>\n",
              "  <tbody>\n",
              "    <tr>\n",
              "      <th></th>\n",
              "      <td>January 15th, 2015</td>\n",
              "      <td>October 15th, 2014</td>\n",
              "      <td>January 15th, 2015</td>\n",
              "      <td>0.20 %</td>\n",
              "      <td>0.051124</td>\n",
              "    </tr>\n",
              "    <tr>\n",
              "      <th></th>\n",
              "      <td>July 15th, 2015</td>\n",
              "      <td>January 15th, 2015</td>\n",
              "      <td>July 15th, 2015</td>\n",
              "      <td>0.20 %</td>\n",
              "      <td>0.100606</td>\n",
              "    </tr>\n",
              "    <tr>\n",
              "      <th></th>\n",
              "      <td>January 15th, 2016</td>\n",
              "      <td>July 15th, 2015</td>\n",
              "      <td>January 15th, 2016</td>\n",
              "      <td>0.20 %</td>\n",
              "      <td>0.102274</td>\n",
              "    </tr>\n",
              "    <tr>\n",
              "      <th></th>\n",
              "      <td>July 15th, 2016</td>\n",
              "      <td>January 15th, 2016</td>\n",
              "      <td>July 15th, 2016</td>\n",
              "      <td>0.20 %</td>\n",
              "      <td>0.101162</td>\n",
              "    </tr>\n",
              "    <tr>\n",
              "      <th></th>\n",
              "      <td>January 16th, 2017</td>\n",
              "      <td>July 15th, 2016</td>\n",
              "      <td>January 16th, 2017</td>\n",
              "      <td>0.20 %</td>\n",
              "      <td>0.102831</td>\n",
              "    </tr>\n",
              "    <tr>\n",
              "      <th></th>\n",
              "      <td>July 17th, 2017</td>\n",
              "      <td>January 16th, 2017</td>\n",
              "      <td>July 17th, 2017</td>\n",
              "      <td>0.20 %</td>\n",
              "      <td>0.101162</td>\n",
              "    </tr>\n",
              "    <tr>\n",
              "      <th></th>\n",
              "      <td>January 15th, 2018</td>\n",
              "      <td>July 17th, 2017</td>\n",
              "      <td>January 15th, 2018</td>\n",
              "      <td>0.20 %</td>\n",
              "      <td>0.101162</td>\n",
              "    </tr>\n",
              "    <tr>\n",
              "      <th></th>\n",
              "      <td>July 16th, 2018</td>\n",
              "      <td>January 15th, 2018</td>\n",
              "      <td>July 16th, 2018</td>\n",
              "      <td>0.20 %</td>\n",
              "      <td>0.101162</td>\n",
              "    </tr>\n",
              "    <tr>\n",
              "      <th></th>\n",
              "      <td>January 15th, 2019</td>\n",
              "      <td>July 16th, 2018</td>\n",
              "      <td>January 15th, 2019</td>\n",
              "      <td>0.20 %</td>\n",
              "      <td>0.101718</td>\n",
              "    </tr>\n",
              "    <tr>\n",
              "      <th></th>\n",
              "      <td>July 15th, 2019</td>\n",
              "      <td>January 15th, 2019</td>\n",
              "      <td>July 15th, 2019</td>\n",
              "      <td>0.20 %</td>\n",
              "      <td>0.100606</td>\n",
              "    </tr>\n",
              "    <tr>\n",
              "      <th></th>\n",
              "      <td>January 15th, 2020</td>\n",
              "      <td>July 15th, 2019</td>\n",
              "      <td>January 15th, 2020</td>\n",
              "      <td>0.20 %</td>\n",
              "      <td>0.102274</td>\n",
              "    </tr>\n",
              "  </tbody>\n",
              "</table>\n",
              "</div>"
            ],
            "text/plain": [
              "        payment date          start date            end date    rate    amount\n",
              "  January 15th, 2015  October 15th, 2014  January 15th, 2015  0.20 %  0.051124\n",
              "     July 15th, 2015  January 15th, 2015     July 15th, 2015  0.20 %  0.100606\n",
              "  January 15th, 2016     July 15th, 2015  January 15th, 2016  0.20 %  0.102274\n",
              "     July 15th, 2016  January 15th, 2016     July 15th, 2016  0.20 %  0.101162\n",
              "  January 16th, 2017     July 15th, 2016  January 16th, 2017  0.20 %  0.102831\n",
              "     July 17th, 2017  January 16th, 2017     July 17th, 2017  0.20 %  0.101162\n",
              "  January 15th, 2018     July 17th, 2017  January 15th, 2018  0.20 %  0.101162\n",
              "     July 16th, 2018  January 15th, 2018     July 16th, 2018  0.20 %  0.101162\n",
              "  January 15th, 2019     July 16th, 2018  January 15th, 2019  0.20 %  0.101718\n",
              "     July 15th, 2019  January 15th, 2019     July 15th, 2019  0.20 %  0.100606\n",
              "  January 15th, 2020     July 15th, 2019  January 15th, 2020  0.20 %  0.102274"
            ]
          },
          "execution_count": 24,
          "metadata": {},
          "output_type": "execute_result"
        }
      ],
      "source": [
        "DataFrame([ (c.date(),\n",
        "             ql.as_coupon(c).accrualStartDate(),\n",
        "             ql.as_coupon(c).accrualEndDate(),\n",
        "             utils.format_rate(ql.as_coupon(c).rate()), c.amount())\n",
        "            for c in cashflows ],\n",
        "          columns = ('payment date', 'start date', 'end date',\n",
        "                     'rate', 'amount'),\n",
        "          index=['']*len(cashflows))"
      ]
    },
    {
      "cell_type": "markdown",
      "metadata": {
        "id": "qAad_7tiPyFO"
      },
      "source": [
        "The first coupon has the correct dates, but the rate is wrong.  To use the right one, we have to build a custom first coupon with the correct index and use it instead of the current one.  We also need to set it a pricer (which is usually done for us by `IborLeg`)."
      ]
    },
    {
      "cell_type": "code",
      "execution_count": null,
      "metadata": {
        "id": "EIoW-Iw0PyFO"
      },
      "outputs": [],
      "source": [
        "first = ql.as_floating_rate_coupon(cashflows[0])\n",
        "coupon3m = ql.IborCoupon(first.date(), first.nominal(),\n",
        "                         first.accrualStartDate(), first.accrualEndDate(),\n",
        "                         first.fixingDays(), index_3m)\n",
        "coupon3m.setPricer(ql.BlackIborCouponPricer())\n",
        "\n",
        "cashflows = (coupon3m,) + cashflows[1:]"
      ]
    },
    {
      "cell_type": "code",
      "execution_count": null,
      "metadata": {
        "id": "lIOKZSstPyFO",
        "outputId": "61dd6fec-72cf-421e-8493-290a4ec225d6"
      },
      "outputs": [
        {
          "data": {
            "text/html": [
              "<div>\n",
              "<style scoped>\n",
              "    .dataframe tbody tr th:only-of-type {\n",
              "        vertical-align: middle;\n",
              "    }\n",
              "\n",
              "    .dataframe tbody tr th {\n",
              "        vertical-align: top;\n",
              "    }\n",
              "\n",
              "    .dataframe thead th {\n",
              "        text-align: right;\n",
              "    }\n",
              "</style>\n",
              "<table border=\"1\" class=\"dataframe\">\n",
              "  <thead>\n",
              "    <tr style=\"text-align: right;\">\n",
              "      <th></th>\n",
              "      <th>payment date</th>\n",
              "      <th>start date</th>\n",
              "      <th>end date</th>\n",
              "      <th>rate</th>\n",
              "      <th>amount</th>\n",
              "    </tr>\n",
              "  </thead>\n",
              "  <tbody>\n",
              "    <tr>\n",
              "      <th></th>\n",
              "      <td>January 15th, 2015</td>\n",
              "      <td>October 15th, 2014</td>\n",
              "      <td>January 15th, 2015</td>\n",
              "      <td>0.15 %</td>\n",
              "      <td>0.038341</td>\n",
              "    </tr>\n",
              "    <tr>\n",
              "      <th></th>\n",
              "      <td>July 15th, 2015</td>\n",
              "      <td>January 15th, 2015</td>\n",
              "      <td>July 15th, 2015</td>\n",
              "      <td>0.20 %</td>\n",
              "      <td>0.100606</td>\n",
              "    </tr>\n",
              "    <tr>\n",
              "      <th></th>\n",
              "      <td>January 15th, 2016</td>\n",
              "      <td>July 15th, 2015</td>\n",
              "      <td>January 15th, 2016</td>\n",
              "      <td>0.20 %</td>\n",
              "      <td>0.102274</td>\n",
              "    </tr>\n",
              "    <tr>\n",
              "      <th></th>\n",
              "      <td>July 15th, 2016</td>\n",
              "      <td>January 15th, 2016</td>\n",
              "      <td>July 15th, 2016</td>\n",
              "      <td>0.20 %</td>\n",
              "      <td>0.101162</td>\n",
              "    </tr>\n",
              "    <tr>\n",
              "      <th></th>\n",
              "      <td>January 16th, 2017</td>\n",
              "      <td>July 15th, 2016</td>\n",
              "      <td>January 16th, 2017</td>\n",
              "      <td>0.20 %</td>\n",
              "      <td>0.102831</td>\n",
              "    </tr>\n",
              "    <tr>\n",
              "      <th></th>\n",
              "      <td>July 17th, 2017</td>\n",
              "      <td>January 16th, 2017</td>\n",
              "      <td>July 17th, 2017</td>\n",
              "      <td>0.20 %</td>\n",
              "      <td>0.101162</td>\n",
              "    </tr>\n",
              "    <tr>\n",
              "      <th></th>\n",
              "      <td>January 15th, 2018</td>\n",
              "      <td>July 17th, 2017</td>\n",
              "      <td>January 15th, 2018</td>\n",
              "      <td>0.20 %</td>\n",
              "      <td>0.101162</td>\n",
              "    </tr>\n",
              "    <tr>\n",
              "      <th></th>\n",
              "      <td>July 16th, 2018</td>\n",
              "      <td>January 15th, 2018</td>\n",
              "      <td>July 16th, 2018</td>\n",
              "      <td>0.20 %</td>\n",
              "      <td>0.101162</td>\n",
              "    </tr>\n",
              "    <tr>\n",
              "      <th></th>\n",
              "      <td>January 15th, 2019</td>\n",
              "      <td>July 16th, 2018</td>\n",
              "      <td>January 15th, 2019</td>\n",
              "      <td>0.20 %</td>\n",
              "      <td>0.101718</td>\n",
              "    </tr>\n",
              "    <tr>\n",
              "      <th></th>\n",
              "      <td>July 15th, 2019</td>\n",
              "      <td>January 15th, 2019</td>\n",
              "      <td>July 15th, 2019</td>\n",
              "      <td>0.20 %</td>\n",
              "      <td>0.100606</td>\n",
              "    </tr>\n",
              "    <tr>\n",
              "      <th></th>\n",
              "      <td>January 15th, 2020</td>\n",
              "      <td>July 15th, 2019</td>\n",
              "      <td>January 15th, 2020</td>\n",
              "      <td>0.20 %</td>\n",
              "      <td>0.102274</td>\n",
              "    </tr>\n",
              "  </tbody>\n",
              "</table>\n",
              "</div>"
            ],
            "text/plain": [
              "        payment date          start date            end date    rate    amount\n",
              "  January 15th, 2015  October 15th, 2014  January 15th, 2015  0.15 %  0.038341\n",
              "     July 15th, 2015  January 15th, 2015     July 15th, 2015  0.20 %  0.100606\n",
              "  January 15th, 2016     July 15th, 2015  January 15th, 2016  0.20 %  0.102274\n",
              "     July 15th, 2016  January 15th, 2016     July 15th, 2016  0.20 %  0.101162\n",
              "  January 16th, 2017     July 15th, 2016  January 16th, 2017  0.20 %  0.102831\n",
              "     July 17th, 2017  January 16th, 2017     July 17th, 2017  0.20 %  0.101162\n",
              "  January 15th, 2018     July 17th, 2017  January 15th, 2018  0.20 %  0.101162\n",
              "     July 16th, 2018  January 15th, 2018     July 16th, 2018  0.20 %  0.101162\n",
              "  January 15th, 2019     July 16th, 2018  January 15th, 2019  0.20 %  0.101718\n",
              "     July 15th, 2019  January 15th, 2019     July 15th, 2019  0.20 %  0.100606\n",
              "  January 15th, 2020     July 15th, 2019  January 15th, 2020  0.20 %  0.102274"
            ]
          },
          "execution_count": 26,
          "metadata": {},
          "output_type": "execute_result"
        }
      ],
      "source": [
        "DataFrame([ (c.date(),\n",
        "             ql.as_coupon(c).accrualStartDate(),\n",
        "             ql.as_coupon(c).accrualEndDate(),\n",
        "             utils.format_rate(ql.as_coupon(c).rate()), c.amount())\n",
        "            for c in cashflows ],\n",
        "          columns = ('payment date', 'start date', 'end date',\n",
        "                     'rate', 'amount'),\n",
        "          index=['']*len(cashflows))"
      ]
    },
    {
      "cell_type": "markdown",
      "metadata": {
        "id": "XbXS0otZPyFO"
      },
      "source": [
        "As before, the resulting cash flows can be used to instantiate a bond or a swap."
      ]
    }
  ],
  "metadata": {
    "kernelspec": {
      "display_name": "Python 3 (ipykernel)",
      "language": "python",
      "name": "python3"
    },
    "language_info": {
      "codemirror_mode": {
        "name": "ipython",
        "version": 3
      },
      "file_extension": ".py",
      "mimetype": "text/x-python",
      "name": "python",
      "nbconvert_exporter": "python",
      "pygments_lexer": "ipython3",
      "version": "3.10.8"
    },
    "colab": {
      "provenance": [],
      "include_colab_link": true
    }
  },
  "nbformat": 4,
  "nbformat_minor": 0
}