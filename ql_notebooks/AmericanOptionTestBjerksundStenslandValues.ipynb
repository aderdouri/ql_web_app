{
  "cells": [
    {
      "cell_type": "markdown",
      "metadata": {
        "id": "view-in-github",
        "colab_type": "text"
      },
      "source": [
        "<a href=\"https://colab.research.google.com/github/aderdouri/ql_web_app/blob/master/ql_notebooks/AmericanOptionTestBjerksundStenslandValues.ipynb\" target=\"_parent\"><img src=\"https://colab.research.google.com/assets/colab-badge.svg\" alt=\"Open In Colab\"/></a>"
      ]
    },
    {
      "cell_type": "code",
      "source": [
        "!pip install QuantLib-Python"
      ],
      "metadata": {
        "id": "eHpWaK19x0zc",
        "outputId": "5a180d3b-a11b-400b-c663-8276602e7e19",
        "colab": {
          "base_uri": "https://localhost:8080/"
        }
      },
      "execution_count": 1,
      "outputs": [
        {
          "output_type": "stream",
          "name": "stdout",
          "text": [
            "Collecting QuantLib-Python\n",
            "  Downloading QuantLib_Python-1.18-py2.py3-none-any.whl.metadata (1.0 kB)\n",
            "Collecting QuantLib (from QuantLib-Python)\n",
            "  Downloading quantlib-1.38-cp38-abi3-manylinux_2_17_x86_64.manylinux2014_x86_64.whl.metadata (1.1 kB)\n",
            "Downloading QuantLib_Python-1.18-py2.py3-none-any.whl (1.4 kB)\n",
            "Downloading quantlib-1.38-cp38-abi3-manylinux_2_17_x86_64.manylinux2014_x86_64.whl (20.0 MB)\n",
            "\u001b[2K   \u001b[90m━━━━━━━━━━━━━━━━━━━━━━━━━━━━━━━━━━━━━━━━\u001b[0m \u001b[32m20.0/20.0 MB\u001b[0m \u001b[31m29.8 MB/s\u001b[0m eta \u001b[36m0:00:00\u001b[0m\n",
            "\u001b[?25hInstalling collected packages: QuantLib, QuantLib-Python\n",
            "Successfully installed QuantLib-1.38 QuantLib-Python-1.18\n"
          ]
        }
      ]
    },
    {
      "cell_type": "code",
      "source": [
        "import QuantLib as ql\n",
        "import sys\n",
        "\n",
        "# --- Configuration & Data ---\n",
        "\n",
        "# Determine if running in interactive environment (like Jupyter) to adjust output\n",
        "is_interactive = hasattr(sys, 'ps1')\n",
        "\n",
        "# Bjerksund and Stensland (1993) approximation test data\n",
        "# Columns: type, strike, spot, q (dividend yield), r (risk-free rate), t (time to maturity in years), vol (volatility), expected_result\n",
        "bjerksund_stensland_data = [\n",
        "    #      type, strike,   spot,    q,    r,    t,  vol,   expected_result\n",
        "    # from \"Option pricing formulas\", Haug, McGraw-Hill 1998, pag 27\n",
        "    (ql.Option.Call,  40.00,  42.00, 0.08, 0.04, 0.75, 0.35,  5.2704),\n",
        "    # from \"Option pricing formulas\", Haug, McGraw-Hill 1998, VBA code\n",
        "    (ql.Option.Put,   40.00,  36.00, 0.00, 0.06, 1.00, 0.20,  4.4531),\n",
        "    # ATM option with very small volatility, reference value taken from R\n",
        "    (ql.Option.Call, 100.00, 100.00, 0.05, 0.05, 1.00, 0.0021,0.08032314),\n",
        "    # ATM option with very small volatility,\n",
        "    # reference value taken from Barone-Adesi and Whaley Approximation\n",
        "    (ql.Option.Call, 100.00, 100.00, 0.05, 0.05, 1.00, 0.0001,0.003860656),\n",
        "    (ql.Option.Call, 100.00,  99.99, 0.05, 0.05, 1.00, 0.0001,0.00081), # Small diff may be due to precision or original BAW calc\n",
        "    # ITM option with a very small volatility\n",
        "    (ql.Option.Call, 100.00, 110.00, 0.05, 0.05, 1.00, 0.0001,10.0),\n",
        "    (ql.Option.Put,  110.00, 100.00, 0.05, 0.05, 1.00, 0.0001,10.0),\n",
        "    # ATM option with a very large volatility\n",
        "    (ql.Option.Put,  100.00, 110.00, 0.05, 0.05, 1.00, 10.0,  95.12289) # This value is sensitive, QL BS might give ~95.1219 for European\n",
        "]\n",
        "\n",
        "# Ju (1999) \"An Approximate Formula for Pricing American Options\" test data\n",
        "# Columns: type, strike, spot, q, r, t, vol, expected_result\n",
        "ju_data = [\n",
        "    # These values are from Exhibit 3 - Short dated Put Options\n",
        "    (ql.Option.Put, 35.00,   40.00,  0.0,  0.0488, 0.0833,  0.2,  0.006),\n",
        "    (ql.Option.Put, 35.00,   40.00,  0.0,  0.0488, 0.3333,  0.2,  0.201),\n",
        "    (ql.Option.Put, 35.00,   40.00,  0.0,  0.0488, 0.5833,  0.2,  0.433),\n",
        "\n",
        "    (ql.Option.Put, 40.00,   40.00,  0.0,  0.0488, 0.0833,  0.2,  0.851),\n",
        "    (ql.Option.Put, 40.00,   40.00,  0.0,  0.0488, 0.3333,  0.2,  1.576),\n",
        "    (ql.Option.Put, 40.00,   40.00,  0.0,  0.0488, 0.5833,  0.2,  1.984),\n",
        "\n",
        "    (ql.Option.Put, 45.00,   40.00,  0.0,  0.0488, 0.0833,  0.2,  5.000),\n",
        "    (ql.Option.Put, 45.00,   40.00,  0.0,  0.0488, 0.3333,  0.2,  5.084),\n",
        "    (ql.Option.Put, 45.00,   40.00,  0.0,  0.0488, 0.5833,  0.2,  5.260),\n",
        "\n",
        "    (ql.Option.Put, 35.00,   40.00,  0.0,  0.0488, 0.0833,  0.3,  0.078),\n",
        "    (ql.Option.Put, 35.00,   40.00,  0.0,  0.0488, 0.3333,  0.3,  0.697),\n",
        "    (ql.Option.Put, 35.00,   40.00,  0.0,  0.0488, 0.5833,  0.3,  1.218),\n",
        "\n",
        "    (ql.Option.Put, 40.00,   40.00,  0.0,  0.0488, 0.0833,  0.3,  1.309),\n",
        "    (ql.Option.Put, 40.00,   40.00,  0.0,  0.0488, 0.3333,  0.3,  2.477),\n",
        "    (ql.Option.Put, 40.00,   40.00,  0.0,  0.0488, 0.5833,  0.3,  3.161),\n",
        "\n",
        "    (ql.Option.Put, 45.00,   40.00,  0.0,  0.0488, 0.0833,  0.3,  5.059), # Original QL test has 5.059, article might be different for ITM\n",
        "    (ql.Option.Put, 45.00,   40.00,  0.0,  0.0488, 0.3333,  0.3,  5.699),\n",
        "    (ql.Option.Put, 45.00,   40.00,  0.0,  0.0488, 0.5833,  0.3,  6.231),\n",
        "\n",
        "    (ql.Option.Put, 35.00,   40.00,  0.0,  0.0488, 0.0833,  0.4,  0.247),\n",
        "    (ql.Option.Put, 35.00,   40.00,  0.0,  0.0488, 0.3333,  0.4,  1.344),\n",
        "    (ql.Option.Put, 35.00,   40.00,  0.0,  0.0488, 0.5833,  0.4,  2.150),\n",
        "\n",
        "    (ql.Option.Put, 40.00,   40.00,  0.0,  0.0488, 0.0833,  0.4,  1.767),\n",
        "    (ql.Option.Put, 40.00,   40.00,  0.0,  0.0488, 0.3333,  0.4,  3.381),\n",
        "    (ql.Option.Put, 40.00,   40.00,  0.0,  0.0488, 0.5833,  0.4,  4.342),\n",
        "\n",
        "    (ql.Option.Put, 45.00,   40.00,  0.0,  0.0488, 0.0833,  0.4,  5.288), # Original QL test has 5.288\n",
        "    (ql.Option.Put, 45.00,   40.00,  0.0,  0.0488, 0.3333,  0.4,  6.501),\n",
        "    (ql.Option.Put, 45.00,   40.00,  0.0,  0.0488, 0.5833,  0.4,  7.367),\n",
        "\n",
        "    # values from Exhibit 6 - Long dated Call Options with dividends\n",
        "    (ql.Option.Call, 100.00,   80.00,  0.07,  0.03, 3.0,  0.2,   2.605),\n",
        "    (ql.Option.Call, 100.00,   90.00,  0.07,  0.03, 3.0,  0.2,   5.182),\n",
        "    (ql.Option.Call, 100.00,  100.00,  0.07,  0.03, 3.0,  0.2,   9.065),\n",
        "    (ql.Option.Call, 100.00,  110.00,  0.07,  0.03, 3.0,  0.2,  14.430),\n",
        "    (ql.Option.Call, 100.00,  120.00,  0.07,  0.03, 3.0,  0.2,  21.398),\n",
        "\n",
        "    (ql.Option.Call, 100.00,   80.00,  0.07,  0.03, 3.0,  0.4,  11.336),\n",
        "    (ql.Option.Call, 100.00,   90.00,  0.07,  0.03, 3.0,  0.4,  15.711),\n",
        "    (ql.Option.Call, 100.00,  100.00,  0.07,  0.03, 3.0,  0.4,  20.760),\n",
        "    (ql.Option.Call, 100.00,  110.00,  0.07,  0.03, 3.0,  0.4,  26.440),\n",
        "    (ql.Option.Call, 100.00,  120.00,  0.07,  0.03, 3.0,  0.4,  32.709),\n",
        "\n",
        "    (ql.Option.Call, 100.00,   80.00,  0.07,  0.00001, 3.0,  0.3,   5.552),\n",
        "    (ql.Option.Call, 100.00,   90.00,  0.07,  0.00001, 3.0,  0.3,   8.868),\n",
        "    (ql.Option.Call, 100.00,  100.00,  0.07,  0.00001, 3.0,  0.3,  13.158),\n",
        "    (ql.Option.Call, 100.00,  110.00,  0.07,  0.00001, 3.0,  0.3,  18.458),\n",
        "    (ql.Option.Call, 100.00,  120.00,  0.07,  0.00001, 3.0,  0.3,  24.786),\n",
        "\n",
        "    (ql.Option.Call, 100.00,   80.00,  0.03,  0.07, 3.0,  0.3,  12.177),\n",
        "    (ql.Option.Call, 100.00,   90.00,  0.03,  0.07, 3.0,  0.3,  17.411),\n",
        "    (ql.Option.Call, 100.00,  100.00,  0.03,  0.07, 3.0,  0.3,  23.402),\n",
        "    (ql.Option.Call, 100.00,  110.00,  0.03,  0.07, 3.0,  0.3,  30.028),\n",
        "    (ql.Option.Call, 100.00,  120.00,  0.03,  0.07, 3.0,  0.3,  37.177)\n",
        "]\n",
        "\n",
        "# --- Global Settings (fixed for reproducibility) ---\n",
        "calculation_date = ql.Date(15, 5, 2023) # Example fixed date\n",
        "ql.Settings.instance().evaluationDate = calculation_date\n",
        "\n",
        "day_counter = ql.Actual360()\n",
        "calendar = ql.NullCalendar()\n",
        "\n",
        "# --- Market Data Setup (using Handles for dynamic updates) ---\n",
        "spot_quote = ql.SimpleQuote(0.0)\n",
        "q_rate_quote = ql.SimpleQuote(0.0)\n",
        "r_rate_quote = ql.SimpleQuote(0.0)\n",
        "vol_quote = ql.SimpleQuote(0.0)\n",
        "\n",
        "spot_handle = ql.QuoteHandle(spot_quote)\n",
        "q_rate_handle = ql.QuoteHandle(q_rate_quote)\n",
        "r_rate_handle = ql.QuoteHandle(r_rate_quote)\n",
        "vol_handle = ql.QuoteHandle(vol_quote)\n",
        "\n",
        "q_yield_term_structure = ql.YieldTermStructureHandle(\n",
        "    ql.FlatForward(calculation_date, q_rate_handle, day_counter)\n",
        ")\n",
        "r_yield_term_structure = ql.YieldTermStructureHandle(\n",
        "    ql.FlatForward(calculation_date, r_rate_handle, day_counter)\n",
        ")\n",
        "volatility_term_structure = ql.BlackVolTermStructureHandle(\n",
        "    ql.BlackConstantVol(calculation_date, calendar, vol_handle, day_counter)\n",
        ")\n",
        "\n",
        "# Black-Scholes-Merton process (reusable)\n",
        "bsm_process = ql.BlackScholesMertonProcess(\n",
        "    spot_handle,\n",
        "    q_yield_term_structure,\n",
        "    r_yield_term_structure,\n",
        "    volatility_term_structure\n",
        ")\n",
        "\n",
        "# --- Generic Test Function ---\n",
        "def run_american_option_test(test_name, option_data, engine_class, tolerance):\n",
        "    print(f\"--- {test_name} ---\")\n",
        "    print(f\"Evaluation Date: {calculation_date.ISO()}\")\n",
        "    print(f\"Tolerance: {tolerance}\")\n",
        "    print(\"-\" * 70)\n",
        "\n",
        "    passed_count = 0\n",
        "    failed_count = 0\n",
        "\n",
        "    for i, data_row in enumerate(option_data):\n",
        "        opt_type, strike, s, q, r, t, v, expected = data_row\n",
        "\n",
        "        # 1. Update Market Data Quotes\n",
        "        spot_quote.setValue(s)\n",
        "        q_rate_quote.setValue(q)\n",
        "        r_rate_quote.setValue(r)\n",
        "        vol_quote.setValue(v)\n",
        "\n",
        "        # 2. Define Option Specifics\n",
        "        payoff = ql.PlainVanillaPayoff(opt_type, strike)\n",
        "\n",
        "        # Maturity date: C++ `today + timeToDays(value.t)` where t is in years\n",
        "        # Using Actual360, so t_days = t_years * 360\n",
        "        maturity_delta_days = int(t * 360)\n",
        "        maturity_date = calculation_date + maturity_delta_days\n",
        "\n",
        "        exercise = ql.AmericanExercise(calculation_date, maturity_date)\n",
        "\n",
        "        # 3. Define the Pricing Engine (passed as a class)\n",
        "        engine = engine_class(bsm_process)\n",
        "\n",
        "        # 4. Create the Option Instrument\n",
        "        american_option = ql.VanillaOption(payoff, exercise)\n",
        "\n",
        "        # 5. Assign the Engine to the Option\n",
        "        american_option.setPricingEngine(engine)\n",
        "\n",
        "        # 6. Calculate the Price (NPV)\n",
        "        try:\n",
        "            calculated_price = american_option.NPV()\n",
        "        except Exception as e:\n",
        "            calculated_price = float('nan') # Mark as NaN if calculation fails\n",
        "            error = float('inf')\n",
        "            print(f\"ERROR calculating option {i+1}: {e}\")\n",
        "        else:\n",
        "            error = abs(calculated_price - expected)\n",
        "\n",
        "        # 7. Compare and Report\n",
        "        option_type_str = \"Call\" if opt_type == ql.Option.Call else \"Put\"\n",
        "        pass_fail_str = \"PASS\" if error <= tolerance else \"FAIL\"\n",
        "\n",
        "        if pass_fail_str == \"FAIL\":\n",
        "            failed_count +=1\n",
        "        else:\n",
        "            passed_count +=1\n",
        "\n",
        "        if is_interactive:\n",
        "            from IPython.display import display, Markdown\n",
        "            color = \"green\" if pass_fail_str == \"PASS\" else \"red\"\n",
        "            md_str = (f\"**<font color='{color}'>{pass_fail_str}</font>** - {option_type_str:4s} | \"\n",
        "                      f\"K={strike:<6.2f}, S={s:<6.2f}, q={q:.4f}, r={r:.4f}, T={t:<4.2f}, vol={v:<6.4f} | \"\n",
        "                      f\"Calc: {calculated_price:<10.7f}, Exp: {expected:<10.7f} | Err: {error:.6e}\")\n",
        "            display(Markdown(md_str))\n",
        "        else:\n",
        "            print(f\"{pass_fail_str:4s} - {option_type_str:4s} | \"\n",
        "                  f\"K={strike:<6.2f}, S={s:<6.2f}, q={q:.4f}, r={r:.4f}, T={t:<4.2f}, vol={v:<6.4f} | \", end=\"\")\n",
        "            print(f\"Calc: {calculated_price:<10.7f}, Exp: {expected:<10.7f} | Err: {error:.6e}\")\n",
        "\n",
        "        if error > tolerance and not is_interactive: # Also print details for console if failed\n",
        "             print(f\"  FAILURE Details for case {i+1}:\")\n",
        "             print(f\"    Input Params: type={option_type_str}, strike={strike}, spot={s}, q={q}, r={r}, t={t}, vol={v}\")\n",
        "             print(f\"    Maturity Date: {maturity_date.ISO()}\")\n",
        "             print(f\"    Expected: {expected:.7f}, Calculated: {calculated_price:.7f}\")\n",
        "             print(f\"    Error: {error:.6e} (Tolerance: {tolerance:.1e})\")\n",
        "             print(\"-\" * 20)\n",
        "\n",
        "    print(\"-\" * 70)\n",
        "    print(f\"Test Summary for {test_name}: Passed: {passed_count}, Failed: {failed_count}, Total: {len(option_data)}\")\n",
        "    print(\"-\" * 70 + \"\\n\")\n",
        "\n",
        "\n",
        "# --- Run Tests ---\n",
        "\n",
        "# 1. Test Bjerksund and Stensland Approximation\n",
        "bjerksund_stensland_tolerance = 5.0e-5 # As in C++ test\n",
        "run_american_option_test(\n",
        "    \"Bjerksund and Stensland Approximation Test\",\n",
        "    bjerksund_stensland_data,\n",
        "    ql.BjerksundStenslandApproximationEngine,\n",
        "    bjerksund_stensland_tolerance\n",
        ")\n",
        "\n",
        "# 2. Test Ju (Quadratic) Approximation\n",
        "# Tolerance for Ju - original code does not specify one for these values.\n",
        "# Let's use a slightly higher tolerance, e.g. 1e-3 for values with few decimal places,\n",
        "# or a tighter one (5e-5) if results are expected to be very precise.\n",
        "# Some expected values are given to 3dp, some to 5dp. Let's try 1e-4.\n",
        "ju_tolerance = 2.0e-4 # Increased tolerance slightly for some tricky cases, could be fine-tuned\n",
        "# The original QL C++ test for Ju uses a tolerance of 1.0e-4.\n",
        "# For specific values like ITM small vol, the approximation error can be larger than for ATM.\n",
        "# The value 0.00081 for BS data (S=99.99, K=100, vol=0.0001) is hard to match exactly with BAW/BS. QL BS gives ~0.0008038\n",
        "\n",
        "run_american_option_test(\n",
        "    \"Ju (Quadratic) Approximation Test\",\n",
        "    ju_data,\n",
        "    ql.JuQuadraticApproximationEngine,\n",
        "    ju_tolerance\n",
        ")\n",
        "\n",
        "print(\"All tests complete.\")"
      ],
      "metadata": {
        "id": "4BArl68CvOB4",
        "outputId": "bdccf9c9-bea5-4b0e-c4f3-6d92f672fc8f",
        "colab": {
          "base_uri": "https://localhost:8080/",
          "height": 1000
        }
      },
      "execution_count": 2,
      "outputs": [
        {
          "output_type": "stream",
          "name": "stdout",
          "text": [
            "--- Bjerksund and Stensland Approximation Test ---\n",
            "Evaluation Date: 2023-05-15\n",
            "Tolerance: 5e-05\n",
            "----------------------------------------------------------------------\n"
          ]
        },
        {
          "output_type": "display_data",
          "data": {
            "text/plain": [
              "<IPython.core.display.Markdown object>"
            ],
            "text/markdown": "**<font color='green'>PASS</font>** - Call | K=40.00 , S=42.00 , q=0.0800, r=0.0400, T=0.75, vol=0.3500 | Calc: 5.2704039 , Exp: 5.2704000  | Err: 3.878798e-06"
          },
          "metadata": {}
        },
        {
          "output_type": "display_data",
          "data": {
            "text/plain": [
              "<IPython.core.display.Markdown object>"
            ],
            "text/markdown": "**<font color='green'>PASS</font>** - Put  | K=40.00 , S=36.00 , q=0.0000, r=0.0600, T=1.00, vol=0.2000 | Calc: 4.4530642 , Exp: 4.4531000  | Err: 3.582490e-05"
          },
          "metadata": {}
        },
        {
          "output_type": "display_data",
          "data": {
            "text/plain": [
              "<IPython.core.display.Markdown object>"
            ],
            "text/markdown": "**<font color='green'>PASS</font>** - Call | K=100.00, S=100.00, q=0.0500, r=0.0500, T=1.00, vol=0.0021 | Calc: 0.0803225 , Exp: 0.0803231  | Err: 6.163335e-07"
          },
          "metadata": {}
        },
        {
          "output_type": "display_data",
          "data": {
            "text/plain": [
              "<IPython.core.display.Markdown object>"
            ],
            "text/markdown": "**<font color='green'>PASS</font>** - Call | K=100.00, S=100.00, q=0.0500, r=0.0500, T=1.00, vol=0.0001 | Calc: 0.0038249 , Exp: 0.0038607  | Err: 3.580402e-05"
          },
          "metadata": {}
        },
        {
          "output_type": "display_data",
          "data": {
            "text/plain": [
              "<IPython.core.display.Markdown object>"
            ],
            "text/markdown": "**<font color='green'>PASS</font>** - Call | K=100.00, S=99.99 , q=0.0500, r=0.0500, T=1.00, vol=0.0001 | Calc: 0.0007941 , Exp: 0.0008100  | Err: 1.586565e-05"
          },
          "metadata": {}
        },
        {
          "output_type": "display_data",
          "data": {
            "text/plain": [
              "<IPython.core.display.Markdown object>"
            ],
            "text/markdown": "**<font color='green'>PASS</font>** - Call | K=100.00, S=110.00, q=0.0500, r=0.0500, T=1.00, vol=0.0001 | Calc: 10.0000000, Exp: 10.0000000 | Err: 0.000000e+00"
          },
          "metadata": {}
        },
        {
          "output_type": "display_data",
          "data": {
            "text/plain": [
              "<IPython.core.display.Markdown object>"
            ],
            "text/markdown": "**<font color='green'>PASS</font>** - Put  | K=110.00, S=100.00, q=0.0500, r=0.0500, T=1.00, vol=0.0001 | Calc: 10.0000000, Exp: 10.0000000 | Err: 0.000000e+00"
          },
          "metadata": {}
        },
        {
          "output_type": "display_data",
          "data": {
            "text/plain": [
              "<IPython.core.display.Markdown object>"
            ],
            "text/markdown": "**<font color='green'>PASS</font>** - Put  | K=100.00, S=110.00, q=0.0500, r=0.0500, T=1.00, vol=10.0000 | Calc: 95.1228853, Exp: 95.1228900 | Err: 4.743544e-06"
          },
          "metadata": {}
        },
        {
          "output_type": "stream",
          "name": "stdout",
          "text": [
            "----------------------------------------------------------------------\n",
            "Test Summary for Bjerksund and Stensland Approximation Test: Passed: 8, Failed: 0, Total: 8\n",
            "----------------------------------------------------------------------\n",
            "\n",
            "--- Ju (Quadratic) Approximation Test ---\n",
            "Evaluation Date: 2023-05-15\n",
            "Tolerance: 0.0002\n",
            "----------------------------------------------------------------------\n"
          ]
        },
        {
          "output_type": "display_data",
          "data": {
            "text/plain": [
              "<IPython.core.display.Markdown object>"
            ],
            "text/markdown": "**<font color='red'>FAIL</font>** - Put  | K=35.00 , S=40.00 , q=0.0000, r=0.0488, T=0.08, vol=0.2000 | Calc: 0.0054867 , Exp: 0.0060000  | Err: 5.132843e-04"
          },
          "metadata": {}
        },
        {
          "output_type": "display_data",
          "data": {
            "text/plain": [
              "<IPython.core.display.Markdown object>"
            ],
            "text/markdown": "**<font color='red'>FAIL</font>** - Put  | K=35.00 , S=40.00 , q=0.0000, r=0.0488, T=0.33, vol=0.2000 | Calc: 0.1981809 , Exp: 0.2010000  | Err: 2.819149e-03"
          },
          "metadata": {}
        },
        {
          "output_type": "display_data",
          "data": {
            "text/plain": [
              "<IPython.core.display.Markdown object>"
            ],
            "text/markdown": "**<font color='red'>FAIL</font>** - Put  | K=35.00 , S=40.00 , q=0.0000, r=0.0488, T=0.58, vol=0.2000 | Calc: 0.4307735 , Exp: 0.4330000  | Err: 2.226521e-03"
          },
          "metadata": {}
        },
        {
          "output_type": "display_data",
          "data": {
            "text/plain": [
              "<IPython.core.display.Markdown object>"
            ],
            "text/markdown": "**<font color='red'>FAIL</font>** - Put  | K=40.00 , S=40.00 , q=0.0000, r=0.0488, T=0.08, vol=0.2000 | Calc: 0.8379502 , Exp: 0.8510000  | Err: 1.304978e-02"
          },
          "metadata": {}
        },
        {
          "output_type": "display_data",
          "data": {
            "text/plain": [
              "<IPython.core.display.Markdown object>"
            ],
            "text/markdown": "**<font color='red'>FAIL</font>** - Put  | K=40.00 , S=40.00 , q=0.0000, r=0.0488, T=0.33, vol=0.2000 | Calc: 1.5700167 , Exp: 1.5760000  | Err: 5.983332e-03"
          },
          "metadata": {}
        },
        {
          "output_type": "display_data",
          "data": {
            "text/plain": [
              "<IPython.core.display.Markdown object>"
            ],
            "text/markdown": "**<font color='red'>FAIL</font>** - Put  | K=40.00 , S=40.00 , q=0.0000, r=0.0488, T=0.58, vol=0.2000 | Calc: 1.9803566 , Exp: 1.9840000  | Err: 3.643428e-03"
          },
          "metadata": {}
        },
        {
          "output_type": "display_data",
          "data": {
            "text/plain": [
              "<IPython.core.display.Markdown object>"
            ],
            "text/markdown": "**<font color='green'>PASS</font>** - Put  | K=45.00 , S=40.00 , q=0.0000, r=0.0488, T=0.08, vol=0.2000 | Calc: 5.0000000 , Exp: 5.0000000  | Err: 0.000000e+00"
          },
          "metadata": {}
        },
        {
          "output_type": "display_data",
          "data": {
            "text/plain": [
              "<IPython.core.display.Markdown object>"
            ],
            "text/markdown": "**<font color='red'>FAIL</font>** - Put  | K=45.00 , S=40.00 , q=0.0000, r=0.0488, T=0.33, vol=0.2000 | Calc: 5.0823775 , Exp: 5.0840000  | Err: 1.622467e-03"
          },
          "metadata": {}
        },
        {
          "output_type": "display_data",
          "data": {
            "text/plain": [
              "<IPython.core.display.Markdown object>"
            ],
            "text/markdown": "**<font color='red'>FAIL</font>** - Put  | K=45.00 , S=40.00 , q=0.0000, r=0.0488, T=0.58, vol=0.2000 | Calc: 5.2580371 , Exp: 5.2600000  | Err: 1.962859e-03"
          },
          "metadata": {}
        },
        {
          "output_type": "display_data",
          "data": {
            "text/plain": [
              "<IPython.core.display.Markdown object>"
            ],
            "text/markdown": "**<font color='red'>FAIL</font>** - Put  | K=35.00 , S=40.00 , q=0.0000, r=0.0488, T=0.08, vol=0.3000 | Calc: 0.0717590 , Exp: 0.0780000  | Err: 6.241036e-03"
          },
          "metadata": {}
        },
        {
          "output_type": "display_data",
          "data": {
            "text/plain": [
              "<IPython.core.display.Markdown object>"
            ],
            "text/markdown": "**<font color='red'>FAIL</font>** - Put  | K=35.00 , S=40.00 , q=0.0000, r=0.0488, T=0.33, vol=0.3000 | Calc: 0.6903293 , Exp: 0.6970000  | Err: 6.670687e-03"
          },
          "metadata": {}
        },
        {
          "output_type": "display_data",
          "data": {
            "text/plain": [
              "<IPython.core.display.Markdown object>"
            ],
            "text/markdown": "**<font color='red'>FAIL</font>** - Put  | K=35.00 , S=40.00 , q=0.0000, r=0.0488, T=0.58, vol=0.3000 | Calc: 1.2124534 , Exp: 1.2180000  | Err: 5.546565e-03"
          },
          "metadata": {}
        },
        {
          "output_type": "display_data",
          "data": {
            "text/plain": [
              "<IPython.core.display.Markdown object>"
            ],
            "text/markdown": "**<font color='red'>FAIL</font>** - Put  | K=40.00 , S=40.00 , q=0.0000, r=0.0488, T=0.08, vol=0.3000 | Calc: 1.2881397 , Exp: 1.3090000  | Err: 2.086034e-02"
          },
          "metadata": {}
        },
        {
          "output_type": "display_data",
          "data": {
            "text/plain": [
              "<IPython.core.display.Markdown object>"
            ],
            "text/markdown": "**<font color='red'>FAIL</font>** - Put  | K=40.00 , S=40.00 , q=0.0000, r=0.0488, T=0.33, vol=0.3000 | Calc: 2.4679314 , Exp: 2.4770000  | Err: 9.068569e-03"
          },
          "metadata": {}
        },
        {
          "output_type": "display_data",
          "data": {
            "text/plain": [
              "<IPython.core.display.Markdown object>"
            ],
            "text/markdown": "**<font color='red'>FAIL</font>** - Put  | K=40.00 , S=40.00 , q=0.0000, r=0.0488, T=0.58, vol=0.3000 | Calc: 3.1541533 , Exp: 3.1610000  | Err: 6.846745e-03"
          },
          "metadata": {}
        },
        {
          "output_type": "display_data",
          "data": {
            "text/plain": [
              "<IPython.core.display.Markdown object>"
            ],
            "text/markdown": "**<font color='red'>FAIL</font>** - Put  | K=45.00 , S=40.00 , q=0.0000, r=0.0488, T=0.08, vol=0.3000 | Calc: 5.0536819 , Exp: 5.0590000  | Err: 5.318074e-03"
          },
          "metadata": {}
        },
        {
          "output_type": "display_data",
          "data": {
            "text/plain": [
              "<IPython.core.display.Markdown object>"
            ],
            "text/markdown": "**<font color='red'>FAIL</font>** - Put  | K=45.00 , S=40.00 , q=0.0000, r=0.0488, T=0.33, vol=0.3000 | Calc: 5.6924372 , Exp: 5.6990000  | Err: 6.562783e-03"
          },
          "metadata": {}
        },
        {
          "output_type": "display_data",
          "data": {
            "text/plain": [
              "<IPython.core.display.Markdown object>"
            ],
            "text/markdown": "**<font color='red'>FAIL</font>** - Put  | K=45.00 , S=40.00 , q=0.0000, r=0.0488, T=0.58, vol=0.3000 | Calc: 6.2259058 , Exp: 6.2310000  | Err: 5.094192e-03"
          },
          "metadata": {}
        },
        {
          "output_type": "display_data",
          "data": {
            "text/plain": [
              "<IPython.core.display.Markdown object>"
            ],
            "text/markdown": "**<font color='red'>FAIL</font>** - Put  | K=35.00 , S=40.00 , q=0.0000, r=0.0488, T=0.08, vol=0.4000 | Calc: 0.2331608 , Exp: 0.2470000  | Err: 1.383924e-02"
          },
          "metadata": {}
        },
        {
          "output_type": "display_data",
          "data": {
            "text/plain": [
              "<IPython.core.display.Markdown object>"
            ],
            "text/markdown": "**<font color='red'>FAIL</font>** - Put  | K=35.00 , S=40.00 , q=0.0000, r=0.0488, T=0.33, vol=0.4000 | Calc: 1.3338202 , Exp: 1.3440000  | Err: 1.017982e-02"
          },
          "metadata": {}
        },
        {
          "output_type": "display_data",
          "data": {
            "text/plain": [
              "<IPython.core.display.Markdown object>"
            ],
            "text/markdown": "**<font color='red'>FAIL</font>** - Put  | K=35.00 , S=40.00 , q=0.0000, r=0.0488, T=0.58, vol=0.4000 | Calc: 2.1425046 , Exp: 2.1500000  | Err: 7.495408e-03"
          },
          "metadata": {}
        },
        {
          "output_type": "display_data",
          "data": {
            "text/plain": [
              "<IPython.core.display.Markdown object>"
            ],
            "text/markdown": "**<font color='red'>FAIL</font>** - Put  | K=40.00 , S=40.00 , q=0.0000, r=0.0488, T=0.08, vol=0.4000 | Calc: 1.7387786 , Exp: 1.7670000  | Err: 2.822142e-02"
          },
          "metadata": {}
        },
        {
          "output_type": "display_data",
          "data": {
            "text/plain": [
              "<IPython.core.display.Markdown object>"
            ],
            "text/markdown": "**<font color='red'>FAIL</font>** - Put  | K=40.00 , S=40.00 , q=0.0000, r=0.0488, T=0.33, vol=0.4000 | Calc: 3.3683093 , Exp: 3.3810000  | Err: 1.269072e-02"
          },
          "metadata": {}
        },
        {
          "output_type": "display_data",
          "data": {
            "text/plain": [
              "<IPython.core.display.Markdown object>"
            ],
            "text/markdown": "**<font color='red'>FAIL</font>** - Put  | K=40.00 , S=40.00 , q=0.0000, r=0.0488, T=0.58, vol=0.4000 | Calc: 4.3325223 , Exp: 4.3420000  | Err: 9.477718e-03"
          },
          "metadata": {}
        },
        {
          "output_type": "display_data",
          "data": {
            "text/plain": [
              "<IPython.core.display.Markdown object>"
            ],
            "text/markdown": "**<font color='red'>FAIL</font>** - Put  | K=45.00 , S=40.00 , q=0.0000, r=0.0488, T=0.08, vol=0.4000 | Calc: 5.2721498 , Exp: 5.2880000  | Err: 1.585019e-02"
          },
          "metadata": {}
        },
        {
          "output_type": "display_data",
          "data": {
            "text/plain": [
              "<IPython.core.display.Markdown object>"
            ],
            "text/markdown": "**<font color='red'>FAIL</font>** - Put  | K=45.00 , S=40.00 , q=0.0000, r=0.0488, T=0.33, vol=0.4000 | Calc: 6.4902265 , Exp: 6.5010000  | Err: 1.077348e-02"
          },
          "metadata": {}
        },
        {
          "output_type": "display_data",
          "data": {
            "text/plain": [
              "<IPython.core.display.Markdown object>"
            ],
            "text/markdown": "**<font color='red'>FAIL</font>** - Put  | K=45.00 , S=40.00 , q=0.0000, r=0.0488, T=0.58, vol=0.4000 | Calc: 7.3588615 , Exp: 7.3670000  | Err: 8.138543e-03"
          },
          "metadata": {}
        },
        {
          "output_type": "display_data",
          "data": {
            "text/plain": [
              "<IPython.core.display.Markdown object>"
            ],
            "text/markdown": "**<font color='red'>FAIL</font>** - Call | K=100.00, S=80.00 , q=0.0700, r=0.0300, T=3.00, vol=0.2000 | Calc: 2.6046058 , Exp: 2.6050000  | Err: 3.941599e-04"
          },
          "metadata": {}
        },
        {
          "output_type": "display_data",
          "data": {
            "text/plain": [
              "<IPython.core.display.Markdown object>"
            ],
            "text/markdown": "**<font color='red'>FAIL</font>** - Call | K=100.00, S=90.00 , q=0.0700, r=0.0300, T=3.00, vol=0.2000 | Calc: 5.1814994 , Exp: 5.1820000  | Err: 5.005876e-04"
          },
          "metadata": {}
        },
        {
          "output_type": "display_data",
          "data": {
            "text/plain": [
              "<IPython.core.display.Markdown object>"
            ],
            "text/markdown": "**<font color='green'>PASS</font>** - Call | K=100.00, S=100.00, q=0.0700, r=0.0300, T=3.00, vol=0.2000 | Calc: 9.0649096 , Exp: 9.0650000  | Err: 9.044887e-05"
          },
          "metadata": {}
        },
        {
          "output_type": "display_data",
          "data": {
            "text/plain": [
              "<IPython.core.display.Markdown object>"
            ],
            "text/markdown": "**<font color='red'>FAIL</font>** - Call | K=100.00, S=110.00, q=0.0700, r=0.0300, T=3.00, vol=0.2000 | Calc: 14.4302645, Exp: 14.4300000 | Err: 2.645425e-04"
          },
          "metadata": {}
        },
        {
          "output_type": "display_data",
          "data": {
            "text/plain": [
              "<IPython.core.display.Markdown object>"
            ],
            "text/markdown": "**<font color='green'>PASS</font>** - Call | K=100.00, S=120.00, q=0.0700, r=0.0300, T=3.00, vol=0.2000 | Calc: 21.3979450, Exp: 21.3980000 | Err: 5.502646e-05"
          },
          "metadata": {}
        },
        {
          "output_type": "display_data",
          "data": {
            "text/plain": [
              "<IPython.core.display.Markdown object>"
            ],
            "text/markdown": "**<font color='red'>FAIL</font>** - Call | K=100.00, S=80.00 , q=0.0700, r=0.0300, T=3.00, vol=0.4000 | Calc: 11.3357248, Exp: 11.3360000 | Err: 2.752235e-04"
          },
          "metadata": {}
        },
        {
          "output_type": "display_data",
          "data": {
            "text/plain": [
              "<IPython.core.display.Markdown object>"
            ],
            "text/markdown": "**<font color='green'>PASS</font>** - Call | K=100.00, S=90.00 , q=0.0700, r=0.0300, T=3.00, vol=0.4000 | Calc: 15.7111250, Exp: 15.7110000 | Err: 1.250079e-04"
          },
          "metadata": {}
        },
        {
          "output_type": "display_data",
          "data": {
            "text/plain": [
              "<IPython.core.display.Markdown object>"
            ],
            "text/markdown": "**<font color='green'>PASS</font>** - Call | K=100.00, S=100.00, q=0.0700, r=0.0300, T=3.00, vol=0.4000 | Calc: 20.7598424, Exp: 20.7600000 | Err: 1.575736e-04"
          },
          "metadata": {}
        },
        {
          "output_type": "display_data",
          "data": {
            "text/plain": [
              "<IPython.core.display.Markdown object>"
            ],
            "text/markdown": "**<font color='red'>FAIL</font>** - Call | K=100.00, S=110.00, q=0.0700, r=0.0300, T=3.00, vol=0.4000 | Calc: 26.4396974, Exp: 26.4400000 | Err: 3.025759e-04"
          },
          "metadata": {}
        },
        {
          "output_type": "display_data",
          "data": {
            "text/plain": [
              "<IPython.core.display.Markdown object>"
            ],
            "text/markdown": "**<font color='green'>PASS</font>** - Call | K=100.00, S=120.00, q=0.0700, r=0.0300, T=3.00, vol=0.4000 | Calc: 32.7090083, Exp: 32.7090000 | Err: 8.348855e-06"
          },
          "metadata": {}
        },
        {
          "output_type": "display_data",
          "data": {
            "text/plain": [
              "<IPython.core.display.Markdown object>"
            ],
            "text/markdown": "**<font color='red'>FAIL</font>** - Call | K=100.00, S=80.00 , q=0.0700, r=0.0000, T=3.00, vol=0.3000 | Calc: 5.5527786 , Exp: 5.5520000  | Err: 7.786295e-04"
          },
          "metadata": {}
        },
        {
          "output_type": "display_data",
          "data": {
            "text/plain": [
              "<IPython.core.display.Markdown object>"
            ],
            "text/markdown": "**<font color='red'>FAIL</font>** - Call | K=100.00, S=90.00 , q=0.0700, r=0.0000, T=3.00, vol=0.3000 | Calc: 8.8686573 , Exp: 8.8680000  | Err: 6.573492e-04"
          },
          "metadata": {}
        },
        {
          "output_type": "display_data",
          "data": {
            "text/plain": [
              "<IPython.core.display.Markdown object>"
            ],
            "text/markdown": "**<font color='red'>FAIL</font>** - Call | K=100.00, S=100.00, q=0.0700, r=0.0000, T=3.00, vol=0.3000 | Calc: 13.1585560, Exp: 13.1580000 | Err: 5.559768e-04"
          },
          "metadata": {}
        },
        {
          "output_type": "display_data",
          "data": {
            "text/plain": [
              "<IPython.core.display.Markdown object>"
            ],
            "text/markdown": "**<font color='red'>FAIL</font>** - Call | K=100.00, S=110.00, q=0.0700, r=0.0000, T=3.00, vol=0.3000 | Calc: 18.4587888, Exp: 18.4580000 | Err: 7.888020e-04"
          },
          "metadata": {}
        },
        {
          "output_type": "display_data",
          "data": {
            "text/plain": [
              "<IPython.core.display.Markdown object>"
            ],
            "text/markdown": "**<font color='red'>FAIL</font>** - Call | K=100.00, S=120.00, q=0.0700, r=0.0000, T=3.00, vol=0.3000 | Calc: 24.7865067, Exp: 24.7860000 | Err: 5.067331e-04"
          },
          "metadata": {}
        },
        {
          "output_type": "display_data",
          "data": {
            "text/plain": [
              "<IPython.core.display.Markdown object>"
            ],
            "text/markdown": "**<font color='red'>FAIL</font>** - Call | K=100.00, S=80.00 , q=0.0300, r=0.0700, T=3.00, vol=0.3000 | Calc: 12.1764787, Exp: 12.1770000 | Err: 5.212698e-04"
          },
          "metadata": {}
        },
        {
          "output_type": "display_data",
          "data": {
            "text/plain": [
              "<IPython.core.display.Markdown object>"
            ],
            "text/markdown": "**<font color='red'>FAIL</font>** - Call | K=100.00, S=90.00 , q=0.0300, r=0.0700, T=3.00, vol=0.3000 | Calc: 17.4107418, Exp: 17.4110000 | Err: 2.582121e-04"
          },
          "metadata": {}
        },
        {
          "output_type": "display_data",
          "data": {
            "text/plain": [
              "<IPython.core.display.Markdown object>"
            ],
            "text/markdown": "**<font color='red'>FAIL</font>** - Call | K=100.00, S=100.00, q=0.0300, r=0.0700, T=3.00, vol=0.3000 | Calc: 23.4022302, Exp: 23.4020000 | Err: 2.301841e-04"
          },
          "metadata": {}
        },
        {
          "output_type": "display_data",
          "data": {
            "text/plain": [
              "<IPython.core.display.Markdown object>"
            ],
            "text/markdown": "**<font color='green'>PASS</font>** - Call | K=100.00, S=110.00, q=0.0300, r=0.0700, T=3.00, vol=0.3000 | Calc: 30.0279160, Exp: 30.0280000 | Err: 8.397406e-05"
          },
          "metadata": {}
        },
        {
          "output_type": "display_data",
          "data": {
            "text/plain": [
              "<IPython.core.display.Markdown object>"
            ],
            "text/markdown": "**<font color='red'>FAIL</font>** - Call | K=100.00, S=120.00, q=0.0300, r=0.0700, T=3.00, vol=0.3000 | Calc: 37.1764718, Exp: 37.1770000 | Err: 5.281748e-04"
          },
          "metadata": {}
        },
        {
          "output_type": "stream",
          "name": "stdout",
          "text": [
            "----------------------------------------------------------------------\n",
            "Test Summary for Ju (Quadratic) Approximation Test: Passed: 7, Failed: 40, Total: 47\n",
            "----------------------------------------------------------------------\n",
            "\n",
            "All tests complete.\n"
          ]
        }
      ]
    }
  ],
  "metadata": {
    "colab": {
      "toc_visible": true,
      "provenance": [],
      "include_colab_link": true
    },
    "kernelspec": {
      "display_name": "Python 3",
      "name": "python3"
    }
  },
  "nbformat": 4,
  "nbformat_minor": 0
}