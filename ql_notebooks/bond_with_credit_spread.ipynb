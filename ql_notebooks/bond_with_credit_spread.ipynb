{
  "cells": [
    {
      "cell_type": "markdown",
      "metadata": {
        "id": "view-in-github",
        "colab_type": "text"
      },
      "source": [
        "<a href=\"https://colab.research.google.com/github/aderdouri/ql_web_app/blob/master/ql_notebooks/bond_with_credit_spread.ipynb\" target=\"_parent\"><img src=\"https://colab.research.google.com/assets/colab-badge.svg\" alt=\"Open In Colab\"/></a>"
      ]
    },
    {
      "cell_type": "markdown",
      "metadata": {
        "id": "77ioFpJENF_S"
      },
      "source": [
        "# Valuation of bonds with credit spreads"
      ]
    },
    {
      "cell_type": "code",
      "source": [
        "!pip install QuantLib-Python"
      ],
      "metadata": {
        "id": "2ogFElK9NQKp",
        "outputId": "5eb70632-7cfe-4f7b-ac2e-93a8613c87db",
        "colab": {
          "base_uri": "https://localhost:8080/"
        }
      },
      "execution_count": 1,
      "outputs": [
        {
          "output_type": "stream",
          "name": "stdout",
          "text": [
            "Collecting QuantLib-Python\n",
            "  Downloading QuantLib_Python-1.18-py2.py3-none-any.whl.metadata (1.0 kB)\n",
            "Collecting QuantLib (from QuantLib-Python)\n",
            "  Downloading QuantLib-1.36-cp38-abi3-manylinux_2_17_x86_64.manylinux2014_x86_64.whl.metadata (1.1 kB)\n",
            "Downloading QuantLib_Python-1.18-py2.py3-none-any.whl (1.4 kB)\n",
            "Downloading QuantLib-1.36-cp38-abi3-manylinux_2_17_x86_64.manylinux2014_x86_64.whl (19.6 MB)\n",
            "\u001b[2K   \u001b[90m━━━━━━━━━━━━━━━━━━━━━━━━━━━━━━━━━━━━━━━━\u001b[0m \u001b[32m19.6/19.6 MB\u001b[0m \u001b[31m16.7 MB/s\u001b[0m eta \u001b[36m0:00:00\u001b[0m\n",
            "\u001b[?25hInstalling collected packages: QuantLib, QuantLib-Python\n",
            "Successfully installed QuantLib-1.36 QuantLib-Python-1.18\n"
          ]
        }
      ]
    },
    {
      "cell_type": "markdown",
      "metadata": {
        "id": "q2bm1czONF_T"
      },
      "source": [
        "In an earlier example on pricing fixed rate bonds, I demonstrated how to construct and value bonds using the given yield curve. In this example, let us take a look at valuing bonds with credit spreads. We will show how to add credit spreads to the give yield curve using different approaches.\n",
        "\n",
        "As usual, let us start by importing the QuantLib library and pick a valuation date and set the calculation instance evaluation date."
      ]
    },
    {
      "cell_type": "code",
      "execution_count": 2,
      "metadata": {
        "id": "kaOcKdqmNF_U"
      },
      "outputs": [],
      "source": [
        "import QuantLib as ql\n",
        "calc_date = ql.Date(26, 7, 2016)\n",
        "ql.Settings.instance().evaluationDate = calc_date"
      ]
    },
    {
      "cell_type": "markdown",
      "metadata": {
        "id": "8b32TB0cNF_U"
      },
      "source": [
        "For simplicity, let us imagine that the treasury yield curve is flat. This makes it easier to construct the yield curve easily. This also allows us to directly shock the yield curve, and provides a validation for the more general treatment of shocks on yield curve."
      ]
    },
    {
      "cell_type": "code",
      "execution_count": 3,
      "metadata": {
        "id": "qBw94rCKNF_V"
      },
      "outputs": [],
      "source": [
        "flat_rate = ql.SimpleQuote(0.0015)\n",
        "rate_handle = ql.QuoteHandle(flat_rate)\n",
        "day_count = ql.Actual360()\n",
        "calendar = ql.UnitedStates(ql.UnitedStates.GovernmentBond)\n",
        "ts_yield = ql.FlatForward(calc_date, rate_handle, day_count)\n",
        "ts_handle = ql.YieldTermStructureHandle(ts_yield)"
      ]
    },
    {
      "cell_type": "markdown",
      "metadata": {
        "id": "YiMoqoEvNF_V"
      },
      "source": [
        "Now let us construct the bond itself. We do that by first constructing the schedule, and then passing the schedule into the bond."
      ]
    },
    {
      "cell_type": "code",
      "execution_count": 4,
      "metadata": {
        "id": "KpC7KaJINF_V"
      },
      "outputs": [],
      "source": [
        "issue_date = ql.Date(15, 7, 2016)\n",
        "maturity_date = ql.Date(15, 7, 2021)\n",
        "tenor = ql.Period(ql.Semiannual)\n",
        "calendar = ql.UnitedStates(ql.UnitedStates.GovernmentBond)\n",
        "business_convention = ql.Unadjusted\n",
        "date_generation = ql.DateGeneration.Backward\n",
        "month_end = False\n",
        "schedule = ql.Schedule(issue_date, maturity_date,\n",
        "                       tenor, calendar,\n",
        "                       business_convention,\n",
        "                       business_convention,\n",
        "                       date_generation,\n",
        "                       month_end)"
      ]
    },
    {
      "cell_type": "code",
      "execution_count": 5,
      "metadata": {
        "id": "GsjGLoQENF_V"
      },
      "outputs": [],
      "source": [
        "settlement_days = 2\n",
        "day_count = ql.Thirty360(ql.Thirty360.BondBasis)\n",
        "coupon_rate = 0.03\n",
        "coupons = [coupon_rate]\n",
        "\n",
        "# Now lets construct the FixedRateBond\n",
        "settlement_days = 0\n",
        "face_value = 100\n",
        "fixed_rate_bond = ql.FixedRateBond(\n",
        "    settlement_days,\n",
        "    face_value,\n",
        "    schedule,\n",
        "    coupons,\n",
        "    day_count)"
      ]
    },
    {
      "cell_type": "markdown",
      "metadata": {
        "id": "PEZ9yMioNF_W"
      },
      "source": [
        "Now that we have the `fixed_rate_bond` object, we can create a `DiscountingBondEngine` and value the bond."
      ]
    },
    {
      "cell_type": "code",
      "execution_count": 6,
      "metadata": {
        "id": "qNukX7vrNF_W",
        "outputId": "dfb215be-0d2d-4719-d5d4-3ab4b4c9b932",
        "colab": {
          "base_uri": "https://localhost:8080/"
        }
      },
      "outputs": [
        {
          "output_type": "execute_result",
          "data": {
            "text/plain": [
              "114.18461651948999"
            ]
          },
          "metadata": {},
          "execution_count": 6
        }
      ],
      "source": [
        "bond_engine = ql.DiscountingBondEngine(ts_handle)\n",
        "fixed_rate_bond.setPricingEngine(bond_engine)\n",
        "fixed_rate_bond.NPV()"
      ]
    },
    {
      "cell_type": "markdown",
      "metadata": {
        "id": "GhcMHw3lNF_W"
      },
      "source": [
        "So far, we have valued the bond under the treasury yield curve and have not incorporated the credit spreads. Let us assume that the market prices this bond with a `50BP` spread on top of the treasury yield curve. Now we can, in this case, directly shock the `flat_rate` used in the yield term structure. Let us see what the value is:"
      ]
    },
    {
      "cell_type": "code",
      "execution_count": 7,
      "metadata": {
        "id": "rPwfri6uNF_W",
        "outputId": "df30fd68-1ed4-45ce-cb17-6ccabd9aabb6",
        "colab": {
          "base_uri": "https://localhost:8080/"
        }
      },
      "outputs": [
        {
          "output_type": "execute_result",
          "data": {
            "text/plain": [
              "111.5097766266561"
            ]
          },
          "metadata": {},
          "execution_count": 7
        }
      ],
      "source": [
        "flat_rate.setValue(0.0065)\n",
        "fixed_rate_bond.NPV()"
      ]
    },
    {
      "cell_type": "markdown",
      "metadata": {
        "id": "ffYrwAYsNF_W"
      },
      "source": [
        "Above we shocked the `flat_rate` and since the yield term structure is an `Observer` observing the `Observable` `flat_rate`, we could just shock the rate, and QuantLib behind the scenes recalculates all the `Observer`s. Though, this approach is not always viable, in cases such as a bootstrapped bond curve. So let us look at two different approaches that can be used. Before we do that, we need to reset the `flat_rate` back to what it was."
      ]
    },
    {
      "cell_type": "code",
      "execution_count": 8,
      "metadata": {
        "id": "fqw4eAw3NF_X",
        "outputId": "b8aef142-9050-484a-cd00-d2515293ad25",
        "colab": {
          "base_uri": "https://localhost:8080/"
        }
      },
      "outputs": [
        {
          "output_type": "execute_result",
          "data": {
            "text/plain": [
              "114.18461651948999"
            ]
          },
          "metadata": {},
          "execution_count": 8
        }
      ],
      "source": [
        "flat_rate.setValue(0.0015)\n",
        "fixed_rate_bond.NPV()"
      ]
    },
    {
      "cell_type": "markdown",
      "metadata": {
        "id": "ACDo7OchNF_X"
      },
      "source": [
        "#### Parallel Shift of the Yield Curve\n",
        "\n",
        "The whole yield curve can be shifted up and down, and the bond revalued with the help of the `ZeroSpreadedTermStructure`. The constructor takes the yield curve and the spread as argument."
      ]
    },
    {
      "cell_type": "code",
      "execution_count": 9,
      "metadata": {
        "id": "cx0Mw7FANF_X",
        "outputId": "0d4a86e2-fffc-476c-fdd8-30e1b0242b1b",
        "colab": {
          "base_uri": "https://localhost:8080/"
        }
      },
      "outputs": [
        {
          "output_type": "execute_result",
          "data": {
            "text/plain": [
              "111.50977662665609"
            ]
          },
          "metadata": {},
          "execution_count": 9
        }
      ],
      "source": [
        "spread1 = ql.SimpleQuote(0.0050)\n",
        "spread_handle1 = ql.QuoteHandle(spread1)\n",
        "ts_spreaded1 = ql.ZeroSpreadedTermStructure(ts_handle, spread_handle1)\n",
        "ts_spreaded_handle1 = ql.YieldTermStructureHandle(ts_spreaded1)\n",
        "\n",
        "bond_engine = ql.DiscountingBondEngine(ts_spreaded_handle1)\n",
        "fixed_rate_bond.setPricingEngine(bond_engine)\n",
        "\n",
        "# Finally the price\n",
        "fixed_rate_bond.NPV()"
      ]
    },
    {
      "cell_type": "markdown",
      "metadata": {
        "id": "kh6OZ59zNF_X"
      },
      "source": [
        "Once we have constructed the spreaded term structure, it is rather easy to value for other spreads. All we need to do is change the `SimpleQuote` object `spread1` here."
      ]
    },
    {
      "cell_type": "code",
      "execution_count": 10,
      "metadata": {
        "id": "WQAAbdmGNF_X",
        "outputId": "a287f6ae-acc4-4210-c1c6-8905b7c3c5d8",
        "colab": {
          "base_uri": "https://localhost:8080/"
        }
      },
      "outputs": [
        {
          "output_type": "execute_result",
          "data": {
            "text/plain": [
              "108.89999943320038"
            ]
          },
          "metadata": {},
          "execution_count": 10
        }
      ],
      "source": [
        "spread1.setValue(0.01)\n",
        "fixed_rate_bond.NPV()"
      ]
    },
    {
      "cell_type": "markdown",
      "metadata": {
        "id": "DptedMMoNF_X"
      },
      "source": [
        "#### Non-Parallel Shift of the Yield Curve\n",
        "The above method allows only for parallel shift of the yield curve. The `SpreadedLinearZeroInterpolatedTermStructure` class allows for non parallel shock. First, let us mimic a parallel shift using this class. For the constructor, we need to pass the yield term structure that we wish to shift, and the a list of spreads and a list of the corresponding dates."
      ]
    },
    {
      "cell_type": "code",
      "execution_count": 11,
      "metadata": {
        "id": "LFKJJXKlNF_X",
        "outputId": "d095c811-e8b4-4278-bf81-7b07ee7763f8",
        "colab": {
          "base_uri": "https://localhost:8080/"
        }
      },
      "outputs": [
        {
          "output_type": "execute_result",
          "data": {
            "text/plain": [
              "111.50977662665609"
            ]
          },
          "metadata": {},
          "execution_count": 11
        }
      ],
      "source": [
        "spread21 = ql.SimpleQuote(0.0050)\n",
        "spread22 = ql.SimpleQuote(0.0050)\n",
        "start_date = calc_date\n",
        "end_date = calendar.advance(start_date, ql.Period(50, ql.Years))\n",
        "ts_spreaded2 = ql.SpreadedLinearZeroInterpolatedTermStructure(\n",
        "    ts_handle,\n",
        "    [ql.QuoteHandle(spread21), ql.QuoteHandle(spread22)],\n",
        "    [start_date, end_date]\n",
        ")\n",
        "ts_spreaded_handle2 = ql.YieldTermStructureHandle(ts_spreaded2)\n",
        "\n",
        "bond_engine = ql.DiscountingBondEngine(ts_spreaded_handle2)\n",
        "fixed_rate_bond.setPricingEngine(bond_engine)\n",
        "\n",
        "# Finally the price\n",
        "fixed_rate_bond.NPV()"
      ]
    },
    {
      "cell_type": "markdown",
      "metadata": {
        "id": "4M9QT_XyNF_X"
      },
      "source": [
        "Here, once again we can change the value of `spread2` to value for other shocks."
      ]
    },
    {
      "cell_type": "code",
      "execution_count": 12,
      "metadata": {
        "id": "XVFTJ5kXNF_X",
        "outputId": "f8f17c50-153e-456d-a805-06d09315f97c",
        "colab": {
          "base_uri": "https://localhost:8080/"
        }
      },
      "outputs": [
        {
          "output_type": "execute_result",
          "data": {
            "text/plain": [
              "108.89999943320038"
            ]
          },
          "metadata": {},
          "execution_count": 12
        }
      ],
      "source": [
        "spread21.setValue(0.01)\n",
        "spread22.setValue(0.01)\n",
        "fixed_rate_bond.NPV()"
      ]
    },
    {
      "cell_type": "markdown",
      "metadata": {
        "id": "7l9fDvXUNF_Y"
      },
      "source": [
        "We can easily do non-parallel shifts just by shocking one end."
      ]
    },
    {
      "cell_type": "code",
      "execution_count": 13,
      "metadata": {
        "id": "zP7SQ6_bNF_Y",
        "outputId": "947069a6-9b62-4f3a-ab1a-e9b08843a6f1",
        "colab": {
          "base_uri": "https://localhost:8080/"
        }
      },
      "outputs": [
        {
          "output_type": "execute_result",
          "data": {
            "text/plain": [
              "111.25358792334083"
            ]
          },
          "metadata": {},
          "execution_count": 13
        }
      ],
      "source": [
        "spread21.setValue(0.005)\n",
        "spread22.setValue(0.01)\n",
        "fixed_rate_bond.NPV()"
      ]
    },
    {
      "cell_type": "markdown",
      "metadata": {
        "id": "5Yt_M3EONF_Y"
      },
      "source": [
        "The `SpreadedLinearZeroInterpolatedTermStructure` is a powerful class and can be used to implement key-rate duration calculations."
      ]
    },
    {
      "cell_type": "code",
      "source": [],
      "metadata": {
        "id": "SNFR6WtjNe1x"
      },
      "execution_count": null,
      "outputs": []
    }
  ],
  "metadata": {
    "kernelspec": {
      "display_name": "Python 3 (ipykernel)",
      "language": "python",
      "name": "python3"
    },
    "language_info": {
      "codemirror_mode": {
        "name": "ipython",
        "version": 3
      },
      "file_extension": ".py",
      "mimetype": "text/x-python",
      "name": "python",
      "nbconvert_exporter": "python",
      "pygments_lexer": "ipython3",
      "version": "3.10.8"
    },
    "colab": {
      "provenance": [],
      "include_colab_link": true
    }
  },
  "nbformat": 4,
  "nbformat_minor": 0
}