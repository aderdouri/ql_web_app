{
  "cells": [
    {
      "cell_type": "markdown",
      "metadata": {
        "id": "view-in-github",
        "colab_type": "text"
      },
      "source": [
        "<a href=\"https://colab.research.google.com/github/aderdouri/ql_web_app/blob/master/ql_notebooks/americanOptionTestBaroneAdesiWhaleyValues.ipynb\" target=\"_parent\"><img src=\"https://colab.research.google.com/assets/colab-badge.svg\" alt=\"Open In Colab\"/></a>"
      ]
    },
    {
      "cell_type": "code",
      "source": [
        "!pip install QuantLib-Python"
      ],
      "metadata": {
        "id": "FF0CFP5vvEOB",
        "outputId": "d7a26383-1ab5-4c70-ee82-e76a2e762d4c",
        "colab": {
          "base_uri": "https://localhost:8080/"
        }
      },
      "execution_count": null,
      "outputs": [
        {
          "output_type": "stream",
          "name": "stdout",
          "text": [
            "Collecting QuantLib-Python\n",
            "  Downloading QuantLib_Python-1.18-py2.py3-none-any.whl.metadata (1.0 kB)\n",
            "Collecting QuantLib (from QuantLib-Python)\n",
            "  Downloading quantlib-1.38-cp38-abi3-manylinux_2_17_x86_64.manylinux2014_x86_64.whl.metadata (1.1 kB)\n",
            "Downloading QuantLib_Python-1.18-py2.py3-none-any.whl (1.4 kB)\n",
            "Downloading quantlib-1.38-cp38-abi3-manylinux_2_17_x86_64.manylinux2014_x86_64.whl (20.0 MB)\n",
            "\u001b[2K   \u001b[90m━━━━━━━━━━━━━━━━━━━━━━━━━━━━━━━━━━━━━━━━\u001b[0m \u001b[32m20.0/20.0 MB\u001b[0m \u001b[31m25.3 MB/s\u001b[0m eta \u001b[36m0:00:00\u001b[0m\n",
            "\u001b[?25hInstalling collected packages: QuantLib, QuantLib-Python\n",
            "Successfully installed QuantLib-1.38 QuantLib-Python-1.18\n"
          ]
        }
      ]
    },
    {
      "cell_type": "code",
      "source": [
        "import QuantLib as ql\n",
        "import sys\n",
        "\n",
        "# --- Configuration & Data ---\n",
        "\n",
        "# Determine if running in interactive environment (like Jupyter) to adjust output\n",
        "is_interactive = hasattr(sys, 'ps1')\n",
        "\n",
        "# American option test data (same as provided)\n",
        "# Columns: type, strike, spot, q (dividend yield), r (risk-free rate), t (time to maturity in years), vol (volatility), expected_result\n",
        "american_option_data = [\n",
        "    # type,         strike, spot,   q,    r,    t,    vol,  expected\n",
        "    (ql.Option.Call, 100.0,  90.0, 0.10, 0.10, 0.10, 0.15,  0.0206),\n",
        "    (ql.Option.Call, 100.0, 100.0, 0.10, 0.10, 0.10, 0.15,  1.8771),\n",
        "    (ql.Option.Call, 100.0, 110.0, 0.10, 0.10, 0.10, 0.15, 10.0089),\n",
        "    (ql.Option.Put,  100.0,  90.0, 0.10, 0.10, 0.10, 0.15, 10.0000),\n",
        "    (ql.Option.Put,  100.0, 100.0, 0.10, 0.10, 0.10, 0.15,  1.8770),\n",
        "    (ql.Option.Put,  100.0, 110.0, 0.10, 0.10, 0.10, 0.15,  0.0410),\n",
        "]\n",
        "\n",
        "# --- Global Settings ---\n",
        "\n",
        "# Set evaluation date (using a fixed date for reproducibility instead of todaysDate())\n",
        "# calculation_date = ql.Date.todaysDate()\n",
        "calculation_date = ql.Date(15, 5, 2023) # Example fixed date\n",
        "ql.Settings.instance().evaluationDate = calculation_date\n",
        "\n",
        "# Define Day Counter and Calendar\n",
        "day_counter = ql.Actual360()\n",
        "calendar = ql.NullCalendar() # Using NullCalendar as holidays are not relevant here\n",
        "\n",
        "# Define Tolerance for comparison\n",
        "tolerance = 3.0e-3 # 0.003\n",
        "\n",
        "# --- Market Data Setup (using Handles for dynamic updates) ---\n",
        "\n",
        "# Create SimpleQuote objects to hold the values that will change in the loop\n",
        "spot_quote = ql.SimpleQuote(0.0)\n",
        "q_rate_quote = ql.SimpleQuote(0.0) # Dividend yield\n",
        "r_rate_quote = ql.SimpleQuote(0.0) # Risk-free rate\n",
        "vol_quote = ql.SimpleQuote(0.0)    # Volatility\n",
        "\n",
        "# Wrap quotes in Handles. Term structures will observe changes through these handles.\n",
        "spot_handle = ql.QuoteHandle(spot_quote)\n",
        "q_rate_handle = ql.QuoteHandle(q_rate_quote)\n",
        "r_rate_handle = ql.QuoteHandle(r_rate_quote)\n",
        "vol_handle = ql.QuoteHandle(vol_quote)\n",
        "\n",
        "# Create flat term structures for rates and volatility\n",
        "# Dividend yield curve\n",
        "q_yield_term_structure = ql.YieldTermStructureHandle(\n",
        "    ql.FlatForward(calculation_date, q_rate_handle, day_counter)\n",
        ")\n",
        "# Risk-free rate curve\n",
        "r_yield_term_structure = ql.YieldTermStructureHandle(\n",
        "    ql.FlatForward(calculation_date, r_rate_handle, day_counter)\n",
        ")\n",
        "# Volatility surface (flat in this case)\n",
        "volatility_term_structure = ql.BlackVolTermStructureHandle(\n",
        "    ql.BlackConstantVol(calculation_date, calendar, vol_handle, day_counter)\n",
        ")\n",
        "\n",
        "# --- Test Execution Loop ---\n",
        "\n",
        "print(\"--- American Option Pricing Test (Barone-Adesi/Whaley) ---\")\n",
        "print(f\"Evaluation Date: {calculation_date.ISO()}\")\n",
        "print(f\"Tolerance: {tolerance}\")\n",
        "print(\"-\" * 60)\n",
        "\n",
        "for i, data in enumerate(american_option_data):\n",
        "    opt_type, strike, s, q, r, t, v, expected = data\n",
        "\n",
        "    # 1. Update Market Data Quotes (Term Structures update automatically via Handles)\n",
        "    spot_quote.setValue(s)\n",
        "    q_rate_quote.setValue(q)\n",
        "    r_rate_quote.setValue(r)\n",
        "    vol_quote.setValue(v)\n",
        "\n",
        "    # 2. Define Option Specifics\n",
        "    payoff = ql.PlainVanillaPayoff(opt_type, strike)\n",
        "\n",
        "    # Calculate maturity date based on time 't' in years\n",
        "    # Note: `int(t * 360)` is a crude approximation as used in the original description.\n",
        "    # Using ql.Period might be more robust for different day counters if needed.\n",
        "    # maturity_date = calculation_date + ql.Period(int(round(t*365)), ql.Days) # Alternative\n",
        "    maturity_date = calculation_date + int(t * 360)\n",
        "\n",
        "    exercise = ql.AmericanExercise(calculation_date, maturity_date)\n",
        "\n",
        "    # 3. Create Stochastic Process\n",
        "    # Black-Scholes-Merton process using the handles to the market data\n",
        "    bsm_process = ql.BlackScholesMertonProcess(\n",
        "        spot_handle,\n",
        "        q_yield_term_structure,\n",
        "        r_yield_term_structure,\n",
        "        volatility_term_structure\n",
        "    )\n",
        "\n",
        "    # 4. Define the Pricing Engine\n",
        "    # Using Barone-Adesi/Whaley approximation engine for American options\n",
        "    engine = ql.BaroneAdesiWhaleyApproximationEngine(bsm_process)\n",
        "    # Other engines like Binomial (e.g., ql.BinomialVanillaEngine(bsm_process, \"crr\", 100))\n",
        "    # or Finite Difference (e.g., ql.FdBlackScholesVanillaEngine(bsm_process)) could also be used.\n",
        "\n",
        "    # 5. Create the Option Instrument\n",
        "    american_option = ql.VanillaOption(payoff, exercise)\n",
        "\n",
        "    # 6. Assign the Engine to the Option\n",
        "    american_option.setPricingEngine(engine)\n",
        "\n",
        "    # 7. Calculate the Price (NPV)\n",
        "    calculated_price = american_option.NPV()\n",
        "\n",
        "    # 8. Compare and Report\n",
        "    error = abs(calculated_price - expected)\n",
        "\n",
        "    option_type_str = \"Call\" if opt_type == ql.Option.Call else \"Put\"\n",
        "\n",
        "    # Use rich display for PASS/FAIL in interactive environments\n",
        "    pass_fail_str = \"PASS\" if error <= tolerance else \"FAIL\"\n",
        "\n",
        "    if is_interactive:\n",
        "        from IPython.display import display, Markdown\n",
        "        color = \"green\" if pass_fail_str == \"PASS\" else \"red\"\n",
        "        md_str = f\"**<font color='{color}'>{pass_fail_str}</font>** - {option_type_str:4s} | K={strike:.1f}, S={s:.1f}, q={q:.2f}, r={r:.2f}, T={t:.2f}, vol={v:.2f} | Calc: {calculated_price:.4f}, Exp: {expected:.4f} | Err: {error:.6f}\"\n",
        "        display(Markdown(md_str))\n",
        "    else: # Standard console output\n",
        "        print(f\"{pass_fail_str:4s} - {option_type_str:4s} | K={strike:<5.1f}, S={s:<5.1f}, q={q:.2f}, r={r:.2f}, T={t:.2f}, vol={v:.2f}\", end=\"\")\n",
        "        print(f\" | Calc: {calculated_price:<8.4f}, Exp: {expected:<8.4f} | Error: {error:.6f}\")\n",
        "\n",
        "    # Optional: Print more details on failure\n",
        "    # if error > tolerance:\n",
        "    #     print(f\"  FAILURE Details:\")\n",
        "    #     print(f\"    Input Params: type={option_type_str}, strike={strike}, spot={s}, q={q}, r={r}, t={t}, vol={v}\")\n",
        "    #     print(f\"    Expected: {expected:.4f}\")\n",
        "    #     print(f\"    Calculated: {calculated_price:.4f}\")\n",
        "    #     print(f\"    Error: {error:.6f} (Tolerance: {tolerance})\")\n",
        "    #     print(\"-\" * 20)\n",
        "\n",
        "print(\"-\" * 60)\n",
        "print(\"Test complete.\")"
      ],
      "metadata": {
        "id": "jQGIB1stvAMn",
        "outputId": "1822575c-3a62-4dc2-cbbc-28ce3e7a9b5f",
        "colab": {
          "base_uri": "https://localhost:8080/",
          "height": 267
        }
      },
      "execution_count": null,
      "outputs": [
        {
          "output_type": "stream",
          "name": "stdout",
          "text": [
            "--- American Option Pricing Test (Barone-Adesi/Whaley) ---\n",
            "Evaluation Date: 2023-05-15\n",
            "Tolerance: 0.003\n",
            "------------------------------------------------------------\n"
          ]
        },
        {
          "output_type": "display_data",
          "data": {
            "text/plain": [
              "<IPython.core.display.Markdown object>"
            ],
            "text/markdown": "**<font color='green'>PASS</font>** - Call | K=100.0, S=90.0, q=0.10, r=0.10, T=0.10, vol=0.15 | Calc: 0.0206, Exp: 0.0206 | Err: 0.000036"
          },
          "metadata": {}
        },
        {
          "output_type": "display_data",
          "data": {
            "text/plain": [
              "<IPython.core.display.Markdown object>"
            ],
            "text/markdown": "**<font color='green'>PASS</font>** - Call | K=100.0, S=100.0, q=0.10, r=0.10, T=0.10, vol=0.15 | Calc: 1.8769, Exp: 1.8771 | Err: 0.000179"
          },
          "metadata": {}
        },
        {
          "output_type": "display_data",
          "data": {
            "text/plain": [
              "<IPython.core.display.Markdown object>"
            ],
            "text/markdown": "**<font color='green'>PASS</font>** - Call | K=100.0, S=110.0, q=0.10, r=0.10, T=0.10, vol=0.15 | Calc: 10.0061, Exp: 10.0089 | Err: 0.002840"
          },
          "metadata": {}
        },
        {
          "output_type": "display_data",
          "data": {
            "text/plain": [
              "<IPython.core.display.Markdown object>"
            ],
            "text/markdown": "**<font color='green'>PASS</font>** - Put  | K=100.0, S=90.0, q=0.10, r=0.10, T=0.10, vol=0.15 | Calc: 10.0000, Exp: 10.0000 | Err: 0.000000"
          },
          "metadata": {}
        },
        {
          "output_type": "display_data",
          "data": {
            "text/plain": [
              "<IPython.core.display.Markdown object>"
            ],
            "text/markdown": "**<font color='green'>PASS</font>** - Put  | K=100.0, S=100.0, q=0.10, r=0.10, T=0.10, vol=0.15 | Calc: 1.8769, Exp: 1.8770 | Err: 0.000078"
          },
          "metadata": {}
        },
        {
          "output_type": "display_data",
          "data": {
            "text/plain": [
              "<IPython.core.display.Markdown object>"
            ],
            "text/markdown": "**<font color='green'>PASS</font>** - Put  | K=100.0, S=110.0, q=0.10, r=0.10, T=0.10, vol=0.15 | Calc: 0.0410, Exp: 0.0410 | Err: 0.000004"
          },
          "metadata": {}
        },
        {
          "output_type": "stream",
          "name": "stdout",
          "text": [
            "------------------------------------------------------------\n",
            "Test complete.\n"
          ]
        }
      ]
    },
    {
      "cell_type": "code",
      "source": [],
      "metadata": {
        "id": "4BArl68CvOB4"
      },
      "execution_count": null,
      "outputs": []
    }
  ],
  "metadata": {
    "colab": {
      "toc_visible": true,
      "provenance": [],
      "include_colab_link": true
    },
    "kernelspec": {
      "display_name": "Python 3",
      "name": "python3"
    }
  },
  "nbformat": 4,
  "nbformat_minor": 0
}