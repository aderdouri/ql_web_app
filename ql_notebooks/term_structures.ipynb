{
  "cells": [
    {
      "cell_type": "markdown",
      "metadata": {
        "id": "u7EyfQP95aDq"
      },
      "source": [
        "<a href=\"https://colab.research.google.com/github/aderdouri/ql_web_app/blob/master/ql_notebooks/term_structures.ipynb\" target=\"_parent\"><img src=\"https://colab.research.google.com/assets/colab-badge.svg\" alt=\"Open In Colab\"/></a>"
      ]
    },
    {
      "cell_type": "markdown",
      "metadata": {
        "id": "Vf7oCwZS5aDr"
      },
      "source": [
        "# Term structures and their reference dates"
      ]
    },
    {
      "cell_type": "markdown",
      "metadata": {
        "id": "yCasux7Y5aDs"
      },
      "source": [
        "In this notebook, I show briefly how to set up term structures so that they track (or don't track) the global evaluation date."
      ]
    },
    {
      "cell_type": "markdown",
      "metadata": {
        "id": "GMPSmGwu5aDs"
      },
      "source": [
        "#### Setup"
      ]
    },
    {
      "cell_type": "markdown",
      "metadata": {
        "id": "CEUQfy8Z5aDt"
      },
      "source": [
        "Import the QuantLib module and set up the global evaluation date. You might want to take note of the date, since we'll be moving it around later on."
      ]
    },
    {
      "cell_type": "code",
      "execution_count": 1,
      "metadata": {
        "id": "FBnyeKAS5aDt",
        "outputId": "5f6a4251-fed7-4444-cf9a-f021eff0ccb0",
        "colab": {
          "base_uri": "https://localhost:8080/"
        }
      },
      "outputs": [
        {
          "output_type": "stream",
          "name": "stdout",
          "text": [
            "Collecting QuantLib-Python\n",
            "  Downloading QuantLib_Python-1.18-py2.py3-none-any.whl.metadata (1.0 kB)\n",
            "Collecting QuantLib (from QuantLib-Python)\n",
            "  Downloading quantlib-1.38-cp38-abi3-manylinux_2_17_x86_64.manylinux2014_x86_64.whl.metadata (1.1 kB)\n",
            "Downloading QuantLib_Python-1.18-py2.py3-none-any.whl (1.4 kB)\n",
            "Downloading quantlib-1.38-cp38-abi3-manylinux_2_17_x86_64.manylinux2014_x86_64.whl (20.0 MB)\n",
            "\u001b[2K   \u001b[90m━━━━━━━━━━━━━━━━━━━━━━━━━━━━━━━━━━━━━━━━\u001b[0m \u001b[32m20.0/20.0 MB\u001b[0m \u001b[31m42.0 MB/s\u001b[0m eta \u001b[36m0:00:00\u001b[0m\n",
            "\u001b[?25hInstalling collected packages: QuantLib, QuantLib-Python\n",
            "Successfully installed QuantLib-1.38 QuantLib-Python-1.18\n"
          ]
        }
      ],
      "source": [
        "!pip install QuantLib-Python"
      ]
    },
    {
      "cell_type": "code",
      "source": [
        "import urllib.request\n",
        "import importlib.util\n",
        "import sys\n",
        "\n",
        "# URL of the Python file\n",
        "url = 'https://raw.githubusercontent.com/aderdouri/ql_web_app/master/ql_notebooks/utils.py'\n",
        "\n",
        "# Download the file\n",
        "urllib.request.urlretrieve(url, 'utils.py')\n",
        "\n",
        "# Import the module\n",
        "spec = importlib.util.spec_from_file_location(\"utils\", \"utils.py\")\n",
        "utils = importlib.util.module_from_spec(spec)\n",
        "sys.modules[\"utils\"] = utils\n",
        "spec.loader.exec_module(utils)"
      ],
      "metadata": {
        "id": "2olDLqdN6Jro"
      },
      "execution_count": 14,
      "outputs": []
    },
    {
      "cell_type": "code",
      "execution_count": 15,
      "metadata": {
        "id": "bAzAf73d5aDu"
      },
      "outputs": [],
      "source": [
        "import QuantLib as ql"
      ]
    },
    {
      "cell_type": "code",
      "execution_count": 16,
      "metadata": {
        "id": "0DUxgoVV5aDu"
      },
      "outputs": [],
      "source": [
        "ql.Settings.instance().evaluationDate = ql.Date(3, ql.October, 2014)"
      ]
    },
    {
      "cell_type": "markdown",
      "metadata": {
        "id": "iTg5cTH55aDv"
      },
      "source": [
        "#### Specifying the reference date of a term structure"
      ]
    },
    {
      "cell_type": "markdown",
      "metadata": {
        "id": "l4Pz---a5aDv"
      },
      "source": [
        "In not-too-accurate terms, the reference date of a term structure is where it begins.  It can be the evaluation date, but you might also want it to start on the spot date, for instance.\n",
        "\n",
        "We have two possibilities to define a reference date for a curve&mdash;even though some particular classes only allow one of them.\n",
        "\n",
        "The first is to define it by means of a (possibly null) offset from the current evaluation date; e.g., \"two business days after the evaluation date\" to define it as the spot date, or \"no business days\" to define it as the evaluation date itself. I'll do it here by building a sample curve over a few swaps."
      ]
    },
    {
      "cell_type": "markdown",
      "metadata": {
        "id": "xTKUsSQl5aDv"
      },
      "source": [
        "Never mind the helper object that I'm building here..."
      ]
    },
    {
      "cell_type": "code",
      "execution_count": 17,
      "metadata": {
        "id": "LqH3fJj25aDv"
      },
      "outputs": [],
      "source": [
        "helpers = [ ql.SwapRateHelper(ql.QuoteHandle(ql.SimpleQuote(rate/100.0)),\n",
        "                              ql.Period(*tenor), ql.TARGET(),\n",
        "                              ql.Annual, ql.Unadjusted,\n",
        "                              ql.Thirty360(ql.Thirty360.BondBasis),\n",
        "                              ql.Euribor6M())\n",
        "            for tenor, rate in [((2,ql.Years), 0.201),\n",
        "                                ((3,ql.Years), 0.258),\n",
        "                                ((5,ql.Years), 0.464),\n",
        "                                ((10,ql.Years), 1.151),\n",
        "                                ((15,ql.Years), 1.588)] ]"
      ]
    },
    {
      "cell_type": "markdown",
      "metadata": {
        "id": "MSIgC3b55aDw"
      },
      "source": [
        "...because the construction of the curve is the main point: note the `0` and `TARGET()` arguments, specifying the number of days and the calendar used to determine business days."
      ]
    },
    {
      "cell_type": "code",
      "execution_count": 18,
      "metadata": {
        "id": "01Z71PbA5aDw"
      },
      "outputs": [],
      "source": [
        "curve1 = ql.PiecewiseFlatForward(0, ql.TARGET(), helpers, ql.Actual360())"
      ]
    },
    {
      "cell_type": "markdown",
      "metadata": {
        "id": "C3qQV31D5aDw"
      },
      "source": [
        "The second possibility is to specify the reference date explicitly. For instance, the `ForwardCurve` class takes a vector of specific dates and the corresponding rates and interpolates between them; the first passed date is taken as the reference date of the curve."
      ]
    },
    {
      "cell_type": "markdown",
      "metadata": {
        "id": "W3fXT0wa5aDw"
      },
      "source": [
        "For comparison purposes, I'll ask the curve above for its nodes and use them to build a `ForwardCurve` instance:"
      ]
    },
    {
      "cell_type": "code",
      "execution_count": 19,
      "metadata": {
        "id": "CCuK1G6z5aDw"
      },
      "outputs": [],
      "source": [
        "dates, rates = zip(*curve1.nodes())"
      ]
    },
    {
      "cell_type": "code",
      "execution_count": 20,
      "metadata": {
        "id": "tiIz48V15aDw",
        "outputId": "d5f05b4b-b345-4111-cf8a-f917d8891c64",
        "colab": {
          "base_uri": "https://localhost:8080/"
        }
      },
      "outputs": [
        {
          "output_type": "execute_result",
          "data": {
            "text/plain": [
              "((Date(3,10,2014), 0.0019777694879293093),\n",
              " (Date(7,10,2016), 0.0019777694879293093),\n",
              " (Date(9,10,2017), 0.0036475517704509294),\n",
              " (Date(7,10,2019), 0.007660760701876805),\n",
              " (Date(7,10,2024), 0.018414773669420893),\n",
              " (Date(8,10,2029), 0.025311634328221498))"
            ]
          },
          "metadata": {},
          "execution_count": 20
        }
      ],
      "source": [
        "curve1.nodes()"
      ]
    },
    {
      "cell_type": "markdown",
      "metadata": {
        "id": "l5apKdjy5aDx"
      },
      "source": [
        "The curve built based on these data will be the same as the first, except that we're specifying its reference date explicitly as October 3rd (the first passed date)."
      ]
    },
    {
      "cell_type": "code",
      "execution_count": 21,
      "metadata": {
        "id": "pXttlv4b5aDx"
      },
      "outputs": [],
      "source": [
        "curve2 = ql.ForwardCurve(dates, rates, ql.Actual360())"
      ]
    },
    {
      "cell_type": "markdown",
      "metadata": {
        "id": "7Y2W050Z5aDx"
      },
      "source": [
        "Both curves are defined over the same range of dates..."
      ]
    },
    {
      "cell_type": "code",
      "execution_count": 22,
      "metadata": {
        "id": "AlbhUp345aDx",
        "outputId": "b8c4032c-b0e8-45c6-cd98-35b15101d49d",
        "colab": {
          "base_uri": "https://localhost:8080/"
        }
      },
      "outputs": [
        {
          "output_type": "stream",
          "name": "stdout",
          "text": [
            "October 3rd, 2014 to October 8th, 2029\n",
            "October 3rd, 2014 to October 8th, 2029\n"
          ]
        }
      ],
      "source": [
        "print(\"{0} to {1}\".format(curve1.referenceDate(), curve1.maxDate()))\n",
        "print(\"{0} to {1}\".format(curve2.referenceDate(), curve2.maxDate()))"
      ]
    },
    {
      "cell_type": "markdown",
      "metadata": {
        "id": "5DCIHOH35aDx"
      },
      "source": [
        "...and return the same rates, whether we ask for a given time (for instance, 5 years)..."
      ]
    },
    {
      "cell_type": "code",
      "execution_count": 23,
      "metadata": {
        "id": "x7Cbe1Ej5aDx",
        "outputId": "9593e02d-2f44-4854-b93f-a7228e45884d",
        "colab": {
          "base_uri": "https://localhost:8080/"
        }
      },
      "outputs": [
        {
          "output_type": "stream",
          "name": "stdout",
          "text": [
            "0.452196 % Actual/360 continuous compounding\n",
            "0.452196 % Actual/360 continuous compounding\n"
          ]
        }
      ],
      "source": [
        "print(curve1.zeroRate(5.0, ql.Continuous))\n",
        "print(curve2.zeroRate(5.0, ql.Continuous))"
      ]
    },
    {
      "cell_type": "markdown",
      "metadata": {
        "id": "vwSrOh0f5aDy"
      },
      "source": [
        "...or for a given date."
      ]
    },
    {
      "cell_type": "code",
      "execution_count": 24,
      "metadata": {
        "id": "_d60mvjm5aDy",
        "outputId": "af170500-fc8b-4f99-a43c-ac07540333a3",
        "colab": {
          "base_uri": "https://localhost:8080/"
        }
      },
      "outputs": [
        {
          "output_type": "stream",
          "name": "stdout",
          "text": [
            "0.452196 % Actual/360 continuous compounding\n",
            "0.452196 % Actual/360 continuous compounding\n"
          ]
        }
      ],
      "source": [
        "print(curve1.zeroRate(ql.Date(7, ql.September, 2019),\n",
        "                      ql.Actual360(), ql.Continuous))\n",
        "print(curve2.zeroRate(ql.Date(7, ql.September, 2019),\n",
        "                      ql.Actual360(), ql.Continuous))"
      ]
    },
    {
      "cell_type": "markdown",
      "metadata": {
        "id": "k3TUDN7B5aDy"
      },
      "source": [
        "With the help of a couple more Python modules, we can also plot the whole curve by asking for rates over a set of times:"
      ]
    },
    {
      "cell_type": "code",
      "execution_count": 25,
      "metadata": {
        "id": "7UTvPa_P5aDy"
      },
      "outputs": [],
      "source": [
        "%matplotlib inline\n",
        "import utils\n",
        "from matplotlib.ticker import FuncFormatter\n",
        "import numpy as np"
      ]
    },
    {
      "cell_type": "code",
      "execution_count": 26,
      "metadata": {
        "id": "LxBO24WB5aDy",
        "outputId": "fdc94cc7-820e-46b8-e032-ba9b5c27bf54",
        "colab": {
          "base_uri": "https://localhost:8080/",
          "height": 676
        }
      },
      "outputs": [
        {
          "output_type": "display_data",
          "data": {
            "text/plain": [
              "<Figure size 1200x800 with 1 Axes>"
            ],
            "image/png": "[encoded data removed]"
          },
          "metadata": {}
        }
      ],
      "source": [
        "times = np.linspace(0.0, 15.0, 400)\n",
        "rates = [ curve1.zeroRate(t, ql.Continuous).rate() for t in times ]\n",
        "_, ax = utils.plot()\n",
        "ax.yaxis.set_major_formatter(\n",
        "    FuncFormatter(lambda r,pos: utils.format_rate(r,2)))\n",
        "ax.plot(times, rates);"
      ]
    },
    {
      "cell_type": "markdown",
      "metadata": {
        "id": "iouiMAor5aDy"
      },
      "source": [
        "#### Moving the evaluation date"
      ]
    },
    {
      "cell_type": "markdown",
      "metadata": {
        "id": "mx0wGTzo5aDy"
      },
      "source": [
        "To recap: we built the first curve specifying its reference date relative to the evaluation date, and the second curve specifying its reference date explicitly. Now, what happens if we change the evaluation date?"
      ]
    },
    {
      "cell_type": "code",
      "execution_count": 27,
      "metadata": {
        "id": "U48mUCzT5aDy"
      },
      "outputs": [],
      "source": [
        "ql.Settings.instance().evaluationDate = ql.Date(19, ql.September, 2014)"
      ]
    },
    {
      "cell_type": "markdown",
      "metadata": {
        "id": "h3ZqUxyo5aDy"
      },
      "source": [
        "As you might expect, the reference date of the first curve changes accordingly while that of the second curve doesn't."
      ]
    },
    {
      "cell_type": "markdown",
      "metadata": {
        "id": "Oxk70CNG5aDy"
      },
      "source": [
        "We can see how the range of definition has now changed for the first curve, but not for the second:"
      ]
    },
    {
      "cell_type": "code",
      "execution_count": 28,
      "metadata": {
        "id": "_nbrrcqG5aDy",
        "outputId": "83d3e842-8b81-4e2f-df19-1fd3ddce6eb0",
        "colab": {
          "base_uri": "https://localhost:8080/"
        }
      },
      "outputs": [
        {
          "output_type": "stream",
          "name": "stdout",
          "text": [
            "September 19th, 2014 to September 24th, 2029\n",
            "October 3rd, 2014 to October 8th, 2029\n"
          ]
        }
      ],
      "source": [
        "print(\"{0} to {1}\".format(curve1.referenceDate(), curve1.maxDate()))\n",
        "print(\"{0} to {1}\".format(curve2.referenceDate(), curve2.maxDate()))"
      ]
    },
    {
      "cell_type": "markdown",
      "metadata": {
        "id": "wHb2zue75aDz"
      },
      "source": [
        "And of course the rates have changed, too..."
      ]
    },
    {
      "cell_type": "code",
      "execution_count": 29,
      "metadata": {
        "id": "K4fenTw85aDz",
        "outputId": "fbefb3e8-7e0d-4107-e737-3543b27bcd17",
        "colab": {
          "base_uri": "https://localhost:8080/"
        }
      },
      "outputs": [
        {
          "output_type": "stream",
          "name": "stdout",
          "text": [
            "0.452196 % Actual/360 continuous compounding\n",
            "0.452196 % Actual/360 continuous compounding\n"
          ]
        }
      ],
      "source": [
        "print(curve1.zeroRate(5.0, ql.Continuous))\n",
        "print(curve2.zeroRate(5.0, ql.Continuous))"
      ]
    },
    {
      "cell_type": "markdown",
      "metadata": {
        "id": "A_ReFEkK5aDz"
      },
      "source": [
        "...if we look at them in the right way. The whole curve has moved back a couple of weeks, so if we ask for a given time we'll get the same rates; in other words, we're asking for the zero rate over five years after the reference date, and that remains the same for a rigid translation of the curve.  If we ask for the zero rate at a given date, though, we'll see the effect:"
      ]
    },
    {
      "cell_type": "code",
      "execution_count": 30,
      "metadata": {
        "id": "DS3tuO0P5aDz",
        "outputId": "769efdce-b6d8-405a-ac52-97d2e0ff3a46",
        "colab": {
          "base_uri": "https://localhost:8080/"
        }
      },
      "outputs": [
        {
          "output_type": "stream",
          "name": "stdout",
          "text": [
            "0.454618 % Actual/360 continuous compounding\n",
            "0.452196 % Actual/360 continuous compounding\n"
          ]
        }
      ],
      "source": [
        "print(curve1.zeroRate(ql.Date(7, ql.September, 2019),\n",
        "                      ql.Actual360(), ql.Continuous))\n",
        "print(curve2.zeroRate(ql.Date(7, ql.September, 2019),\n",
        "                      ql.Actual360(), ql.Continuous))"
      ]
    },
    {
      "cell_type": "markdown",
      "metadata": {
        "id": "R0gmMzbY5aD7"
      },
      "source": [
        "#### Notifications"
      ]
    },
    {
      "cell_type": "markdown",
      "metadata": {
        "id": "K29BwtYC5aD7"
      },
      "source": [
        "Finally, we can see how the two curves behave differently also with respect to notifications. Let's make two observers..."
      ]
    },
    {
      "cell_type": "code",
      "execution_count": 31,
      "metadata": {
        "id": "wCesToY05aD7"
      },
      "outputs": [],
      "source": [
        "def make_observer(i):\n",
        "    def say():\n",
        "        s = \"Observer %d notified\" % i\n",
        "        print('-'*len(s))\n",
        "        print(s)\n",
        "        print('-'*len(s))\n",
        "    return ql.Observer(say)\n",
        "\n",
        "obs1 = make_observer(1)\n",
        "obs2 = make_observer(2)"
      ]
    },
    {
      "cell_type": "markdown",
      "metadata": {
        "id": "khDo_GI_5aD7"
      },
      "source": [
        "...and check that they work correctly by connecting them to a few quotes. The first observer will receive notifications from the first and third quote, and the second observer will receive notifications from the second and third quote."
      ]
    },
    {
      "cell_type": "code",
      "execution_count": 32,
      "metadata": {
        "id": "F6SXXI5P5aD7"
      },
      "outputs": [],
      "source": [
        "q1 = ql.SimpleQuote(1.0)\n",
        "obs1.registerWith(q1)\n",
        "\n",
        "q2 = ql.SimpleQuote(2.0)\n",
        "obs2.registerWith(q2)\n",
        "\n",
        "q3 = ql.SimpleQuote(3.0)\n",
        "obs1.registerWith(q3)\n",
        "obs2.registerWith(q3)"
      ]
    },
    {
      "cell_type": "markdown",
      "metadata": {
        "id": "dD6dXrVg5aD7"
      },
      "source": [
        "If I trigger a change in the first quote, the first observer is notified and outputs a message:"
      ]
    },
    {
      "cell_type": "code",
      "execution_count": 33,
      "metadata": {
        "id": "jCZrBoO65aD7",
        "outputId": "2be59a19-1dee-492b-b075-b5c59651a410",
        "colab": {
          "base_uri": "https://localhost:8080/"
        }
      },
      "outputs": [
        {
          "output_type": "stream",
          "name": "stdout",
          "text": [
            "-------------------\n",
            "Observer 1 notified\n",
            "-------------------\n"
          ]
        }
      ],
      "source": [
        "q1.setValue(1.5)"
      ]
    },
    {
      "cell_type": "markdown",
      "metadata": {
        "id": "l0_0vrTp5aD8"
      },
      "source": [
        "A change in the second quote causes a message from the second observer..."
      ]
    },
    {
      "cell_type": "code",
      "execution_count": 34,
      "metadata": {
        "id": "Vin1ZzGl5aD8",
        "outputId": "2d3fd9c9-2eb0-4fc8-e22c-e9d13a87f36b",
        "colab": {
          "base_uri": "https://localhost:8080/"
        }
      },
      "outputs": [
        {
          "output_type": "stream",
          "name": "stdout",
          "text": [
            "-------------------\n",
            "Observer 2 notified\n",
            "-------------------\n"
          ]
        }
      ],
      "source": [
        "q2.setValue(1.9)"
      ]
    },
    {
      "cell_type": "markdown",
      "metadata": {
        "id": "jCiL0GvW5aD8"
      },
      "source": [
        "...and a change in the third quote causes both observers to react."
      ]
    },
    {
      "cell_type": "code",
      "execution_count": 35,
      "metadata": {
        "id": "BzszvvBw5aD8",
        "outputId": "2a583ea8-26fb-487f-e559-f27e63743424",
        "colab": {
          "base_uri": "https://localhost:8080/"
        }
      },
      "outputs": [
        {
          "output_type": "stream",
          "name": "stdout",
          "text": [
            "-------------------\n",
            "Observer 2 notified\n",
            "-------------------\n",
            "-------------------\n",
            "Observer 1 notified\n",
            "-------------------\n"
          ]
        }
      ],
      "source": [
        "q3.setValue(3.1)"
      ]
    },
    {
      "cell_type": "markdown",
      "metadata": {
        "id": "wexHtWvX5aD8"
      },
      "source": [
        "Now let's connect the observers to the curves. The first observer will receive notifications from the curve that moves with the evaluation date, and the second observer will receive notifications from the curve that doesn't move."
      ]
    },
    {
      "cell_type": "code",
      "execution_count": 36,
      "metadata": {
        "id": "L45vUY8g5aD8"
      },
      "outputs": [],
      "source": [
        "obs1.registerWith(curve1)\n",
        "obs2.registerWith(curve2)"
      ]
    },
    {
      "cell_type": "markdown",
      "metadata": {
        "id": "XaGT5bPA5aD8"
      },
      "source": [
        "Now we can see what happens when the evaluation date changes again:"
      ]
    },
    {
      "cell_type": "code",
      "execution_count": 37,
      "metadata": {
        "id": "x2dKzsp-5aD9",
        "outputId": "19ef8a84-d29e-493f-907c-78f44eb6a1c6",
        "colab": {
          "base_uri": "https://localhost:8080/"
        }
      },
      "outputs": [
        {
          "output_type": "stream",
          "name": "stdout",
          "text": [
            "-------------------\n",
            "Observer 1 notified\n",
            "-------------------\n"
          ]
        }
      ],
      "source": [
        "ql.Settings.instance().evaluationDate = ql.Date(23, ql.September, 2014)"
      ]
    },
    {
      "cell_type": "markdown",
      "metadata": {
        "id": "tEYa_JF05aD9"
      },
      "source": [
        "As you can see, only the moving curve sent a notification. The other did not, since it was not modified by the change of evaluation date."
      ]
    },
    {
      "cell_type": "code",
      "source": [],
      "metadata": {
        "id": "QHjaINJ06VW8"
      },
      "execution_count": null,
      "outputs": []
    }
  ],
  "metadata": {
    "kernelspec": {
      "display_name": "Python 3 (ipykernel)",
      "language": "python",
      "name": "python3"
    },
    "language_info": {
      "codemirror_mode": {
        "name": "ipython",
        "version": 3
      },
      "file_extension": ".py",
      "mimetype": "text/x-python",
      "name": "python",
      "nbconvert_exporter": "python",
      "pygments_lexer": "ipython3",
      "version": "3.10.8"
    },
    "colab": {
      "provenance": []
    }
  },
  "nbformat": 4,
  "nbformat_minor": 0
}