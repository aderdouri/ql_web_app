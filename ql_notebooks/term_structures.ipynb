{
 "cells": [
  {
   "cell_type": "markdown",
   "metadata": {},
   "source": [
    "<a href=\"https://colab.research.google.com/github/aderdouri/ql_web_app/blob/master/ql_notebooks/term_structures.ipynb\" target=\"_parent\"><img src=\"https://colab.research.google.com/assets/colab-badge.svg\" alt=\"Open In Colab\"/></a>"
   ]
  },
  {
   "cell_type": "markdown",
   "metadata": {},
   "source": [
    "# Term structures and their reference dates"
   ]
  },
  {
   "cell_type": "markdown",
   "metadata": {},
   "source": [
    "In this notebook, I show briefly how to set up term structures so that they track (or don't track) the global evaluation date."
   ]
  },
  {
   "cell_type": "markdown",
   "metadata": {},
   "source": [
    "#### Setup"
   ]
  },
  {
   "cell_type": "markdown",
   "metadata": {},
   "source": [
    "Import the QuantLib module and set up the global evaluation date. You might want to take note of the date, since we'll be moving it around later on."
   ]
  },
  {
   "cell_type": "code",
   "execution_count": null,
   "metadata": {},
   "outputs": [],
   "source": [
    "!pip install QuantLib-Python"
   ]
  },
  {
   "cell_type": "code",
   "execution_count": 1,
   "metadata": {},
   "outputs": [],
   "source": [
    "import QuantLib as ql"
   ]
  },
  {
   "cell_type": "code",
   "execution_count": 2,
   "metadata": {},
   "outputs": [],
   "source": [
    "ql.Settings.instance().evaluationDate = ql.Date(3, ql.October, 2014)"
   ]
  },
  {
   "cell_type": "markdown",
   "metadata": {},
   "source": [
    "#### Specifying the reference date of a term structure"
   ]
  },
  {
   "cell_type": "markdown",
   "metadata": {},
   "source": [
    "In not-too-accurate terms, the reference date of a term structure is where it begins.  It can be the evaluation date, but you might also want it to start on the spot date, for instance.\n",
    "\n",
    "We have two possibilities to define a reference date for a curve&mdash;even though some particular classes only allow one of them.\n",
    "\n",
    "The first is to define it by means of a (possibly null) offset from the current evaluation date; e.g., \"two business days after the evaluation date\" to define it as the spot date, or \"no business days\" to define it as the evaluation date itself. I'll do it here by building a sample curve over a few swaps."
   ]
  },
  {
   "cell_type": "markdown",
   "metadata": {},
   "source": [
    "Never mind the helper object that I'm building here..."
   ]
  },
  {
   "cell_type": "code",
   "execution_count": 3,
   "metadata": {},
   "outputs": [],
   "source": [
    "helpers = [ ql.SwapRateHelper(ql.QuoteHandle(ql.SimpleQuote(rate/100.0)),\n",
    "                              ql.Period(*tenor), ql.TARGET(),\n",
    "                              ql.Annual, ql.Unadjusted, \n",
    "                              ql.Thirty360(ql.Thirty360.BondBasis), \n",
    "                              ql.Euribor6M())\n",
    "            for tenor, rate in [((2,ql.Years), 0.201),\n",
    "                                ((3,ql.Years), 0.258),\n",
    "                                ((5,ql.Years), 0.464),\n",
    "                                ((10,ql.Years), 1.151),\n",
    "                                ((15,ql.Years), 1.588)] ]"
   ]
  },
  {
   "cell_type": "markdown",
   "metadata": {},
   "source": [
    "...because the construction of the curve is the main point: note the `0` and `TARGET()` arguments, specifying the number of days and the calendar used to determine business days."
   ]
  },
  {
   "cell_type": "code",
   "execution_count": 4,
   "metadata": {},
   "outputs": [],
   "source": [
    "curve1 = ql.PiecewiseFlatForward(0, ql.TARGET(), helpers, ql.Actual360())"
   ]
  },
  {
   "cell_type": "markdown",
   "metadata": {},
   "source": [
    "The second possibility is to specify the reference date explicitly. For instance, the `ForwardCurve` class takes a vector of specific dates and the corresponding rates and interpolates between them; the first passed date is taken as the reference date of the curve."
   ]
  },
  {
   "cell_type": "markdown",
   "metadata": {},
   "source": [
    "For comparison purposes, I'll ask the curve above for its nodes and use them to build a `ForwardCurve` instance:"
   ]
  },
  {
   "cell_type": "code",
   "execution_count": 5,
   "metadata": {},
   "outputs": [],
   "source": [
    "dates, rates = zip(*curve1.nodes())"
   ]
  },
  {
   "cell_type": "code",
   "execution_count": 6,
   "metadata": {},
   "outputs": [
    {
     "data": {
      "text/plain": [
       "((Date(3,10,2014), 0.0019777694879293093),\n",
       " (Date(7,10,2016), 0.0019777694879293093),\n",
       " (Date(9,10,2017), 0.0036475517704509294),\n",
       " (Date(7,10,2019), 0.007660760701876805),\n",
       " (Date(7,10,2024), 0.018414773669420893),\n",
       " (Date(8,10,2029), 0.025311634328221498))"
      ]
     },
     "execution_count": 6,
     "metadata": {},
     "output_type": "execute_result"
    }
   ],
   "source": [
    "curve1.nodes()"
   ]
  },
  {
   "cell_type": "markdown",
   "metadata": {},
   "source": [
    "The curve built based on these data will be the same as the first, except that we're specifying its reference date explicitly as October 3rd (the first passed date)."
   ]
  },
  {
   "cell_type": "code",
   "execution_count": 7,
   "metadata": {},
   "outputs": [],
   "source": [
    "curve2 = ql.ForwardCurve(dates, rates, ql.Actual360())"
   ]
  },
  {
   "cell_type": "markdown",
   "metadata": {},
   "source": [
    "Both curves are defined over the same range of dates..."
   ]
  },
  {
   "cell_type": "code",
   "execution_count": 8,
   "metadata": {},
   "outputs": [
    {
     "name": "stdout",
     "output_type": "stream",
     "text": [
      "October 3rd, 2014 to October 8th, 2029\n",
      "October 3rd, 2014 to October 8th, 2029\n"
     ]
    }
   ],
   "source": [
    "print(\"{0} to {1}\".format(curve1.referenceDate(), curve1.maxDate()))\n",
    "print(\"{0} to {1}\".format(curve2.referenceDate(), curve2.maxDate()))"
   ]
  },
  {
   "cell_type": "markdown",
   "metadata": {},
   "source": [
    "...and return the same rates, whether we ask for a given time (for instance, 5 years)..."
   ]
  },
  {
   "cell_type": "code",
   "execution_count": 9,
   "metadata": {},
   "outputs": [
    {
     "name": "stdout",
     "output_type": "stream",
     "text": [
      "0.452196 % Actual/360 continuous compounding\n",
      "0.452196 % Actual/360 continuous compounding\n"
     ]
    }
   ],
   "source": [
    "print(curve1.zeroRate(5.0, ql.Continuous))\n",
    "print(curve2.zeroRate(5.0, ql.Continuous))"
   ]
  },
  {
   "cell_type": "markdown",
   "metadata": {},
   "source": [
    "...or for a given date."
   ]
  },
  {
   "cell_type": "code",
   "execution_count": 10,
   "metadata": {},
   "outputs": [
    {
     "name": "stdout",
     "output_type": "stream",
     "text": [
      "0.452196 % Actual/360 continuous compounding\n",
      "0.452196 % Actual/360 continuous compounding\n"
     ]
    }
   ],
   "source": [
    "print(curve1.zeroRate(ql.Date(7, ql.September, 2019),\n",
    "                      ql.Actual360(), ql.Continuous))\n",
    "print(curve2.zeroRate(ql.Date(7, ql.September, 2019),\n",
    "                      ql.Actual360(), ql.Continuous))"
   ]
  },
  {
   "cell_type": "markdown",
   "metadata": {},
   "source": [
    "With the help of a couple more Python modules, we can also plot the whole curve by asking for rates over a set of times:"
   ]
  },
  {
   "cell_type": "code",
   "execution_count": 11,
   "metadata": {},
   "outputs": [],
   "source": [
    "%matplotlib inline\n",
    "import utils\n",
    "from matplotlib.ticker import FuncFormatter\n",
    "import numpy as np"
   ]
  },
  {
   "cell_type": "code",
   "execution_count": 12,
   "metadata": {},
   "outputs": [
    {
     "data": {
      "image/png": "[encoded data removed]",
      "text/plain": [
       "<Figure size 1200x800 with 1 Axes>"
      ]
     },
     "metadata": {},
     "output_type": "display_data"
    }
   ],
   "source": [
    "times = np.linspace(0.0, 15.0, 400)\n",
    "rates = [ curve1.zeroRate(t, ql.Continuous).rate() for t in times ]\n",
    "_, ax = utils.plot()\n",
    "ax.yaxis.set_major_formatter(\n",
    "    FuncFormatter(lambda r,pos: utils.format_rate(r,2)))\n",
    "ax.plot(times, rates);"
   ]
  },
  {
   "cell_type": "markdown",
   "metadata": {},
   "source": [
    "#### Moving the evaluation date"
   ]
  },
  {
   "cell_type": "markdown",
   "metadata": {},
   "source": [
    "To recap: we built the first curve specifying its reference date relative to the evaluation date, and the second curve specifying its reference date explicitly. Now, what happens if we change the evaluation date?"
   ]
  },
  {
   "cell_type": "code",
   "execution_count": 13,
   "metadata": {},
   "outputs": [],
   "source": [
    "ql.Settings.instance().evaluationDate = ql.Date(19, ql.September, 2014)"
   ]
  },
  {
   "cell_type": "markdown",
   "metadata": {},
   "source": [
    "As you might expect, the reference date of the first curve changes accordingly while that of the second curve doesn't."
   ]
  },
  {
   "cell_type": "markdown",
   "metadata": {},
   "source": [
    "We can see how the range of definition has now changed for the first curve, but not for the second:"
   ]
  },
  {
   "cell_type": "code",
   "execution_count": 14,
   "metadata": {},
   "outputs": [
    {
     "name": "stdout",
     "output_type": "stream",
     "text": [
      "September 19th, 2014 to September 24th, 2029\n",
      "October 3rd, 2014 to October 8th, 2029\n"
     ]
    }
   ],
   "source": [
    "print(\"{0} to {1}\".format(curve1.referenceDate(), curve1.maxDate()))\n",
    "print(\"{0} to {1}\".format(curve2.referenceDate(), curve2.maxDate()))"
   ]
  },
  {
   "cell_type": "markdown",
   "metadata": {},
   "source": [
    "And of course the rates have changed, too..."
   ]
  },
  {
   "cell_type": "code",
   "execution_count": 15,
   "metadata": {},
   "outputs": [
    {
     "name": "stdout",
     "output_type": "stream",
     "text": [
      "0.452196 % Actual/360 continuous compounding\n",
      "0.452196 % Actual/360 continuous compounding\n"
     ]
    }
   ],
   "source": [
    "print(curve1.zeroRate(5.0, ql.Continuous))\n",
    "print(curve2.zeroRate(5.0, ql.Continuous))"
   ]
  },
  {
   "cell_type": "markdown",
   "metadata": {},
   "source": [
    "...if we look at them in the right way. The whole curve has moved back a couple of weeks, so if we ask for a given time we'll get the same rates; in other words, we're asking for the zero rate over five years after the reference date, and that remains the same for a rigid translation of the curve.  If we ask for the zero rate at a given date, though, we'll see the effect:"
   ]
  },
  {
   "cell_type": "code",
   "execution_count": 16,
   "metadata": {},
   "outputs": [
    {
     "name": "stdout",
     "output_type": "stream",
     "text": [
      "0.454618 % Actual/360 continuous compounding\n",
      "0.452196 % Actual/360 continuous compounding\n"
     ]
    }
   ],
   "source": [
    "print(curve1.zeroRate(ql.Date(7, ql.September, 2019),\n",
    "                      ql.Actual360(), ql.Continuous))\n",
    "print(curve2.zeroRate(ql.Date(7, ql.September, 2019),\n",
    "                      ql.Actual360(), ql.Continuous))"
   ]
  },
  {
   "cell_type": "markdown",
   "metadata": {},
   "source": [
    "#### Notifications"
   ]
  },
  {
   "cell_type": "markdown",
   "metadata": {},
   "source": [
    "Finally, we can see how the two curves behave differently also with respect to notifications. Let's make two observers..."
   ]
  },
  {
   "cell_type": "code",
   "execution_count": 17,
   "metadata": {},
   "outputs": [],
   "source": [
    "def make_observer(i):\n",
    "    def say():\n",
    "        s = \"Observer %d notified\" % i\n",
    "        print('-'*len(s))\n",
    "        print(s)\n",
    "        print('-'*len(s))\n",
    "    return ql.Observer(say)\n",
    "\n",
    "obs1 = make_observer(1)\n",
    "obs2 = make_observer(2)"
   ]
  },
  {
   "cell_type": "markdown",
   "metadata": {},
   "source": [
    "...and check that they work correctly by connecting them to a few quotes. The first observer will receive notifications from the first and third quote, and the second observer will receive notifications from the second and third quote."
   ]
  },
  {
   "cell_type": "code",
   "execution_count": 18,
   "metadata": {},
   "outputs": [],
   "source": [
    "q1 = ql.SimpleQuote(1.0)\n",
    "obs1.registerWith(q1)\n",
    "\n",
    "q2 = ql.SimpleQuote(2.0)\n",
    "obs2.registerWith(q2)\n",
    "\n",
    "q3 = ql.SimpleQuote(3.0)\n",
    "obs1.registerWith(q3)\n",
    "obs2.registerWith(q3)"
   ]
  },
  {
   "cell_type": "markdown",
   "metadata": {},
   "source": [
    "If I trigger a change in the first quote, the first observer is notified and outputs a message:"
   ]
  },
  {
   "cell_type": "code",
   "execution_count": 19,
   "metadata": {},
   "outputs": [
    {
     "name": "stdout",
     "output_type": "stream",
     "text": [
      "-------------------\n",
      "Observer 1 notified\n",
      "-------------------\n"
     ]
    }
   ],
   "source": [
    "q1.setValue(1.5)"
   ]
  },
  {
   "cell_type": "markdown",
   "metadata": {},
   "source": [
    "A change in the second quote causes a message from the second observer..."
   ]
  },
  {
   "cell_type": "code",
   "execution_count": 20,
   "metadata": {},
   "outputs": [
    {
     "name": "stdout",
     "output_type": "stream",
     "text": [
      "-------------------\n",
      "Observer 2 notified\n",
      "-------------------\n"
     ]
    }
   ],
   "source": [
    "q2.setValue(1.9)"
   ]
  },
  {
   "cell_type": "markdown",
   "metadata": {},
   "source": [
    "...and a change in the third quote causes both observers to react."
   ]
  },
  {
   "cell_type": "code",
   "execution_count": 21,
   "metadata": {},
   "outputs": [
    {
     "name": "stdout",
     "output_type": "stream",
     "text": [
      "-------------------\n",
      "Observer 1 notified\n",
      "-------------------\n",
      "-------------------\n",
      "Observer 2 notified\n",
      "-------------------\n"
     ]
    }
   ],
   "source": [
    "q3.setValue(3.1)"
   ]
  },
  {
   "cell_type": "markdown",
   "metadata": {},
   "source": [
    "Now let's connect the observers to the curves. The first observer will receive notifications from the curve that moves with the evaluation date, and the second observer will receive notifications from the curve that doesn't move."
   ]
  },
  {
   "cell_type": "code",
   "execution_count": 22,
   "metadata": {},
   "outputs": [],
   "source": [
    "obs1.registerWith(curve1)\n",
    "obs2.registerWith(curve2)"
   ]
  },
  {
   "cell_type": "markdown",
   "metadata": {},
   "source": [
    "Now we can see what happens when the evaluation date changes again:"
   ]
  },
  {
   "cell_type": "code",
   "execution_count": 23,
   "metadata": {},
   "outputs": [
    {
     "name": "stdout",
     "output_type": "stream",
     "text": [
      "-------------------\n",
      "Observer 1 notified\n",
      "-------------------\n"
     ]
    }
   ],
   "source": [
    "ql.Settings.instance().evaluationDate = ql.Date(23, ql.September, 2014)"
   ]
  },
  {
   "cell_type": "markdown",
   "metadata": {},
   "source": [
    "As you can see, only the moving curve sent a notification. The other did not, since it was not modified by the change of evaluation date."
   ]
  }
 ],
 "metadata": {
  "kernelspec": {
   "display_name": "Python 3 (ipykernel)",
   "language": "python",
   "name": "python3"
  },
  "language_info": {
   "codemirror_mode": {
    "name": "ipython",
    "version": 3
   },
   "file_extension": ".py",
   "mimetype": "text/x-python",
   "name": "python",
   "nbconvert_exporter": "python",
   "pygments_lexer": "ipython3",
   "version": "3.10.8"
  }
 },
 "nbformat": 4,
 "nbformat_minor": 1
}
