{
  "cells": [
    {
      "cell_type": "markdown",
      "metadata": {
        "id": "view-in-github",
        "colab_type": "text"
      },
      "source": [
        "<a href=\"https://colab.research.google.com/github/aderdouri/ql_web_app/blob/master/ql_notebooks/defining_rho_for_the_black_process.ipynb\" target=\"_parent\"><img src=\"https://colab.research.google.com/assets/colab-badge.svg\" alt=\"Open In Colab\"/></a>"
      ]
    },
    {
      "cell_type": "markdown",
      "metadata": {
        "id": "WHDZpDIDQ0Xx"
      },
      "source": [
        "# Defining rho for the Black process"
      ]
    },
    {
      "cell_type": "markdown",
      "metadata": {
        "id": "HHaWvfsWQ0Xy"
      },
      "source": [
        "(Based on a question by DPaulino on the QuantLib mailing list. Thanks!)"
      ]
    },
    {
      "cell_type": "code",
      "source": [
        "!pip install QuantLib-Python"
      ],
      "metadata": {
        "id": "FNP4RnLTQ5Kq"
      },
      "execution_count": null,
      "outputs": []
    },
    {
      "cell_type": "code",
      "execution_count": null,
      "metadata": {
        "id": "A3L6rQ97Q0Xz"
      },
      "outputs": [],
      "source": [
        "import QuantLib as ql"
      ]
    },
    {
      "cell_type": "code",
      "execution_count": null,
      "metadata": {
        "id": "bAUnto4iQ0Xz"
      },
      "outputs": [],
      "source": [
        "today = ql.Date(24,12,2016)\n",
        "ql.Settings.instance().evaluationDate = today"
      ]
    },
    {
      "cell_type": "markdown",
      "metadata": {
        "id": "t3iEofxBQ0X0"
      },
      "source": [
        "#### The dangers of generalization"
      ]
    },
    {
      "cell_type": "markdown",
      "metadata": {
        "id": "W5XHxStLQ0X0"
      },
      "source": [
        "QuantLib provides a few classes to represent specific cases of the Black-Scholes-Merton process; for instance, the `BlackScholesProcess` class assumes that there are no dividends, and the `BlackProcess` class that the cost of carry is equal to 0.  It is the latter, or rather a glitch in it, that is the subject of this notebook."
      ]
    },
    {
      "cell_type": "markdown",
      "metadata": {
        "id": "2lk6DX0SQ0X0"
      },
      "source": [
        "All such classes inherit from a base `GeneralizedBlackScholesProcess` class (I know, we're not that good at naming things) that models the more general case in which the underlying stock has a continuous dividend yield.  The specific cases are implemented by inheriting from this class and setting a constraint on the dividends $q(t)$: for the Black-Scholes process, $q(t) = 0$; and for the Black process, $q(t) = r(t)$, which makes the cost of carry $b$ equal 0."
      ]
    },
    {
      "cell_type": "markdown",
      "metadata": {
        "id": "o_3C_z0QQ0X0"
      },
      "source": [
        "We can check the constraint by creating two instances of such processes.  Here are the quotes and term structures we'll use to model the dynamics of the underlying:"
      ]
    },
    {
      "cell_type": "code",
      "execution_count": null,
      "metadata": {
        "id": "g-ryGJheQ0X1"
      },
      "outputs": [],
      "source": [
        "u = ql.SimpleQuote(100.0)\n",
        "r = ql.SimpleQuote(0.01)\n",
        "sigma = ql.SimpleQuote(0.20)\n",
        "\n",
        "risk_free_curve = ql.FlatForward(today, ql.QuoteHandle(r), ql.Actual360())\n",
        "volatility = ql.BlackConstantVol(today, ql.TARGET(),\n",
        "                                 ql.QuoteHandle(sigma), ql.Actual360())"
      ]
    },
    {
      "cell_type": "markdown",
      "metadata": {
        "id": "HZaIjqKmQ0X1"
      },
      "source": [
        "The constructor of the `BlackScholesProcess` class doesn't take a dividend yield, and sets it to 0 internally:"
      ]
    },
    {
      "cell_type": "code",
      "execution_count": null,
      "metadata": {
        "id": "Q28_6gNlQ0X1",
        "outputId": "a92aaecb-b646-461f-ba37-bb8e480d6ec6"
      },
      "outputs": [
        {
          "name": "stdout",
          "output_type": "stream",
          "text": [
            "0.000000 % Actual/365 (Fixed) continuous compounding\n"
          ]
        }
      ],
      "source": [
        "process_1 = ql.BlackScholesProcess(\n",
        "    ql.QuoteHandle(u),\n",
        "    ql.YieldTermStructureHandle(risk_free_curve),\n",
        "    ql.BlackVolTermStructureHandle(volatility))\n",
        "\n",
        "print(process_1.dividendYield().zeroRate(1.0, ql.Continuous))"
      ]
    },
    {
      "cell_type": "markdown",
      "metadata": {
        "id": "m3Jtph7IQ0X1"
      },
      "source": [
        "The constructor of the `BlackProcess` class doesn't take a dividend yield either, and sets its handle as a copy of the risk free handle:"
      ]
    },
    {
      "cell_type": "code",
      "execution_count": null,
      "metadata": {
        "id": "EkktJnnLQ0X1",
        "outputId": "9dfcbdcd-8750-4f89-a194-a51d8d89cf1a"
      },
      "outputs": [
        {
          "name": "stdout",
          "output_type": "stream",
          "text": [
            "1.000000 % Actual/360 continuous compounding\n",
            "1.000000 % Actual/360 continuous compounding\n"
          ]
        }
      ],
      "source": [
        "process_2 = ql.BlackProcess(ql.QuoteHandle(u),\n",
        "                            ql.YieldTermStructureHandle(risk_free_curve),\n",
        "                            ql.BlackVolTermStructureHandle(volatility))\n",
        "\n",
        "print(process_2.riskFreeRate().zeroRate(1.0, ql.Continuous))\n",
        "print(process_2.dividendYield().zeroRate(1.0, ql.Continuous))"
      ]
    },
    {
      "cell_type": "markdown",
      "metadata": {
        "id": "pfBYesBxQ0X1"
      },
      "source": [
        "Now, the above processes can be used to price options on underlyings behaving accordingly; the first process describes, e.g., a stock that doesn't pay any dividends, and the second describes, e.g., a futures.  The classes to use are the same: `EuropeanOption` for the instrument and `AnalyticEuropeanEngine` for the pricing engine.  The constructor of the engine takes an instance of `GeneralizedBlackScholesProcess`, to which both our processes can be converted implicitly."
      ]
    },
    {
      "cell_type": "code",
      "execution_count": null,
      "metadata": {
        "id": "DusFJ8QrQ0X1",
        "outputId": "8b9824e2-b214-4251-c222-53e14e9da4cc"
      },
      "outputs": [
        {
          "name": "stdout",
          "output_type": "stream",
          "text": [
            "4.337597216336533\n"
          ]
        }
      ],
      "source": [
        "option_1 = ql.EuropeanOption(ql.PlainVanillaPayoff(ql.Option.Call, 100.0),\n",
        "                             ql.EuropeanExercise(today+100))\n",
        "option_1.setPricingEngine(ql.AnalyticEuropeanEngine(process_1))\n",
        "\n",
        "print(option_1.NPV())"
      ]
    },
    {
      "cell_type": "code",
      "execution_count": null,
      "metadata": {
        "id": "MGHh7wdoQ0X2",
        "outputId": "7f6f188f-214c-4154-ed75-4ca7c222fb90"
      },
      "outputs": [
        {
          "name": "stdout",
          "output_type": "stream",
          "text": [
            "4.191615257389808\n"
          ]
        }
      ],
      "source": [
        "option_2 = ql.EuropeanOption(ql.PlainVanillaPayoff(ql.Option.Call, 100.0),\n",
        "                             ql.EuropeanExercise(today+100))\n",
        "option_2.setPricingEngine(ql.AnalyticEuropeanEngine(process_2))\n",
        "\n",
        "print(option_2.NPV())"
      ]
    },
    {
      "cell_type": "markdown",
      "metadata": {
        "id": "3Ef13IbmQ0X2"
      },
      "source": [
        "So far, so good.  However, we can see the glitch when we ask the options for their Greeks.  With this particular engine, they're able to calculate them by using closed formulas (none other, of course, that those expressing the derivatives of the Black-Scholes-Merton formula).  As I described in a previous notebook, we can also calculate the Greeks numerically, by bumping the inputs and repricing the option.  If we compare the two approaches, they should yield approximately the same results."
      ]
    },
    {
      "cell_type": "markdown",
      "metadata": {
        "id": "5SlUqJoKQ0X2"
      },
      "source": [
        "For convenience, I'll define a utility function to calculate numerical Greeks. It takes the option, the quote to change and the amplitude of the bump."
      ]
    },
    {
      "cell_type": "code",
      "execution_count": null,
      "metadata": {
        "id": "Myors6g_Q0X2"
      },
      "outputs": [],
      "source": [
        "def greek(option, quote, dx):\n",
        "    x0 = quote.value()\n",
        "    quote.setValue(x0+dx)\n",
        "    P_u = option.NPV()\n",
        "    quote.setValue(x0-dx)\n",
        "    P_d = option.NPV()\n",
        "    quote.setValue(x0)\n",
        "    return (P_u-P_d)/(2*dx)"
      ]
    },
    {
      "cell_type": "markdown",
      "metadata": {
        "id": "W9ibJ_OOQ0X2"
      },
      "source": [
        "By passing different quotes, we can calculate different Greeks. Bumping the underlying value will give us the delta, which we can compare to the analytic result:"
      ]
    },
    {
      "cell_type": "code",
      "execution_count": null,
      "metadata": {
        "id": "anXEroymQ0X2",
        "outputId": "66bcdb17-f7ad-4457-d049-9da6b0fac7f0"
      },
      "outputs": [
        {
          "name": "stdout",
          "output_type": "stream",
          "text": [
            "0.5315063340142601\n",
            "0.531506323010289\n"
          ]
        }
      ],
      "source": [
        "print(option_1.delta())\n",
        "print(greek(option_1, u, 0.01))"
      ]
    },
    {
      "cell_type": "code",
      "execution_count": null,
      "metadata": {
        "id": "mRs7Y1iyQ0X2",
        "outputId": "885e387b-2174-4f94-aef9-5c7be703d038"
      },
      "outputs": [
        {
          "name": "stdout",
          "output_type": "stream",
          "text": [
            "0.5195711146255227\n",
            "0.5195711052036867\n"
          ]
        }
      ],
      "source": [
        "print(option_2.delta())\n",
        "print(greek(option_2, u, 0.01))"
      ]
    },
    {
      "cell_type": "markdown",
      "metadata": {
        "id": "ArTGFH7OQ0X2"
      },
      "source": [
        "Bumping the volatility gives us the vega..."
      ]
    },
    {
      "cell_type": "code",
      "execution_count": null,
      "metadata": {
        "id": "ve9TdMYoQ0X3",
        "outputId": "148ee167-800e-4544-cdbc-64297fdfc145"
      },
      "outputs": [
        {
          "name": "stdout",
          "output_type": "stream",
          "text": [
            "20.96050033373808\n",
            "20.960499909565833\n"
          ]
        }
      ],
      "source": [
        "print(option_1.vega())\n",
        "print(greek(option_1, sigma, 0.001))"
      ]
    },
    {
      "cell_type": "code",
      "execution_count": null,
      "metadata": {
        "id": "8Vx60o6KQ0X3",
        "outputId": "7a4cc10f-615f-479f-b1ed-7ed19aeebbc5"
      },
      "outputs": [
        {
          "name": "stdout",
          "output_type": "stream",
          "text": [
            "20.938677847075486\n",
            "20.938677605407463\n"
          ]
        }
      ],
      "source": [
        "print(option_2.vega())\n",
        "print(greek(option_2, sigma, 0.001))"
      ]
    },
    {
      "cell_type": "markdown",
      "metadata": {
        "id": "mp-r_YCmQ0X3"
      },
      "source": [
        "...and bumping the risk-free rate will give us the rho."
      ]
    },
    {
      "cell_type": "code",
      "execution_count": null,
      "metadata": {
        "id": "5emdnhRgQ0X3",
        "outputId": "8b2376be-eab4-4fa4-aaf1-dcb332628780"
      },
      "outputs": [
        {
          "name": "stdout",
          "output_type": "stream",
          "text": [
            "13.559176718080407\n",
            "13.55917453385036\n"
          ]
        }
      ],
      "source": [
        "print(option_1.rho())\n",
        "print(greek(option_1, r, 0.001))"
      ]
    },
    {
      "cell_type": "code",
      "execution_count": null,
      "metadata": {
        "id": "oR5bGL7sQ0X3",
        "outputId": "5e923133-847e-4767-e02e-6dc0cfbc08b2"
      },
      "outputs": [
        {
          "name": "stdout",
          "output_type": "stream",
          "text": [
            "13.268193390322908\n",
            "-1.1643375864700545\n"
          ]
        }
      ],
      "source": [
        "print(option_2.rho())\n",
        "print(greek(option_2, r, 0.001))"
      ]
    },
    {
      "cell_type": "markdown",
      "metadata": {
        "id": "AhZhrTM-Q0X3"
      },
      "source": [
        "Whoops.  Not what you might have expected."
      ]
    },
    {
      "cell_type": "markdown",
      "metadata": {
        "id": "VMXU4vVQQ0X3"
      },
      "source": [
        "#### What's happening here?"
      ]
    },
    {
      "cell_type": "markdown",
      "metadata": {
        "id": "UwCJSKW2Q0X3"
      },
      "source": [
        "The problem is that the engine works with a generic process, and $\\rho$ is calculated as\n",
        "\n",
        "$$\n",
        "\\rho = \\frac{\\partial}{\\partial r} C(u, r, q, \\sigma)\n",
        "$$\n",
        "\n",
        "where $C$ is the Black-Scholes-Merton formula for the value of the call option."
      ]
    },
    {
      "cell_type": "markdown",
      "metadata": {
        "id": "7X4dDF7sQ0X3"
      },
      "source": [
        "However, not knowing about the specific process type we passed, the engine doesn't know about the constraint we set on the underlying variables: in this case, that $q = q(r) = r$.  Therefore, the correct value for $\\rho$ should be\n",
        "\n",
        "$$\n",
        "\\rho = \\frac{d}{dr} C(u, r, q(r), \\sigma)\n",
        "    = \\frac{\\partial C}{\\partial r} + \\frac{\\partial C}{\\partial q} \\cdot \\frac{\\partial q}{\\partial r}\n",
        "    = \\frac{\\partial C}{\\partial r} + \\frac{\\partial C}{\\partial q}.\n",
        "$$"
      ]
    },
    {
      "cell_type": "markdown",
      "metadata": {
        "id": "1vyygqiEQ0X3"
      },
      "source": [
        "which is the sum of the rho as defined in the engine and the dividend rho.  We can verify this by comparing the above with the numerical Greek:"
      ]
    },
    {
      "cell_type": "code",
      "execution_count": null,
      "metadata": {
        "id": "0eu-NhgjQ0X4",
        "outputId": "e824e071-8dfe-4fd3-b59b-edb4f08f211e"
      },
      "outputs": [
        {
          "name": "stdout",
          "output_type": "stream",
          "text": [
            "-1.1643375714971693\n",
            "-1.1643375864700545\n"
          ]
        }
      ],
      "source": [
        "print(option_2.rho() + option_2.dividendRho())\n",
        "print(greek(option_2, r, 0.001))"
      ]
    },
    {
      "cell_type": "markdown",
      "metadata": {
        "id": "kFFY5g-3Q0X4"
      },
      "source": [
        "Now: is this a bug in the engine?\n",
        "\n",
        "Well, it might be argued. The engine might detect the case of a Black process and change the calculation of rho accordingly; it's kind of a hack, and there goes the genericity, but it's possible to implement.  However, the above might also happen with a usually well-behaved process if we use the same term structure for $r$ and $q$:"
      ]
    },
    {
      "cell_type": "code",
      "execution_count": null,
      "metadata": {
        "id": "HXalMK6VQ0X4"
      },
      "outputs": [],
      "source": [
        "process_3 = ql.BlackScholesMertonProcess(\n",
        "    ql.QuoteHandle(u),\n",
        "    ql.YieldTermStructureHandle(risk_free_curve),\n",
        "    ql.YieldTermStructureHandle(risk_free_curve),\n",
        "    ql.BlackVolTermStructureHandle(volatility))\n",
        "option_3 = ql.EuropeanOption(ql.PlainVanillaPayoff(ql.Option.Call, 100.0),\n",
        "                             ql.EuropeanExercise(today+100))\n",
        "option_3.setPricingEngine(ql.AnalyticEuropeanEngine(process_3))"
      ]
    },
    {
      "cell_type": "code",
      "execution_count": null,
      "metadata": {
        "id": "h3guvamuQ0X4",
        "outputId": "f6ca336f-f77d-4263-fa33-8437ebd8eaa2"
      },
      "outputs": [
        {
          "name": "stdout",
          "output_type": "stream",
          "text": [
            "0.5195711146255227\n",
            "0.5195711052036867\n"
          ]
        }
      ],
      "source": [
        "print(option_3.delta())\n",
        "print(greek(option_3, u, 0.01))"
      ]
    },
    {
      "cell_type": "code",
      "execution_count": null,
      "metadata": {
        "id": "5WVTpqcxQ0X4",
        "outputId": "5e493f14-5735-48a7-a332-28db7ddc3ac0"
      },
      "outputs": [
        {
          "name": "stdout",
          "output_type": "stream",
          "text": [
            "13.268193390322908\n",
            "-1.1643375864700545\n",
            "-1.1643375714971693\n"
          ]
        }
      ],
      "source": [
        "print(option_3.rho())\n",
        "print(greek(option_3, r, 0.001))\n",
        "print(option_3.rho() + option_3.dividendRho())"
      ]
    },
    {
      "cell_type": "markdown",
      "metadata": {
        "id": "qgOpqBnIQ0X4"
      },
      "source": [
        "The issue is not even limited to processes.  You're defining a discount curve as the risk-free rate plus a credit spread? Bumping the risk-free rate will modify both, and your sensitivities will be affected accordingly (even though in this case the effect is probably what you wanted).  In any case, this is something you should be aware of."
      ]
    }
  ],
  "metadata": {
    "kernelspec": {
      "display_name": "Python 3 (ipykernel)",
      "language": "python",
      "name": "python3"
    },
    "language_info": {
      "codemirror_mode": {
        "name": "ipython",
        "version": 3
      },
      "file_extension": ".py",
      "mimetype": "text/x-python",
      "name": "python",
      "nbconvert_exporter": "python",
      "pygments_lexer": "ipython3",
      "version": "3.10.8"
    },
    "colab": {
      "provenance": [],
      "include_colab_link": true
    }
  },
  "nbformat": 4,
  "nbformat_minor": 0
}