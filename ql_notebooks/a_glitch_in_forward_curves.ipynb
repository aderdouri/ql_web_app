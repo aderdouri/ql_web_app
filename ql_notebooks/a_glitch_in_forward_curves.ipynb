{
  "cells": [
    {
      "cell_type": "markdown",
      "metadata": {
        "id": "view-in-github",
        "colab_type": "text"
      },
      "source": [
        "<a href=\"https://colab.research.google.com/github/aderdouri/ql_web_app/blob/master/ql_notebooks/a_glitch_in_forward_curves.ipynb\" target=\"_parent\"><img src=\"https://colab.research.google.com/assets/colab-badge.svg\" alt=\"Open In Colab\"/></a>"
      ]
    },
    {
      "cell_type": "markdown",
      "metadata": {
        "id": "MiRPrTfZ5Di3"
      },
      "source": [
        "# A glitch in forward-rate curves"
      ]
    },
    {
      "cell_type": "markdown",
      "metadata": {
        "id": "9umF7XoM5Di4"
      },
      "source": [
        "(Based on [a question asked by Boris Chow](https://sourceforge.net/p/quantlib/mailman/message/34286980/) on the QuantLib mailing list. Thanks!)"
      ]
    },
    {
      "cell_type": "code",
      "source": [
        "!pip install QuantLib-Python"
      ],
      "metadata": {
        "id": "-ojHh2CHJjNt",
        "outputId": "aa0f2946-20f1-420e-f62e-ffa45e950614",
        "colab": {
          "base_uri": "https://localhost:8080/"
        }
      },
      "execution_count": null,
      "outputs": [
        {
          "output_type": "stream",
          "name": "stdout",
          "text": [
            "Collecting QuantLib-Python\n",
            "  Downloading QuantLib_Python-1.18-py2.py3-none-any.whl.metadata (1.0 kB)\n",
            "Collecting QuantLib (from QuantLib-Python)\n",
            "  Downloading QuantLib-1.36-cp38-abi3-manylinux_2_17_x86_64.manylinux2014_x86_64.whl.metadata (1.1 kB)\n",
            "Downloading QuantLib_Python-1.18-py2.py3-none-any.whl (1.4 kB)\n",
            "Downloading QuantLib-1.36-cp38-abi3-manylinux_2_17_x86_64.manylinux2014_x86_64.whl (19.6 MB)\n",
            "\u001b[2K   \u001b[90m━━━━━━━━━━━━━━━━━━━━━━━━━━━━━━━━━━━━━━━━\u001b[0m \u001b[32m19.6/19.6 MB\u001b[0m \u001b[31m71.0 MB/s\u001b[0m eta \u001b[36m0:00:00\u001b[0m\n",
            "\u001b[?25hInstalling collected packages: QuantLib, QuantLib-Python\n",
            "Successfully installed QuantLib-1.36 QuantLib-Python-1.18\n"
          ]
        }
      ]
    },
    {
      "cell_type": "code",
      "source": [
        "import urllib.request\n",
        "import importlib.util\n",
        "import sys\n",
        "\n",
        "# URL of the Python file\n",
        "url = 'https://raw.githubusercontent.com/aderdouri/ql_web_app/master/ql_notebooks/utils.py'\n",
        "\n",
        "# Download the file\n",
        "urllib.request.urlretrieve(url, 'utils.py')\n",
        "\n",
        "# Import the module\n",
        "spec = importlib.util.spec_from_file_location(\"utils\", \"utils.py\")\n",
        "utils = importlib.util.module_from_spec(spec)\n",
        "sys.modules[\"utils\"] = utils\n",
        "spec.loader.exec_module(utils)"
      ],
      "metadata": {
        "id": "P79xNqO6JOkO"
      },
      "execution_count": null,
      "outputs": []
    },
    {
      "cell_type": "code",
      "execution_count": null,
      "metadata": {
        "id": "86KUf_kQ5Di5"
      },
      "outputs": [],
      "source": [
        "%matplotlib inline\n",
        "from pandas import DataFrame\n",
        "import numpy as np\n",
        "import utils"
      ]
    },
    {
      "cell_type": "code",
      "execution_count": null,
      "metadata": {
        "id": "tj2nKgGX5Di5"
      },
      "outputs": [],
      "source": [
        "import QuantLib as ql"
      ]
    },
    {
      "cell_type": "code",
      "execution_count": null,
      "metadata": {
        "id": "F3QkAq8i5Di5"
      },
      "outputs": [],
      "source": [
        "today = ql.Date(24, ql.August, 2015)\n",
        "ql.Settings.instance().evaluationDate = today"
      ]
    },
    {
      "cell_type": "markdown",
      "metadata": {
        "id": "wWy0ta3v5Di5"
      },
      "source": [
        "#### The statement of the case"
      ]
    },
    {
      "cell_type": "markdown",
      "metadata": {
        "id": "Q55h7I0M5Di5"
      },
      "source": [
        "Let's say we have built an interpolated forward-rate curve, by which I mean that it interpolates instantaneous forward rates (for more details, read my other book). We're using a backward-flat interpolation, which corresponds to log-linear discount factors. The dates and forwards are entirely made up; they are just for show."
      ]
    },
    {
      "cell_type": "code",
      "execution_count": null,
      "metadata": {
        "id": "iHDLArJG5Di5"
      },
      "outputs": [],
      "source": [
        "dates = [ today ] + [ today + ql.Period(i, ql.Years)\n",
        "                      for i in [1, 2, 3, 5, 10, 20] ]\n",
        "forwards = [ 0.01, 0.03, 0.02, 0.025, 0.035, 0.05, 0.04 ]\n",
        "curve = ql.ForwardCurve(dates, forwards, ql.Actual360())"
      ]
    },
    {
      "cell_type": "markdown",
      "metadata": {
        "id": "k6vKTDsK5Di5"
      },
      "source": [
        "We can ask the curve for its nodes, and it will return those we expect&mdash;that is, those we passed ourselves..."
      ]
    },
    {
      "cell_type": "code",
      "execution_count": null,
      "metadata": {
        "id": "DvCjdEeF5Di5",
        "outputId": "08f9e30e-7eed-4202-d3a0-2051a348711d"
      },
      "outputs": [
        {
          "data": {
            "text/html": [
              "<div>\n",
              "<style scoped>\n",
              "    .dataframe tbody tr th:only-of-type {\n",
              "        vertical-align: middle;\n",
              "    }\n",
              "\n",
              "    .dataframe tbody tr th {\n",
              "        vertical-align: top;\n",
              "    }\n",
              "\n",
              "    .dataframe thead th {\n",
              "        text-align: right;\n",
              "    }\n",
              "</style>\n",
              "<table border=\"1\" class=\"dataframe\">\n",
              "  <thead>\n",
              "    <tr style=\"text-align: right;\">\n",
              "      <th></th>\n",
              "      <th>date</th>\n",
              "      <th>rate</th>\n",
              "    </tr>\n",
              "  </thead>\n",
              "  <tbody>\n",
              "    <tr>\n",
              "      <th></th>\n",
              "      <td>August 24th, 2015</td>\n",
              "      <td>0.010</td>\n",
              "    </tr>\n",
              "    <tr>\n",
              "      <th></th>\n",
              "      <td>August 24th, 2016</td>\n",
              "      <td>0.030</td>\n",
              "    </tr>\n",
              "    <tr>\n",
              "      <th></th>\n",
              "      <td>August 24th, 2017</td>\n",
              "      <td>0.020</td>\n",
              "    </tr>\n",
              "    <tr>\n",
              "      <th></th>\n",
              "      <td>August 24th, 2018</td>\n",
              "      <td>0.025</td>\n",
              "    </tr>\n",
              "    <tr>\n",
              "      <th></th>\n",
              "      <td>August 24th, 2020</td>\n",
              "      <td>0.035</td>\n",
              "    </tr>\n",
              "    <tr>\n",
              "      <th></th>\n",
              "      <td>August 24th, 2025</td>\n",
              "      <td>0.050</td>\n",
              "    </tr>\n",
              "    <tr>\n",
              "      <th></th>\n",
              "      <td>August 24th, 2035</td>\n",
              "      <td>0.040</td>\n",
              "    </tr>\n",
              "  </tbody>\n",
              "</table>\n",
              "</div>"
            ],
            "text/plain": [
              "               date   rate\n",
              "  August 24th, 2015  0.010\n",
              "  August 24th, 2016  0.030\n",
              "  August 24th, 2017  0.020\n",
              "  August 24th, 2018  0.025\n",
              "  August 24th, 2020  0.035\n",
              "  August 24th, 2025  0.050\n",
              "  August 24th, 2035  0.040"
            ]
          },
          "execution_count": 5,
          "metadata": {},
          "output_type": "execute_result"
        }
      ],
      "source": [
        "DataFrame(list(curve.nodes()),\n",
        "          columns = ('date','rate'),\n",
        "          index = ['']*len(dates))"
      ]
    },
    {
      "cell_type": "markdown",
      "metadata": {
        "id": "_dV2BOfu5Di6"
      },
      "source": [
        "...and if we retrieve the instantaneous forward from a date between the nodes, it's the same as that of the following node, as expected for a backward-flat interpolation."
      ]
    },
    {
      "cell_type": "code",
      "execution_count": null,
      "metadata": {
        "id": "KYyRFTTX5Di6",
        "outputId": "35088881-36a6-43a3-b02c-dbf842a2ff4e"
      },
      "outputs": [
        {
          "name": "stdout",
          "output_type": "stream",
          "text": [
            "August 24th, 2019\n",
            "3.500000 % Actual/360 continuous compounding\n"
          ]
        }
      ],
      "source": [
        "d = today + ql.Period(4,ql.Years)\n",
        "print(d)\n",
        "print(curve.forwardRate(d, d, curve.dayCounter(), ql.Continuous))"
      ]
    },
    {
      "cell_type": "markdown",
      "metadata": {
        "id": "CrnXn2-45Di6"
      },
      "source": [
        "We can even plot the whole thing and get the expected shape."
      ]
    },
    {
      "cell_type": "code",
      "execution_count": null,
      "metadata": {
        "id": "AVdZlJT85Di6",
        "outputId": "b409fd84-f385-4ab1-dcad-6bbd05c8912f"
      },
      "outputs": [
        {
          "data": {
            "image/png": "[encoded data removed]",
            "text/plain": [
              "<Figure size 1200x800 with 1 Axes>"
            ]
          },
          "metadata": {},
          "output_type": "display_data"
        }
      ],
      "source": [
        "sample_times = np.linspace(0.0, 20.0, 401)\n",
        "sample_rates = [ curve.forwardRate(t, t, ql.Continuous).rate()\n",
        "                 for t in sample_times ]\n",
        "\n",
        "f, ax = utils.plot()\n",
        "ax.set_ylim(0.0,0.06)\n",
        "ax.yaxis.set_major_formatter(utils.rate_formatter())\n",
        "ax.plot(sample_times, sample_rates);"
      ]
    },
    {
      "cell_type": "markdown",
      "metadata": {
        "id": "ZclYl2em5Di6"
      },
      "source": [
        "So it seems all is well with the world. What if we retrieve the instantaneous forward rates at the curve nodes, though?"
      ]
    },
    {
      "cell_type": "code",
      "execution_count": null,
      "metadata": {
        "id": "5NhN891x5Di6",
        "outputId": "149a2260-70ab-4b91-c46b-41b54b3362fb"
      },
      "outputs": [
        {
          "data": {
            "text/html": [
              "<div>\n",
              "<style scoped>\n",
              "    .dataframe tbody tr th:only-of-type {\n",
              "        vertical-align: middle;\n",
              "    }\n",
              "\n",
              "    .dataframe tbody tr th {\n",
              "        vertical-align: top;\n",
              "    }\n",
              "\n",
              "    .dataframe thead th {\n",
              "        text-align: right;\n",
              "    }\n",
              "</style>\n",
              "<table border=\"1\" class=\"dataframe\">\n",
              "  <thead>\n",
              "    <tr style=\"text-align: right;\">\n",
              "      <th></th>\n",
              "      <th>date</th>\n",
              "      <th>expected</th>\n",
              "      <th>retrieved</th>\n",
              "    </tr>\n",
              "  </thead>\n",
              "  <tbody>\n",
              "    <tr>\n",
              "      <th></th>\n",
              "      <td>August 24th, 2015</td>\n",
              "      <td>0.010</td>\n",
              "      <td>0.0300</td>\n",
              "    </tr>\n",
              "    <tr>\n",
              "      <th></th>\n",
              "      <td>August 24th, 2016</td>\n",
              "      <td>0.030</td>\n",
              "      <td>0.0250</td>\n",
              "    </tr>\n",
              "    <tr>\n",
              "      <th></th>\n",
              "      <td>August 24th, 2017</td>\n",
              "      <td>0.020</td>\n",
              "      <td>0.0225</td>\n",
              "    </tr>\n",
              "    <tr>\n",
              "      <th></th>\n",
              "      <td>August 24th, 2018</td>\n",
              "      <td>0.025</td>\n",
              "      <td>0.0300</td>\n",
              "    </tr>\n",
              "    <tr>\n",
              "      <th></th>\n",
              "      <td>August 24th, 2020</td>\n",
              "      <td>0.035</td>\n",
              "      <td>0.0425</td>\n",
              "    </tr>\n",
              "    <tr>\n",
              "      <th></th>\n",
              "      <td>August 24th, 2025</td>\n",
              "      <td>0.050</td>\n",
              "      <td>0.0450</td>\n",
              "    </tr>\n",
              "    <tr>\n",
              "      <th></th>\n",
              "      <td>August 24th, 2035</td>\n",
              "      <td>0.040</td>\n",
              "      <td>0.0400</td>\n",
              "    </tr>\n",
              "  </tbody>\n",
              "</table>\n",
              "</div>"
            ],
            "text/plain": [
              "               date  expected  retrieved\n",
              "  August 24th, 2015     0.010     0.0300\n",
              "  August 24th, 2016     0.030     0.0250\n",
              "  August 24th, 2017     0.020     0.0225\n",
              "  August 24th, 2018     0.025     0.0300\n",
              "  August 24th, 2020     0.035     0.0425\n",
              "  August 24th, 2025     0.050     0.0450\n",
              "  August 24th, 2035     0.040     0.0400"
            ]
          },
          "execution_count": 8,
          "metadata": {},
          "output_type": "execute_result"
        }
      ],
      "source": [
        "dates, expected = zip(*curve.nodes())\n",
        "rates = [ curve.forwardRate(d, d, curve.dayCounter(), ql.Continuous).rate()\n",
        "          for d in dates]\n",
        "DataFrame(list(zip(dates, expected, rates)),\n",
        "          columns = ('date','expected','retrieved'),\n",
        "          index = ['']*len(dates))"
      ]
    },
    {
      "cell_type": "markdown",
      "metadata": {
        "id": "aFNhGLyN5Di6"
      },
      "source": [
        "Here are the above points, together with the rest of the curve."
      ]
    },
    {
      "cell_type": "code",
      "execution_count": null,
      "metadata": {
        "id": "ZeX8Zj8R5Di6",
        "outputId": "0b05760a-45fd-4ec5-af92-b4aacd065119"
      },
      "outputs": [
        {
          "data": {
            "image/png": "[encoded data removed]",
            "text/plain": [
              "<Figure size 1200x800 with 1 Axes>"
            ]
          },
          "metadata": {},
          "output_type": "display_data"
        }
      ],
      "source": [
        "node_times = [ curve.dayCounter().yearFraction(today, d) for d in dates ]\n",
        "ax.plot(node_times, rates, 'o', markersize=8)\n",
        "display(f)"
      ]
    },
    {
      "cell_type": "markdown",
      "metadata": {
        "id": "O3M9FxZI5Di7"
      },
      "source": [
        "#### What's wrong?"
      ]
    },
    {
      "cell_type": "markdown",
      "metadata": {
        "id": "3AzZoAWw5Di7"
      },
      "source": [
        "It's a combination of two things. First, the particular interpolation we've chosen causes the instantaneous forwards to be discontinuous at the nodes. Second, there's a limitation in the implementation of the base `TermStructure` class: the instantaneous forwards are not taken directly from the interpolation, but retrieved generically from the discount factors as the forward over a small interval around the given time; that is,\n",
        "\n",
        "$$\n",
        "\\tilde{f}(t) = \\frac{1}{2 \\delta t} \\log\\left(\\frac{B(t-\\delta t)}{B(t+\\delta t)}\\right)\n",
        "$$\n",
        "\n",
        "Again, the details are in my other book."
      ]
    },
    {
      "cell_type": "markdown",
      "metadata": {
        "id": "f3NBc_vj5Di7"
      },
      "source": [
        "By writing the discount factors $B(t)$ in terms of the zero rates as $\\exp\\left(Z(t) \\cdot t \\right)$, and in turn the zero rates in terms of the instantaneous forwards as $Z(t) = \\displaystyle{\\int_0^t f(\\tau) d\\tau}$, the above simplifies (well, for some value of \"simplifies\") to\n",
        "\n",
        "$$\n",
        "\\tilde{f}(t) = \\frac{1}{2 \\delta t} \\left[ \\int_0^{t+\\delta t} f(\\tau) d\\tau - \\int_0^{t-\\delta t} f(\\tau) d\\tau \\right]\n",
        "$$"
      ]
    },
    {
      "cell_type": "markdown",
      "metadata": {
        "id": "e0nJ0rde5Di7"
      },
      "source": [
        "We can interpret the above expression in two ways; both explain why the values at the nodes are off and why we get the correct values elsewhere."
      ]
    },
    {
      "cell_type": "markdown",
      "metadata": {
        "id": "6Zw_feKE5Di7"
      },
      "source": [
        "As the difference of two integrals, it equals\n",
        "\n",
        "$$\n",
        "\\frac{1}{2 \\delta t} \\left[ \\int_{t-\\delta t}^{t+\\delta t} f(\\tau) d\\tau \\right]\n",
        "$$\n",
        "\n",
        "that is, the average of $f(\\tau)$ between $t-\\delta t$ and $t+\\delta t$. What this means is clear from the following figure: off the nodes, the result equals the flat value of the forwards; at the nodes, though, it equals the average between the two adjacent levels."
      ]
    },
    {
      "cell_type": "raw",
      "metadata": {
        "id": "q-idCIqv5Di7"
      },
      "source": [
        "![](images/a_glitch_in_forward_curves-integral.png)"
      ]
    },
    {
      "cell_type": "markdown",
      "metadata": {
        "id": "RNkNrAL05Di7"
      },
      "source": [
        "If we consider the integral $\\displaystyle{\\int_0^t f(\\tau) d\\tau}$ as a function $F(t)$ instead, $\\tilde{f}(t)$ equals $\\displaystyle{\\frac{F(t+\\delta t)-F(t-\\delta t)}{2 \\delta t}}$; that is, the numerical derivative of $F$ at $t$. Again, a figure shows clearly what happens at and off the nodes: the forwards are piecewise flat, their integral is piecewise linear with slopes equal to the forwards, and the derivative at a given node is in between the two joining slopes."
      ]
    },
    {
      "cell_type": "raw",
      "metadata": {
        "id": "PE7Mh5c95Di7"
      },
      "source": [
        "![](images/a_glitch_in_forward_curves-derivative.png)"
      ]
    },
    {
      "cell_type": "markdown",
      "metadata": {
        "id": "VqKBLGYx5Di7"
      },
      "source": [
        "#### Is the curve wrong, then?"
      ]
    },
    {
      "cell_type": "markdown",
      "metadata": {
        "id": "dN5W9u5L5Di7"
      },
      "source": [
        "Yes and no. The glitch above is real, but discount factors and discrete rates are retrieved correctly so there's no problem using the curve (unless the value of an instrument depends on instantaneous forwards, but that's unlikely). If the above troubles you, though, what you can do is simply to choose another interpolation that doesn't cause discontinuities."
      ]
    }
  ],
  "metadata": {
    "kernelspec": {
      "display_name": "Python 3 (ipykernel)",
      "language": "python",
      "name": "python3"
    },
    "language_info": {
      "codemirror_mode": {
        "name": "ipython",
        "version": 3
      },
      "file_extension": ".py",
      "mimetype": "text/x-python",
      "name": "python",
      "nbconvert_exporter": "python",
      "pygments_lexer": "ipython3",
      "version": "3.10.8"
    },
    "colab": {
      "provenance": [],
      "include_colab_link": true
    }
  },
  "nbformat": 4,
  "nbformat_minor": 0
}