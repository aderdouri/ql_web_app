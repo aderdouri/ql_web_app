{
  "cells": [
    {
      "cell_type": "markdown",
      "metadata": {
        "id": "view-in-github",
        "colab_type": "text"
      },
      "source": [
        "<a href=\"https://colab.research.google.com/github/aderdouri/ql_web_app/blob/master/ql_notebooks/capfloor_valuations.ipynb\" target=\"_parent\"><img src=\"https://colab.research.google.com/assets/colab-badge.svg\" alt=\"Open In Colab\"/></a>"
      ]
    },
    {
      "cell_type": "markdown",
      "metadata": {
        "id": "sxSOLxiHO5xf"
      },
      "source": [
        "# Caps and floors"
      ]
    },
    {
      "cell_type": "code",
      "source": [
        "!pip install QuantLib-Python"
      ],
      "metadata": {
        "id": "nNUmC7G-PBIw",
        "outputId": "1f40b2bb-01bd-4f6e-c960-8c4a7de558ee",
        "colab": {
          "base_uri": "https://localhost:8080/"
        }
      },
      "execution_count": 1,
      "outputs": [
        {
          "output_type": "stream",
          "name": "stdout",
          "text": [
            "Collecting QuantLib-Python\n",
            "  Downloading QuantLib_Python-1.18-py2.py3-none-any.whl.metadata (1.0 kB)\n",
            "Collecting QuantLib (from QuantLib-Python)\n",
            "  Downloading quantlib-1.38-cp38-abi3-manylinux_2_17_x86_64.manylinux2014_x86_64.whl.metadata (1.1 kB)\n",
            "Downloading QuantLib_Python-1.18-py2.py3-none-any.whl (1.4 kB)\n",
            "Downloading quantlib-1.38-cp38-abi3-manylinux_2_17_x86_64.manylinux2014_x86_64.whl (20.0 MB)\n",
            "\u001b[2K   \u001b[90m━━━━━━━━━━━━━━━━━━━━━━━━━━━━━━━━━━━━━━━━\u001b[0m \u001b[32m20.0/20.0 MB\u001b[0m \u001b[31m33.7 MB/s\u001b[0m eta \u001b[36m0:00:00\u001b[0m\n",
            "\u001b[?25hInstalling collected packages: QuantLib, QuantLib-Python\n",
            "Successfully installed QuantLib-1.38 QuantLib-Python-1.18\n"
          ]
        }
      ]
    },
    {
      "cell_type": "markdown",
      "metadata": {
        "id": "4PAisF9lO5xg"
      },
      "source": [
        "In this post, I will walk you through a simple example of valuing caps. I want to talk about two specific cases:\n",
        "\n",
        "1. Value caps given a constant volatility\n",
        "2. Value caps given a cap volatility surface\n",
        "\n",
        "Caps, as you might know, can be valued as a sum of caplets. The value of each caplet is determined by the Black formula. In practice, each caplet would have a different volatility. Meaning, a caplet that is in the near term can have a different volatility profile compared to the caplet that is far away in tenor. Similarly caplet volatilities differ with the strike as well."
      ]
    },
    {
      "cell_type": "code",
      "execution_count": 2,
      "metadata": {
        "id": "0z3sdXF0O5xg"
      },
      "outputs": [],
      "source": [
        "import QuantLib as ql"
      ]
    },
    {
      "cell_type": "code",
      "source": [
        "import urllib.request\n",
        "import importlib.util\n",
        "import sys\n",
        "\n",
        "# URL of the Python file\n",
        "url = 'https://raw.githubusercontent.com/aderdouri/ql_web_app/master/ql_notebooks/utils.py'\n",
        "\n",
        "# Download the file\n",
        "urllib.request.urlretrieve(url, 'utils.py')\n",
        "\n",
        "# Import the module\n",
        "spec = importlib.util.spec_from_file_location(\"utils\", \"utils.py\")\n",
        "utils = importlib.util.module_from_spec(spec)\n",
        "sys.modules[\"utils\"] = utils\n",
        "spec.loader.exec_module(utils)"
      ],
      "metadata": {
        "id": "R_XOE3wTAfRO"
      },
      "execution_count": 13,
      "outputs": []
    },
    {
      "cell_type": "code",
      "execution_count": 14,
      "metadata": {
        "id": "wA9906_iO5xg"
      },
      "outputs": [],
      "source": [
        "calc_date = ql.Date(14, 6, 2016)\n",
        "ql.Settings.instance().evaluationDate = calc_date"
      ]
    },
    {
      "cell_type": "markdown",
      "metadata": {
        "id": "FS3jgVacO5xg"
      },
      "source": [
        "#### Constant Volatility"
      ]
    },
    {
      "cell_type": "markdown",
      "metadata": {
        "id": "06v1ULZYO5xh"
      },
      "source": [
        "Let us start by constructing different components required in valuing the caps. The components that we would need are:\n",
        "\n",
        "1. interest rate term structure for discounting\n",
        "2. interest rate term structure for the floating leg\n",
        "3. construction of the cap\n",
        "4. the pricing engine to value caps using the Black formula\n",
        "\n",
        "For simplicity, we will construct only one interest rate term structure here, and assume that the discounting and the floating leg is referenced by the same. Below the term structure of interest rates is constructed from a set of zero rates."
      ]
    },
    {
      "cell_type": "code",
      "execution_count": 15,
      "metadata": {
        "id": "c2SKn-e7O5xh"
      },
      "outputs": [],
      "source": [
        "dates = [ql.Date(14,6,2016),  ql.Date(14,9,2016),\n",
        "         ql.Date(14,12,2016), ql.Date(14,6,2017),\n",
        "         ql.Date(14,6,2019),  ql.Date(14,6,2021),\n",
        "         ql.Date(15,6,2026),  ql.Date(16,6,2031),\n",
        "         ql.Date(16,6,2036),  ql.Date(14,6,2046)\n",
        "         ]\n",
        "yields = [0.000000, 0.006616, 0.007049, 0.007795,\n",
        "          0.009599, 0.011203, 0.015068, 0.017583,\n",
        "          0.018998, 0.020080]\n",
        "\n",
        "day_count = ql.ActualActual(ql.ActualActual.ISDA)\n",
        "calendar = ql.UnitedStates(ql.UnitedStates.GovernmentBond)\n",
        "interpolation = ql.Linear()\n",
        "compounding = ql.Compounded\n",
        "compounding_frequency = ql.Annual\n",
        "\n",
        "term_structure = ql.ZeroCurve(dates, yields, day_count,\n",
        "                              calendar, interpolation,\n",
        "                              compounding, compounding_frequency)\n",
        "ts_handle = ql.YieldTermStructureHandle(term_structure)"
      ]
    },
    {
      "cell_type": "markdown",
      "metadata": {
        "id": "W23n4SEkO5xh"
      },
      "source": [
        "As a next step, lets construct the cap itself. In order to do that, we start by constructing the `Schedule` object to project the cash-flow dates."
      ]
    },
    {
      "cell_type": "code",
      "execution_count": 16,
      "metadata": {
        "id": "CZyF0P48O5xh"
      },
      "outputs": [],
      "source": [
        "start_date = ql.Date(14, 6, 2016)\n",
        "end_date = ql.Date(14, 6 , 2026)\n",
        "period = ql.Period(3, ql.Months)\n",
        "calendar = ql.UnitedStates(ql.UnitedStates.GovernmentBond)\n",
        "bus_convention = ql.ModifiedFollowing\n",
        "rule = ql.DateGeneration.Forward\n",
        "end_of_month = False\n",
        "\n",
        "schedule = ql.Schedule(start_date, end_date, period,\n",
        "                       calendar, bus_convention,\n",
        "                       bus_convention, rule, end_of_month)"
      ]
    },
    {
      "cell_type": "markdown",
      "metadata": {
        "id": "zxTucZgdO5xh"
      },
      "source": [
        "Now that we have the schedule, we construct the `USDLibor` index. Below, you can see that I use `addFixing` method to provide a fixing date for June 10, 2016. According the schedule constructed, the start date of the cap is June 14, 2016, and there is a 2 business day settlement lag (meaning June 10 reference date) embedded in the `USDLibor` definition. So in order to set the rate for the accrual period, the rate is obtained from the fixing data provided. For all future dates, the libor rates are automatically inferred using the forward rates provided by the given interest rate term structure."
      ]
    },
    {
      "cell_type": "code",
      "execution_count": 17,
      "metadata": {
        "id": "IqRGG7-EO5xh"
      },
      "outputs": [],
      "source": [
        "ibor_index = ql.USDLibor(ql.Period(3, ql.Months), ts_handle)\n",
        "ibor_index.addFixing(ql.Date(10,6,2016), 0.0065560)\n",
        "\n",
        "ibor_leg = ql.IborLeg([1000000], schedule, ibor_index)"
      ]
    },
    {
      "cell_type": "markdown",
      "metadata": {
        "id": "NnwdAVlTO5xh"
      },
      "source": [
        "Now that we have all the required pieces, the `Cap` can be constructed by passing the `ibor_leg` and the `strike` information. Constructing a floor is done through the `Floor` class. The `BlackCapFloorEngine` can be used to price the cap with constant volatility as shown below."
      ]
    },
    {
      "cell_type": "code",
      "execution_count": 18,
      "metadata": {
        "id": "58T5_JyrO5xh",
        "outputId": "59ae1308-d9c0-4767-98d8-eb90b52132db",
        "colab": {
          "base_uri": "https://localhost:8080/"
        }
      },
      "outputs": [
        {
          "output_type": "stream",
          "name": "stdout",
          "text": [
            "54369.85806286924\n"
          ]
        }
      ],
      "source": [
        "strike = 0.02\n",
        "cap = ql.Cap(ibor_leg, [strike])\n",
        "\n",
        "vols = ql.QuoteHandle(ql.SimpleQuote(0.547295))\n",
        "engine = ql.BlackCapFloorEngine(ts_handle, vols)\n",
        "\n",
        "cap.setPricingEngine(engine)\n",
        "print(cap.NPV())"
      ]
    },
    {
      "cell_type": "markdown",
      "metadata": {
        "id": "xUx-IXr_O5xi"
      },
      "source": [
        "#### Using Volatility Surfaces"
      ]
    },
    {
      "cell_type": "markdown",
      "metadata": {
        "id": "nuv5dBDmO5xi"
      },
      "source": [
        "In the above exercise, we used a constant volatility value. In practice, one needs to strip the market quoted cap/floor volatilities to infer the volatility of each caplet. QuantLib provides excellent tools in order to do that. Let us assume the following dummy data represents the volatility surface quoted by the market. I have the various `strikes`, `expiries`, and the volatility quotes in percentage format. I take the raw data and create a `Matrix` in order to construct the volatility surface."
      ]
    },
    {
      "cell_type": "code",
      "execution_count": 19,
      "metadata": {
        "id": "2YG3sI2cO5xi"
      },
      "outputs": [],
      "source": [
        "strikes = [0.01,0.015, 0.02]\n",
        "temp = list(range(1, 11)) + [12]\n",
        "expiries = [ql.Period(i, ql.Years) for i in temp]\n",
        "vols = ql.Matrix(len(expiries), len(strikes))\n",
        "data = [\n",
        "    [47.27, 55.47, 64.07, 70.14, 72.13, 69.41,\n",
        "     72.15, 67.28, 66.08, 68.64, 65.83],\n",
        "    [46.65, 54.15, 61.47, 65.53, 66.28, 62.83,\n",
        "     64.42, 60.05, 58.71, 60.35, 55.91],\n",
        "    [46.60, 52.65, 59.32, 62.05, 62.00, 58.09,\n",
        "     59.03, 55.00, 53.59, 54.74, 49.54]\n",
        "]\n",
        "\n",
        "for i in range(vols.rows()):\n",
        "    for j in range(vols.columns()):\n",
        "        vols[i][j] = data[j][i]/100.0"
      ]
    },
    {
      "cell_type": "markdown",
      "metadata": {
        "id": "OOk2OnvQO5xi"
      },
      "source": [
        "The `CapFloorTermVolSurface` offers a way to store the cap/floor volatilities. These are however `CapFloor` volatilities, and not the volatilities of the individual options."
      ]
    },
    {
      "cell_type": "code",
      "execution_count": 20,
      "metadata": {
        "id": "ZDXwMEryO5xi"
      },
      "outputs": [],
      "source": [
        "calendar = ql.UnitedStates(ql.UnitedStates.GovernmentBond)\n",
        "bdc = ql.ModifiedFollowing\n",
        "daycount = ql.Actual365Fixed()\n",
        "settlement_days = 2\n",
        "capfloor_vol = ql.CapFloorTermVolSurface(\n",
        "    settlement_days, calendar, bdc,\n",
        "    expiries, strikes, vols, daycount\n",
        ")"
      ]
    },
    {
      "cell_type": "markdown",
      "metadata": {
        "id": "tVUB3zbBO5xi"
      },
      "source": [
        "The `OptionletStripper1` class lets you to strip the individual caplet/floorlet volatilities from the cap/floor volatilities. We have to 'jump' some hoops here to make it useful for pricing. The `OptionletStripper1` class cannot be consumed directly by a pricing engine. The `StrippedOptionletAdapter` takes the stripped optionlet volatilities, and creates a term structure of optionlet volatilities. We then wrap that into a handle using `OptionletVolatilityStructureHandle`."
      ]
    },
    {
      "cell_type": "code",
      "execution_count": 21,
      "metadata": {
        "id": "Dk5iCTLZO5xi"
      },
      "outputs": [],
      "source": [
        "optionlet_surf = ql.OptionletStripper1(\n",
        "    capfloor_vol, ibor_index, ql.nullDouble(),\n",
        "    1e-6, 100, ts_handle\n",
        ")\n",
        "ovs_handle = ql.OptionletVolatilityStructureHandle(\n",
        "    ql.StrippedOptionletAdapter(optionlet_surf)\n",
        ")"
      ]
    },
    {
      "cell_type": "markdown",
      "metadata": {
        "id": "ryPaE_Y2O5xi"
      },
      "source": [
        "Below, we visualize the cap/floor volatility surface, and the optionlet volatility surface for a fixed strike."
      ]
    },
    {
      "cell_type": "code",
      "execution_count": 22,
      "metadata": {
        "id": "gxfaOZuOO5xi"
      },
      "outputs": [],
      "source": [
        "import utils\n",
        "import numpy as np\n",
        "%matplotlib inline"
      ]
    },
    {
      "cell_type": "code",
      "execution_count": 23,
      "metadata": {
        "id": "5ohkbxC-O5xi",
        "outputId": "9bef70d8-37e7-45f9-b81b-58d51d93154f",
        "colab": {
          "base_uri": "https://localhost:8080/",
          "height": 701
        }
      },
      "outputs": [
        {
          "output_type": "display_data",
          "data": {
            "text/plain": [
              "<Figure size 1200x800 with 1 Axes>"
            ],
            "image/png": "[encoded data removed]"
          },
          "metadata": {}
        }
      ],
      "source": [
        "tenors = np.arange(0,10,0.25)\n",
        "strike = 0.01\n",
        "capfloor_vols = [capfloor_vol.volatility(t, strike) for t in tenors]\n",
        "opionlet_vols = [ovs_handle.volatility(t, strike) for t in tenors]\n",
        "\n",
        "fig, ax = utils.plot()\n",
        "ax.plot(tenors, capfloor_vols, \"--\", label=\"CapFloor Vols\")\n",
        "ax.plot(tenors, opionlet_vols,\"-\", label=\"Optionlet Vols\")\n",
        "ax.legend(loc='best')\n",
        "ax.set_xlabel(\"Tenors\", size=14)\n",
        "ax.set_ylabel(\"Volatility\", size=14);"
      ]
    },
    {
      "cell_type": "markdown",
      "metadata": {
        "id": "ABgPfOleO5xi"
      },
      "source": [
        "The `BlackCapFloorEngine` can accept the optionlet volatility surface in order to price the caps or floors."
      ]
    },
    {
      "cell_type": "code",
      "execution_count": 24,
      "metadata": {
        "id": "U6Ei3JNRO5xj",
        "outputId": "d65e62c7-2efe-4998-a06e-fc6e0987c5e8",
        "colab": {
          "base_uri": "https://localhost:8080/"
        }
      },
      "outputs": [
        {
          "output_type": "stream",
          "name": "stdout",
          "text": [
            "54384.928314950135\n"
          ]
        }
      ],
      "source": [
        "engine2 = ql.BlackCapFloorEngine(ts_handle, ovs_handle)\n",
        "cap.setPricingEngine(engine2)\n",
        "print(cap.NPV())"
      ]
    },
    {
      "cell_type": "markdown",
      "metadata": {
        "id": "1i42IhNrO5xj"
      },
      "source": [
        "One can infer the implied volatility for the cap at its NPV, and it should be in agreement with what is quote by the surface."
      ]
    },
    {
      "cell_type": "code",
      "execution_count": 25,
      "metadata": {
        "id": "ph3CDABCO5xj",
        "outputId": "bb6cff6d-54fe-473b-d3fb-bd0f1c4879e5",
        "colab": {
          "base_uri": "https://localhost:8080/"
        }
      },
      "outputs": [
        {
          "output_type": "execute_result",
          "data": {
            "text/plain": [
              "0.547443893092885"
            ]
          },
          "metadata": {},
          "execution_count": 25
        }
      ],
      "source": [
        "cap.impliedVolatility(cap.NPV(), ts_handle, 0.4)"
      ]
    },
    {
      "cell_type": "markdown",
      "metadata": {
        "id": "MfQjTulRO5xj"
      },
      "source": [
        "The QuantLib C++ class allow for one to view the projected cash flows in terms of individual caplets."
      ]
    },
    {
      "cell_type": "code",
      "source": [],
      "metadata": {
        "id": "YWZ42m5mAqfG"
      },
      "execution_count": null,
      "outputs": []
    }
  ],
  "metadata": {
    "kernelspec": {
      "display_name": "Python 3 (ipykernel)",
      "language": "python",
      "name": "python3"
    },
    "language_info": {
      "codemirror_mode": {
        "name": "ipython",
        "version": 3
      },
      "file_extension": ".py",
      "mimetype": "text/x-python",
      "name": "python",
      "nbconvert_exporter": "python",
      "pygments_lexer": "ipython3",
      "version": "3.10.8"
    },
    "colab": {
      "provenance": [],
      "include_colab_link": true
    }
  },
  "nbformat": 4,
  "nbformat_minor": 0
}