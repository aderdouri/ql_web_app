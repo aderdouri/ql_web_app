{
  "cells": [
    {
      "cell_type": "markdown",
      "metadata": {
        "id": "I2pSADLOdbKo"
      },
      "source": [
        "# Modeling interest rate swaps using QuantLib"
      ]
    },
    {
      "cell_type": "markdown",
      "metadata": {
        "id": "KhIfL6GQdbKp"
      },
      "source": [
        "<a href=\"https://colab.research.google.com/github/aderdouri/ql_web_app/blob/master/ql_notebooks/irswapexample.ipynb\" target=\"_parent\"><img src=\"https://colab.research.google.com/assets/colab-badge.svg\" alt=\"Open In Colab\"/></a>"
      ]
    },
    {
      "cell_type": "markdown",
      "metadata": {
        "id": "5RqfDeQxdbKp"
      },
      "source": [
        "An interest rate swap is a financial derivative instrument in which two parties agree to exchange interest rate cash flows based on a notional amount from a fixed rate to a floating rate or from one floating rate to another floating rate.\n",
        "\n",
        "Here we will consider an example of a plain vanilla USD swap with 10 million notional and 10 year maturity. Let the fixed leg pay 2.5% coupon semiannually, and the floating leg pay Libor 3m quarterly."
      ]
    },
    {
      "cell_type": "code",
      "execution_count": 1,
      "metadata": {
        "colab": {
          "base_uri": "https://localhost:8080/"
        },
        "id": "b4xqwM9fdbKq",
        "outputId": "abc5ca92-c9ed-4bd1-ef0c-f864a3d065e0"
      },
      "outputs": [
        {
          "output_type": "stream",
          "name": "stdout",
          "text": [
            "Collecting QuantLib-Python\n",
            "  Downloading QuantLib_Python-1.18-py2.py3-none-any.whl.metadata (1.0 kB)\n",
            "Collecting QuantLib (from QuantLib-Python)\n",
            "  Downloading quantlib-1.38-cp38-abi3-manylinux_2_17_x86_64.manylinux2014_x86_64.whl.metadata (1.1 kB)\n",
            "Downloading QuantLib_Python-1.18-py2.py3-none-any.whl (1.4 kB)\n",
            "Downloading quantlib-1.38-cp38-abi3-manylinux_2_17_x86_64.manylinux2014_x86_64.whl (20.0 MB)\n",
            "\u001b[2K   \u001b[90m━━━━━━━━━━━━━━━━━━━━━━━━━━━━━━━━━━━━━━━━\u001b[0m \u001b[32m20.0/20.0 MB\u001b[0m \u001b[31m47.2 MB/s\u001b[0m eta \u001b[36m0:00:00\u001b[0m\n",
            "\u001b[?25hInstalling collected packages: QuantLib, QuantLib-Python\n",
            "Successfully installed QuantLib-1.38 QuantLib-Python-1.18\n"
          ]
        }
      ],
      "source": [
        "!pip install QuantLib-Python"
      ]
    },
    {
      "cell_type": "code",
      "execution_count": 3,
      "metadata": {
        "id": "NDD5JCkidbKr"
      },
      "outputs": [],
      "source": [
        "import QuantLib as ql\n",
        "calculation_date = ql.Date(20, 10, 2015)\n",
        "ql.Settings.instance().evaluationDate = calculation_date"
      ]
    },
    {
      "cell_type": "markdown",
      "metadata": {
        "id": "pn4V66PCdbKr"
      },
      "source": [
        "Here we construct the yield curve objects. For simplicity, we will use flat curves for discounting and Libor 3M. This will help us focus on the swap construction. Please refer to [curve construction example](http://gouthamanbalaraman.com/blog/quantlib-term-structure-bootstrap-yield-curve.html) for some details."
      ]
    },
    {
      "cell_type": "code",
      "execution_count": 4,
      "metadata": {
        "id": "DSF3d2F8dbKr"
      },
      "outputs": [],
      "source": [
        "risk_free_rate = 0.01\n",
        "libor_rate = 0.02\n",
        "day_count = ql.Actual365Fixed()\n",
        "\n",
        "discount_curve = ql.YieldTermStructureHandle(\n",
        "    ql.FlatForward(calculation_date, risk_free_rate, day_count)\n",
        ")\n",
        "\n",
        "libor_curve = ql.YieldTermStructureHandle(\n",
        "    ql.FlatForward(calculation_date, libor_rate, day_count)\n",
        ")\n",
        "#libor3M_index = ql.Euribor3M(libor_curve)\n",
        "libor3M_index = ql.USDLibor(ql.Period(3, ql.Months), libor_curve)"
      ]
    },
    {
      "cell_type": "markdown",
      "source": [
        "**Remarque en date du 03/05/2025:**\n",
        "\n",
        "Il faut afficher dans les inputs dans la UI :\n",
        "- Base de clacul par LEG (360, ACT/ACT...)\n",
        "- La devise\n",
        "- L'index : (LIBIR, EURIBOR, SOFR).\n",
        "- TERM or TENOR\n",
        "- CALENDAR : (Pouvoir choisir : ql.UnitedStates.GovernmentBond, etc, ...)\n",
        "\n",
        "- Dans la réponse de pricing, ajouter le schedule FIXED vs FLOAT (Voir ci-dessus l'exemple sur les CashFlows) avec les colonnes suivantes : Date, StartDate, EndDate, Rate, FlowAmount."
      ],
      "metadata": {
        "id": "5kIsdQxod3xG"
      }
    },
    {
      "cell_type": "markdown",
      "metadata": {
        "id": "kjhl0X0AdbKs"
      },
      "source": [
        "To construct the swap, we have to specify the fixed rate leg and floating rate leg. We construct the fixed rate and floating rate leg schedules below."
      ]
    },
    {
      "cell_type": "code",
      "execution_count": 5,
      "metadata": {
        "id": "pAwIekoxdbKt"
      },
      "outputs": [],
      "source": [
        "calendar = ql.UnitedStates(ql.UnitedStates.GovernmentBond)\n",
        "settle_date = calendar.advance(calculation_date, 5, ql.Days)\n",
        "maturity_date = calendar.advance(settle_date, 10, ql.Years)\n",
        "\n",
        "fixed_leg_tenor = ql.Period(6, ql.Months)\n",
        "fixed_schedule = ql.Schedule(settle_date, maturity_date,\n",
        "                             fixed_leg_tenor, calendar,\n",
        "                             ql.ModifiedFollowing, ql.ModifiedFollowing,\n",
        "                             ql.DateGeneration.Forward, False)\n",
        "\n",
        "float_leg_tenor = ql.Period(3, ql.Months)\n",
        "float_schedule = ql.Schedule(settle_date, maturity_date,\n",
        "                             float_leg_tenor, calendar,\n",
        "                             ql.ModifiedFollowing, ql.ModifiedFollowing,\n",
        "                             ql.DateGeneration.Forward, False)"
      ]
    },
    {
      "cell_type": "markdown",
      "metadata": {
        "id": "ynfAS9MkdbKt"
      },
      "source": [
        "Below, we construct a `VanillaSwap` object  by including the fixed and float leg schedules created above."
      ]
    },
    {
      "cell_type": "code",
      "execution_count": 7,
      "metadata": {
        "id": "9so6TuaudbKt"
      },
      "outputs": [],
      "source": [
        "notional = 10000000\n",
        "fixed_rate = 0.025\n",
        "fixed_leg_daycount = ql.Actual360()\n",
        "float_spread = 0.004\n",
        "float_leg_daycount = ql.Actual360()\n",
        "\n",
        "ir_swap = ql.VanillaSwap(ql.VanillaSwap.Payer, notional, fixed_schedule,\n",
        "                         fixed_rate, fixed_leg_daycount, float_schedule,\n",
        "                         libor3M_index, float_spread, float_leg_daycount)"
      ]
    },
    {
      "cell_type": "markdown",
      "metadata": {
        "id": "n5pcaTQfdbKu"
      },
      "source": [
        "We evaluate the swap using a discounting engine."
      ]
    },
    {
      "cell_type": "code",
      "execution_count": 8,
      "metadata": {
        "id": "Tv8jfcgtdbKu"
      },
      "outputs": [],
      "source": [
        "swap_engine = ql.DiscountingSwapEngine(discount_curve)\n",
        "ir_swap.setPricingEngine(swap_engine)"
      ]
    },
    {
      "cell_type": "markdown",
      "metadata": {
        "id": "jZdHCFd7dbKu"
      },
      "source": [
        "#### Result Analysis"
      ]
    },
    {
      "cell_type": "markdown",
      "metadata": {
        "id": "SpvWOo3jdbKu"
      },
      "source": [
        "The cash flows for the fixed and floating leg can be extracted from the `ir_swap` object. The fixed leg cash flows are shown below:"
      ]
    },
    {
      "cell_type": "code",
      "execution_count": null,
      "metadata": {
        "id": "ONR0xQ6DdbKu",
        "outputId": "65670e1a-a393-4b11-9314-2d4ca892ba85"
      },
      "outputs": [
        {
          "data": {
            "text/html": [
              "<div>\n",
              "<style scoped>\n",
              "    .dataframe tbody tr th:only-of-type {\n",
              "        vertical-align: middle;\n",
              "    }\n",
              "\n",
              "    .dataframe tbody tr th {\n",
              "        vertical-align: top;\n",
              "    }\n",
              "\n",
              "    .dataframe thead th {\n",
              "        text-align: right;\n",
              "    }\n",
              "</style>\n",
              "<table border=\"1\" class=\"dataframe\">\n",
              "  <thead>\n",
              "    <tr style=\"text-align: right;\">\n",
              "      <th></th>\n",
              "      <th>Date</th>\n",
              "      <th>Amount</th>\n",
              "    </tr>\n",
              "  </thead>\n",
              "  <tbody>\n",
              "    <tr>\n",
              "      <th>1</th>\n",
              "      <td>April 27th, 2016</td>\n",
              "      <td>127083.333333</td>\n",
              "    </tr>\n",
              "    <tr>\n",
              "      <th>2</th>\n",
              "      <td>October 27th, 2016</td>\n",
              "      <td>127083.333333</td>\n",
              "    </tr>\n",
              "    <tr>\n",
              "      <th>3</th>\n",
              "      <td>April 27th, 2017</td>\n",
              "      <td>126388.888889</td>\n",
              "    </tr>\n",
              "    <tr>\n",
              "      <th>4</th>\n",
              "      <td>October 27th, 2017</td>\n",
              "      <td>127083.333333</td>\n",
              "    </tr>\n",
              "    <tr>\n",
              "      <th>5</th>\n",
              "      <td>April 27th, 2018</td>\n",
              "      <td>126388.888889</td>\n",
              "    </tr>\n",
              "    <tr>\n",
              "      <th>6</th>\n",
              "      <td>October 29th, 2018</td>\n",
              "      <td>128472.222222</td>\n",
              "    </tr>\n",
              "    <tr>\n",
              "      <th>7</th>\n",
              "      <td>April 29th, 2019</td>\n",
              "      <td>126388.888889</td>\n",
              "    </tr>\n",
              "    <tr>\n",
              "      <th>8</th>\n",
              "      <td>October 28th, 2019</td>\n",
              "      <td>126388.888889</td>\n",
              "    </tr>\n",
              "    <tr>\n",
              "      <th>9</th>\n",
              "      <td>April 27th, 2020</td>\n",
              "      <td>126388.888889</td>\n",
              "    </tr>\n",
              "    <tr>\n",
              "      <th>10</th>\n",
              "      <td>October 27th, 2020</td>\n",
              "      <td>127083.333333</td>\n",
              "    </tr>\n",
              "    <tr>\n",
              "      <th>11</th>\n",
              "      <td>April 27th, 2021</td>\n",
              "      <td>126388.888889</td>\n",
              "    </tr>\n",
              "    <tr>\n",
              "      <th>12</th>\n",
              "      <td>October 27th, 2021</td>\n",
              "      <td>127083.333333</td>\n",
              "    </tr>\n",
              "    <tr>\n",
              "      <th>13</th>\n",
              "      <td>April 27th, 2022</td>\n",
              "      <td>126388.888889</td>\n",
              "    </tr>\n",
              "    <tr>\n",
              "      <th>14</th>\n",
              "      <td>October 27th, 2022</td>\n",
              "      <td>127083.333333</td>\n",
              "    </tr>\n",
              "    <tr>\n",
              "      <th>15</th>\n",
              "      <td>April 27th, 2023</td>\n",
              "      <td>126388.888889</td>\n",
              "    </tr>\n",
              "    <tr>\n",
              "      <th>16</th>\n",
              "      <td>October 27th, 2023</td>\n",
              "      <td>127083.333333</td>\n",
              "    </tr>\n",
              "    <tr>\n",
              "      <th>17</th>\n",
              "      <td>April 29th, 2024</td>\n",
              "      <td>128472.222222</td>\n",
              "    </tr>\n",
              "    <tr>\n",
              "      <th>18</th>\n",
              "      <td>October 28th, 2024</td>\n",
              "      <td>126388.888889</td>\n",
              "    </tr>\n",
              "    <tr>\n",
              "      <th>19</th>\n",
              "      <td>April 28th, 2025</td>\n",
              "      <td>126388.888889</td>\n",
              "    </tr>\n",
              "    <tr>\n",
              "      <th>20</th>\n",
              "      <td>October 27th, 2025</td>\n",
              "      <td>126388.888889</td>\n",
              "    </tr>\n",
              "  </tbody>\n",
              "</table>\n",
              "</div>"
            ],
            "text/plain": [
              "                  Date         Amount\n",
              "1     April 27th, 2016  127083.333333\n",
              "2   October 27th, 2016  127083.333333\n",
              "3     April 27th, 2017  126388.888889\n",
              "4   October 27th, 2017  127083.333333\n",
              "5     April 27th, 2018  126388.888889\n",
              "6   October 29th, 2018  128472.222222\n",
              "7     April 29th, 2019  126388.888889\n",
              "8   October 28th, 2019  126388.888889\n",
              "9     April 27th, 2020  126388.888889\n",
              "10  October 27th, 2020  127083.333333\n",
              "11    April 27th, 2021  126388.888889\n",
              "12  October 27th, 2021  127083.333333\n",
              "13    April 27th, 2022  126388.888889\n",
              "14  October 27th, 2022  127083.333333\n",
              "15    April 27th, 2023  126388.888889\n",
              "16  October 27th, 2023  127083.333333\n",
              "17    April 29th, 2024  128472.222222\n",
              "18  October 28th, 2024  126388.888889\n",
              "19    April 28th, 2025  126388.888889\n",
              "20  October 27th, 2025  126388.888889"
            ]
          },
          "execution_count": 6,
          "metadata": {},
          "output_type": "execute_result"
        }
      ],
      "source": [
        "from pandas import DataFrame\n",
        "DataFrame(\n",
        "    [(cf.date(), cf.amount()) for cf in ir_swap.leg(0)],\n",
        "    columns=[\"Date\", \"Amount\"],\n",
        "    index=range(1, len(ir_swap.leg(0))+1))"
      ]
    },
    {
      "cell_type": "markdown",
      "metadata": {
        "id": "c7JxnJH_dbKv"
      },
      "source": [
        "The floating leg cash flows are shown below:"
      ]
    },
    {
      "cell_type": "code",
      "execution_count": null,
      "metadata": {
        "id": "kLTzIDfedbKv",
        "outputId": "e0bc64c0-5623-438d-f7a5-ba1ffe9a27d3"
      },
      "outputs": [
        {
          "data": {
            "text/html": [
              "<div>\n",
              "<style scoped>\n",
              "    .dataframe tbody tr th:only-of-type {\n",
              "        vertical-align: middle;\n",
              "    }\n",
              "\n",
              "    .dataframe tbody tr th {\n",
              "        vertical-align: top;\n",
              "    }\n",
              "\n",
              "    .dataframe thead th {\n",
              "        text-align: right;\n",
              "    }\n",
              "</style>\n",
              "<table border=\"1\" class=\"dataframe\">\n",
              "  <thead>\n",
              "    <tr style=\"text-align: right;\">\n",
              "      <th></th>\n",
              "      <th>Date</th>\n",
              "      <th>Amount</th>\n",
              "    </tr>\n",
              "  </thead>\n",
              "  <tbody>\n",
              "    <tr>\n",
              "      <th>1</th>\n",
              "      <td>January 27th, 2016</td>\n",
              "      <td>60760.458147</td>\n",
              "    </tr>\n",
              "    <tr>\n",
              "      <th>2</th>\n",
              "      <td>April 27th, 2016</td>\n",
              "      <td>60098.647700</td>\n",
              "    </tr>\n",
              "    <tr>\n",
              "      <th>3</th>\n",
              "      <td>July 27th, 2016</td>\n",
              "      <td>60098.647700</td>\n",
              "    </tr>\n",
              "    <tr>\n",
              "      <th>4</th>\n",
              "      <td>October 27th, 2016</td>\n",
              "      <td>60760.458147</td>\n",
              "    </tr>\n",
              "    <tr>\n",
              "      <th>5</th>\n",
              "      <td>January 27th, 2017</td>\n",
              "      <td>60760.458147</td>\n",
              "    </tr>\n",
              "    <tr>\n",
              "      <th>6</th>\n",
              "      <td>April 27th, 2017</td>\n",
              "      <td>59436.867427</td>\n",
              "    </tr>\n",
              "    <tr>\n",
              "      <th>7</th>\n",
              "      <td>July 27th, 2017</td>\n",
              "      <td>60098.647700</td>\n",
              "    </tr>\n",
              "    <tr>\n",
              "      <th>8</th>\n",
              "      <td>October 27th, 2017</td>\n",
              "      <td>60760.458147</td>\n",
              "    </tr>\n",
              "    <tr>\n",
              "      <th>9</th>\n",
              "      <td>January 29th, 2018</td>\n",
              "      <td>62084.169572</td>\n",
              "    </tr>\n",
              "    <tr>\n",
              "      <th>10</th>\n",
              "      <td>April 27th, 2018</td>\n",
              "      <td>58113.397399</td>\n",
              "    </tr>\n",
              "    <tr>\n",
              "      <th>11</th>\n",
              "      <td>July 27th, 2018</td>\n",
              "      <td>60098.647700</td>\n",
              "    </tr>\n",
              "    <tr>\n",
              "      <th>12</th>\n",
              "      <td>October 29th, 2018</td>\n",
              "      <td>62084.169572</td>\n",
              "    </tr>\n",
              "    <tr>\n",
              "      <th>13</th>\n",
              "      <td>January 28th, 2019</td>\n",
              "      <td>60098.647700</td>\n",
              "    </tr>\n",
              "    <tr>\n",
              "      <th>14</th>\n",
              "      <td>April 29th, 2019</td>\n",
              "      <td>60098.647700</td>\n",
              "    </tr>\n",
              "    <tr>\n",
              "      <th>15</th>\n",
              "      <td>July 29th, 2019</td>\n",
              "      <td>60098.647700</td>\n",
              "    </tr>\n",
              "    <tr>\n",
              "      <th>16</th>\n",
              "      <td>October 28th, 2019</td>\n",
              "      <td>60098.647700</td>\n",
              "    </tr>\n",
              "    <tr>\n",
              "      <th>17</th>\n",
              "      <td>January 27th, 2020</td>\n",
              "      <td>60098.647700</td>\n",
              "    </tr>\n",
              "    <tr>\n",
              "      <th>18</th>\n",
              "      <td>April 27th, 2020</td>\n",
              "      <td>60098.647700</td>\n",
              "    </tr>\n",
              "    <tr>\n",
              "      <th>19</th>\n",
              "      <td>July 27th, 2020</td>\n",
              "      <td>60098.647700</td>\n",
              "    </tr>\n",
              "    <tr>\n",
              "      <th>20</th>\n",
              "      <td>October 27th, 2020</td>\n",
              "      <td>60760.458147</td>\n",
              "    </tr>\n",
              "    <tr>\n",
              "      <th>21</th>\n",
              "      <td>January 27th, 2021</td>\n",
              "      <td>60760.458147</td>\n",
              "    </tr>\n",
              "    <tr>\n",
              "      <th>22</th>\n",
              "      <td>April 27th, 2021</td>\n",
              "      <td>59436.867427</td>\n",
              "    </tr>\n",
              "    <tr>\n",
              "      <th>23</th>\n",
              "      <td>July 27th, 2021</td>\n",
              "      <td>60098.647700</td>\n",
              "    </tr>\n",
              "    <tr>\n",
              "      <th>24</th>\n",
              "      <td>October 27th, 2021</td>\n",
              "      <td>60760.458147</td>\n",
              "    </tr>\n",
              "    <tr>\n",
              "      <th>25</th>\n",
              "      <td>January 27th, 2022</td>\n",
              "      <td>60760.458147</td>\n",
              "    </tr>\n",
              "    <tr>\n",
              "      <th>26</th>\n",
              "      <td>April 27th, 2022</td>\n",
              "      <td>59436.867427</td>\n",
              "    </tr>\n",
              "    <tr>\n",
              "      <th>27</th>\n",
              "      <td>July 27th, 2022</td>\n",
              "      <td>60098.647700</td>\n",
              "    </tr>\n",
              "    <tr>\n",
              "      <th>28</th>\n",
              "      <td>October 27th, 2022</td>\n",
              "      <td>60760.458147</td>\n",
              "    </tr>\n",
              "    <tr>\n",
              "      <th>29</th>\n",
              "      <td>January 27th, 2023</td>\n",
              "      <td>60760.458147</td>\n",
              "    </tr>\n",
              "    <tr>\n",
              "      <th>30</th>\n",
              "      <td>April 27th, 2023</td>\n",
              "      <td>59436.867427</td>\n",
              "    </tr>\n",
              "    <tr>\n",
              "      <th>31</th>\n",
              "      <td>July 27th, 2023</td>\n",
              "      <td>60098.647700</td>\n",
              "    </tr>\n",
              "    <tr>\n",
              "      <th>32</th>\n",
              "      <td>October 27th, 2023</td>\n",
              "      <td>60760.458147</td>\n",
              "    </tr>\n",
              "    <tr>\n",
              "      <th>33</th>\n",
              "      <td>January 29th, 2024</td>\n",
              "      <td>62084.169572</td>\n",
              "    </tr>\n",
              "    <tr>\n",
              "      <th>34</th>\n",
              "      <td>April 29th, 2024</td>\n",
              "      <td>60098.647700</td>\n",
              "    </tr>\n",
              "    <tr>\n",
              "      <th>35</th>\n",
              "      <td>July 29th, 2024</td>\n",
              "      <td>60098.647700</td>\n",
              "    </tr>\n",
              "    <tr>\n",
              "      <th>36</th>\n",
              "      <td>October 28th, 2024</td>\n",
              "      <td>60098.647700</td>\n",
              "    </tr>\n",
              "    <tr>\n",
              "      <th>37</th>\n",
              "      <td>January 27th, 2025</td>\n",
              "      <td>60098.647700</td>\n",
              "    </tr>\n",
              "    <tr>\n",
              "      <th>38</th>\n",
              "      <td>April 28th, 2025</td>\n",
              "      <td>60098.647700</td>\n",
              "    </tr>\n",
              "    <tr>\n",
              "      <th>39</th>\n",
              "      <td>July 28th, 2025</td>\n",
              "      <td>60098.647700</td>\n",
              "    </tr>\n",
              "    <tr>\n",
              "      <th>40</th>\n",
              "      <td>October 27th, 2025</td>\n",
              "      <td>60098.647700</td>\n",
              "    </tr>\n",
              "  </tbody>\n",
              "</table>\n",
              "</div>"
            ],
            "text/plain": [
              "                  Date        Amount\n",
              "1   January 27th, 2016  60760.458147\n",
              "2     April 27th, 2016  60098.647700\n",
              "3      July 27th, 2016  60098.647700\n",
              "4   October 27th, 2016  60760.458147\n",
              "5   January 27th, 2017  60760.458147\n",
              "6     April 27th, 2017  59436.867427\n",
              "7      July 27th, 2017  60098.647700\n",
              "8   October 27th, 2017  60760.458147\n",
              "9   January 29th, 2018  62084.169572\n",
              "10    April 27th, 2018  58113.397399\n",
              "11     July 27th, 2018  60098.647700\n",
              "12  October 29th, 2018  62084.169572\n",
              "13  January 28th, 2019  60098.647700\n",
              "14    April 29th, 2019  60098.647700\n",
              "15     July 29th, 2019  60098.647700\n",
              "16  October 28th, 2019  60098.647700\n",
              "17  January 27th, 2020  60098.647700\n",
              "18    April 27th, 2020  60098.647700\n",
              "19     July 27th, 2020  60098.647700\n",
              "20  October 27th, 2020  60760.458147\n",
              "21  January 27th, 2021  60760.458147\n",
              "22    April 27th, 2021  59436.867427\n",
              "23     July 27th, 2021  60098.647700\n",
              "24  October 27th, 2021  60760.458147\n",
              "25  January 27th, 2022  60760.458147\n",
              "26    April 27th, 2022  59436.867427\n",
              "27     July 27th, 2022  60098.647700\n",
              "28  October 27th, 2022  60760.458147\n",
              "29  January 27th, 2023  60760.458147\n",
              "30    April 27th, 2023  59436.867427\n",
              "31     July 27th, 2023  60098.647700\n",
              "32  October 27th, 2023  60760.458147\n",
              "33  January 29th, 2024  62084.169572\n",
              "34    April 29th, 2024  60098.647700\n",
              "35     July 29th, 2024  60098.647700\n",
              "36  October 28th, 2024  60098.647700\n",
              "37  January 27th, 2025  60098.647700\n",
              "38    April 28th, 2025  60098.647700\n",
              "39     July 28th, 2025  60098.647700\n",
              "40  October 27th, 2025  60098.647700"
            ]
          },
          "execution_count": 7,
          "metadata": {},
          "output_type": "execute_result"
        }
      ],
      "source": [
        "from pandas import DataFrame\n",
        "DataFrame(\n",
        "    [(cf.date(), cf.amount()) for cf in ir_swap.leg(1)],\n",
        "    columns=[\"Date\", \"Amount\"],\n",
        "    index=range(1, len(ir_swap.leg(1))+1))"
      ]
    },
    {
      "cell_type": "markdown",
      "metadata": {
        "id": "84dGGXHFdbKv"
      },
      "source": [
        "Some other analytics such as the fair value, fair spread etc can be extracted as shown below."
      ]
    },
    {
      "cell_type": "code",
      "execution_count": null,
      "metadata": {
        "id": "Dv2HmUwodbKv",
        "outputId": "36d7d364-deb7-42e7-e7b4-d1e88ce407c0"
      },
      "outputs": [
        {
          "name": "stdout",
          "output_type": "stream",
          "text": [
            "Net Present Value   :          -115054.034\n",
            "Fair Spread         :                0.005\n",
            "Fair Rate           :                0.024\n",
            "Fixed Leg BPS       :            -9629.981\n",
            "Floating Leg BPS    :             9642.042\n"
          ]
        }
      ],
      "source": [
        "print(\"%-20s: %20.3f\" % (\"Net Present Value\", ir_swap.NPV()))\n",
        "print(\"%-20s: %20.3f\" % (\"Fair Spread\", ir_swap.fairSpread()))\n",
        "print(\"%-20s: %20.3f\" % (\"Fair Rate\", ir_swap.fairRate()))\n",
        "print(\"%-20s: %20.3f\" % (\"Fixed Leg BPS\", ir_swap.fixedLegBPS()))\n",
        "print(\"%-20s: %20.3f\" % (\"Floating Leg BPS\", ir_swap.floatingLegBPS()))"
      ]
    },
    {
      "cell_type": "markdown",
      "metadata": {
        "id": "hr9OC5j2dbKv"
      },
      "source": [
        "#### Conclusion\n",
        "\n",
        "Here we saw a simple example on how to construct a swap and value them. We evaluated the fixed and floating legs and then valued the `VanillaSwap` using the `DiscountingSwapEngine`."
      ]
    }
  ],
  "metadata": {
    "kernelspec": {
      "display_name": "Python 3 (ipykernel)",
      "language": "python",
      "name": "python3"
    },
    "language_info": {
      "codemirror_mode": {
        "name": "ipython",
        "version": 3
      },
      "file_extension": ".py",
      "mimetype": "text/x-python",
      "name": "python",
      "nbconvert_exporter": "python",
      "pygments_lexer": "ipython3",
      "version": "3.10.8"
    },
    "colab": {
      "provenance": []
    }
  },
  "nbformat": 4,
  "nbformat_minor": 0
}