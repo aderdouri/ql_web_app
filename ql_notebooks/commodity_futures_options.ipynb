{
  "cells": [
    {
      "cell_type": "markdown",
      "metadata": {
        "id": "view-in-github",
        "colab_type": "text"
      },
      "source": [
        "<a href=\"https://colab.research.google.com/github/aderdouri/ql_web_app/blob/master/ql_notebooks/commodity_futures_options.ipynb\" target=\"_parent\"><img src=\"https://colab.research.google.com/assets/colab-badge.svg\" alt=\"Open In Colab\"/></a>"
      ]
    },
    {
      "cell_type": "markdown",
      "metadata": {
        "id": "Y38vjMTDPe7B"
      },
      "source": [
        "# Valuing options on commodity futures using the Black formula"
      ]
    },
    {
      "cell_type": "code",
      "source": [
        "!pip install QuantLib-Python"
      ],
      "metadata": {
        "id": "1E0keqK7PiJY",
        "outputId": "2e3db2cd-71aa-4b93-acdc-861d4ae3b216",
        "colab": {
          "base_uri": "https://localhost:8080/"
        }
      },
      "execution_count": 1,
      "outputs": [
        {
          "output_type": "stream",
          "name": "stdout",
          "text": [
            "Collecting QuantLib-Python\n",
            "  Downloading QuantLib_Python-1.18-py2.py3-none-any.whl.metadata (1.0 kB)\n",
            "Collecting QuantLib (from QuantLib-Python)\n",
            "  Downloading QuantLib-1.36-cp38-abi3-manylinux_2_17_x86_64.manylinux2014_x86_64.whl.metadata (1.1 kB)\n",
            "Downloading QuantLib_Python-1.18-py2.py3-none-any.whl (1.4 kB)\n",
            "Downloading QuantLib-1.36-cp38-abi3-manylinux_2_17_x86_64.manylinux2014_x86_64.whl (19.6 MB)\n",
            "\u001b[2K   \u001b[90m━━━━━━━━━━━━━━━━━━━━━━━━━━━━━━━━━━━━━━━━\u001b[0m \u001b[32m19.6/19.6 MB\u001b[0m \u001b[31m29.8 MB/s\u001b[0m eta \u001b[36m0:00:00\u001b[0m\n",
            "\u001b[?25hInstalling collected packages: QuantLib, QuantLib-Python\n",
            "Successfully installed QuantLib-1.36 QuantLib-Python-1.18\n"
          ]
        }
      ]
    },
    {
      "cell_type": "markdown",
      "metadata": {
        "id": "qlBV5whmPe7C"
      },
      "source": [
        "The Black-Scholes equation is the well known model to price equity European options. In the case of equities, the spot price fluctuates and hence the intuition to model as a stochastic process makes sense. In the case of commodities, however, the spot price does not fluctuate as much, and hence cannot be modeled as a stochastic process to value options on commodities. In the 1976 paper [1], Fischer Black addressed this problem by modeling the futures price, which demonstrates fluctuations, as the lognormal stochastic process.\n",
        "\n",
        "The futures price at time $t$, $F_t$ with a is modeled as:\n",
        "\n",
        "$$ dF_t = \\sigma_t F_t dW $$\n",
        "\n",
        "where $\\sigma_t$ is the volatility of the underlying, and $dW$ is the Weiner process.\n",
        "\n",
        "The value of an option at strike $K$, maturing at $T$, risk free rate $r$ with volatility $\\sigma$ of the underlying is given by the closed form expression:\n",
        "\n",
        "$$\n",
        "\\begin{eqnarray}\n",
        "c &=&  e^{-r T} [FN(d_1) - KN(d_2)] \\\\\n",
        "p &=& e^{-r T} [KN(-d_2) - FN(-d_1)]\n",
        "\\end{eqnarray}\n",
        "$$\n",
        "\n",
        "where\n",
        "\n",
        "$$\n",
        "\\begin{eqnarray}\n",
        "d_1 &=& \\frac{\\ln(F/K) + (\\sigma^2/2)T}{\\sigma\\sqrt{T}} \\nonumber \\\\\n",
        "d_2 &=& \\frac{\\ln(F/K) - (\\sigma^2/2)T}{\\sigma\\sqrt{T}} = d_1 - \\sigma\\sqrt{T}\n",
        "\\end{eqnarray}\n",
        "$$\n",
        "\n",
        "This formula can be easily used to price caps, swaptions, futures options contract. Here we will use QuantLib to price the options on commodity futures."
      ]
    },
    {
      "cell_type": "code",
      "execution_count": null,
      "metadata": {
        "id": "e9MjK809Pe7D"
      },
      "outputs": [],
      "source": [
        "import QuantLib as ql\n",
        "import math"
      ]
    },
    {
      "cell_type": "code",
      "execution_count": null,
      "metadata": {
        "id": "4WS63_DtPe7D"
      },
      "outputs": [],
      "source": [
        "calendar = ql.UnitedStates(ql.UnitedStates.GovernmentBond)\n",
        "business_convention = ql.ModifiedFollowing\n",
        "settlement_days = 0\n",
        "day_count = ql.ActualActual(ql.ActualActual.ISDA)"
      ]
    },
    {
      "cell_type": "markdown",
      "metadata": {
        "id": "1teacKpkPe7D"
      },
      "source": [
        "#### Option on Treasury Futures Contract\n",
        "\n",
        "Options on treasury futures (10 Yr Note TYF6C 119) can be valued using the Black formula. Let us value a Call option maturing on December 24, 2015, with a strike of 119. The current futures price is  126.95, and the volatility is 11.567%. The risk free rate as of December 1, 2015 is 0.105%. Let us value this Call option as of December 1, 2015.\n"
      ]
    },
    {
      "cell_type": "code",
      "execution_count": null,
      "metadata": {
        "id": "IT20QvUvPe7D"
      },
      "outputs": [],
      "source": [
        "interest_rate = 0.00105\n",
        "calc_date = ql.Date(1,12,2015)\n",
        "yield_curve = ql.FlatForward(calc_date,\n",
        "                             interest_rate,\n",
        "                             day_count,\n",
        "                             ql.Compounded,\n",
        "                             ql.Continuous)"
      ]
    },
    {
      "cell_type": "code",
      "execution_count": null,
      "metadata": {
        "id": "y_9Ys2ELPe7D"
      },
      "outputs": [],
      "source": [
        "ql.Settings.instance().evaluationDate = calc_date\n",
        "option_maturity_date = ql.Date(24,12,2015)\n",
        "strike = 119\n",
        "spot = 126.953# futures price\n",
        "volatility = 11.567/100.\n",
        "flavor = ql.Option.Call\n",
        "\n",
        "discount = yield_curve.discount(option_maturity_date)\n",
        "strikepayoff = ql.PlainVanillaPayoff(flavor, strike)\n",
        "T = yield_curve.dayCounter().yearFraction(calc_date,\n",
        "                                          option_maturity_date)\n",
        "stddev = volatility*math.sqrt(T)\n",
        "\n",
        "black = ql.BlackCalculator(strikepayoff,\n",
        "                           spot,\n",
        "                           stddev,\n",
        "                           discount)"
      ]
    },
    {
      "cell_type": "code",
      "execution_count": null,
      "metadata": {
        "id": "T_-987MVPe7D",
        "outputId": "ff212e1f-65fd-4910-bcfb-538cd2e371d7"
      },
      "outputs": [
        {
          "name": "stdout",
          "output_type": "stream",
          "text": [
            "Option Price        : 7.9686\n",
            "Delta               : 0.9875\n",
            "Gamma               : 0.0088\n",
            "Theta               : -0.9356\n",
            "Vega                : 1.0285\n",
            "Rho                 : 7.3974\n"
          ]
        }
      ],
      "source": [
        "print(\"%-20s: %4.4f\" %(\"Option Price\", black.value()))\n",
        "print(\"%-20s: %4.4f\" %(\"Delta\", black.delta(spot)))\n",
        "print(\"%-20s: %4.4f\" %(\"Gamma\", black.gamma(spot)))\n",
        "print(\"%-20s: %4.4f\" %(\"Theta\", black.theta(spot, T)))\n",
        "print(\"%-20s: %4.4f\" %(\"Vega\", black.vega(T)))\n",
        "print(\"%-20s: %4.4f\" %(\"Rho\", black.rho(T)))"
      ]
    },
    {
      "cell_type": "markdown",
      "metadata": {
        "id": "ZnILrxFZPe7E"
      },
      "source": [
        "#### Natural Gas Futures Option\n",
        "\n",
        "I saw [this](http://quantlib.10058.n7.nabble.com/Quantlib-methods-for-option-pricing-td17018.html) question on the QuantLib users group. Thought I will add this example as well.\n",
        "\n",
        "Call option with a 3.5 strike, spot 2.919, volatility 0.4251. The interest rate is 0.15%."
      ]
    },
    {
      "cell_type": "code",
      "execution_count": null,
      "metadata": {
        "id": "SKZnd5XoPe7E"
      },
      "outputs": [],
      "source": [
        "interest_rate = 0.0015\n",
        "calc_date = ql.Date(23,9,2015)\n",
        "yield_curve = ql.FlatForward(calc_date,\n",
        "                             interest_rate,\n",
        "                             day_count,\n",
        "                             ql.Compounded,\n",
        "                             ql.Continuous)"
      ]
    },
    {
      "cell_type": "code",
      "execution_count": null,
      "metadata": {
        "id": "KFUjJ2eAPe7E"
      },
      "outputs": [],
      "source": [
        "ql.Settings.instance().evaluationDate = calc_date\n",
        "T = 96.12/365.\n",
        "\n",
        "strike = 3.5\n",
        "spot = 2.919\n",
        "volatility = 0.4251\n",
        "flavor = ql.Option.Call\n",
        "\n",
        "discount = yield_curve.discount(T)\n",
        "strikepayoff = ql.PlainVanillaPayoff(flavor, strike)\n",
        "stddev = volatility*math.sqrt(T)\n",
        "\n",
        "black = ql.BlackCalculator(strikepayoff, spot, stddev, discount)"
      ]
    },
    {
      "cell_type": "code",
      "execution_count": null,
      "metadata": {
        "id": "xTlgjbJxPe7E",
        "outputId": "927bd431-c08b-4d63-af00-e32c4a47b0fa"
      },
      "outputs": [
        {
          "name": "stdout",
          "output_type": "stream",
          "text": [
            "Option Price        : 0.0789\n",
            "Delta               : 0.2347\n",
            "Gamma               : 0.4822\n",
            "Theta               : -0.3711\n",
            "Vega                : 0.4600\n",
            "Rho                 : 0.1597\n"
          ]
        }
      ],
      "source": [
        "print(\"%-20s: %4.4f\" %(\"Option Price\", black.value()))\n",
        "print(\"%-20s: %4.4f\" %(\"Delta\", black.delta(spot)))\n",
        "print(\"%-20s: %4.4f\" %(\"Gamma\", black.gamma(spot)))\n",
        "print(\"%-20s: %4.4f\" %(\"Theta\", black.theta(spot, T)))\n",
        "print(\"%-20s: %4.4f\" %(\"Vega\", black.vega(T)))\n",
        "print(\"%-20s: %4.4f\" %(\"Rho\", black.rho(T)))"
      ]
    },
    {
      "cell_type": "markdown",
      "metadata": {
        "id": "oN8uZAmKPe7E"
      },
      "source": [
        "#### Conclusion\n",
        "\n",
        "In this notebook, I demonstrated how Black formula can be used to value options on commodity futures. It is worth pointing out that different vendors usually have different scaling conventions when it comes to reporting Greeks. One would needs to take that into account when comparing the values shown by QuantLib with that of other vendors.\n",
        "\n",
        "#### References\n",
        "[1] Fischer Black, *The pricing of commodity contracts*, Journal of Financial Economics, (3) 167-179 (1976)"
      ]
    }
  ],
  "metadata": {
    "kernelspec": {
      "display_name": "Python 3 (ipykernel)",
      "language": "python",
      "name": "python3"
    },
    "language_info": {
      "codemirror_mode": {
        "name": "ipython",
        "version": 3
      },
      "file_extension": ".py",
      "mimetype": "text/x-python",
      "name": "python",
      "nbconvert_exporter": "python",
      "pygments_lexer": "ipython3",
      "version": "3.10.8"
    },
    "colab": {
      "provenance": [],
      "include_colab_link": true
    }
  },
  "nbformat": 4,
  "nbformat_minor": 0
}