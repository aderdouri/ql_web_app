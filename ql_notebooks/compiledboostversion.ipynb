{
  "cells": [
    {
      "cell_type": "markdown",
      "metadata": {
        "id": "view-in-github",
        "colab_type": "text"
      },
      "source": [
        "<a href=\"https://colab.research.google.com/github/aderdouri/ql_web_app/blob/master/ql_notebooks/compiledboostversion.ipynb\" target=\"_parent\"><img src=\"https://colab.research.google.com/assets/colab-badge.svg\" alt=\"Open In Colab\"/></a>"
      ]
    },
    {
      "cell_type": "code",
      "source": [
        "import QuantLib as ql\n",
        "import unittest\n",
        "\n",
        "class CompiledBoostVersionTests(unittest.TestCase):\n",
        "\n",
        "    def test_compiled_boost_version(self):\n",
        "        print(\"Testing compiled boost version (as reported by QuantLib)...\")\n",
        "\n",
        "        # This is the Python equivalent of QuantLib::compiledBoostVersion()\n",
        "        # It returns an integer like 107200 for Boost 1.72.0\n",
        "        ql_compiled_boost_version = ql.compiledBoostVersion()\n",
        "\n",
        "        print(f\"QuantLib (Python bindings) reports that the underlying C++ library \"\n",
        "              f\"was compiled with Boost version: {ql_compiled_boost_version}\")\n",
        "\n",
        "        # In C++, the BOOST_VERSION macro provides the Boost version\n",
        "        # that the current compilation unit (the test itself) is seeing.\n",
        "        # The C++ test `BOOST_CHECK(QuantLib::compiledBoostVersion() == BOOST_VERSION);`\n",
        "        # ensures consistency between the library's build environment and the\n",
        "        # test suite's build environment.\n",
        "\n",
        "        # In Python, there's no direct equivalent for \"the Python script's BOOST_VERSION\".\n",
        "        # The Python interpreter and scripts are not compiled against Boost in that manner.\n",
        "        # The most meaningful check here is to ensure that the function\n",
        "        # `ql.compiledBoostVersion()` is available and returns a sensible value (an integer).\n",
        "\n",
        "        self.assertIsInstance(ql_compiled_boost_version, int,\n",
        "                              \"ql.compiledBoostVersion() should return an integer.\")\n",
        "\n",
        "        # We can also perform a very basic sanity check on the version number.\n",
        "        # Boost versions are typically represented as MMmmrr (Major, minor, patchlevel).\n",
        "        # E.g., Boost 1.0.0 is 100000.\n",
        "        # We expect a reasonably modern Boost version.\n",
        "        self.assertGreaterEqual(ql_compiled_boost_version, 100000,\n",
        "                                \"Compiled Boost version number seems unexpectedly low.\")\n",
        "\n",
        "        # If this test runs, it means ql.compiledBoostVersion() is callable.\n",
        "        # The original C++ test's purpose (catching build inconsistencies)\n",
        "        # is largely addressed during the compilation and packaging of QuantLib-Python itself.\n",
        "        # If there were a critical Boost mismatch affecting the bindings,\n",
        "        # the `import QuantLib` would likely fail, or this function wouldn't work.\n",
        "\n",
        "        # For demonstration, let's try to get the QuantLib version too\n",
        "        # (though not part of the original C++ test logic for this specific test case)\n",
        "        ql_version = ql.__version__\n",
        "        print(f\"QuantLib-Python version: {ql_version}\")\n",
        "\n",
        "\n",
        "if __name__ == '__main__':\n",
        "    print(f\"Running tests with QuantLib-Python version: {ql.__version__}\")\n",
        "    # This line ensures that the global settings are initialized,\n",
        "    # similar to what TopLevelFixture might do in C++.\n",
        "    # For this specific test, it's not strictly necessary but good practice.\n",
        "    _ = ql.Settings.instance()\n",
        "\n",
        "    unittest.main(argv=['first-arg-is-ignored'], exit=False)"
      ],
      "metadata": {
        "id": "KSb-DC-96hCC"
      },
      "execution_count": null,
      "outputs": []
    },
    {
      "cell_type": "markdown",
      "source": [
        "unittest Framework:\n",
        "BOOST_FIXTURE_TEST_SUITE(...) and BOOST_AUTO_TEST_SUITE(...) translate to a class CompiledBoostVersionTests(unittest.TestCase).\n",
        "BOOST_AUTO_TEST_CASE(test) translates to a method def test_compiled_boost_version(self):.\n",
        "ql.compiledBoostVersion(): This is the direct Python binding for the C++ QuantLib::compiledBoostVersion().\n",
        "No BOOST_VERSION Equivalent: As explained, Python doesn't have a direct counterpart for the BOOST_VERSION macro in the context of this test. The C++ test is a build-time consistency check.\n",
        "Assertions:\n",
        "The BOOST_CHECK is replaced by self.assertIsInstance(...) to confirm the type of the returned version and self.assertGreaterEqual(...) for a basic sanity check on the value. This verifies the function is working as expected.\n",
        "BOOST_TEST_MESSAGE: Replaced by print() statements to provide informative output.\n",
        "TopLevelFixture: The C++ test uses TopLevelFixture. In Python, common global setup (like initializing Settings) is often done implicitly upon module import or by explicitly accessing singletons like ql.Settings.instance(). For this particular test, it's unlikely to be critical, but I've added a line to hint at similar global setup.\n",
        "Main Execution Block: Standard Python unittest.main() is used to run the test."
      ],
      "metadata": {
        "id": "F2hZpT-H6l0R"
      }
    }
  ],
  "metadata": {
    "colab": {
      "name": "Overview of Colaboratory Features",
      "toc_visible": true,
      "provenance": [],
      "include_colab_link": true
    },
    "kernelspec": {
      "display_name": "Python 3",
      "name": "python3"
    }
  },
  "nbformat": 4,
  "nbformat_minor": 0
}