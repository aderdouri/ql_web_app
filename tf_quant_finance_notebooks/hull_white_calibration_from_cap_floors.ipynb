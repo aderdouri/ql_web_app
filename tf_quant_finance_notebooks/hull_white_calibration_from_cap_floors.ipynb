{
  "cells": [
    {
      "cell_type": "markdown",
      "metadata": {
        "id": "view-in-github",
        "colab_type": "text"
      },
      "source": [
        "<a href=\"https://colab.research.google.com/github/aderdouri/ql_web_app/blob/master/tf_quant_finance_notebooks/hull_white_calibration_from_cap_floors.ipynb\" target=\"_parent\"><img src=\"https://colab.research.google.com/assets/colab-badge.svg\" alt=\"Open In Colab\"/></a>"
      ]
    },
    {
      "cell_type": "markdown",
      "source": [
        "## tf_quant_finance.models.hull_white.calibration_from_swaptions"
      ],
      "metadata": {
        "id": "YSODz9uQr8PJ"
      }
    },
    {
      "cell_type": "markdown",
      "source": [
        "The Hull-White one-factor model assumes that the short rate $r(t)$ evolves according to the stochastic differential equation:\n",
        "$$\n",
        "dr(t) = \\left[\\theta(t) - a r(t)\\right] dt + \\sigma dW(t),\n",
        "$$\n",
        "where:\n",
        "- $a$: mean-reversion speed,\n",
        "- $\\sigma$: volatility of the short rate,\n",
        "- $\\theta(t)$: time-dependent drift, calibrated to fit the initial term structure,\n",
        "- $W(t)$: standard Brownian motion under the risk-neutral measure."
      ],
      "metadata": {
        "id": "VI8LqoFC1DcY"
      }
    },
    {
      "cell_type": "markdown",
      "source": [
        "This function estimates the mean-reversion rate and volatility parameters of a Hull-White 1-factor model using a set of European swaption prices as the target. The calibration is performed using least-squares optimization where the loss function minimizes the squared error between the target swaption prices and the model implied swaption prices."
      ],
      "metadata": {
        "id": "uguZYuRwr1Nz"
      }
    },
    {
      "cell_type": "markdown",
      "source": [
        "### Example\n",
        "The example shows how to calibrate a Hull-White model with constant mean reversion rate and constant volatility."
      ],
      "metadata": {
        "id": "oSxa0nOtsP0m"
      }
    },
    {
      "cell_type": "code",
      "source": [
        "import os\n",
        "os.environ['PROTOCOL_BUFFERS_PYTHON_IMPLEMENTATION'] = 'python'"
      ],
      "metadata": {
        "id": "Q0GLRiXHsHUs"
      },
      "execution_count": 1,
      "outputs": []
    },
    {
      "cell_type": "code",
      "source": [
        "!pip install tf-quant-finance"
      ],
      "metadata": {
        "id": "8HTc8xyGr445",
        "outputId": "9c9a121b-c11e-4ae5-bb5b-089069efbefd",
        "colab": {
          "base_uri": "https://localhost:8080/"
        }
      },
      "execution_count": 2,
      "outputs": [
        {
          "output_type": "stream",
          "name": "stdout",
          "text": [
            "Collecting tf-quant-finance\n",
            "  Downloading tf_quant_finance-0.0.1.dev34-py2.py3-none-any.whl.metadata (10 kB)\n",
            "Requirement already satisfied: attrs>=18.2.0 in /usr/local/lib/python3.10/dist-packages (from tf-quant-finance) (24.3.0)\n",
            "Requirement already satisfied: tensorflow-probability>=0.12.1 in /usr/local/lib/python3.10/dist-packages (from tf-quant-finance) (0.24.0)\n",
            "Requirement already satisfied: numpy>=1.21 in /usr/local/lib/python3.10/dist-packages (from tf-quant-finance) (1.26.4)\n",
            "Requirement already satisfied: protobuf in /usr/local/lib/python3.10/dist-packages (from tf-quant-finance) (4.25.5)\n",
            "Requirement already satisfied: absl-py in /usr/local/lib/python3.10/dist-packages (from tensorflow-probability>=0.12.1->tf-quant-finance) (1.4.0)\n",
            "Requirement already satisfied: six>=1.10.0 in /usr/local/lib/python3.10/dist-packages (from tensorflow-probability>=0.12.1->tf-quant-finance) (1.17.0)\n",
            "Requirement already satisfied: decorator in /usr/local/lib/python3.10/dist-packages (from tensorflow-probability>=0.12.1->tf-quant-finance) (4.4.2)\n",
            "Requirement already satisfied: cloudpickle>=1.3 in /usr/local/lib/python3.10/dist-packages (from tensorflow-probability>=0.12.1->tf-quant-finance) (3.1.0)\n",
            "Requirement already satisfied: gast>=0.3.2 in /usr/local/lib/python3.10/dist-packages (from tensorflow-probability>=0.12.1->tf-quant-finance) (0.6.0)\n",
            "Requirement already satisfied: dm-tree in /usr/local/lib/python3.10/dist-packages (from tensorflow-probability>=0.12.1->tf-quant-finance) (0.1.8)\n",
            "Downloading tf_quant_finance-0.0.1.dev34-py2.py3-none-any.whl (1.4 MB)\n",
            "\u001b[2K   \u001b[90m━━━━━━━━━━━━━━━━━━━━━━━━━━━━━━━━━━━━━━━━\u001b[0m \u001b[32m1.4/1.4 MB\u001b[0m \u001b[31m2.4 MB/s\u001b[0m eta \u001b[36m0:00:00\u001b[0m\n",
            "\u001b[?25hInstalling collected packages: tf-quant-finance\n",
            "Successfully installed tf-quant-finance-0.0.1.dev34\n"
          ]
        }
      ]
    },
    {
      "cell_type": "code",
      "source": [
        "import numpy as np\n",
        "import tensorflow.compat.v2 as tf\n",
        "import tf_quant_finance as tff\n",
        "\n",
        "# In this example, we synthetically generate some prices. Then we use our\n",
        "# calibration to back out these prices.\n",
        "dtype = tf.float64\n",
        "\n",
        "daycount_fractions = np.array([\n",
        "    [0.25, 0.25, 0.25, 0.25, 0.0, 0.0, 0.0, 0.0],\n",
        "    [0.25, 0.25, 0.25, 0.25, 0.0, 0.0, 0.0, 0.0],\n",
        "    [0.25, 0.25, 0.25, 0.25, 0.25, 0.25, 0.25, 0.25],\n",
        "    [0.25, 0.25, 0.25, 0.25, 0.25, 0.25, 0.25, 0.25],\n",
        "])\n",
        "expiries = np.array([\n",
        "    [0.0, 0.25, 0.5, 0.75, 1.0, 0.0, 0.0, 0.0],\n",
        "    [0.0, 0.25, 0.5, 0.75, 1.0, 0.0, 0.0, 0.0],\n",
        "    [0.0, 0.25, 0.5, 0.75, 1.0, 1.25, 1.50, 1.75],\n",
        "    [0.0, 0.25, 0.5, 0.75, 1.0, 1.25, 1.50, 1.75],\n",
        "])\n",
        "maturities = np.array([\n",
        "    [0.25, 0.5, 0.75, 1.0, 0.0, 0.0, 0.0, 0.0],\n",
        "    [0.25, 0.5, 0.75, 1.0, 0.0, 0.0, 0.0, 0.0],\n",
        "    [0.25, 0.5, 0.75, 1.0, 1.25, 1.50, 1.75, 2.0],\n",
        "    [0.25, 0.5, 0.75, 1.0, 1.25, 1.50, 1.75, 2.0],\n",
        "])\n",
        "is_cap = np.array([True, False, True, False])\n",
        "strikes = 0.01 * np.ones_like(expiries)\n",
        "\n",
        "# Setup - generate some observed prices using the model.\n",
        "expected_mr = [0.4]\n",
        "expected_vol = [0.01]\n",
        "\n",
        "zero_rate_fn = lambda x: 0.01 * tf.ones_like(x, dtype=dtype)\n",
        "prices = tff.models.hull_white.cap_floor_price(\n",
        "    strikes=strikes,\n",
        "    expiries=expiries,\n",
        "    maturities=maturities,\n",
        "    daycount_fractions=daycount_fractions,\n",
        "    reference_rate_fn=zero_rate_fn,\n",
        "    notional=1.0,\n",
        "    mean_reversion=expected_mr,\n",
        "    volatility=expected_vol,\n",
        "    is_cap=tf.expand_dims(is_cap, axis=1),\n",
        "    use_analytic_pricing=True,\n",
        "    dtype=dtype)\n",
        "\n",
        "# Calibrate the model.\n",
        "calibrated_model, is_converged, _ = (\n",
        "    tff.models.hull_white.calibration_from_cap_floors(\n",
        "        prices=tf.squeeze(prices),\n",
        "        strikes=strikes,\n",
        "        expiries=expiries,\n",
        "        maturities=maturities,\n",
        "        daycount_fractions=daycount_fractions,\n",
        "        reference_rate_fn=zero_rate_fn,\n",
        "        mean_reversion=[0.3],\n",
        "        volatility=[0.02],\n",
        "        notional=1.0,\n",
        "        is_cap=tf.expand_dims(is_cap, axis=1),\n",
        "        use_analytic_pricing=True,\n",
        "        optimizer_fn=None,\n",
        "        num_samples=1000,\n",
        "        random_type=tff.math.random.RandomType.STATELESS_ANTITHETIC,\n",
        "        seed=[0, 0],\n",
        "        time_step=0.1,\n",
        "        maximum_iterations=200,\n",
        "        dtype=dtype))\n",
        "\n",
        "calibrated_mr = calibrated_model.mean_reversion.values()\n",
        "calibrated_vol = calibrated_model.volatility.values()\n",
        "\n",
        "# Running this inside a unit test passes:\n",
        "#\n",
        "# calibrated_mr, calibrated_vol = self.evaluate(\n",
        "#     [calibrated_mr, calibrated_vol])\n",
        "# self.assertTrue(is_converged)\n",
        "# self.assertAllClose(calibrated_mr, expected_mr, atol=1e-3, rtol=1e-2)\n",
        "# self.assertAllClose(calibrated_vol, expected_vol, atol=1e-3, rtol=1e-2)"
      ],
      "metadata": {
        "id": "Vt7CCZ_KtMgt"
      },
      "execution_count": 3,
      "outputs": []
    },
    {
      "cell_type": "code",
      "source": [
        "calibrated_mr, calibrated_vol"
      ],
      "metadata": {
        "id": "ImNHEGGEcDQg",
        "outputId": "c169815f-3f16-426b-a4e5-f7e02140b96b",
        "colab": {
          "base_uri": "https://localhost:8080/"
        }
      },
      "execution_count": 4,
      "outputs": [
        {
          "output_type": "execute_result",
          "data": {
            "text/plain": [
              "(<tf.Tensor: shape=(1,), dtype=float64, numpy=array([0.40052417])>,\n",
              " <tf.Tensor: shape=(1,), dtype=float64, numpy=array([0.01000292])>)"
            ]
          },
          "metadata": {},
          "execution_count": 4
        }
      ]
    },
    {
      "cell_type": "code",
      "source": [],
      "metadata": {
        "id": "waoPzwXkx0gk"
      },
      "execution_count": null,
      "outputs": []
    }
  ],
  "metadata": {
    "colab": {
      "name": "Welcome To Colab",
      "toc_visible": true,
      "provenance": [],
      "include_colab_link": true
    },
    "kernelspec": {
      "display_name": "Python 3",
      "name": "python3"
    }
  },
  "nbformat": 4,
  "nbformat_minor": 0
}