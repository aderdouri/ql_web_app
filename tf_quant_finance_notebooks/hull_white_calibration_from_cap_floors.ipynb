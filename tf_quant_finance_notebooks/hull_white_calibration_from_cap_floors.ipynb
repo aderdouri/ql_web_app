{
  "cells": [
    {
      "cell_type": "markdown",
      "metadata": {
        "id": "view-in-github",
        "colab_type": "text"
      },
      "source": [
        "<a href=\"https://colab.research.google.com/github/aderdouri/ql_web_app/blob/master/tf_quant_finance_notebooks/hull_white_calibration_from_cap_floors.ipynb\" target=\"_parent\"><img src=\"https://colab.research.google.com/assets/colab-badge.svg\" alt=\"Open In Colab\"/></a>"
      ]
    },
    {
      "cell_type": "markdown",
      "source": [
        "## tf_quant_finance.models.hull_white.calibration_from_swaptions"
      ],
      "metadata": {
        "id": "YSODz9uQr8PJ"
      }
    },
    {
      "cell_type": "markdown",
      "source": [
        "The Hull-White one-factor model assumes that the short rate $r(t)$ evolves according to the stochastic differential equation:\n",
        "$$\n",
        "dr(t) = \\left[\\theta(t) - a r(t)\\right] dt + \\sigma dW(t),\n",
        "$$\n",
        "where:\n",
        "- $a$: mean-reversion speed,\n",
        "- $\\sigma$: volatility of the short rate,\n",
        "- $\\theta(t)$: time-dependent drift, calibrated to fit the initial term structure,\n",
        "- $W(t)$: standard Brownian motion under the risk-neutral measure."
      ],
      "metadata": {
        "id": "VI8LqoFC1DcY"
      }
    },
    {
      "cell_type": "markdown",
      "source": [
        "This function estimates the mean-reversion rate and volatility parameters of a Hull-White 1-factor model using a set of European swaption prices as the target. The calibration is performed using least-squares optimization where the loss function minimizes the squared error between the target swaption prices and the model implied swaption prices."
      ],
      "metadata": {
        "id": "uguZYuRwr1Nz"
      }
    },
    {
      "cell_type": "markdown",
      "source": [
        "### Example\n",
        "The example shows how to calibrate a Hull-White model with constant mean reversion rate and constant volatility."
      ],
      "metadata": {
        "id": "oSxa0nOtsP0m"
      }
    },
    {
      "cell_type": "code",
      "source": [
        "import os\n",
        "os.environ['PROTOCOL_BUFFERS_PYTHON_IMPLEMENTATION'] = 'python'"
      ],
      "metadata": {
        "id": "Q0GLRiXHsHUs"
      },
      "execution_count": null,
      "outputs": []
    },
    {
      "cell_type": "code",
      "source": [
        "!pip install tf-quant-finance"
      ],
      "metadata": {
        "id": "8HTc8xyGr445",
        "outputId": "116b4765-32d5-40cc-a7d6-1cd8614cc0da",
        "colab": {
          "base_uri": "https://localhost:8080/"
        }
      },
      "execution_count": null,
      "outputs": [
        {
          "output_type": "stream",
          "name": "stdout",
          "text": [
            "Collecting tf-quant-finance\n",
            "  Downloading tf_quant_finance-0.0.1.dev34-py2.py3-none-any.whl.metadata (10 kB)\n",
            "Requirement already satisfied: attrs>=18.2.0 in /usr/local/lib/python3.10/dist-packages (from tf-quant-finance) (24.3.0)\n",
            "Requirement already satisfied: tensorflow-probability>=0.12.1 in /usr/local/lib/python3.10/dist-packages (from tf-quant-finance) (0.24.0)\n",
            "Requirement already satisfied: numpy>=1.21 in /usr/local/lib/python3.10/dist-packages (from tf-quant-finance) (1.26.4)\n",
            "Requirement already satisfied: protobuf in /usr/local/lib/python3.10/dist-packages (from tf-quant-finance) (4.25.5)\n",
            "Requirement already satisfied: absl-py in /usr/local/lib/python3.10/dist-packages (from tensorflow-probability>=0.12.1->tf-quant-finance) (1.4.0)\n",
            "Requirement already satisfied: six>=1.10.0 in /usr/local/lib/python3.10/dist-packages (from tensorflow-probability>=0.12.1->tf-quant-finance) (1.17.0)\n",
            "Requirement already satisfied: decorator in /usr/local/lib/python3.10/dist-packages (from tensorflow-probability>=0.12.1->tf-quant-finance) (4.4.2)\n",
            "Requirement already satisfied: cloudpickle>=1.3 in /usr/local/lib/python3.10/dist-packages (from tensorflow-probability>=0.12.1->tf-quant-finance) (3.1.0)\n",
            "Requirement already satisfied: gast>=0.3.2 in /usr/local/lib/python3.10/dist-packages (from tensorflow-probability>=0.12.1->tf-quant-finance) (0.6.0)\n",
            "Requirement already satisfied: dm-tree in /usr/local/lib/python3.10/dist-packages (from tensorflow-probability>=0.12.1->tf-quant-finance) (0.1.8)\n",
            "Downloading tf_quant_finance-0.0.1.dev34-py2.py3-none-any.whl (1.4 MB)\n",
            "\u001b[2K   \u001b[90m━━━━━━━━━━━━━━━━━━━━━━━━━━━━━━━━━━━━━━━━\u001b[0m \u001b[32m1.4/1.4 MB\u001b[0m \u001b[31m13.2 MB/s\u001b[0m eta \u001b[36m0:00:00\u001b[0m\n",
            "\u001b[?25hInstalling collected packages: tf-quant-finance\n",
            "Successfully installed tf-quant-finance-0.0.1.dev34\n"
          ]
        }
      ]
    },
    {
      "cell_type": "code",
      "source": [
        "import numpy as np\n",
        "import tensorflow.compat.v2 as tf\n",
        "import tf_quant_finance as tff\n",
        "\n",
        "dtype = tf.float64\n",
        "\n",
        "mean_reversion = [0.03]\n",
        "volatility = [0.01]\n",
        "expiries = np.array(\n",
        "    [0.5, 0.5, 1.0, 1.0, 2.0, 2.0, 3.0, 3.0, 4.0, 4.0, 5.0, 5.0, 10., 10.])\n",
        "float_leg_start_times = np.array([\n",
        "    [0.5, 1.0, 1.5, 2.0, 2.5, 2.5, 2.5, 2.5, 2.5, 2.5],  # 6M x 2Y  swap\n",
        "    [0.5, 1.0, 1.5, 2.0, 2.5, 3.0, 3.5, 4.0, 4.5, 5.0],  # 6M x 5Y  swap\n",
        "    [1.0, 1.5, 2.0, 2.5, 3.0, 3.0, 3.0, 3.0, 3.0, 3.0],  # 1Y x 2Y  swap\n",
        "    [1.0, 1.5, 2.0, 2.5, 3.0, 3.5, 4.0, 4.5, 5.0, 5.5],  # 1Y x 5Y  swap\n",
        "    [2.0, 2.5, 3.0, 3.5, 4.0, 4.0, 4.0, 4.0, 4.0, 4.0],  # 2Y x 2Y  swap\n",
        "    [2.0, 2.5, 3.0, 3.5, 4.0, 4.5, 5.0, 5.5, 6.0, 6.5],  # 2Y x 5Y  swap\n",
        "    [3.0, 3.5, 4.0, 4.5, 5.0, 5.0, 5.0, 5.0, 5.0, 5.0],  # 3Y x 2Y  swap\n",
        "    [3.0, 3.5, 4.0, 4.5, 5.0, 5.5, 6.0, 6.5, 7.0, 7.5],  # 3Y x 5Y  swap\n",
        "    [4.0, 4.5, 5.0, 5.5, 6.0, 6.0, 6.0, 6.0, 6.0, 6.0],  # 4Y x 2Y  swap\n",
        "    [4.0, 4.5, 5.0, 5.5, 6.0, 6.5, 7.0, 7.5, 8.0, 8.5],  # 4Y x 5Y  swap\n",
        "    [5.0, 5.5, 6.0, 6.5, 7.0, 7.0, 7.0, 7.0, 7.0, 7.0],  # 5Y x 2Y  swap\n",
        "    [5.0, 5.5, 6.0, 6.5, 7.0, 7.5, 8.0, 8.5, 9.0, 9.5],  # 5Y x 5Y  swap\n",
        "    [10.0, 10.5, 11.0, 11.5, 12.0, 12.0, 12.0, 12.0, 12.0,\n",
        "     12.0],  # 10Y x 2Y  swap\n",
        "    [10.0, 10.5, 11.0, 11.5, 12.0, 12.5, 13.0, 13.5, 14.0,\n",
        "     14.5]  # 10Y x 5Y  swap\n",
        "])\n",
        "float_leg_end_times = float_leg_start_times + 0.5\n",
        "max_maturities = np.array(\n",
        "    [2.5, 5.5, 3.0, 6.0, 4., 7., 5., 8., 6., 9., 7., 10., 12., 15.])\n",
        "for i in range(float_leg_end_times.shape[0]):\n",
        "  float_leg_end_times[i] = np.clip(\n",
        "      float_leg_end_times[i], 0.0, max_maturities[i])\n",
        "\n",
        "fixed_leg_payment_times = float_leg_end_times\n",
        "float_leg_daycount_fractions = (\n",
        "    float_leg_end_times - float_leg_start_times)\n",
        "fixed_leg_daycount_fractions = float_leg_daycount_fractions\n",
        "fixed_leg_coupon = 0.01 * np.ones_like(fixed_leg_payment_times)\n",
        "\n",
        "zero_rate_fn = lambda x: 0.01 * tf.ones_like(x, dtype=dtype)\n",
        "prices = tff.models.hull_white.swaption_price(\n",
        "    expiries=expiries,\n",
        "    floating_leg_start_times=float_leg_start_times,\n",
        "    floating_leg_end_times=float_leg_end_times,\n",
        "    fixed_leg_payment_times=fixed_leg_payment_times,\n",
        "    floating_leg_daycount_fractions=float_leg_daycount_fractions,\n",
        "    fixed_leg_daycount_fractions=fixed_leg_daycount_fractions,\n",
        "    fixed_leg_coupon=fixed_leg_coupon,\n",
        "    reference_rate_fn=zero_rate_fn,\n",
        "    notional=100.,\n",
        "    mean_reversion=mean_reversion,\n",
        "    volatility=volatility,\n",
        "    use_analytic_pricing=True,\n",
        "    dtype=dtype)\n",
        "\n",
        "calibrated_parameters = tff.models.hull_white.calibration_from_swaptions(\n",
        "    prices=prices,\n",
        "    expiries=expiries,\n",
        "    floating_leg_start_times=float_leg_start_times,\n",
        "    floating_leg_end_times=float_leg_end_times,\n",
        "    fixed_leg_payment_times=fixed_leg_payment_times,\n",
        "    floating_leg_daycount_fractions=float_leg_daycount_fractions,\n",
        "    fixed_leg_daycount_fractions=fixed_leg_daycount_fractions,\n",
        "    fixed_leg_coupon=fixed_leg_coupon,\n",
        "    reference_rate_fn=zero_rate_fn,\n",
        "    notional=100.,\n",
        "    mean_reversion=[0.01],  # Initial guess for mean reversion rate\n",
        "    volatility=[0.005],  # Initial guess for volatility\n",
        "    maximum_iterations=50,\n",
        "    dtype=dtype)\n",
        "# Expected calibrated_parameters.mean_reversion.values(): [0.03]\n",
        "# Expected calibrated_parameters.volatility.values(): [0.01]"
      ],
      "metadata": {
        "id": "Vt7CCZ_KtMgt"
      },
      "execution_count": null,
      "outputs": []
    },
    {
      "cell_type": "code",
      "source": [
        "from tensorflow.python.framework.tensor_util import MakeNdarray\n",
        "\n",
        "# Unpack the tuple\n",
        "calibration_result, bool_tensor, int_tensor = calibrated_parameters\n",
        "\n",
        "# Extract values\n",
        "mean_reversion = calibration_result.mean_reversion\n",
        "volatility = calibration_result.volatility\n",
        "bool_value = bool_tensor.numpy()\n",
        "int_value = int_tensor.numpy()\n",
        "\n",
        "# Print the extracted values\n",
        "print(\"Mean Reversion:\", mean_reversion.values().numpy())\n",
        "print(\"Volatility:\", volatility.values().numpy())\n",
        "print(\"Boolean Value:\", bool_value)\n",
        "print(\"Integer Value:\", int_value)"
      ],
      "metadata": {
        "id": "hmMWWL5Fxfnt",
        "outputId": "f85eaf30-9e90-490c-dd34-cf341dfdd9f0",
        "colab": {
          "base_uri": "https://localhost:8080/"
        }
      },
      "execution_count": null,
      "outputs": [
        {
          "output_type": "stream",
          "name": "stdout",
          "text": [
            "Mean Reversion: [0.03000001]\n",
            "Volatility: [0.01]\n",
            "Boolean Value: True\n",
            "Integer Value: 14\n"
          ]
        }
      ]
    },
    {
      "cell_type": "code",
      "source": [],
      "metadata": {
        "id": "waoPzwXkx0gk"
      },
      "execution_count": null,
      "outputs": []
    }
  ],
  "metadata": {
    "colab": {
      "name": "Welcome To Colab",
      "toc_visible": true,
      "provenance": [],
      "include_colab_link": true
    },
    "kernelspec": {
      "display_name": "Python 3",
      "name": "python3"
    }
  },
  "nbformat": 4,
  "nbformat_minor": 0
}