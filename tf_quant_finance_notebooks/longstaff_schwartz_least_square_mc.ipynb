{
  "cells": [
    {
      "cell_type": "markdown",
      "metadata": {
        "id": "view-in-github",
        "colab_type": "text"
      },
      "source": [
        "<a href=\"https://colab.research.google.com/github/aderdouri/ql_web_app/blob/master/tf_quant_finance_notebooks/longstaff_schwartz_least_square_mc.ipynb\" target=\"_parent\"><img src=\"https://colab.research.google.com/assets/colab-badge.svg\" alt=\"Open In Colab\"/></a>"
      ]
    },
    {
      "cell_type": "markdown",
      "metadata": {
        "id": "OvRwFTkqcp1e"
      },
      "source": [
        "# Values Amercian style options using the LSM algorithm.\n"
      ]
    },
    {
      "cell_type": "code",
      "source": [
        "import os\n",
        "os.environ['PROTOCOL_BUFFERS_PYTHON_IMPLEMENTATION'] = 'python'"
      ],
      "metadata": {
        "id": "st84eAKM0PcT"
      },
      "execution_count": 1,
      "outputs": []
    },
    {
      "cell_type": "code",
      "execution_count": 2,
      "metadata": {
        "colab": {
          "base_uri": "https://localhost:8080/"
        },
        "id": "aijwbAA8u_IM",
        "outputId": "bb68bbf4-addb-4d16-a0fe-7cd5ee6e2136"
      },
      "outputs": [
        {
          "output_type": "stream",
          "name": "stdout",
          "text": [
            "Collecting tf-quant-finance\n",
            "  Downloading tf_quant_finance-0.0.1.dev34-py2.py3-none-any.whl.metadata (10 kB)\n",
            "Requirement already satisfied: attrs>=18.2.0 in /usr/local/lib/python3.10/dist-packages (from tf-quant-finance) (24.3.0)\n",
            "Requirement already satisfied: tensorflow-probability>=0.12.1 in /usr/local/lib/python3.10/dist-packages (from tf-quant-finance) (0.24.0)\n",
            "Requirement already satisfied: numpy>=1.21 in /usr/local/lib/python3.10/dist-packages (from tf-quant-finance) (1.26.4)\n",
            "Requirement already satisfied: protobuf in /usr/local/lib/python3.10/dist-packages (from tf-quant-finance) (4.25.5)\n",
            "Requirement already satisfied: absl-py in /usr/local/lib/python3.10/dist-packages (from tensorflow-probability>=0.12.1->tf-quant-finance) (1.4.0)\n",
            "Requirement already satisfied: six>=1.10.0 in /usr/local/lib/python3.10/dist-packages (from tensorflow-probability>=0.12.1->tf-quant-finance) (1.17.0)\n",
            "Requirement already satisfied: decorator in /usr/local/lib/python3.10/dist-packages (from tensorflow-probability>=0.12.1->tf-quant-finance) (4.4.2)\n",
            "Requirement already satisfied: cloudpickle>=1.3 in /usr/local/lib/python3.10/dist-packages (from tensorflow-probability>=0.12.1->tf-quant-finance) (3.1.0)\n",
            "Requirement already satisfied: gast>=0.3.2 in /usr/local/lib/python3.10/dist-packages (from tensorflow-probability>=0.12.1->tf-quant-finance) (0.6.0)\n",
            "Requirement already satisfied: dm-tree in /usr/local/lib/python3.10/dist-packages (from tensorflow-probability>=0.12.1->tf-quant-finance) (0.1.8)\n",
            "Downloading tf_quant_finance-0.0.1.dev34-py2.py3-none-any.whl (1.4 MB)\n",
            "\u001b[?25l   \u001b[90m━━━━━━━━━━━━━━━━━━━━━━━━━━━━━━━━━━━━━━━━\u001b[0m \u001b[32m0.0/1.4 MB\u001b[0m \u001b[31m?\u001b[0m eta \u001b[36m-:--:--\u001b[0m\r\u001b[2K   \u001b[90m━━━━━━━━━━━━━━━━━━━━━━━━━━━━━━━━━━━━━━━━\u001b[0m \u001b[32m1.4/1.4 MB\u001b[0m \u001b[31m47.2 MB/s\u001b[0m eta \u001b[36m0:00:00\u001b[0m\n",
            "\u001b[?25hInstalling collected packages: tf-quant-finance\n",
            "Successfully installed tf-quant-finance-0.0.1.dev34\n"
          ]
        }
      ],
      "source": [
        "!pip install tf-quant-finance"
      ]
    },
    {
      "cell_type": "code",
      "source": [
        "import numpy as np\n",
        "import tf_quant_finance as tff\n",
        "\n",
        "from tf_quant_finance.experimental.lsm_algorithm import make_basket_put_payoff\n",
        "from tf_quant_finance.experimental.lsm_algorithm import make_polynomial_basis\n",
        "from tf_quant_finance.experimental.lsm_algorithm import least_square_mc"
      ],
      "metadata": {
        "id": "IwLJN9kgYRLG"
      },
      "execution_count": 8,
      "outputs": []
    },
    {
      "cell_type": "markdown",
      "source": [
        "## tf_quant_finance.models.longstaff_schwartz.make_polynomial_basis"
      ],
      "metadata": {
        "id": "Isb7aZBgatmR"
      }
    },
    {
      "cell_type": "code",
      "source": [
        "basis = tff.experimental.lsm_algorithm.make_polynomial_basis_v2(2)\n",
        "x = [[1.0], [2.0], [3.0], [4.0]]\n",
        "x = tf.expand_dims(x, axis=-1)\n",
        "basis(x, tf.constant(0, dtype=np.int32))\n",
        "# Expected result:\n",
        "[[ 1.  ,  1.  ,  1.  ,  1.  ], [-1.5 , -0.5 ,  0.5 ,  1.5 ],\n",
        "[ 2.25,  0.25,  0.25,  2.25]]"
      ],
      "metadata": {
        "id": "DMcm8gbNawNm",
        "outputId": "3879673d-f68b-4e84-b9a9-456f88225f51",
        "colab": {
          "base_uri": "https://localhost:8080/"
        }
      },
      "execution_count": 11,
      "outputs": [
        {
          "output_type": "execute_result",
          "data": {
            "text/plain": [
              "[[1.0, 1.0, 1.0, 1.0], [-1.5, -0.5, 0.5, 1.5], [2.25, 0.25, 0.25, 2.25]]"
            ]
          },
          "metadata": {},
          "execution_count": 11
        }
      ]
    },
    {
      "cell_type": "code",
      "source": [
        "# Let the underlying model be a Black-Scholes process\n",
        "# dS_t / S_t = rate dt + sigma**2 dW_t, S_0 = 1.0\n",
        "# with `rate = 0.1`, and volatility `sigma = 1.0`.\n",
        "# Define drift and volatility functions for log(S_t)\n",
        "rate = 0.1\n",
        "def drift_fn(_, x):\n",
        "  return rate - tf.ones_like(x) / 2.\n",
        "def vol_fn(_, x):\n",
        "  return tf.expand_dims(tf.ones_like(x), axis=-1)\n",
        "# Use Euler scheme to propagate 100000 paths for 1 year into the future\n",
        "times = np.linspace(0., 1, num=50)\n",
        "num_samples = 100000\n",
        "log_paths = tf.function(tff.models.euler_sampling.sample)(\n",
        "        dim=1,\n",
        "        drift_fn=drift_fn, volatility_fn=vol_fn,\n",
        "        random_type=tff.math.random.RandomType.PSEUDO_ANTITHETIC,\n",
        "        times=times, num_samples=num_samples, seed=42, time_step=0.01,\n",
        "        dtype=tf.float64) # Specify dtype as tf.float64\n",
        "# Compute exponent to get samples of `S_t`\n",
        "paths = tf.math.exp(log_paths)\n",
        "# American put option price for strike 1.1 and expiry 1 (assuming actual day\n",
        "# count convention and no settlement adjustment)\n",
        "strike = [1.1]\n",
        "exercise_times = tf.range(times.shape[-1])\n",
        "discount_factors = tf.exp(-rate * times)\n",
        "payoff_fn = make_basket_put_payoff(strike, dtype=tf.float64) # Specify dtype as tf.float64\n",
        "basis_fn = make_polynomial_basis(10)\n",
        "least_square_mc(paths, exercise_times, payoff_fn, basis_fn,\n",
        "                discount_factors=discount_factors)\n",
        "# Expected value: [0.397]\n",
        "# European put option price\n",
        "tff.black_scholes.option_price(volatilities=[1], strikes=strike, # Change strikes to strike\n",
        "                               expiries=[1], spots=[1.],\n",
        "                               discount_factors=discount_factors[-1],\n",
        "                               is_call_options=False,\n",
        "                               dtype=tf.float64)\n",
        "# Expected value: [0.379]"
      ],
      "metadata": {
        "colab": {
          "base_uri": "https://localhost:8080/"
        },
        "id": "WVI5rrvbYKb6",
        "outputId": "662984e3-1777-4e0e-b4d5-bc71eb9d1011"
      },
      "execution_count": 10,
      "outputs": [
        {
          "output_type": "execute_result",
          "data": {
            "text/plain": [
              "<tf.Tensor: shape=(1,), dtype=float64, numpy=array([0.37969354])>"
            ]
          },
          "metadata": {},
          "execution_count": 10
        }
      ]
    },
    {
      "cell_type": "markdown",
      "source": [],
      "metadata": {
        "id": "c_nn-GQUakGd"
      }
    }
  ],
  "metadata": {
    "accelerator": "GPU",
    "colab": {
      "collapsed_sections": [
        "OnijmIHSD5_a"
      ],
      "name": "American_Option_Black_Scholes.ipynb",
      "provenance": [],
      "toc_visible": true,
      "include_colab_link": true
    },
    "kernelspec": {
      "display_name": "Python 3",
      "name": "python3"
    }
  },
  "nbformat": 4,
  "nbformat_minor": 0
}