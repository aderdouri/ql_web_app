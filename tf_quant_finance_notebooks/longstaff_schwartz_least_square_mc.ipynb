{
  "cells": [
    {
      "cell_type": "markdown",
      "metadata": {
        "id": "view-in-github",
        "colab_type": "text"
      },
      "source": [
        "<a href=\"https://colab.research.google.com/github/aderdouri/ql_web_app/blob/master/tf_quant_finance_notebooks/longstaff_schwartz_least_square_mc.ipynb\" target=\"_parent\"><img src=\"https://colab.research.google.com/assets/colab-badge.svg\" alt=\"Open In Colab\"/></a>"
      ]
    },
    {
      "cell_type": "markdown",
      "metadata": {
        "id": "OvRwFTkqcp1e"
      },
      "source": [
        "# Values Amercian style options using the LSM algorithm.\n"
      ]
    },
    {
      "cell_type": "code",
      "source": [
        "import os\n",
        "os.environ['PROTOCOL_BUFFERS_PYTHON_IMPLEMENTATION'] = 'python'"
      ],
      "metadata": {
        "id": "st84eAKM0PcT"
      },
      "execution_count": 1,
      "outputs": []
    },
    {
      "cell_type": "code",
      "execution_count": 2,
      "metadata": {
        "colab": {
          "base_uri": "https://localhost:8080/"
        },
        "id": "aijwbAA8u_IM",
        "outputId": "dc119818-5503-4c49-cf98-4eb31692c82a"
      },
      "outputs": [
        {
          "output_type": "stream",
          "name": "stdout",
          "text": [
            "Collecting tf-quant-finance\n",
            "  Downloading tf_quant_finance-0.0.1.dev34-py2.py3-none-any.whl.metadata (10 kB)\n",
            "Requirement already satisfied: attrs>=18.2.0 in /usr/local/lib/python3.11/dist-packages (from tf-quant-finance) (24.3.0)\n",
            "Requirement already satisfied: tensorflow-probability>=0.12.1 in /usr/local/lib/python3.11/dist-packages (from tf-quant-finance) (0.24.0)\n",
            "Requirement already satisfied: numpy>=1.21 in /usr/local/lib/python3.11/dist-packages (from tf-quant-finance) (1.26.4)\n",
            "Requirement already satisfied: protobuf in /usr/local/lib/python3.11/dist-packages (from tf-quant-finance) (4.25.5)\n",
            "Requirement already satisfied: absl-py in /usr/local/lib/python3.11/dist-packages (from tensorflow-probability>=0.12.1->tf-quant-finance) (1.4.0)\n",
            "Requirement already satisfied: six>=1.10.0 in /usr/local/lib/python3.11/dist-packages (from tensorflow-probability>=0.12.1->tf-quant-finance) (1.17.0)\n",
            "Requirement already satisfied: decorator in /usr/local/lib/python3.11/dist-packages (from tensorflow-probability>=0.12.1->tf-quant-finance) (4.4.2)\n",
            "Requirement already satisfied: cloudpickle>=1.3 in /usr/local/lib/python3.11/dist-packages (from tensorflow-probability>=0.12.1->tf-quant-finance) (3.1.0)\n",
            "Requirement already satisfied: gast>=0.3.2 in /usr/local/lib/python3.11/dist-packages (from tensorflow-probability>=0.12.1->tf-quant-finance) (0.6.0)\n",
            "Requirement already satisfied: dm-tree in /usr/local/lib/python3.11/dist-packages (from tensorflow-probability>=0.12.1->tf-quant-finance) (0.1.8)\n",
            "Downloading tf_quant_finance-0.0.1.dev34-py2.py3-none-any.whl (1.4 MB)\n",
            "\u001b[?25l   \u001b[90m━━━━━━━━━━━━━━━━━━━━━━━━━━━━━━━━━━━━━━━━\u001b[0m \u001b[32m0.0/1.4 MB\u001b[0m \u001b[31m?\u001b[0m eta \u001b[36m-:--:--\u001b[0m\r\u001b[2K   \u001b[90m━━━━━━━━━━━━━━━━━━━━━━━━━━━━━━━━━━━━━━━━\u001b[0m \u001b[32m1.4/1.4 MB\u001b[0m \u001b[31m46.2 MB/s\u001b[0m eta \u001b[36m0:00:00\u001b[0m\n",
            "\u001b[?25hInstalling collected packages: tf-quant-finance\n",
            "Successfully installed tf-quant-finance-0.0.1.dev34\n"
          ]
        }
      ],
      "source": [
        "!pip install tf-quant-finance"
      ]
    },
    {
      "cell_type": "code",
      "source": [
        "import numpy as np\n",
        "import tf_quant_finance as tff\n",
        "import tensorflow as tf\n",
        "\n",
        "from tf_quant_finance.experimental.lsm_algorithm import make_basket_put_payoff\n",
        "from tf_quant_finance.experimental.lsm_algorithm import make_polynomial_basis\n",
        "from tf_quant_finance.experimental.lsm_algorithm import least_square_mc"
      ],
      "metadata": {
        "id": "IwLJN9kgYRLG"
      },
      "execution_count": 5,
      "outputs": []
    },
    {
      "cell_type": "markdown",
      "source": [
        "## tf_quant_finance.models.longstaff_schwartz.make_polynomial_basis"
      ],
      "metadata": {
        "id": "Isb7aZBgatmR"
      }
    },
    {
      "cell_type": "code",
      "source": [
        "basis = tff.experimental.lsm_algorithm.make_polynomial_basis_v2(2)\n",
        "x = [[1.0], [2.0], [3.0], [4.0]]\n",
        "x = tf.expand_dims(x, axis=-1)\n",
        "basis(x, tf.constant(0, dtype=np.int32))\n",
        "# Expected result:\n",
        "[[ 1.  ,  1.  ,  1.  ,  1.  ], [-1.5 , -0.5 ,  0.5 ,  1.5 ],\n",
        "[ 2.25,  0.25,  0.25,  2.25]]"
      ],
      "metadata": {
        "id": "DMcm8gbNawNm",
        "outputId": "bd1e2d57-cfbb-4c42-bbd7-5dea07dd048b",
        "colab": {
          "base_uri": "https://localhost:8080/"
        }
      },
      "execution_count": 6,
      "outputs": [
        {
          "output_type": "execute_result",
          "data": {
            "text/plain": [
              "[[1.0, 1.0, 1.0, 1.0], [-1.5, -0.5, 0.5, 1.5], [2.25, 0.25, 0.25, 2.25]]"
            ]
          },
          "metadata": {},
          "execution_count": 6
        }
      ]
    },
    {
      "cell_type": "code",
      "source": [
        "# Let the underlying model be a Black-Scholes process\n",
        "# dS_t / S_t = rate dt + sigma**2 dW_t, S_0 = 1.0\n",
        "# with `rate = 0.1`, and volatility `sigma = 1.0`.\n",
        "# Define drift and volatility functions for log(S_t)\n",
        "rate = 0.1\n",
        "def drift_fn(_, x):\n",
        "  return rate - tf.ones_like(x) / 2.\n",
        "def vol_fn(_, x):\n",
        "  return tf.expand_dims(tf.ones_like(x), axis=-1)\n",
        "# Use Euler scheme to propagate 100000 paths for 1 year into the future\n",
        "times = np.linspace(0., 1, num=50)\n",
        "num_samples = 100000\n",
        "log_paths = tf.function(tff.models.euler_sampling.sample)(\n",
        "        dim=1,\n",
        "        drift_fn=drift_fn, volatility_fn=vol_fn,\n",
        "        random_type=tff.math.random.RandomType.PSEUDO_ANTITHETIC,\n",
        "        times=times, num_samples=num_samples, seed=42, time_step=0.01,\n",
        "        dtype=tf.float64) # Specify dtype as tf.float64\n",
        "# Compute exponent to get samples of `S_t`\n",
        "paths = tf.math.exp(log_paths)\n",
        "# American put option price for strike 1.1 and expiry 1 (assuming actual day\n",
        "# count convention and no settlement adjustment)\n",
        "strike = [1.1]\n",
        "exercise_times = tf.range(times.shape[-1])\n",
        "discount_factors = tf.exp(-rate * times)\n",
        "payoff_fn = make_basket_put_payoff(strike, dtype=tf.float64) # Specify dtype as tf.float64\n",
        "basis_fn = make_polynomial_basis(10)\n",
        "least_square_mc(paths, exercise_times, payoff_fn, basis_fn,\n",
        "                discount_factors=discount_factors)\n",
        "# Expected value: [0.397]\n",
        "# European put option price\n",
        "tff.black_scholes.option_price(volatilities=[1], strikes=strike, # Change strikes to strike\n",
        "                               expiries=[1], spots=[1.],\n",
        "                               discount_factors=discount_factors[-1],\n",
        "                               is_call_options=False,\n",
        "                               dtype=tf.float64)\n",
        "# Expected value: [0.379]"
      ],
      "metadata": {
        "colab": {
          "base_uri": "https://localhost:8080/"
        },
        "id": "WVI5rrvbYKb6",
        "outputId": "dbb90be4-840b-4981-de7f-33744b768bef"
      },
      "execution_count": 7,
      "outputs": [
        {
          "output_type": "execute_result",
          "data": {
            "text/plain": [
              "<tf.Tensor: shape=(1,), dtype=float64, numpy=array([0.37969354])>"
            ]
          },
          "metadata": {},
          "execution_count": 7
        }
      ]
    },
    {
      "cell_type": "markdown",
      "source": [],
      "metadata": {
        "id": "c_nn-GQUakGd"
      }
    },
    {
      "cell_type": "code",
      "source": [
        "import numpy as np\n",
        "import pandas as pd\n",
        "\n",
        "def longstaff_schwartz(paths, strike, discount_rate, exercise_dates):\n",
        "    \"\"\"\n",
        "    Longstaff-Schwartz algorithm for American option pricing.\n",
        "\n",
        "    Args:\n",
        "        paths: A NumPy array of shape (number_of_paths, number_of_time_steps)\n",
        "        representing the simulated asset price paths.\n",
        "        strike: The strike price for the option. # Changed from strikes to strike\n",
        "        discount_rate: The risk-free discount rate.\n",
        "        exercise_dates: A list or array of exercise dates (timesteps).\n",
        "\n",
        "    Returns:\n",
        "        The estimated price of the American option.\n",
        "    \"\"\"\n",
        "\n",
        "    n_paths = paths.shape[0]\n",
        "    n_steps = paths.shape[1]\n",
        "\n",
        "    # Initialize the continuation values and cashflows\n",
        "    continuation_values = np.zeros(n_paths)\n",
        "    cashflows = np.zeros(n_paths)\n",
        "\n",
        "    # Iterate backward through the time steps\n",
        "    for t in reversed(range(0, n_steps - 1)): # Iterate up to second to last timestep\n",
        "        # Determine intrinsic value of option\n",
        "        intrinsic_value = np.maximum(0, paths[:, t + 1] - strike) # Changed paths[t + 1] to paths[:, t + 1] and strikes to strike\n",
        "\n",
        "        # Fit a regression model to estimate continuation value\n",
        "        if np.any(intrinsic_value): # Only perform regression if there are positive intrinsic values\n",
        "          regression_data = pd.DataFrame({'Price': paths[:, t], 'IntrinsicValue': intrinsic_value}) # Changed paths[t] to paths[:, t]\n",
        "          regression = np.polyfit(regression_data['Price'], regression_data['IntrinsicValue'], 3)\n",
        "          continuation_values = np.polyval(regression, paths[:, t]) # Changed paths[t] to paths[:, t]\n",
        "        else:\n",
        "            continuation_values = np.zeros(n_paths) # if intrinsic is always zero\n",
        "\n",
        "        # Compare intrinsic value to continuation value, updating cash flows\n",
        "        exercise = intrinsic_value > continuation_values\n",
        "        cashflows[exercise] = intrinsic_value[exercise]\n",
        "\n",
        "        # Discount cash flows to previous time step\n",
        "        continuation_values = np.where(exercise, 0, continuation_values) # update value of continuation values\n",
        "\n",
        "        # discount all values at each timestep\n",
        "        continuation_values = continuation_values / (1+discount_rate)\n",
        "\n",
        "\n",
        "        # Update cash flows\n",
        "        cashflows = np.where(exercise, intrinsic_value, cashflows)\n",
        "\n",
        "    return np.mean(cashflows)\n",
        "\n",
        "# Example Usage (replace with your data)\n",
        "np.random.seed(0)\n",
        "n_paths = 100000\n",
        "n_steps = 100\n",
        "paths = np.random.randn(n_paths, n_steps).cumsum(axis=1)\n",
        "strike = 1.1  # Example strike price # Changed strikes to strike\n",
        "\n",
        "discount_rate = 0.05\n",
        "exercise_dates = list(range(0, n_steps))\n",
        "\n",
        "option_price = longstaff_schwartz(paths, strike, discount_rate, exercise_dates) # Changed strikes to strike\n",
        "print(f\"Estimated American option price: {option_price}\")"
      ],
      "metadata": {
        "id": "6WMlBDc68rOO",
        "outputId": "561aaffc-70cd-4499-c45e-63f0ccf39412",
        "colab": {
          "base_uri": "https://localhost:8080/"
        }
      },
      "execution_count": 10,
      "outputs": [
        {
          "output_type": "stream",
          "name": "stdout",
          "text": [
            "Estimated American option price: 0.3896525463474869\n"
          ]
        }
      ]
    },
    {
      "cell_type": "code",
      "source": [],
      "metadata": {
        "id": "gCBHDTr_9Dbf"
      },
      "execution_count": null,
      "outputs": []
    }
  ],
  "metadata": {
    "accelerator": "GPU",
    "colab": {
      "collapsed_sections": [
        "OnijmIHSD5_a"
      ],
      "name": "American_Option_Black_Scholes.ipynb",
      "provenance": [],
      "toc_visible": true,
      "include_colab_link": true
    },
    "kernelspec": {
      "display_name": "Python 3",
      "name": "python3"
    }
  },
  "nbformat": 4,
  "nbformat_minor": 0
}