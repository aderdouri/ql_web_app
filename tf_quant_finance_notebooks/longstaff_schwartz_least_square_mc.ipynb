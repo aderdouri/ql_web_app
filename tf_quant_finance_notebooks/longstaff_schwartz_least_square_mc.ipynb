{
  "cells": [
    {
      "cell_type": "markdown",
      "metadata": {
        "id": "view-in-github",
        "colab_type": "text"
      },
      "source": [
        "<a href=\"https://colab.research.google.com/github/aderdouri/ql_web_app/blob/master/tf_quant_finance_notebooks/longstaff_schwartz_least_square_mc.ipynb\" target=\"_parent\"><img src=\"https://colab.research.google.com/assets/colab-badge.svg\" alt=\"Open In Colab\"/></a>"
      ]
    },
    {
      "cell_type": "markdown",
      "metadata": {
        "id": "OvRwFTkqcp1e"
      },
      "source": [
        "# Values Amercian style options using the LSM algorithm.\n"
      ]
    },
    {
      "cell_type": "code",
      "source": [
        "import os\n",
        "os.environ['PROTOCOL_BUFFERS_PYTHON_IMPLEMENTATION'] = 'python'"
      ],
      "metadata": {
        "id": "st84eAKM0PcT"
      },
      "execution_count": 1,
      "outputs": []
    },
    {
      "cell_type": "code",
      "execution_count": 2,
      "metadata": {
        "colab": {
          "base_uri": "https://localhost:8080/"
        },
        "id": "aijwbAA8u_IM",
        "outputId": "f514f148-16af-4b85-dd8d-4c1a1a667a15"
      },
      "outputs": [
        {
          "output_type": "stream",
          "name": "stdout",
          "text": [
            "Collecting tf-quant-finance\n",
            "  Downloading tf_quant_finance-0.0.1.dev34-py2.py3-none-any.whl.metadata (10 kB)\n",
            "Requirement already satisfied: attrs>=18.2.0 in /usr/local/lib/python3.11/dist-packages (from tf-quant-finance) (24.3.0)\n",
            "Requirement already satisfied: tensorflow-probability>=0.12.1 in /usr/local/lib/python3.11/dist-packages (from tf-quant-finance) (0.24.0)\n",
            "Requirement already satisfied: numpy>=1.21 in /usr/local/lib/python3.11/dist-packages (from tf-quant-finance) (1.26.4)\n",
            "Requirement already satisfied: protobuf in /usr/local/lib/python3.11/dist-packages (from tf-quant-finance) (4.25.5)\n",
            "Requirement already satisfied: absl-py in /usr/local/lib/python3.11/dist-packages (from tensorflow-probability>=0.12.1->tf-quant-finance) (1.4.0)\n",
            "Requirement already satisfied: six>=1.10.0 in /usr/local/lib/python3.11/dist-packages (from tensorflow-probability>=0.12.1->tf-quant-finance) (1.17.0)\n",
            "Requirement already satisfied: decorator in /usr/local/lib/python3.11/dist-packages (from tensorflow-probability>=0.12.1->tf-quant-finance) (4.4.2)\n",
            "Requirement already satisfied: cloudpickle>=1.3 in /usr/local/lib/python3.11/dist-packages (from tensorflow-probability>=0.12.1->tf-quant-finance) (3.1.0)\n",
            "Requirement already satisfied: gast>=0.3.2 in /usr/local/lib/python3.11/dist-packages (from tensorflow-probability>=0.12.1->tf-quant-finance) (0.6.0)\n",
            "Requirement already satisfied: dm-tree in /usr/local/lib/python3.11/dist-packages (from tensorflow-probability>=0.12.1->tf-quant-finance) (0.1.8)\n",
            "Downloading tf_quant_finance-0.0.1.dev34-py2.py3-none-any.whl (1.4 MB)\n",
            "\u001b[2K   \u001b[90m━━━━━━━━━━━━━━━━━━━━━━━━━━━━━━━━━━━━━━━━\u001b[0m \u001b[32m1.4/1.4 MB\u001b[0m \u001b[31m10.9 MB/s\u001b[0m eta \u001b[36m0:00:00\u001b[0m\n",
            "\u001b[?25hInstalling collected packages: tf-quant-finance\n",
            "Successfully installed tf-quant-finance-0.0.1.dev34\n"
          ]
        }
      ],
      "source": [
        "!pip install tf-quant-finance"
      ]
    },
    {
      "cell_type": "code",
      "source": [
        "import numpy as np\n",
        "import tf_quant_finance as tff\n",
        "import tensorflow as tf\n",
        "\n",
        "from tf_quant_finance.experimental.lsm_algorithm import make_basket_put_payoff\n",
        "from tf_quant_finance.experimental.lsm_algorithm import make_polynomial_basis\n",
        "from tf_quant_finance.experimental.lsm_algorithm import least_square_mc"
      ],
      "metadata": {
        "id": "IwLJN9kgYRLG"
      },
      "execution_count": 3,
      "outputs": []
    },
    {
      "cell_type": "markdown",
      "source": [
        "## tf_quant_finance.models.longstaff_schwartz.make_polynomial_basis"
      ],
      "metadata": {
        "id": "Isb7aZBgatmR"
      }
    },
    {
      "cell_type": "code",
      "source": [
        "basis = tff.experimental.lsm_algorithm.make_polynomial_basis_v2(2)\n",
        "x = [[1.0], [2.0], [3.0], [4.0]]\n",
        "x = tf.expand_dims(x, axis=-1)\n",
        "basis(x, tf.constant(0, dtype=np.int32))\n",
        "# Expected result:\n",
        "[[ 1.  ,  1.  ,  1.  ,  1.  ], [-1.5 , -0.5 ,  0.5 ,  1.5 ],\n",
        "[ 2.25,  0.25,  0.25,  2.25]]"
      ],
      "metadata": {
        "id": "DMcm8gbNawNm",
        "outputId": "c1b3cfd4-6d83-425f-e4a6-15518ccab5b2",
        "colab": {
          "base_uri": "https://localhost:8080/"
        }
      },
      "execution_count": 6,
      "outputs": [
        {
          "output_type": "execute_result",
          "data": {
            "text/plain": [
              "[[1.0, 1.0, 1.0, 1.0], [-1.5, -0.5, 0.5, 1.5], [2.25, 0.25, 0.25, 2.25]]"
            ]
          },
          "metadata": {},
          "execution_count": 6
        }
      ]
    },
    {
      "cell_type": "code",
      "source": [
        "# Black-Scholes Parameters\n",
        "S0 = 100.0  # Initial stock price\n",
        "sigma = 0.25  # Volatility\n",
        "rate = 0.05  # Risk-free rate\n",
        "expiry = 180/365  # Time to maturity (in years)\n",
        "strike = 100.0  # Strike price\n",
        "num_samples = 100000  # Number of Monte Carlo paths\n",
        "time_steps = 50  # Number of time steps for Euler scheme\n",
        "\n",
        "# Drift and Volatility Functions\n",
        "def drift_fn(_, x):\n",
        "    return tf.ones_like(x, dtype=tf.float64) * (rate - 0.5 * sigma**2)\n",
        "\n",
        "def vol_fn(_, x):\n",
        "    return tf.expand_dims(tf.ones_like(x, dtype=tf.float64) * sigma, axis=-1)\n",
        "\n",
        "# Euler Scheme to Simulate Log Stock Price Paths\n",
        "times = np.linspace(0.0, expiry, num=time_steps, dtype=np.float64)\n",
        "\n",
        "log_paths = tff.models.euler_sampling.sample(\n",
        "    dim=1,\n",
        "    drift_fn=drift_fn,\n",
        "    volatility_fn=vol_fn,\n",
        "    random_type=tff.math.random.RandomType.PSEUDO_ANTITHETIC,\n",
        "    times=times,\n",
        "    num_samples=num_samples,\n",
        "    seed=42,\n",
        "    time_step=expiry / time_steps,\n",
        "    dtype=tf.float64,\n",
        ")\n",
        "\n",
        "# Compute Stock Prices (Exponentiate Log Paths)\n",
        "paths = tf.exp(log_paths) * S0  # Convert log(S_t) to S_t\n",
        "# Define variables for American option pricing\n",
        "exercise_times = tf.range(times.shape[-1])\n",
        "\n",
        "discount_factors = tf.exp(-rate * tf.constant(times, dtype=tf.float64))  # Discount factor\n",
        "\n",
        "# Use the built-in payoff and basis functions\n",
        "payoff_fn = make_basket_put_payoff(strike, dtype=tf.float64)  # Built-in payoff function\n",
        "basis_fn = make_polynomial_basis(10)  # Built-in polynomial basis function\n",
        "\n",
        "# Compute American Option Price\n",
        "american_option_price = least_square_mc(\n",
        "    paths,\n",
        "    exercise_times,\n",
        "    payoff_fn,\n",
        "    basis_fn,\n",
        "    discount_factors=discount_factors,\n",
        ")\n",
        "\n",
        "# European Put Option Pricing using Black-Scholes Formula\n",
        "european_option_price = tff.black_scholes.option_price(\n",
        "    volatilities=[sigma],\n",
        "    strikes=[strike],\n",
        "    expiries=[expiry],\n",
        "    spots=[S0],\n",
        "    discount_factors=[discount_factors[-1]],\n",
        "    is_call_options=False,\n",
        "    dtype=tf.float64,\n",
        ")\n",
        "\n",
        "# Display Results\n",
        "print(f\"American Put Option Price: {american_option_price.numpy()}\")\n",
        "print(f\"European Put Option Price: {european_option_price.numpy()}\")"
      ],
      "metadata": {
        "id": "HKVxARiBbZ3j",
        "outputId": "03bf34d6-ce00-4f7c-868f-35e850a75745",
        "colab": {
          "base_uri": "https://localhost:8080/"
        }
      },
      "execution_count": 35,
      "outputs": [
        {
          "output_type": "stream",
          "name": "stdout",
          "text": [
            "American Put Option Price: [1.61276118]\n",
            "European Put Option Price: [5.75978989]\n"
          ]
        }
      ]
    },
    {
      "cell_type": "markdown",
      "source": [],
      "metadata": {
        "id": "c_nn-GQUakGd"
      }
    },
    {
      "cell_type": "code",
      "source": [
        "import numpy as np\n",
        "import pandas as pd\n",
        "\n",
        "def longstaff_schwartz(paths, strike, discount_rate, exercise_dates):\n",
        "    \"\"\"\n",
        "    Longstaff-Schwartz algorithm for American option pricing.\n",
        "\n",
        "    Args:\n",
        "        paths: A NumPy array of shape (number_of_paths, number_of_time_steps)\n",
        "        representing the simulated asset price paths.\n",
        "        strike: The strike price for the option. # Changed from strikes to strike\n",
        "        discount_rate: The risk-free discount rate.\n",
        "        exercise_dates: A list or array of exercise dates (timesteps).\n",
        "\n",
        "    Returns:\n",
        "        The estimated price of the American option.\n",
        "    \"\"\"\n",
        "\n",
        "    n_paths = paths.shape[0]\n",
        "    n_steps = paths.shape[1]\n",
        "\n",
        "    # Initialize the continuation values and cashflows\n",
        "    continuation_values = np.zeros(n_paths)\n",
        "    cashflows = np.zeros(n_paths)\n",
        "\n",
        "    # Iterate backward through the time steps\n",
        "    for t in reversed(range(0, n_steps - 1)): # Iterate up to second to last timestep\n",
        "        # Determine intrinsic value of option\n",
        "        intrinsic_value = np.maximum(0, paths[:, t + 1] - strike) # Changed paths[t + 1] to paths[:, t + 1] and strikes to strike\n",
        "\n",
        "        # Fit a regression model to estimate continuation value\n",
        "        if np.any(intrinsic_value): # Only perform regression if there are positive intrinsic values\n",
        "          regression_data = pd.DataFrame({'Price': paths[:, t], 'IntrinsicValue': intrinsic_value}) # Changed paths[t] to paths[:, t]\n",
        "          regression = np.polyfit(regression_data['Price'], regression_data['IntrinsicValue'], 3)\n",
        "          continuation_values = np.polyval(regression, paths[:, t]) # Changed paths[t] to paths[:, t]\n",
        "        else:\n",
        "            continuation_values = np.zeros(n_paths) # if intrinsic is always zero\n",
        "\n",
        "        # Compare intrinsic value to continuation value, updating cash flows\n",
        "        exercise = intrinsic_value > continuation_values\n",
        "        cashflows[exercise] = intrinsic_value[exercise]\n",
        "\n",
        "        # Discount cash flows to previous time step\n",
        "        continuation_values = np.where(exercise, 0, continuation_values) # update value of continuation values\n",
        "\n",
        "        # discount all values at each timestep\n",
        "        continuation_values = continuation_values / (1+discount_rate)\n",
        "\n",
        "\n",
        "        # Update cash flows\n",
        "        cashflows = np.where(exercise, intrinsic_value, cashflows)\n",
        "\n",
        "    return np.mean(cashflows)\n",
        "\n",
        "# Example Usage (replace with your data)\n",
        "np.random.seed(0)\n",
        "n_paths = 100000\n",
        "n_steps = 100\n",
        "paths = np.random.randn(n_paths, n_steps).cumsum(axis=1)\n",
        "strike = 1.1  # Example strike price # Changed strikes to strike\n",
        "\n",
        "discount_rate = 0.05\n",
        "exercise_dates = list(range(0, n_steps))\n",
        "\n",
        "option_price = longstaff_schwartz(paths, strike, discount_rate, exercise_dates) # Changed strikes to strike\n",
        "print(f\"Estimated American option price: {option_price}\")"
      ],
      "metadata": {
        "id": "6WMlBDc68rOO",
        "outputId": "b73390d4-13c8-4429-8c3d-dd3322f8cb7c",
        "colab": {
          "base_uri": "https://localhost:8080/"
        }
      },
      "execution_count": 42,
      "outputs": [
        {
          "output_type": "stream",
          "name": "stdout",
          "text": [
            "Estimated American option price: 0.39459103221246034\n"
          ]
        }
      ]
    },
    {
      "cell_type": "code",
      "source": [],
      "metadata": {
        "id": "JgHWAVmaa4Ky"
      },
      "execution_count": null,
      "outputs": []
    }
  ],
  "metadata": {
    "accelerator": "GPU",
    "colab": {
      "collapsed_sections": [
        "OnijmIHSD5_a"
      ],
      "name": "American_Option_Black_Scholes.ipynb",
      "provenance": [],
      "toc_visible": true,
      "include_colab_link": true
    },
    "kernelspec": {
      "display_name": "Python 3",
      "name": "python3"
    }
  },
  "nbformat": 4,
  "nbformat_minor": 0
}