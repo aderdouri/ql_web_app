{
  "cells": [
    {
      "cell_type": "markdown",
      "metadata": {
        "id": "EheA5_j_cEwc"
      },
      "source": [
        "##### Copyright 2019 Google LLC.\n",
        "\n",
        "Licensed under the Apache License, Version 2.0 (the \"License\");"
      ]
    },
    {
      "cell_type": "code",
      "execution_count": null,
      "metadata": {
        "id": "YCriMWd-pRTP"
      },
      "outputs": [],
      "source": [
        "#@title Licensed under the Apache License, Version 2.0 (the \"License\"); { display-mode: \"form\" }\n",
        "# you may not use this file except in compliance with the License.\n",
        "# You may obtain a copy of the License at\n",
        "#\n",
        "# https://www.apache.org/licenses/LICENSE-2.0\n",
        "#\n",
        "# Unless required by applicable law or agreed to in writing, software\n",
        "# distributed under the License is distributed on an \"AS IS\" BASIS,\n",
        "# WITHOUT WARRANTIES OR CONDITIONS OF ANY KIND, either express or implied.\n",
        "# See the License for the specific language governing permissions and\n",
        "# limitations under the License."
      ]
    },
    {
      "cell_type": "markdown",
      "metadata": {
        "id": "OvRwFTkqcp1e"
      },
      "source": [
        "# Introduction to TensorFlow Part 3 - Advanced Tensor Manipulation\n",
        "\n",
        "<table class=\"tfo-notebook-buttons\" align=\"left\">\n",
        "  <td>\n",
        "    <a target=\"_blank\" href=\"https://colab.research.google.com/github/aderdouri/ql_web_app/blob/master/tf_quant_finance_notebooks/Introduction_to_TensorFlow_Part_3_Advanced_Tensor_Manipulation.ipynb\"><img src=\"https://www.tensorflow.org/images/colab_logo_32px.png\" />Run in Google Colab</a>\n",
        "  </td>\n",
        "  <td>\n",
        "    <a target=\"_blank\" href=\"https://github.com/aderdouri/ql_web_app/blob/master/tf_quant_finance_notebooks/Introduction_to_TensorFlow_Part_3_Advanced_Tensor_Manipulation.ipynb\"><img src=\"https://www.tensorflow.org/images/GitHub-Mark-32px.png\" />View source on GitHub</a>\n",
        "  </td>\n",
        "</table>"
      ]
    },
    {
      "cell_type": "code",
      "execution_count": null,
      "metadata": {
        "cellView": "form",
        "id": "97ZM2JhA23pR"
      },
      "outputs": [],
      "source": [
        "#@title Upgrade to TensorFlow 2.5+\n",
        "!pip install --upgrade tensorflow"
      ]
    },
    {
      "cell_type": "code",
      "execution_count": null,
      "metadata": {
        "cellView": "form",
        "id": "nPX9m7Q_w_8p"
      },
      "outputs": [],
      "source": [
        "#@title Install and import Libraries for this colab. RUN ME FIRST!\n",
        "\n",
        "import matplotlib.pyplot as plt\n",
        "import tensorflow as tf\n",
        "\n"
      ]
    },
    {
      "cell_type": "markdown",
      "metadata": {
        "id": "obZHjPQScSqd"
      },
      "source": [
        "# What this notebook covers\n",
        "\n",
        "This notebook carries on from [part 2](https://colab.research.google.com/github/google/tf-quant-finance/blob/master/tf_quant_finance/examples/jupyter_notebooks/Introduction_to_TensorFlow_Part_2_-_Debugging_and_Control_Flow.ipynb\n",
        "), and covers various advanced ways of manipulating tensors, including\n",
        "*   Gather\n",
        "*   Updating tensor entries\n",
        "*   Sparse Tensors\n",
        "*   Various functional ops:\n",
        "    * tf.foldl \n",
        "    * tf.foldr\n",
        "    * tf.map_fn\n",
        "    * tf.vectorized_map\n",
        "\n",
        "* XLA compilation\n",
        "\n",
        "\n",
        "\n"
      ]
    },
    {
      "cell_type": "markdown",
      "metadata": {
        "id": "pVLqCYzuDhfT"
      },
      "source": [
        "# Scatter / Gather"
      ]
    },
    {
      "cell_type": "markdown",
      "metadata": {
        "id": "_md9nF-EbCcn"
      },
      "source": [
        "## tf.gather_nd\n",
        "\n",
        "[Full documentation](https://www.tensorflow.org/api_docs/python/tf/gather_nd)\n",
        "\n",
        "This operation allows you to take a multi-dimensional tensor and extract a list of subsets of data from it, according to a list of indices."
      ]
    },
    {
      "cell_type": "code",
      "execution_count": null,
      "metadata": {
        "executionInfo": {
          "elapsed": 57,
          "status": "ok",
          "timestamp": 1626699697972,
          "user": {
            "displayName": "",
            "photoUrl": "",
            "userId": ""
          },
          "user_tz": -60
        },
        "id": "z7nnDntT32V0",
        "outputId": "72ee0185-fc70-4339-d2a0-dc60bc41211d"
      },
      "outputs": [
        {
          "name": "stdout",
          "output_type": "stream",
          "text": [
            "Looking up [[1, 1, 1]] gives us\n",
            "tf.Tensor([222], shape=(1,), dtype=int32)\n",
            "\n",
            "Looking up [[1, 1, 1], [0, 0, 0], [0, 0, 1]] gives us\n",
            "tf.Tensor([222 111 112], shape=(3,), dtype=int32)\n",
            "\n",
            "Looking up [[0, 0]] gives us\n",
            "tf.Tensor([[111 112 113]], shape=(1, 3), dtype=int32)\n",
            "\n",
            "Looking up [[1]] gives us\n",
            "tf.Tensor(\n",
            "[[[211 212 213]\n",
            "  [221 222 223]\n",
            "  [231 232 233]]], shape=(1, 3, 3), dtype=int32)\n"
          ]
        }
      ],
      "source": [
        "source = tf.constant([[[111,112,113], [121,122,123], [131,132,133]], \n",
        "                      [[211,212,213], [221,222,223], [231,232,233]]])\n",
        "\n",
        "# if we specify all values for all of source's dimensions, then we get a \n",
        "# single value\n",
        "indices = [[1,1,1]]\n",
        "print(\"Looking up %s gives us\\n%s\" %(\n",
        "    indices, tf.gather_nd(source, indices)))\n",
        "\n",
        "# we can look up multiple sets of indices\n",
        "indices = [[1,1,1], [0,0,0], [0,0,1]]\n",
        "print(\"\\nLooking up %s gives us\\n%s\" %(\n",
        "    indices, tf.gather_nd(source, indices)))\n",
        "\n",
        "# if we don't specify values for all of source's dimensions, then we get \n",
        "# results of larger shape\n",
        "indices = [[0,0]]\n",
        "print(\"\\nLooking up %s gives us\\n%s\" %(\n",
        "    indices, tf.gather_nd(source, indices)))  \n",
        "indices = [[1]]\n",
        "print(\"\\nLooking up %s gives us\\n%s\" %(\n",
        "    indices, tf.gather_nd(source, indices)))    "
      ]
    },
    {
      "cell_type": "markdown",
      "metadata": {
        "id": "9B9cza9zD4Iw"
      },
      "source": [
        "The indices can easily be generated with tf.where:"
      ]
    },
    {
      "cell_type": "code",
      "execution_count": null,
      "metadata": {
        "executionInfo": {
          "elapsed": 57,
          "status": "ok",
          "timestamp": 1626699699190,
          "user": {
            "displayName": "",
            "photoUrl": "",
            "userId": ""
          },
          "user_tz": -60
        },
        "id": "npOjtvGYECW1",
        "outputId": "d6983f5c-05cd-4385-9c06-cf9338ade8e3"
      },
      "outputs": [
        {
          "name": "stdout",
          "output_type": "stream",
          "text": [
            "tf.Tensor([111 123 132 213 222 231], shape=(6,), dtype=int32)\n"
          ]
        }
      ],
      "source": [
        "source = tf.constant([[[111,112,113], [121,122,123], [131,132,133]], \n",
        "                      [[211,212,213], [221,222,223], [231,232,233]]])\n",
        "values_divisible_by_three = tf.gather_nd(\n",
        "    source, tf.where(tf.equal(0, source % 3)))\n",
        "\n",
        "print(values_divisible_by_three)"
      ]
    },
    {
      "cell_type": "markdown",
      "metadata": {
        "id": "tC0kpUqv6GBB"
      },
      "source": [
        "## Updating elements of a Tensor\n",
        "\n",
        "Tensors are immutable objects. Often there is a need to update certain values of a Tensor. In order to achieve this, one can use `tf.tensor_scatter_nd`, which creates a copy of the input Tensor along with updated values at the specified indices.\n",
        "\n",
        "For user convenience a number of similar methods are available, such as `tf.tensor_scatter_nd_add/sub/min/max`."
      ]
    },
    {
      "cell_type": "code",
      "execution_count": null,
      "metadata": {
        "executionInfo": {
          "elapsed": 91,
          "status": "ok",
          "timestamp": 1626770995977,
          "user": {
            "displayName": "",
            "photoUrl": "",
            "userId": ""
          },
          "user_tz": -60
        },
        "id": "12TanrDqG0PH",
        "outputId": "8cbba37b-663d-4ec6-d337-a8309316be5f"
      },
      "outputs": [
        {
          "name": "stdout",
          "output_type": "stream",
          "text": [
            "Original Tensor:\n",
            "tf.Tensor(\n",
            "[[[ 1  2  3]\n",
            "  [ 4  5  6]\n",
            "  [ 7  8  9]]\n",
            "\n",
            " [[11 12 13]\n",
            "  [14 15 16]\n",
            "  [17 18 19]]], shape=(2, 3, 3), dtype=int32)\n"
          ]
        }
      ],
      "source": [
        "x = tf.constant([[[1, 2, 3], [4, 5, 6], [7, 8, 9]],\n",
        "                [[11, 12, 13], [14, 15, 16], [17, 18, 19]]])\n",
        "# Original Tensor\n",
        "print(\"Original Tensor:\\n%s\"%x)"
      ]
    },
    {
      "cell_type": "code",
      "execution_count": null,
      "metadata": {
        "executionInfo": {
          "elapsed": 73,
          "status": "ok",
          "timestamp": 1626771090419,
          "user": {
            "displayName": "",
            "photoUrl": "",
            "userId": ""
          },
          "user_tz": -60
        },
        "id": "JVXqOUzMElX5",
        "outputId": "9cdbc4cf-1ad3-4f3e-a790-cd101b7c7bb5"
      },
      "outputs": [
        {
          "name": "stdout",
          "output_type": "stream",
          "text": [
            "Updating a single single value:\n",
            "tf.Tensor(\n",
            "[[[ 1  2  3]\n",
            "  [ 4  5 -1]\n",
            "  [ 7  8  9]]\n",
            "\n",
            " [[11 12 13]\n",
            "  [14 15 16]\n",
            "  [17 18 19]]], shape=(2, 3, 3), dtype=int32)\n",
            "\n",
            "Updating multiple values:\n",
            "tf.Tensor(\n",
            "[[[-1  2  3]\n",
            "  [ 4 -2  6]\n",
            "  [ 7  8 -3]]\n",
            "\n",
            " [[11 12 13]\n",
            "  [14 15 16]\n",
            "  [17 18 19]]], shape=(2, 3, 3), dtype=int32)\n",
            "\n",
            "Scattering entire rows:\n",
            "tf.Tensor(\n",
            "[[[-1 -2 -3]\n",
            "  [-4 -5 -6]\n",
            "  [ 7  8  9]]\n",
            "\n",
            " [[11 12 13]\n",
            "  [14 15 16]\n",
            "  [17 18 19]]], shape=(2, 3, 3), dtype=int32)\n",
            "\n",
            "Updating the entire matrix:\n",
            "tf.Tensor(\n",
            "[[[-1 -2 -3]\n",
            "  [-4 -5 -6]\n",
            "  [-7 -8 -9]]\n",
            "\n",
            " [[11 12 13]\n",
            "  [14 15 16]\n",
            "  [17 18 19]]], shape=(2, 3, 3), dtype=int32)\n",
            "\n",
            "Updating single value multiple times:\n",
            "tf.Tensor(\n",
            "[[[-3  2  3]\n",
            "  [ 4  5  6]\n",
            "  [ 7  8  9]]\n",
            "\n",
            " [[11 12 13]\n",
            "  [14 15 16]\n",
            "  [17 18 19]]], shape=(2, 3, 3), dtype=int32)\n"
          ]
        }
      ],
      "source": [
        "print(\"Updating a single single value:\\n%s\"%\n",
        "      tf.tensor_scatter_nd_update(\n",
        "          x,\n",
        "          indices = [[0, 1, 2]],\n",
        "          updates = [-1]))\n",
        "\n",
        "print(\"\\nUpdating multiple values:\\n%s\"%\n",
        "      tf.tensor_scatter_nd_update(\n",
        "          x,\n",
        "          indices = [[0, 0, 0], [0, 1, 1], [0, 2, 2]], \n",
        "          updates = [-1, -2, -3]))\n",
        "\n",
        "# You can reduce the dimensions of indices and increase the dimensions of \n",
        "# updates\n",
        "print(\"\\nScattering entire rows:\\n%s\"%\n",
        "      tf.tensor_scatter_nd_update(\n",
        "          x,\n",
        "          indices = [[0,0], [0,1]], \n",
        "          updates = [[-1, -2, -3], [-4, -5,- 6]]))\n",
        "\n",
        "print(\"\\nUpdating the entire matrix:\\n%s\"%\n",
        "      tf.tensor_scatter_nd_update(\n",
        "          x,\n",
        "          indices = [[0]], \n",
        "          updates = [[[-1, -2, -3], [-4, -5, -6], [-7, -8, -9]]]))\n",
        "\n",
        "# Note that if `indices` contains duplicate or overlapping values, then the \n",
        "# clashing updates will be added together (in an indeterminate order, which \n",
        "# may result in non-deterministic output in the case of multiple floating \n",
        "# point values of wildly different sizes).\n",
        "print(\"\\nUpdating single value multiple times:\\n%s\"%\n",
        "      tf.tensor_scatter_nd_update(\n",
        "          x,\n",
        "          indices = [[0,0,0], [0,0,0], [0,0,0]], \n",
        "          updates = [-1, -2, -3]))\n",
        "\n"
      ]
    },
    {
      "cell_type": "markdown",
      "metadata": {
        "id": "EfNajZEZG3sd"
      },
      "source": [
        "##tf.scatter_nd\n",
        "[Full documentation](https://www.tensorflow.org/api_docs/python/tf/scatter_nd)\n",
        "\n",
        "`scatter_nd` is similar to `tf.tensor_scatter_nd_update`. It creates a zero-initialised tensor of a given shape, and then writes a series of specified values at specified positions in that tensor.\n",
        "\n"
      ]
    },
    {
      "cell_type": "markdown",
      "metadata": {
        "id": "kYiOe3ZsT05b"
      },
      "source": [
        "### Gather then Update\n",
        "In some cases, you will want `tensor_scatter_nd` to act as a \"setter\" to `gather_nd`'s \"getter\": i.e. you have a tensor, you extract a subset of values that meet a certain criteria using `gather_nd`, you calculate new values for that subset, and then create a new tensor based on the original that replaces the elements that met the criteria with the new values.\n"
      ]
    },
    {
      "cell_type": "code",
      "execution_count": null,
      "metadata": {
        "executionInfo": {
          "elapsed": 72,
          "status": "ok",
          "timestamp": 1626704747035,
          "user": {
            "displayName": "",
            "photoUrl": "",
            "userId": ""
          },
          "user_tz": -60
        },
        "id": "gbpQx-xrU707",
        "outputId": "6e406532-cdb3-45c6-e6b2-51f73b417dd4"
      },
      "outputs": [
        {
          "name": "stdout",
          "output_type": "stream",
          "text": [
            "tf.Tensor(\n",
            "[[[ 11 112 113]\n",
            "  [121 122  23]\n",
            "  [131  32 133]]\n",
            "\n",
            " [[211 212  13]\n",
            "  [221  22 223]\n",
            "  [ 31 232 233]]], shape=(2, 3, 3), dtype=int32)\n"
          ]
        }
      ],
      "source": [
        "source = tf.constant([[[111,112,113], [121,122,123], [131,132,133]], \n",
        "                      [[211,212,213], [221,222,223], [231,232,233]]])\n",
        "# Create a list of indices where is_divisible_by_three is true (we no longer \n",
        "# need the to keep a reference to the result of tf.equal)\n",
        "indices = tf.where(tf.equal(0, source % 3))\n",
        "# Extract a list of values that need updating\n",
        "values_divisible_by_three = tf.gather_nd(source, indices)\n",
        "# Perform a really expensive operation on those values\n",
        "new_values = values_divisible_by_three % 100\n",
        "# Update entries in the original Tensor\n",
        "new_tensor = tf.tensor_scatter_nd_update(\n",
        "    source, indices, new_values)\n",
        "# Updated Tensor\n",
        "print(new_tensor)\n"
      ]
    },
    {
      "cell_type": "markdown",
      "metadata": {
        "id": "FOqSOkTAH9No"
      },
      "source": [
        "## Exercise: Mandlebrot set\n",
        "\n",
        "Lets revisit the Mandlebrot set from the previous training course. In that solution, we ran the z=z*z+c calculation for all co-ordinates, even the ones whose magnitude had already gone over 2.\n",
        "\n",
        "For the purpose of this exercise, we will pretend that the complex calculation is very expensive and that we should eliminate the calculation where possible. In actual fact, the calculation is utterly trivial and swamped by the cost of the gather/scatter operations, but the same methods can be used in situations rather more expensive than a complex add and multiply"
      ]
    },
    {
      "cell_type": "code",
      "execution_count": null,
      "metadata": {
        "id": "DZZxF2l0it9-"
      },
      "outputs": [],
      "source": [
        "MAX_ITERATIONS = 64\n",
        "NUM_PIXELS = 512\n",
        "\n",
        "def generate_grid(nX, nY, bottom_left=(-1.0, -1.0), top_right=(1.0, 1.0)):\n",
        "  \"\"\"Generates a complex matrix of shape [nX, nY].\n",
        "  \n",
        "  Generates an evenly spaced grid of complex numbers spanning the rectangle \n",
        "  between the supplied diagonal points. \n",
        "  \n",
        "  Args:\n",
        "    nX: A positive integer. The number of points in the horizontal direction.\n",
        "    nY: A positive integer. The number of points in the vertical direction.\n",
        "    bottom_left: The coordinates of the bottom left corner of the rectangle to\n",
        "      cover.\n",
        "    top_right: The coordinates of the top right corner of the rectangle to\n",
        "      cover.\n",
        "\n",
        "  Returns:\n",
        "    A constant tensor of type complex64 and shape [nX, nY].\n",
        "  \"\"\"\n",
        "  x = tf.linspace(bottom_left[0], top_right[0], nX)\n",
        "  y = tf.linspace(bottom_left[1], top_right[1], nY)\n",
        "  real, imag = tf.meshgrid(x, y)\n",
        "  return tf.cast(tf.complex(real, imag), tf.complex128)\n",
        "\n",
        "c_values = generate_grid(NUM_PIXELS, NUM_PIXELS)\n",
        "initial_Z_values = tf.zeros_like(c_values, dtype=tf.complex128)\n",
        "initial_diverged_after = tf.ones_like(c_values, dtype=tf.int32) * MAX_ITERATIONS\n",
        "\n",
        "# You need to put the various values you want to change inside the loop here\n",
        "loop_vars = (0, initial_Z_values, initial_diverged_after)\n",
        "\n",
        "# this needs to take the same number of arguments as loop_vars contains and\n",
        "# return a tuple of equal size with the next iteration's values\n",
        "def body(iteration_count, Z_values, diverged_after):\n",
        "  # a matrix of bools showing all the co-ordinatesthat haven't diverged yet\n",
        "  not_diverged = tf.equal(diverged_after, MAX_ITERATIONS)\n",
        "  # a list of the indices in not_diverged that are true\n",
        "  not_diverged_indices = tf.where(not_diverged)\n",
        "\n",
        "  # you now need to gather just the Z and c values covered by \n",
        "  # not_diverged_indices, calculate the new Z values, and then scatter the \n",
        "  # values back into a new Z_values matrix to pass to the next iteration.\n",
        "\n",
        "  new_Z_values = # TODO\n",
        "\n",
        "  # And now we're back to the original code\n",
        "  has_diverged = tf.abs(new_Z_values) > 2.0\n",
        "  new_diverged_after = tf.minimum(diverged_after, tf.where(\n",
        "      has_diverged, iteration_count, MAX_ITERATIONS))\n",
        "\n",
        "  return (iteration_count+1, new_Z_values, new_diverged_after)\n",
        "\n",
        "# this just needs to take the same number of arguments as loop_vars contains and\n",
        "# return true (we'll use maximum_iterations to exit the loop)\n",
        "def cond(iteration_count, Z_values, diverged_after):\n",
        "  return True\n",
        "\n",
        "results = tf.while_loop(\n",
        "    loop_vars=loop_vars, \n",
        "    body = body, \n",
        "    cond = cond, \n",
        "    maximum_iterations=MAX_ITERATIONS)\n",
        "\n",
        "\n",
        "## extract the final value of diverged_after from the tuple\n",
        "final_diverged_after = results[-1]\n",
        "plt.matshow(final_diverged_after)\n",
        "pass"
      ]
    },
    {
      "cell_type": "code",
      "execution_count": null,
      "metadata": {
        "cellView": "code",
        "colab": {
          "height": 275
        },
        "executionInfo": {
          "elapsed": 1154,
          "status": "ok",
          "timestamp": 1626704754941,
          "user": {
            "displayName": "",
            "photoUrl": "",
            "userId": ""
          },
          "user_tz": -60
        },
        "id": "JSitXn3PyIIe",
        "outputId": "60739cf2-032c-4276-bfbd-0a0116fcafe6"
      },
      "outputs": [
        {
          "data": {
            "image/png": "[encoded data removed]",
            "text/plain": [
              "<Figure size 400x400 with 1 Axes>"
            ]
          },
          "metadata": {
            "tags": []
          },
          "output_type": "display_data"
        }
      ],
      "source": [
        "#@title Solution: Mandlebrot set (Double-click to reveal)\n",
        "\n",
        "MAX_ITERATIONS = 64\n",
        "NUM_PIXELS = 512\n",
        "\n",
        "def GenerateGrid(nX, nY, bottom_left=(-1.0, -1.0), top_right=(1.0, 1.0)):\n",
        "  \"\"\"Generates a complex matrix of shape [nX, nY].\n",
        "  \n",
        "  Generates an evenly spaced grid of complex numbers spanning the rectangle \n",
        "  between the supplied diagonal points. \n",
        "  \n",
        "  Args:\n",
        "    nX: A positive integer. The number of points in the horizontal direction.\n",
        "    nY: A positive integer. The number of points in the vertical direction.\n",
        "    bottom_left: The coordinates of the bottom left corner of the rectangle to\n",
        "      cover.\n",
        "    top_right: The coordinates of the top right corner of the rectangle to\n",
        "      cover.\n",
        "\n",
        "  Returns:\n",
        "    A constant tensor of type complex64 and shape [nX, nY].\n",
        "  \"\"\"\n",
        "  x = tf.linspace(bottom_left[0], top_right[0], nX)\n",
        "  y = tf.linspace(bottom_left[1], top_right[1], nY)\n",
        "  real, imag = tf.meshgrid(x, y)\n",
        "  return tf.cast(tf.complex(real, imag), tf.complex128)\n",
        "\n",
        "c_values = GenerateGrid(NUM_PIXELS, NUM_PIXELS)\n",
        "initial_Z_values = tf.zeros_like(c_values, dtype=tf.complex128)\n",
        "initial_diverged_after = tf.ones_like(c_values, dtype=tf.int32) * MAX_ITERATIONS\n",
        "\n",
        "# You need to put the various values you want to change inside the loop here\n",
        "loop_vars = (0, initial_Z_values, initial_diverged_after)\n",
        "\n",
        "# this needs to take the same number of arguments as loop_vars contains and\n",
        "# return a tuple of equal size with the next iteration's values\n",
        "def body(iteration_count, Z_values, diverged_after):\n",
        "  # a matrix of bools showing all the co-ordinatesthat haven't diverged yet\n",
        "  not_diverged = tf.equal(diverged_after, MAX_ITERATIONS)\n",
        "  # a list of the indices in not_diverged that are true\n",
        "  not_diverged_indices = tf.where(not_diverged)\n",
        "\n",
        "  # Gather the values for just the undiverged co-ordinates, and generate the \n",
        "  # next iteration's values\n",
        "  not_diverged_c_values_array = tf.gather_nd(c_values, not_diverged_indices)\n",
        "  not_diverged_Z_values_array = tf.gather_nd(Z_values, not_diverged_indices)\n",
        "  new_Z_values_array = (not_diverged_Z_values_array * not_diverged_Z_values_array\n",
        "                        + not_diverged_c_values_array)\n",
        "  \n",
        "  # merge the new values with the already-diverged\n",
        "  new_Z_values_or_zeroes = tf.scatter_nd(\n",
        "      not_diverged_indices, \n",
        "      new_Z_values_array, \n",
        "      tf.shape(Z_values, out_type=tf.dtypes.int64))\n",
        "  new_Z_values = tf.where(not_diverged, new_Z_values_or_zeroes, Z_values)\n",
        "\n",
        "  # And now we're back to the original code\n",
        "  has_diverged = tf.abs(new_Z_values) > 2.0\n",
        "  new_diverged_after = tf.minimum(diverged_after, tf.where(\n",
        "      has_diverged, iteration_count, MAX_ITERATIONS))\n",
        "  return (iteration_count+1, new_Z_values, new_diverged_after)\n",
        "\n",
        "# this just needs to take the same number of arguments as loop_vars contains and\n",
        "# return true (we'll use maximum_iterations to exit the loop)\n",
        "def cond(iteration_count, Z_values, diverged_after):\n",
        "  return True\n",
        "\n",
        "results = tf.while_loop(\n",
        "    loop_vars=loop_vars, \n",
        "    body = body, \n",
        "    cond = cond, \n",
        "    maximum_iterations=MAX_ITERATIONS)\n",
        "\n",
        "## extract the final value of diverged_after from the tuple\n",
        "final_diverged_after = results[-1]\n",
        "plt.matshow(final_diverged_after)\n",
        "plt.show()"
      ]
    },
    {
      "cell_type": "markdown",
      "metadata": {
        "id": "kAlaMKj0gZdX"
      },
      "source": [
        "## SparseTensor\n",
        "\n",
        "[Full documentation](https://www.tensorflow.org/api_docs/python/tf/sparse/SparseTensor])\n",
        "\n",
        "A sparse tensor is created from a list of indices, a list of values and a shape: the same as the arguments to scatter_nd. Any element within the tensor that doesn't have an explicit value will be treated as zero. So a sparse tensor can be viewed as a deferred call to scatter_nd.\n",
        "\n",
        "For large tensors where most of the values are zero, sparse tensors can grant major savings in memory. The [tf.sparse module](https://www.tensorflow.org/api_docs/python/tf/sparse) contains several specialised operations that know how to work with sparse tensor's internals and skipping all the zero values, thus granting major savings in processing speed as well.\n",
        "\n",
        "Similarly sparse tensors can be efficiently divided or multiplied by a tensor or scalar. But attempts to perform inefficient operations on a sparse tensor (i.e. ones likely to set most elements to a non-zero value) are not allowed. You need to convert the sparse tensor to a normal, or \"dense\", tensor with the ```tf.sparse.to_dense``` function."
      ]
    },
    {
      "cell_type": "code",
      "execution_count": null,
      "metadata": {
        "executionInfo": {
          "elapsed": 60,
          "status": "ok",
          "timestamp": 1626704763813,
          "user": {
            "displayName": "",
            "photoUrl": "",
            "userId": ""
          },
          "user_tz": -60
        },
        "id": "qDJmkGN2lBhB",
        "outputId": "84bf6a27-5a9f-462c-aa60-0b2955ae822f"
      },
      "outputs": [
        {
          "name": "stdout",
          "output_type": "stream",
          "text": [
            "sparse =\n",
            "SparseTensor(indices=tf.Tensor(\n",
            "[[0 0 0]\n",
            " [0 1 2]\n",
            " [0 2 1]\n",
            " [1 0 2]\n",
            " [1 1 1]\n",
            " [1 2 0]], shape=(6, 3), dtype=int64), values=tf.Tensor([111 123 132 213 222 231], shape=(6,), dtype=int32), dense_shape=tf.Tensor([2 3 3], shape=(3,), dtype=int64))\n",
            "\n",
            "sparse * dense =\n",
            "SparseTensor(indices=tf.Tensor(\n",
            "[[0 0 0]\n",
            " [0 1 2]\n",
            " [0 2 1]\n",
            " [1 0 2]\n",
            " [1 1 1]\n",
            " [1 2 0]], shape=(6, 3), dtype=int64), values=tf.Tensor([12321 15129 17424 45369 49284 53361], shape=(6,), dtype=int32), dense_shape=tf.Tensor([2 3 3], shape=(3,), dtype=int64))\n",
            "\n",
            "dense * sparse\n",
            "SparseTensor(indices=tf.Tensor(\n",
            "[[0 0 0]\n",
            " [0 1 2]\n",
            " [0 2 1]\n",
            " [1 0 2]\n",
            " [1 1 1]\n",
            " [1 2 0]], shape=(6, 3), dtype=int64), values=tf.Tensor([12321 15129 17424 45369 49284 53361], shape=(6,), dtype=int32), dense_shape=tf.Tensor([2 3 3], shape=(3,), dtype=int64))\n",
            "\n",
            "sparse / dense\n",
            "SparseTensor(indices=tf.Tensor(\n",
            "[[0 0 0]\n",
            " [0 1 2]\n",
            " [0 2 1]\n",
            " [1 0 2]\n",
            " [1 1 1]\n",
            " [1 2 0]], shape=(6, 3), dtype=int64), values=tf.Tensor([1. 1. 1. 1. 1. 1.], shape=(6,), dtype=float64), dense_shape=tf.Tensor([2 3 3], shape=(3,), dtype=int64))\n",
            "\n",
            "to_dense gives\n",
            "tf.Tensor(\n",
            "[[[111   0   0]\n",
            "  [  0   0 123]\n",
            "  [  0 132   0]]\n",
            "\n",
            " [[  0   0 213]\n",
            "  [  0 222   0]\n",
            "  [231   0   0]]], shape=(2, 3, 3), dtype=int32)\n",
            "\n",
            "scatter_nd gives\n",
            "tf.Tensor(\n",
            "[[[111   0   0]\n",
            "  [  0   0 123]\n",
            "  [  0 132   0]]\n",
            "\n",
            " [[  0   0 213]\n",
            "  [  0 222   0]\n",
            "  [231   0   0]]], shape=(2, 3, 3), dtype=int32)\n"
          ]
        }
      ],
      "source": [
        "source = tf.constant([[[111,112,113], [121,122,123], [131,132,133]], \n",
        "                      [[211,212,213], [221,222,223], [231,232,233]]])\n",
        "# create a list of indices where is_divisible_by_three is true\n",
        "indices = tf.where(tf.equal(0, source % 3))\n",
        "# extract a matching list of values\n",
        "values_divisible_by_three = tf.gather_nd(source, indices)\n",
        "\n",
        "sparse = tf.sparse.SparseTensor(\n",
        "    indices, \n",
        "    values_divisible_by_three, \n",
        "    tf.shape(source, out_type=tf.dtypes.int64))\n",
        "print (\"sparse =\")\n",
        "print(sparse)\n",
        "# We can efficiently multiply sparse by a dense tensor\n",
        "print (\"\\nsparse * dense =\")\n",
        "print(sparse * source)\n",
        "# We can efficiently multiply a dense tensor by a sparse\n",
        "print (\"\\ndense * sparse\")\n",
        "print(source * sparse)\n",
        "# We can efficiently divide sparse by a dense tensor\n",
        "print (\"\\nsparse / dense\")\n",
        "print(sparse / source)\n",
        "\n",
        "# But attempts to perform inefficient operations on a sparse tensor (i.e. ones\n",
        "# likely to set most elements to a non-zero value) are not allowed.\n",
        "# You need to convert the sparse tensor into a dense tensor first.\n",
        "try:\n",
        "  not_allowed = sparse + source\n",
        "except ValueError:\n",
        "  pass\n",
        "\n",
        "# Running to_dense is exactly the same as calling scatter_nd:\n",
        "print (\"\\nto_dense gives\")\n",
        "print(tf.sparse.to_dense(sparse))\n",
        "print (\"\\nscatter_nd gives\")\n",
        "print(tf.scatter_nd(sparse.indices, sparse.values, sparse.dense_shape))"
      ]
    },
    {
      "cell_type": "markdown",
      "metadata": {
        "id": "Afi0jfqkI9as"
      },
      "source": [
        "# Functional ops"
      ]
    },
    {
      "cell_type": "markdown",
      "metadata": {
        "id": "sAVQxV71JF59"
      },
      "source": [
        "## tf.foldl and tf.foldr\n",
        "\n",
        "[Full documentation](https://www.tensorflow.org/api_docs/python/tf/foldl)\n",
        "\n",
        "These two functions split a given tensor across its first dimension. The resulting subtensors are then each passed to an op along with an \"accumulator\". \n",
        "For most iterations, the value of the accumulator will be the result of the previous iteration. But for the first iteration, the accumulator will either be passed an initial value passed into the foldl/foldr call, or the first subtensor. The final iteration's result then becomes the overall result of the op.\n",
        "\n",
        "So the rough pseudo code of ```x = tf.foldl(op, [[1,1], [2,2], [3,3]], initializer)``` would be\n",
        "``` python\n",
        "result_iteration1 = op(initializer, [1,1])\n",
        "result_iteration2 = op(result_iteration1, [2,2])\n",
        "result iteration3 = op(result_iteration2, [3,3])\n",
        "x = result_iteration3\n",
        "```\n",
        "Whereas the rough pseudo-code of  ```x = tf.foldl(op, [[1,1], [2,2], [3,3])``` (i.e. no initializer supplied) would be\n",
        "``` python\n",
        "result_iteration1 = op([1,1]], [2,2])\n",
        "result_iteration2 = op(result_iteration1, [3,3])\n",
        "x = result_iteration3\n",
        "```\n",
        "\n",
        "```foldr``` is identical to ```foldl```, except that the order the tensor is iterated through is reversed. So the rough pseudo code of ```x = tf.foldr(op, [[1,1], [2,2], [3,3], initializer)``` would be\n",
        "``` python\n",
        "result_iteration1 = op(initializer, [3,3])\n",
        "result_iteration2 = op(result_iteration1, [2,2])\n",
        "result iteration3 = op(result_iteration2, [1,1])\n",
        "x = result_iteration3\n",
        "```\n",
        "\n",
        "The only complication of this method is that the op is defined by a python callable. Note that the callable is only called once, at execution time, to build the operation. **Your python callable is not called for every row in the input**, nor can it see the individual values. It is the op created by your python code that will be repeatedly called. \n",
        "\n",
        "Note that despite this, use of these methods still eliminates several optimisation opportunities that are present in tensorflow built-in operations. So if you can use something like `tf.math.reduce_sum` instead of these ops then your code may well run significantly faster."
      ]
    },
    {
      "cell_type": "code",
      "execution_count": null,
      "metadata": {
        "executionInfo": {
          "elapsed": 143,
          "status": "ok",
          "timestamp": 1626704828546,
          "user": {
            "displayName": "",
            "photoUrl": "",
            "userId": ""
          },
          "user_tz": -60
        },
        "id": "40cDr4ogOk8W",
        "outputId": "ae16f080-4599-46ff-d438-0693555623c9"
      },
      "outputs": [
        {
          "name": "stdout",
          "output_type": "stream",
          "text": [
            "Executing foldl\n",
            "In my_function.\n",
            "foldl result:\n",
            "tf.Tensor([ 9 12], shape=(2,), dtype=int32)\n",
            "\n",
            "Executing foldr\n",
            "foldr result:\n",
            "tf.Tensor([20 24], shape=(2,), dtype=int32)\n"
          ]
        }
      ],
      "source": [
        "source = tf.constant([[1,2],[3,4],[5,6]])\n",
        "\n",
        "# element\n",
        "@tf.function\n",
        "def my_function(previous_iterations_result, element):\n",
        "  print(\"In my_function.\")\n",
        "  # this depends on the previous values, thus highlighting the difference \n",
        "  # between foldl and foldr\n",
        "  return tf.math.maximum(\n",
        "      previous_iterations_result, element) + previous_iterations_result\n",
        "\n",
        "print(\"Executing foldl\")\n",
        "print(\"foldl result:\\n%s\"%\n",
        "      tf.foldl(my_function, source))\n",
        "\n",
        "print(\"\\nExecuting foldr\")\n",
        "print(\"foldr result:\\n%s\"%\n",
        "      tf.foldr(my_function, source))\n"
      ]
    },
    {
      "cell_type": "markdown",
      "metadata": {
        "id": "P9xLy92GtXHx"
      },
      "source": [
        "## tf.map_fn\n",
        "\n",
        "This op is similar to `foldl`, but the python function only takes a single argument, it lacks the accumulator argument containing the result of the previous iteration. Again the callable is called just once, and is used to generate an tensorflow op. It is this generated op that is executed once per row. And again, be aware that replacing the map_fn call with a built-in op - if possible - can result in significant increases in speed."
      ]
    },
    {
      "cell_type": "code",
      "execution_count": null,
      "metadata": {
        "executionInfo": {
          "elapsed": 121,
          "status": "ok",
          "timestamp": 1626704833294,
          "user": {
            "displayName": "",
            "photoUrl": "",
            "userId": ""
          },
          "user_tz": -60
        },
        "id": "x4CPdY9bzhjs",
        "outputId": "0a9ce7b1-4ee5-4c62-b199-25871040f3e3"
      },
      "outputs": [
        {
          "name": "stdout",
          "output_type": "stream",
          "text": [
            "In my_function\n",
            "foldr result:\n",
            "tf.Tensor([ 3  7 11], shape=(3,), dtype=int32)\n"
          ]
        }
      ],
      "source": [
        "source = tf.constant([[1,2],[3,4],[5,6]])\n",
        "\n",
        "# element \n",
        "@tf.function\n",
        "def my_function(element):\n",
        "  print(\"In my_function\")  \n",
        "  return tf.math.reduce_sum(element)\n",
        "\n",
        "\n",
        "print(\"foldr result:\\n%s\"%\n",
        "      tf.map_fn(my_function, source))"
      ]
    },
    {
      "cell_type": "markdown",
      "metadata": {
        "id": "cDmSuHp0uogc"
      },
      "source": [
        "## tf.vectrorized_map\n",
        "\n",
        "This op is similar to `map_fn`, but has a much better performance due to vectorization. `map_fn` is serial since it is based on `tf.while_loop`, while `tf.vectorized_map` relies on [`pfor`](https://github.com/tensorflow/tensorflow/blob/a4dfb8d1a71385bd6d122e4f27f86dcebb96712d/tensorflow/python/ops/parallel_for/control_flow_ops.py#L546) (parallel for) in its implementation. Potential speed can be the same as from batching.\n",
        "\n",
        "The op is useful to parallelize tasks where batching is hard to achieve (e.g., Jacobian calculation).\n",
        "\n",
        "See [official documentation](https://www.tensorflow.org/api_docs/python/tf/vectorized_map) for more details.\n",
        "\n",
        "Again the callable is called just once, and is used to generate a tensorflow op."
      ]
    },
    {
      "cell_type": "code",
      "execution_count": null,
      "metadata": {
        "executionInfo": {
          "elapsed": 95,
          "status": "ok",
          "timestamp": 1626699722723,
          "user": {
            "displayName": "",
            "photoUrl": "",
            "userId": ""
          },
          "user_tz": -60
        },
        "id": "EC1VO2Ncuogh",
        "outputId": "2f38dd53-e28e-4fd2-dc79-dac6ffe58d9c"
      },
      "outputs": [
        {
          "name": "stdout",
          "output_type": "stream",
          "text": [
            "In my_function\n",
            "foldr result:\n",
            "tf.Tensor([ 3  7 11], shape=(3,), dtype=int32)\n"
          ]
        }
      ],
      "source": [
        "source = tf.constant([[1,2],[3,4],[5,6]])\n",
        "\n",
        "# element \n",
        "@tf.function\n",
        "def my_function(element):\n",
        "  print(\"In my_function\")\n",
        "  return tf.math.reduce_sum(element)\n",
        "\n",
        "\n",
        "print(\"foldr result:\\n%s\"%\n",
        "      tf.vectorized_map(my_function, source))"
      ]
    },
    {
      "cell_type": "code",
      "execution_count": null,
      "metadata": {
        "id": "Hy6I3Es4u-we"
      },
      "outputs": [],
      "source": [
        "# Vectorization map vs map_fn vs batching\n",
        "\n",
        "@tf.function\n",
        "def square_map(x):\n",
        "  return tf.map_fn(lambda x: x**2, x)\n",
        "\n",
        "@tf.function\n",
        "def square_vectorized_map(x):\n",
        "  return tf.vectorized_map(lambda x: x**2, x)"
      ]
    },
    {
      "cell_type": "code",
      "execution_count": null,
      "metadata": {
        "id": "_BZorlzkyDK5"
      },
      "outputs": [],
      "source": [
        "dtype = tf.float64\n",
        "x = tf.random.uniform([1_000], dtype=dtype)"
      ]
    },
    {
      "cell_type": "markdown",
      "metadata": {
        "id": "MEITS8Ak49Ce"
      },
      "source": [
        "When timing, we call `.numpy()` to ensure the result is copied to memory."
      ]
    },
    {
      "cell_type": "code",
      "execution_count": null,
      "metadata": {
        "executionInfo": {
          "elapsed": 5832,
          "status": "ok",
          "timestamp": 1626700283301,
          "user": {
            "displayName": "",
            "photoUrl": "",
            "userId": ""
          },
          "user_tz": -60
        },
        "id": "tGg8ogP9x-Oz",
        "outputId": "dfcac3af-e687-4bdf-89b6-b6f4cea5693a"
      },
      "outputs": [
        {
          "name": "stdout",
          "output_type": "stream",
          "text": [
            "100 loops, best of 5: 9.01 ms per loop\n"
          ]
        }
      ],
      "source": [
        "%%timeit\n",
        "# map_fn speed\n",
        "square_map(x).numpy()"
      ]
    },
    {
      "cell_type": "code",
      "execution_count": null,
      "metadata": {
        "executionInfo": {
          "elapsed": 1296,
          "status": "ok",
          "timestamp": 1626700286086,
          "user": {
            "displayName": "",
            "photoUrl": "",
            "userId": ""
          },
          "user_tz": -60
        },
        "id": "AVCu7bDbyHb7",
        "outputId": "41c365a1-0cbf-4862-8849-5d6ad4c25ffa"
      },
      "outputs": [
        {
          "name": "stdout",
          "output_type": "stream",
          "text": [
            "1000 loops, best of 5: 173 µs per loop\n"
          ]
        }
      ],
      "source": [
        "%%timeit\n",
        "# vectorized_map speed\n",
        "square_vectorized_map(x).numpy()"
      ]
    },
    {
      "cell_type": "code",
      "execution_count": null,
      "metadata": {
        "executionInfo": {
          "elapsed": 7660,
          "status": "ok",
          "timestamp": 1626700302068,
          "user": {
            "displayName": "",
            "photoUrl": "",
            "userId": ""
          },
          "user_tz": -60
        },
        "id": "72D6nsYFygaR",
        "outputId": "41165ddb-f693-432b-8ca4-d4c7a3cf2e22"
      },
      "outputs": [
        {
          "name": "stdout",
          "output_type": "stream",
          "text": [
            "10000 loops, best of 5: 123 µs per loop\n"
          ]
        }
      ],
      "source": [
        "%%timeit\n",
        "# Batched version\n",
        "(x**2).numpy()"
      ]
    },
    {
      "cell_type": "markdown",
      "metadata": {
        "id": "AhjYUTsey4pY"
      },
      "source": [
        "# XLA compilation\n",
        "\n",
        "One of the main TensorFlow concepts is computational graph. One can imagine that knowing the graph should provide enough information to create an efficient low-level code targeting a specific device (i.e., CPU/GPU/TPU). XLA (Accelerated Linear Algebra) is a compiler that does precisely that - it creates an LLVM representation from the computational graph, potentially brinning significant speed up to the calculation. Compilation can be done in either Ahead-of-time (AOT) or Just-in-time (JIT) modes.\n",
        "\n",
        "Refer to the [official XLA page](https://www.tensorflow.org/xla) for more details. XLA Architecture details can be found [here](https://www.tensorflow.org/xla/architecture).\n",
        "\n",
        "From user perspective, using JIT compilation is easy: simply set `jit_compile=True` argument of `tf.function`. \n",
        "\n",
        "To use AOT compilation mode please refer to the [documentation](https://www.tensorflow.org/xla/tfcompile).\n",
        "\n",
        "\n",
        "**NB**  \n",
        "  * At the moment not every function can be XLA-compiled. For example, inputs and output shapes of `tf.while_loop` should be the same. Also, some of the ops might be missing an XLA implementation.\n",
        "  * JIT-compilation means that compilation happens at the first function call. For the successive calls, the compiled function is used. If an input has a different shape from the one used during the compilation, JIT-compilation happens again for the new input shapes.\n"
      ]
    },
    {
      "cell_type": "code",
      "execution_count": null,
      "metadata": {
        "id": "Z_FrtMsbyZxe"
      },
      "outputs": [],
      "source": [
        "@tf.function\n",
        "def square_map(x):\n",
        "  return tf.map_fn(lambda x: x**2, x)\n",
        "\n",
        "@tf.function(jit_compile=True)\n",
        "def square_map_xla(x):\n",
        "  return tf.map_fn(lambda x: x**2, x)\n",
        "\n",
        "@tf.function(jit_compile=True)\n",
        "def square_vectorized_map_xla(x):\n",
        "  return tf.vectorized_map(lambda x: x**2, x)"
      ]
    },
    {
      "cell_type": "code",
      "execution_count": null,
      "metadata": {
        "id": "VLaIYwn1zCpt"
      },
      "outputs": [],
      "source": [
        "dtype = tf.float64\n",
        "x = tf.random.uniform([1_000], dtype=dtype)"
      ]
    },
    {
      "cell_type": "code",
      "execution_count": null,
      "metadata": {
        "executionInfo": {
          "elapsed": 5905,
          "status": "ok",
          "timestamp": 1626700312542,
          "user": {
            "displayName": "",
            "photoUrl": "",
            "userId": ""
          },
          "user_tz": -60
        },
        "id": "03MKsonR3MkX",
        "outputId": "373f0e23-1f20-4ab3-8d09-5b52fe8ae85d"
      },
      "outputs": [
        {
          "name": "stdout",
          "output_type": "stream",
          "text": [
            "100 loops, best of 5: 9 ms per loop\n"
          ]
        }
      ],
      "source": [
        "%%timeit\n",
        "square_map(x).numpy()"
      ]
    },
    {
      "cell_type": "code",
      "execution_count": null,
      "metadata": {
        "executionInfo": {
          "elapsed": 1739,
          "status": "ok",
          "timestamp": 1626700314386,
          "user": {
            "displayName": "",
            "photoUrl": "",
            "userId": ""
          },
          "user_tz": -60
        },
        "id": "1-KFhv54y9aU",
        "outputId": "2b855595-040d-409a-fec1-f3cc4c84c394"
      },
      "outputs": [
        {
          "name": "stdout",
          "output_type": "stream",
          "text": [
            "1000 loops, best of 5: 228 µs per loop\n"
          ]
        }
      ],
      "source": [
        "%%timeit\n",
        "# Compare time to the non-compiled code above\n",
        "square_map_xla(x).numpy()"
      ]
    },
    {
      "cell_type": "code",
      "execution_count": null,
      "metadata": {
        "id": "63j4Vq5D3pQb"
      },
      "outputs": [],
      "source": [
        "# Now compare with compiled vectorized_map\n",
        "x = tf.random.uniform([500_000], dtype=dtype)"
      ]
    },
    {
      "cell_type": "code",
      "execution_count": null,
      "metadata": {
        "executionInfo": {
          "elapsed": 1768,
          "status": "ok",
          "timestamp": 1626700316400,
          "user": {
            "displayName": "",
            "photoUrl": "",
            "userId": ""
          },
          "user_tz": -60
        },
        "id": "QwYrCckE3yjp",
        "outputId": "a6efbe79-ccc2-4e83-f938-2fbc5d7588c3"
      },
      "outputs": [
        {
          "name": "stdout",
          "output_type": "stream",
          "text": [
            "100 loops, best of 5: 2.67 ms per loop\n"
          ]
        }
      ],
      "source": [
        "%%timeit\n",
        "# map_fn + XLA\n",
        "square_map_xla(x).numpy()"
      ]
    },
    {
      "cell_type": "code",
      "execution_count": null,
      "metadata": {
        "executionInfo": {
          "elapsed": 6423,
          "status": "ok",
          "timestamp": 1626700445657,
          "user": {
            "displayName": "",
            "photoUrl": "",
            "userId": ""
          },
          "user_tz": -60
        },
        "id": "B4ZFsAtt3zIB",
        "outputId": "f2649b64-c697-44a6-cb88-09a29bd987c9"
      },
      "outputs": [
        {
          "name": "stdout",
          "output_type": "stream",
          "text": [
            "1000 loops, best of 5: 999 µs per loop\n"
          ]
        }
      ],
      "source": [
        "%%timeit\n",
        "# vectorized_map + XLA\n",
        "square_vectorized_map(x).numpy()"
      ]
    },
    {
      "cell_type": "code",
      "execution_count": null,
      "metadata": {
        "id": "rZyI_s_S5xE9"
      },
      "outputs": [],
      "source": []
    }
  ],
  "metadata": {
    "colab": {
      "collapsed_sections": [],
      "last_runtime": {
        "build_target": "//learning/deepmind/public/tools/ml_python:ml_notebook",
        "kind": "private"
      },
      "name": "Introduction_to_TensorFlow_Part_3_-_Advanced_Tensor_Manipulation.ipynb",
      "provenance": [
        {
          "file_id": "11mikyGawc9mOOVIXZENnm7TyFyyDyByB",
          "timestamp": 1568382156239
        }
      ],
      "toc_visible": true
    },
    "kernelspec": {
      "display_name": "Python 3",
      "name": "python3"
    }
  },
  "nbformat": 4,
  "nbformat_minor": 0
}
